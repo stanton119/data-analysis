{
 "cells": [
  {
   "attachments": {},
   "cell_type": "markdown",
   "metadata": {},
   "source": [
    "# NN matrix decomposition for movie similarities\n",
    "\n",
    "Collaborative filter:\n",
    "Movies and customer embeddings.\n",
    "Predict the rates as inner product of the two embeddings.\n",
    "\n",
    "Extend:\n",
    "1. replacing the inner product with a concat and a dense NN on top to make a neural collaborative filter.\n",
    "\n",
    "How can we apply SVD to find similarities between movies?"
   ]
  },
  {
   "cell_type": "code",
   "execution_count": 1,
   "metadata": {},
   "outputs": [],
   "source": [
    "import matplotlib.pyplot as plt\n",
    "import seaborn as sns\n",
    "import numpy as np\n",
    "import polars as pl\n",
    "\n",
    "plt.style.use(\"seaborn-v0_8-whitegrid\")\n",
    "\n",
    "import sys\n",
    "from pathlib import Path\n",
    "\n",
    "sys.path.append(str(Path().absolute().parent))\n",
    "\n",
    "import utilities"
   ]
  },
  {
   "cell_type": "markdown",
   "metadata": {},
   "source": [
    "### Loading and transforming MovieLens"
   ]
  },
  {
   "cell_type": "code",
   "execution_count": 2,
   "metadata": {},
   "outputs": [
    {
     "data": {
      "text/html": [
       "<div><style>\n",
       ".dataframe > thead > tr,\n",
       ".dataframe > tbody > tr {\n",
       "  text-align: right;\n",
       "  white-space: pre-wrap;\n",
       "}\n",
       "</style>\n",
       "<small>shape: (25_000_095, 4)</small><table border=\"1\" class=\"dataframe\"><thead><tr><th>userId</th><th>movieId</th><th>rating</th><th>timestamp</th></tr><tr><td>i64</td><td>i64</td><td>f64</td><td>i64</td></tr></thead><tbody><tr><td>1</td><td>5952</td><td>4.0</td><td>1147868053</td></tr><tr><td>1</td><td>2012</td><td>2.5</td><td>1147868068</td></tr><tr><td>1</td><td>2011</td><td>2.5</td><td>1147868079</td></tr><tr><td>1</td><td>1653</td><td>4.0</td><td>1147868097</td></tr><tr><td>1</td><td>1250</td><td>4.0</td><td>1147868414</td></tr><tr><td>&hellip;</td><td>&hellip;</td><td>&hellip;</td><td>&hellip;</td></tr><tr><td>162541</td><td>1259</td><td>4.5</td><td>1240953609</td></tr><tr><td>162541</td><td>1266</td><td>5.0</td><td>1240953613</td></tr><tr><td>162541</td><td>1556</td><td>1.0</td><td>1240953650</td></tr><tr><td>162541</td><td>293</td><td>4.0</td><td>1240953789</td></tr><tr><td>162541</td><td>1201</td><td>3.0</td><td>1240953800</td></tr></tbody></table></div>"
      ],
      "text/plain": [
       "shape: (25_000_095, 4)\n",
       "┌────────┬─────────┬────────┬────────────┐\n",
       "│ userId ┆ movieId ┆ rating ┆ timestamp  │\n",
       "│ ---    ┆ ---     ┆ ---    ┆ ---        │\n",
       "│ i64    ┆ i64     ┆ f64    ┆ i64        │\n",
       "╞════════╪═════════╪════════╪════════════╡\n",
       "│ 1      ┆ 5952    ┆ 4.0    ┆ 1147868053 │\n",
       "│ 1      ┆ 2012    ┆ 2.5    ┆ 1147868068 │\n",
       "│ 1      ┆ 2011    ┆ 2.5    ┆ 1147868079 │\n",
       "│ 1      ┆ 1653    ┆ 4.0    ┆ 1147868097 │\n",
       "│ 1      ┆ 1250    ┆ 4.0    ┆ 1147868414 │\n",
       "│ …      ┆ …       ┆ …      ┆ …          │\n",
       "│ 162541 ┆ 1259    ┆ 4.5    ┆ 1240953609 │\n",
       "│ 162541 ┆ 1266    ┆ 5.0    ┆ 1240953613 │\n",
       "│ 162541 ┆ 1556    ┆ 1.0    ┆ 1240953650 │\n",
       "│ 162541 ┆ 293     ┆ 4.0    ┆ 1240953789 │\n",
       "│ 162541 ┆ 1201    ┆ 3.0    ┆ 1240953800 │\n",
       "└────────┴─────────┴────────┴────────────┘"
      ]
     },
     "execution_count": 2,
     "metadata": {},
     "output_type": "execute_result"
    }
   ],
   "source": [
    "import utilities\n",
    "\n",
    "ratings_df = utilities.load_ratings()\n",
    "ratings_df"
   ]
  },
  {
   "cell_type": "code",
   "execution_count": 3,
   "metadata": {},
   "outputs": [
    {
     "data": {
      "text/html": [
       "<div><style>\n",
       ".dataframe > thead > tr,\n",
       ".dataframe > tbody > tr {\n",
       "  text-align: right;\n",
       "  white-space: pre-wrap;\n",
       "}\n",
       "</style>\n",
       "<small>shape: (9, 2)</small><table border=\"1\" class=\"dataframe\"><thead><tr><th>statistic</th><th>value</th></tr><tr><td>str</td><td>f64</td></tr></thead><tbody><tr><td>&quot;count&quot;</td><td>2.5000095e7</td></tr><tr><td>&quot;null_count&quot;</td><td>0.0</td></tr><tr><td>&quot;mean&quot;</td><td>3.533854</td></tr><tr><td>&quot;std&quot;</td><td>1.060744</td></tr><tr><td>&quot;min&quot;</td><td>0.5</td></tr><tr><td>&quot;25%&quot;</td><td>3.0</td></tr><tr><td>&quot;50%&quot;</td><td>3.5</td></tr><tr><td>&quot;75%&quot;</td><td>4.0</td></tr><tr><td>&quot;max&quot;</td><td>5.0</td></tr></tbody></table></div>"
      ],
      "text/plain": [
       "shape: (9, 2)\n",
       "┌────────────┬─────────────┐\n",
       "│ statistic  ┆ value       │\n",
       "│ ---        ┆ ---         │\n",
       "│ str        ┆ f64         │\n",
       "╞════════════╪═════════════╡\n",
       "│ count      ┆ 2.5000095e7 │\n",
       "│ null_count ┆ 0.0         │\n",
       "│ mean       ┆ 3.533854    │\n",
       "│ std        ┆ 1.060744    │\n",
       "│ min        ┆ 0.5         │\n",
       "│ 25%        ┆ 3.0         │\n",
       "│ 50%        ┆ 3.5         │\n",
       "│ 75%        ┆ 4.0         │\n",
       "│ max        ┆ 5.0         │\n",
       "└────────────┴─────────────┘"
      ]
     },
     "execution_count": 3,
     "metadata": {},
     "output_type": "execute_result"
    }
   ],
   "source": [
    "ratings_df[\"rating\"].describe()"
   ]
  },
  {
   "cell_type": "markdown",
   "metadata": {},
   "source": [
    "Train on a smaller subset to make life easier for iterating."
   ]
  },
  {
   "cell_type": "code",
   "execution_count": 4,
   "metadata": {},
   "outputs": [],
   "source": [
    "top_movie_ids = utilities.get_most_frequent_movies(ratings_df)\n",
    "ratings_df = ratings_df.join(top_movie_ids, on=\"movieId\", how=\"inner\")"
   ]
  },
  {
   "cell_type": "markdown",
   "metadata": {},
   "source": [
    "There are fewer MovieId than the max MovieId. So we map movieIds to a compressed set. Also userId needs to be indexed from 1."
   ]
  },
  {
   "cell_type": "code",
   "execution_count": 5,
   "metadata": {},
   "outputs": [
    {
     "data": {
      "text/plain": [
       "(79132, 50)"
      ]
     },
     "execution_count": 5,
     "metadata": {},
     "output_type": "execute_result"
    }
   ],
   "source": [
    "ratings_df[\"movieId\"].max(), ratings_df[\"movieId\"].unique().len()"
   ]
  },
  {
   "cell_type": "code",
   "execution_count": 6,
   "metadata": {},
   "outputs": [
    {
     "data": {
      "text/html": [
       "<div><style>\n",
       ".dataframe > thead > tr,\n",
       ".dataframe > tbody > tr {\n",
       "  text-align: right;\n",
       "  white-space: pre-wrap;\n",
       "}\n",
       "</style>\n",
       "<small>shape: (2_544_549, 6)</small><table border=\"1\" class=\"dataframe\"><thead><tr><th>userId</th><th>movieId</th><th>rating</th><th>timestamp</th><th>userIdMapped</th><th>movieIdMapped</th></tr><tr><td>i64</td><td>i64</td><td>f64</td><td>i64</td><td>u32</td><td>u32</td></tr></thead><tbody><tr><td>1</td><td>5952</td><td>4.0</td><td>1147868053</td><td>0</td><td>46</td></tr><tr><td>1</td><td>296</td><td>5.0</td><td>1147880044</td><td>0</td><td>7</td></tr><tr><td>2</td><td>5952</td><td>5.0</td><td>1141415528</td><td>1</td><td>46</td></tr><tr><td>2</td><td>150</td><td>4.0</td><td>1141415790</td><td>1</td><td>5</td></tr><tr><td>2</td><td>3578</td><td>5.0</td><td>1141415803</td><td>1</td><td>42</td></tr><tr><td>&hellip;</td><td>&hellip;</td><td>&hellip;</td><td>&hellip;</td><td>&hellip;</td><td>&hellip;</td></tr><tr><td>162541</td><td>1136</td><td>4.5</td><td>1240953505</td><td>157480</td><td>25</td></tr><tr><td>162541</td><td>296</td><td>3.5</td><td>1240953510</td><td>157480</td><td>7</td></tr><tr><td>162541</td><td>1197</td><td>4.5</td><td>1240953534</td><td>157480</td><td>27</td></tr><tr><td>162541</td><td>593</td><td>4.0</td><td>1240953576</td><td>157480</td><td>21</td></tr><tr><td>162541</td><td>47</td><td>4.5</td><td>1240953606</td><td>157480</td><td>2</td></tr></tbody></table></div>"
      ],
      "text/plain": [
       "shape: (2_544_549, 6)\n",
       "┌────────┬─────────┬────────┬────────────┬──────────────┬───────────────┐\n",
       "│ userId ┆ movieId ┆ rating ┆ timestamp  ┆ userIdMapped ┆ movieIdMapped │\n",
       "│ ---    ┆ ---     ┆ ---    ┆ ---        ┆ ---          ┆ ---           │\n",
       "│ i64    ┆ i64     ┆ f64    ┆ i64        ┆ u32          ┆ u32           │\n",
       "╞════════╪═════════╪════════╪════════════╪══════════════╪═══════════════╡\n",
       "│ 1      ┆ 5952    ┆ 4.0    ┆ 1147868053 ┆ 0            ┆ 46            │\n",
       "│ 1      ┆ 296     ┆ 5.0    ┆ 1147880044 ┆ 0            ┆ 7             │\n",
       "│ 2      ┆ 5952    ┆ 5.0    ┆ 1141415528 ┆ 1            ┆ 46            │\n",
       "│ 2      ┆ 150     ┆ 4.0    ┆ 1141415790 ┆ 1            ┆ 5             │\n",
       "│ 2      ┆ 3578    ┆ 5.0    ┆ 1141415803 ┆ 1            ┆ 42            │\n",
       "│ …      ┆ …       ┆ …      ┆ …          ┆ …            ┆ …             │\n",
       "│ 162541 ┆ 1136    ┆ 4.5    ┆ 1240953505 ┆ 157480       ┆ 25            │\n",
       "│ 162541 ┆ 296     ┆ 3.5    ┆ 1240953510 ┆ 157480       ┆ 7             │\n",
       "│ 162541 ┆ 1197    ┆ 4.5    ┆ 1240953534 ┆ 157480       ┆ 27            │\n",
       "│ 162541 ┆ 593     ┆ 4.0    ┆ 1240953576 ┆ 157480       ┆ 21            │\n",
       "│ 162541 ┆ 47      ┆ 4.5    ┆ 1240953606 ┆ 157480       ┆ 2             │\n",
       "└────────┴─────────┴────────┴────────────┴──────────────┴───────────────┘"
      ]
     },
     "execution_count": 6,
     "metadata": {},
     "output_type": "execute_result"
    }
   ],
   "source": [
    "def map_users_and_movies(ratings_df):\n",
    "    user_id_mapping = (\n",
    "        ratings_df[[\"userId\"]]\n",
    "        .unique()\n",
    "        .sort(\"userId\")\n",
    "        .with_row_index(name=\"userIdMapped\")\n",
    "    )\n",
    "    movie_id_mapping = (\n",
    "        ratings_df[[\"movieId\"]]\n",
    "        .unique()\n",
    "        .sort(\"movieId\")\n",
    "        .with_row_index(name=\"movieIdMapped\")\n",
    "    )\n",
    "    ratings_df = ratings_df.join(user_id_mapping, on=\"userId\", how=\"left\").join(\n",
    "        movie_id_mapping, on=\"movieId\", how=\"left\"\n",
    "    )\n",
    "    return ratings_df, user_id_mapping, movie_id_mapping\n",
    "\n",
    "\n",
    "ratings_df, user_id_mapping, movie_id_mapping = map_users_and_movies(ratings_df)\n",
    "ratings_df"
   ]
  },
  {
   "cell_type": "markdown",
   "metadata": {},
   "source": [
    "Make into torch datasets\n",
    "\n",
    "Make a sample dataset with about 5% of the total data for testing."
   ]
  },
  {
   "cell_type": "code",
   "execution_count": 7,
   "metadata": {},
   "outputs": [],
   "source": [
    "from torch.utils.data import DataLoader, TensorDataset\n",
    "import torch\n",
    "from sklearn.model_selection import train_test_split\n",
    "\n",
    "\n",
    "def create_tensor_dataset(data):\n",
    "    user_ids = torch.tensor(data[\"userIdMapped\"], dtype=torch.long)\n",
    "    item_ids = torch.tensor(data[\"movieIdMapped\"], dtype=torch.long)\n",
    "    ratings = torch.tensor(data[\"rating\"], dtype=torch.float)\n",
    "    return TensorDataset(user_ids, item_ids, ratings)\n",
    "\n",
    "\n",
    "train_data, _val_data = train_test_split(ratings_df, test_size=0.3, random_state=42)\n",
    "val_data, test_data = train_test_split(_val_data, test_size=1 / 3, random_state=42)\n",
    "\n",
    "dataset_train = create_tensor_dataset(train_data)\n",
    "dataset_val = create_tensor_dataset(val_data)\n",
    "dataset_test = create_tensor_dataset(test_data)\n",
    "\n",
    "dataset_train_sample = create_tensor_dataset(train_data.head(int(1e5)))\n",
    "dataset_val_sample = create_tensor_dataset(val_data.head(int(1e5)))"
   ]
  },
  {
   "cell_type": "code",
   "execution_count": 8,
   "metadata": {},
   "outputs": [],
   "source": [
    "dataloader_train = DataLoader(\n",
    "    dataset_train,\n",
    "    batch_size=2**12,\n",
    "    shuffle=True,\n",
    ")\n",
    "dataloader_val = DataLoader(\n",
    "    dataset_val,\n",
    "    batch_size=2**12,\n",
    ")\n",
    "dataloader_test = DataLoader(\n",
    "    dataset_test,\n",
    "    batch_size=2**12,\n",
    ")\n",
    "\n",
    "dataloader_train_sample = DataLoader(\n",
    "    dataset_train_sample,\n",
    "    batch_size=2**12,\n",
    "    shuffle=False,\n",
    ")\n",
    "dataloader_val_sample = DataLoader(\n",
    "    dataset_val_sample,\n",
    "    batch_size=2**12,\n",
    ")"
   ]
  },
  {
   "cell_type": "markdown",
   "metadata": {},
   "source": [
    "### Model definition"
   ]
  },
  {
   "cell_type": "markdown",
   "metadata": {},
   "source": [
    "Fit a model to learn embeddings"
   ]
  },
  {
   "cell_type": "code",
   "execution_count": 9,
   "metadata": {},
   "outputs": [],
   "source": [
    "import torch.nn as nn\n",
    "import pytorch_lightning as pyl\n",
    "\n",
    "\n",
    "class MovieEmbeddingModel(pyl.LightningModule):\n",
    "    def __init__(self, n_users, n_movies, embedding_dim=10):\n",
    "        super().__init__()\n",
    "        self.user_embedding = nn.Embedding(n_users, embedding_dim)\n",
    "        self.movie_embedding = nn.Embedding(n_movies, embedding_dim)\n",
    "        self.output = nn.Linear(1, 1)\n",
    "        self.sigmoid = nn.Sigmoid()\n",
    "        self.max_rating = 5.0\n",
    "        self.min_rating = 0.5\n",
    "        self.output_bias = torch.logit(\n",
    "            torch.tensor((3.9 - self.min_rating) / (self.max_rating - self.min_rating))\n",
    "        )\n",
    "        self.output.bias.data.fill_(self.output_bias)\n",
    "        self.learning_rate = 5e-3\n",
    "\n",
    "    def forward(self, user_ids, movie_ids):\n",
    "        user_embeds = self.user_embedding(user_ids)\n",
    "        movie_embeds = self.movie_embedding(movie_ids)\n",
    "        output = self.output((user_embeds * movie_embeds).sum(dim=1).view(-1, 1))\n",
    "        rating = (\n",
    "            self.sigmoid(output) * (self.max_rating - self.min_rating) + self.min_rating\n",
    "        )\n",
    "        return rating.flatten()\n",
    "\n",
    "    def training_step(self, batch, batch_idx):\n",
    "        user_ids, movie_ids, ratings = batch\n",
    "        predictions = self(user_ids, movie_ids)\n",
    "        loss = nn.MSELoss()(predictions, ratings)\n",
    "        self.log(\"train_loss\", loss, on_step=True, on_epoch=True, prog_bar=True)\n",
    "        return loss\n",
    "\n",
    "    def validation_step(self, batch, batch_idx):\n",
    "        user_ids, movie_ids, ratings = batch\n",
    "        predictions = self(user_ids, movie_ids)\n",
    "        loss = nn.MSELoss()(predictions, ratings)\n",
    "        self.log(\"val_loss\", loss, on_step=True, on_epoch=True, prog_bar=True)\n",
    "\n",
    "    def configure_optimizers(self):\n",
    "        return torch.optim.Adam(self.parameters(), lr=self.learning_rate)"
   ]
  },
  {
   "cell_type": "markdown",
   "metadata": {},
   "source": [
    "Check it works with a small sample"
   ]
  },
  {
   "cell_type": "code",
   "execution_count": 10,
   "metadata": {},
   "outputs": [
    {
     "data": {
      "text/plain": [
       "tensor([4.1883, 2.0943, 1.9674,  ..., 4.3297, 1.9700, 1.2076],\n",
       "       grad_fn=<ViewBackward0>)"
      ]
     },
     "execution_count": 10,
     "metadata": {},
     "output_type": "execute_result"
    }
   ],
   "source": [
    "n_users = ratings_df[\"userIdMapped\"].unique().count()\n",
    "n_movies = ratings_df[\"movieIdMapped\"].unique().count()\n",
    "batch = next(iter(dataloader_train_sample))\n",
    "model = MovieEmbeddingModel(n_users, n_movies)\n",
    "model(batch[0], batch[1])"
   ]
  },
  {
   "cell_type": "markdown",
   "metadata": {},
   "source": [
    "Custom logger to store metrics in python dictionaries"
   ]
  },
  {
   "cell_type": "code",
   "execution_count": 11,
   "metadata": {},
   "outputs": [],
   "source": [
    "from pytorch_lightning.loggers import Logger\n",
    "from pytorch_lightning.utilities import rank_zero_only\n",
    "\n",
    "\n",
    "class DictLogger(Logger):\n",
    "    def __init__(self):\n",
    "        super().__init__()\n",
    "        self.metrics = {}\n",
    "\n",
    "    @property\n",
    "    def name(self):\n",
    "        return \"DictLogger\"\n",
    "\n",
    "    @property\n",
    "    def version(self):\n",
    "        return \"1.0\"\n",
    "\n",
    "    @rank_zero_only\n",
    "    def log_hyperparams(self, params):\n",
    "        pass\n",
    "\n",
    "    @rank_zero_only\n",
    "    def log_metrics(self, metrics, step):\n",
    "        for k, v in metrics.items():\n",
    "            if k not in self.metrics:\n",
    "                self.metrics[k] = []\n",
    "            self.metrics[k].append((step, v))\n",
    "\n",
    "    def save(self):\n",
    "        pass\n",
    "\n",
    "    @rank_zero_only\n",
    "    def finalize(self, status):\n",
    "        pass"
   ]
  },
  {
   "cell_type": "markdown",
   "metadata": {},
   "source": [
    "Add early stopping and enforce a minimum of 6 epochs (it takes a few epochs to start improving over a mean baseline)"
   ]
  },
  {
   "cell_type": "code",
   "execution_count": 12,
   "metadata": {},
   "outputs": [],
   "source": [
    "from pytorch_lightning.callbacks import EarlyStopping\n",
    "from pytorch_lightning.callbacks import Callback\n",
    "\n",
    "\n",
    "class EarlyStoppingWithMinEpochs(Callback):\n",
    "    def __init__(self, min_epochs, **kwargs):\n",
    "        super().__init__()\n",
    "        self.min_epochs = min_epochs\n",
    "        self.early_stopping = EarlyStopping(**kwargs)\n",
    "\n",
    "    def on_validation_end(self, trainer, pl_module):\n",
    "        if trainer.current_epoch >= self.min_epochs - 1:\n",
    "            self.early_stopping.on_validation_end(trainer, pl_module)\n",
    "\n",
    "    def on_train_end(self, trainer, pl_module):\n",
    "        self.early_stopping.on_train_end(trainer, pl_module)\n",
    "\n",
    "\n",
    "early_stop_callback = EarlyStoppingWithMinEpochs(\n",
    "    min_epochs=6, monitor=\"val_loss\", patience=3, mode=\"min\"\n",
    ")"
   ]
  },
  {
   "cell_type": "markdown",
   "metadata": {},
   "source": [
    "Train the model\n",
    "\n",
    "Using an embedding size of 5."
   ]
  },
  {
   "cell_type": "code",
   "execution_count": 13,
   "metadata": {},
   "outputs": [
    {
     "name": "stderr",
     "output_type": "stream",
     "text": [
      "GPU available: True (mps), used: True\n",
      "TPU available: False, using: 0 TPU cores\n",
      "HPU available: False, using: 0 HPUs\n",
      "\n",
      "  | Name            | Type      | Params | Mode \n",
      "------------------------------------------------------\n",
      "0 | user_embedding  | Embedding | 787 K  | train\n",
      "1 | movie_embedding | Embedding | 250    | train\n",
      "2 | output          | Linear    | 2      | train\n",
      "3 | sigmoid         | Sigmoid   | 0      | train\n",
      "------------------------------------------------------\n",
      "787 K     Trainable params\n",
      "0         Non-trainable params\n",
      "787 K     Total params\n",
      "3.151     Total estimated model params size (MB)\n",
      "4         Modules in train mode\n",
      "0         Modules in eval mode\n"
     ]
    },
    {
     "name": "stdout",
     "output_type": "stream",
     "text": [
      "Sanity Checking DataLoader 0:   0%|          | 0/2 [00:00<?, ?it/s]"
     ]
    },
    {
     "name": "stderr",
     "output_type": "stream",
     "text": [
      "/Users/stantoon/Documents/VariousProjects/github/data-analysis/.venv/lib/python3.12/site-packages/pytorch_lightning/trainer/connectors/data_connector.py:424: The 'val_dataloader' does not have many workers which may be a bottleneck. Consider increasing the value of the `num_workers` argument` to `num_workers=7` in the `DataLoader` to improve performance.\n"
     ]
    },
    {
     "name": "stdout",
     "output_type": "stream",
     "text": [
      "                                                                           "
     ]
    },
    {
     "name": "stderr",
     "output_type": "stream",
     "text": [
      "/Users/stantoon/Documents/VariousProjects/github/data-analysis/.venv/lib/python3.12/site-packages/pytorch_lightning/trainer/connectors/data_connector.py:424: The 'train_dataloader' does not have many workers which may be a bottleneck. Consider increasing the value of the `num_workers` argument` to `num_workers=7` in the `DataLoader` to improve performance.\n"
     ]
    },
    {
     "name": "stdout",
     "output_type": "stream",
     "text": [
      "Epoch 13: 100%|██████████| 435/435 [00:21<00:00, 20.40it/s, v_num=1.0, train_loss_step=0.470, val_loss_step=0.705, val_loss_epoch=0.751, train_loss_epoch=0.474]\n"
     ]
    }
   ],
   "source": [
    "logger = DictLogger()\n",
    "model = MovieEmbeddingModel(n_users, n_movies, embedding_dim=5)\n",
    "trainer = pyl.Trainer(\n",
    "    max_epochs=40,\n",
    "    logger=logger,\n",
    "    log_every_n_steps=1,\n",
    "    callbacks=[early_stop_callback],\n",
    ")\n",
    "trainer.fit(model, dataloader_train, dataloader_val)"
   ]
  },
  {
   "cell_type": "markdown",
   "metadata": {},
   "source": [
    "Plotting train/val epoch loss\n",
    "\n",
    "Looks like we are learning reasonably well."
   ]
  },
  {
   "cell_type": "code",
   "execution_count": 14,
   "metadata": {},
   "outputs": [
    {
     "name": "stderr",
     "output_type": "stream",
     "text": [
      "/var/folders/_v/nlh4h1yx2n1gd6f3szjlgxt40000gr/T/ipykernel_89842/3291496198.py:19: DeprecationWarning: `DataFrame.melt` is deprecated. Use `unpivot` instead, with `index` instead of `id_vars` and `on` instead of `value_vars`\n",
      "  .melt(id_vars=[\"epoch\", \"batch\"], variable_name=\"dataset\", value_name=\"loss\")\n",
      "/var/folders/_v/nlh4h1yx2n1gd6f3szjlgxt40000gr/T/ipykernel_89842/3291496198.py:30: UserWarning: FigureCanvasAgg is non-interactive, and thus cannot be shown\n",
      "  fig.show()\n"
     ]
    },
    {
     "data": {
      "image/png": "[encoded data removed]",
      "text/plain": [
       "<Figure size 600x400 with 1 Axes>"
      ]
     },
     "metadata": {},
     "output_type": "display_data"
    }
   ],
   "source": [
    "def training_logs_to_df(logger, name:str=None):\n",
    "    df = (\n",
    "        pl.concat(\n",
    "            [\n",
    "                pl.DataFrame(\n",
    "                    logger.metrics[\"train_loss_epoch\"],\n",
    "                    orient=\"row\",\n",
    "                    schema=[\"batch\", \"train_loss\"],\n",
    "                ),\n",
    "                pl.DataFrame(\n",
    "                    logger.metrics[\"val_loss_epoch\"],\n",
    "                    orient=\"row\",\n",
    "                    schema=[\"batch\", \"val_loss\"],\n",
    "                ).drop(\"batch\"),\n",
    "            ],\n",
    "            how=\"horizontal\",\n",
    "        )\n",
    "        .with_row_index(name=\"epoch\", offset=1)\n",
    "        .melt(id_vars=[\"epoch\", \"batch\"], variable_name=\"dataset\", value_name=\"loss\")\n",
    "    )\n",
    "    if name:\n",
    "        df = df.with_columns(pl.lit(name).alias(\"name\"))\n",
    "    return df\n",
    "\n",
    "plot_df = training_logs_to_df(logger, name='nn_inner')\n",
    "\n",
    "\n",
    "fig, ax = plt.subplots(figsize=(6, 4))\n",
    "sns.lineplot(data=plot_df, x=\"epoch\", y=\"loss\", hue=\"dataset\", ax=ax)\n",
    "fig.show()"
   ]
  },
  {
   "cell_type": "markdown",
   "metadata": {},
   "source": [
    "### Check prediction results"
   ]
  },
  {
   "cell_type": "markdown",
   "metadata": {},
   "source": [
    "We will use a baseline prediction from mean ratings"
   ]
  },
  {
   "cell_type": "code",
   "execution_count": 15,
   "metadata": {},
   "outputs": [
    {
     "data": {
      "text/html": [
       "<div><style>\n",
       ".dataframe > thead > tr,\n",
       ".dataframe > tbody > tr {\n",
       "  text-align: right;\n",
       "  white-space: pre-wrap;\n",
       "}\n",
       "</style>\n",
       "<small>shape: (1_781_184, 8)</small><table border=\"1\" class=\"dataframe\"><thead><tr><th>userId</th><th>movieId</th><th>rating</th><th>timestamp</th><th>userIdMapped</th><th>movieIdMapped</th><th>baseline</th><th>nn</th></tr><tr><td>i64</td><td>i64</td><td>f64</td><td>i64</td><td>u32</td><td>u32</td><td>f64</td><td>f32</td></tr></thead><tbody><tr><td>5150</td><td>79132</td><td>2.5</td><td>1459431773</td><td>5008</td><td>49</td><td>3.979833</td><td>3.03994</td></tr><tr><td>79646</td><td>150</td><td>3.5</td><td>1554224374</td><td>77175</td><td>5</td><td>3.979833</td><td>3.884991</td></tr><tr><td>63956</td><td>318</td><td>4.0</td><td>948005318</td><td>61981</td><td>8</td><td>3.979833</td><td>4.502549</td></tr><tr><td>66248</td><td>1291</td><td>4.5</td><td>1189775094</td><td>64204</td><td>33</td><td>3.979833</td><td>3.952633</td></tr><tr><td>57849</td><td>527</td><td>4.5</td><td>1322993994</td><td>56060</td><td>16</td><td>3.979833</td><td>3.968396</td></tr><tr><td>&hellip;</td><td>&hellip;</td><td>&hellip;</td><td>&hellip;</td><td>&hellip;</td><td>&hellip;</td><td>&hellip;</td><td>&hellip;</td></tr><tr><td>7160</td><td>780</td><td>3.0</td><td>848676694</td><td>6942</td><td>23</td><td>3.979833</td><td>2.745047</td></tr><tr><td>108304</td><td>527</td><td>4.0</td><td>1419181402</td><td>104945</td><td>16</td><td>3.979833</td><td>3.78171</td></tr><tr><td>150532</td><td>380</td><td>3.5</td><td>1181551976</td><td>145835</td><td>13</td><td>3.979833</td><td>2.853964</td></tr><tr><td>142477</td><td>260</td><td>5.0</td><td>832244201</td><td>138046</td><td>6</td><td>3.979833</td><td>4.598742</td></tr><tr><td>141844</td><td>1136</td><td>4.5</td><td>1111183788</td><td>137436</td><td>25</td><td>3.979833</td><td>4.415227</td></tr></tbody></table></div>"
      ],
      "text/plain": [
       "shape: (1_781_184, 8)\n",
       "┌────────┬─────────┬────────┬────────────┬──────────────┬───────────────┬──────────┬──────────┐\n",
       "│ userId ┆ movieId ┆ rating ┆ timestamp  ┆ userIdMapped ┆ movieIdMapped ┆ baseline ┆ nn       │\n",
       "│ ---    ┆ ---     ┆ ---    ┆ ---        ┆ ---          ┆ ---           ┆ ---      ┆ ---      │\n",
       "│ i64    ┆ i64     ┆ f64    ┆ i64        ┆ u32          ┆ u32           ┆ f64      ┆ f32      │\n",
       "╞════════╪═════════╪════════╪════════════╪══════════════╪═══════════════╪══════════╪══════════╡\n",
       "│ 5150   ┆ 79132   ┆ 2.5    ┆ 1459431773 ┆ 5008         ┆ 49            ┆ 3.979833 ┆ 3.03994  │\n",
       "│ 79646  ┆ 150     ┆ 3.5    ┆ 1554224374 ┆ 77175        ┆ 5             ┆ 3.979833 ┆ 3.884991 │\n",
       "│ 63956  ┆ 318     ┆ 4.0    ┆ 948005318  ┆ 61981        ┆ 8             ┆ 3.979833 ┆ 4.502549 │\n",
       "│ 66248  ┆ 1291    ┆ 4.5    ┆ 1189775094 ┆ 64204        ┆ 33            ┆ 3.979833 ┆ 3.952633 │\n",
       "│ 57849  ┆ 527     ┆ 4.5    ┆ 1322993994 ┆ 56060        ┆ 16            ┆ 3.979833 ┆ 3.968396 │\n",
       "│ …      ┆ …       ┆ …      ┆ …          ┆ …            ┆ …             ┆ …        ┆ …        │\n",
       "│ 7160   ┆ 780     ┆ 3.0    ┆ 848676694  ┆ 6942         ┆ 23            ┆ 3.979833 ┆ 2.745047 │\n",
       "│ 108304 ┆ 527     ┆ 4.0    ┆ 1419181402 ┆ 104945       ┆ 16            ┆ 3.979833 ┆ 3.78171  │\n",
       "│ 150532 ┆ 380     ┆ 3.5    ┆ 1181551976 ┆ 145835       ┆ 13            ┆ 3.979833 ┆ 2.853964 │\n",
       "│ 142477 ┆ 260     ┆ 5.0    ┆ 832244201  ┆ 138046       ┆ 6             ┆ 3.979833 ┆ 4.598742 │\n",
       "│ 141844 ┆ 1136    ┆ 4.5    ┆ 1111183788 ┆ 137436       ┆ 25            ┆ 3.979833 ┆ 4.415227 │\n",
       "└────────┴─────────┴────────┴────────────┴──────────────┴───────────────┴──────────┴──────────┘"
      ]
     },
     "execution_count": 15,
     "metadata": {},
     "output_type": "execute_result"
    }
   ],
   "source": [
    "x = train_data\n",
    "\n",
    "x = x.with_columns(pl.col(\"rating\").mean().alias(\"baseline\"))\n",
    "\n",
    "preds = model(torch.tensor(x[\"userIdMapped\"]), torch.tensor(x[\"movieIdMapped\"]))\n",
    "x = x.with_columns(pl.lit(preds.detach().numpy()).alias(\"nn\"))\n",
    "\n",
    "x"
   ]
  },
  {
   "cell_type": "markdown",
   "metadata": {},
   "source": [
    "We are beating the mean baseline in the training dataset"
   ]
  },
  {
   "cell_type": "code",
   "execution_count": 16,
   "metadata": {},
   "outputs": [
    {
     "name": "stdout",
     "output_type": "stream",
     "text": [
      "baseline loss:  tensor(0.9037)\n",
      "NN loss:  tensor(0.4451)\n"
     ]
    }
   ],
   "source": [
    "print(\n",
    "    \"baseline loss: \",\n",
    "    nn.MSELoss()(torch.tensor(x[\"baseline\"]), torch.tensor(x[\"rating\"])),\n",
    ")\n",
    "print(\"NN loss: \", nn.MSELoss()(torch.tensor(x[\"nn\"]), torch.tensor(x[\"rating\"])))"
   ]
  },
  {
   "cell_type": "markdown",
   "metadata": {},
   "source": [
    "The histogram of predictions looks reasonable"
   ]
  },
  {
   "cell_type": "code",
   "execution_count": 17,
   "metadata": {},
   "outputs": [
    {
     "name": "stderr",
     "output_type": "stream",
     "text": [
      "/var/folders/_v/nlh4h1yx2n1gd6f3szjlgxt40000gr/T/ipykernel_89842/3248393641.py:4: UserWarning: FigureCanvasAgg is non-interactive, and thus cannot be shown\n",
      "  fig.show()\n"
     ]
    },
    {
     "data": {
      "image/png": "[encoded data removed]",
      "text/plain": [
       "<Figure size 600x400 with 1 Axes>"
      ]
     },
     "metadata": {},
     "output_type": "display_data"
    }
   ],
   "source": [
    "fig, ax = plt.subplots(figsize=(6, 4))\n",
    "sns.histplot(x, x=\"rating\", ax=ax)\n",
    "sns.histplot(x, x=\"nn\", ax=ax)\n",
    "fig.show()"
   ]
  },
  {
   "cell_type": "markdown",
   "metadata": {},
   "source": [
    "### Get embeddings\n",
    "\n",
    "Get movie embeddings from the model layers and store for later use."
   ]
  },
  {
   "cell_type": "code",
   "execution_count": 18,
   "metadata": {},
   "outputs": [
    {
     "data": {
      "text/html": [
       "<div><style>\n",
       ".dataframe > thead > tr,\n",
       ".dataframe > tbody > tr {\n",
       "  text-align: right;\n",
       "  white-space: pre-wrap;\n",
       "}\n",
       "</style>\n",
       "<small>shape: (50, 6)</small><table border=\"1\" class=\"dataframe\"><thead><tr><th>movieId</th><th>column_0</th><th>column_1</th><th>column_2</th><th>column_3</th><th>column_4</th></tr><tr><td>i64</td><td>f32</td><td>f32</td><td>f32</td><td>f32</td><td>f32</td></tr></thead><tbody><tr><td>1</td><td>-1.272084</td><td>-0.994629</td><td>-0.220356</td><td>-0.189384</td><td>-0.986966</td></tr><tr><td>32</td><td>-0.862826</td><td>0.03853</td><td>1.001704</td><td>-0.68009</td><td>-0.601631</td></tr><tr><td>47</td><td>-0.673808</td><td>-0.653811</td><td>0.591152</td><td>-1.096568</td><td>-0.157232</td></tr><tr><td>50</td><td>-0.260233</td><td>-0.903206</td><td>0.558693</td><td>-1.380012</td><td>0.428046</td></tr><tr><td>110</td><td>-1.426404</td><td>-0.878591</td><td>0.510824</td><td>-0.494181</td><td>-0.277539</td></tr><tr><td>&hellip;</td><td>&hellip;</td><td>&hellip;</td><td>&hellip;</td><td>&hellip;</td><td>&hellip;</td></tr><tr><td>4993</td><td>-0.832353</td><td>-1.856606</td><td>-2.038899</td><td>-0.467682</td><td>-0.561474</td></tr><tr><td>5952</td><td>-0.823814</td><td>-2.014611</td><td>-2.101298</td><td>-0.460424</td><td>-0.619018</td></tr><tr><td>7153</td><td>-0.907353</td><td>-1.942751</td><td>-2.122972</td><td>-0.368461</td><td>-0.459154</td></tr><tr><td>58559</td><td>-0.965575</td><td>-1.059276</td><td>-0.666</td><td>-1.117283</td><td>0.297687</td></tr><tr><td>79132</td><td>-0.297712</td><td>-1.08736</td><td>0.486506</td><td>-0.908394</td><td>0.170847</td></tr></tbody></table></div>"
      ],
      "text/plain": [
       "shape: (50, 6)\n",
       "┌─────────┬───────────┬───────────┬───────────┬───────────┬───────────┐\n",
       "│ movieId ┆ column_0  ┆ column_1  ┆ column_2  ┆ column_3  ┆ column_4  │\n",
       "│ ---     ┆ ---       ┆ ---       ┆ ---       ┆ ---       ┆ ---       │\n",
       "│ i64     ┆ f32       ┆ f32       ┆ f32       ┆ f32       ┆ f32       │\n",
       "╞═════════╪═══════════╪═══════════╪═══════════╪═══════════╪═══════════╡\n",
       "│ 1       ┆ -1.272084 ┆ -0.994629 ┆ -0.220356 ┆ -0.189384 ┆ -0.986966 │\n",
       "│ 32      ┆ -0.862826 ┆ 0.03853   ┆ 1.001704  ┆ -0.68009  ┆ -0.601631 │\n",
       "│ 47      ┆ -0.673808 ┆ -0.653811 ┆ 0.591152  ┆ -1.096568 ┆ -0.157232 │\n",
       "│ 50      ┆ -0.260233 ┆ -0.903206 ┆ 0.558693  ┆ -1.380012 ┆ 0.428046  │\n",
       "│ 110     ┆ -1.426404 ┆ -0.878591 ┆ 0.510824  ┆ -0.494181 ┆ -0.277539 │\n",
       "│ …       ┆ …         ┆ …         ┆ …         ┆ …         ┆ …         │\n",
       "│ 4993    ┆ -0.832353 ┆ -1.856606 ┆ -2.038899 ┆ -0.467682 ┆ -0.561474 │\n",
       "│ 5952    ┆ -0.823814 ┆ -2.014611 ┆ -2.101298 ┆ -0.460424 ┆ -0.619018 │\n",
       "│ 7153    ┆ -0.907353 ┆ -1.942751 ┆ -2.122972 ┆ -0.368461 ┆ -0.459154 │\n",
       "│ 58559   ┆ -0.965575 ┆ -1.059276 ┆ -0.666    ┆ -1.117283 ┆ 0.297687  │\n",
       "│ 79132   ┆ -0.297712 ┆ -1.08736  ┆ 0.486506  ┆ -0.908394 ┆ 0.170847  │\n",
       "└─────────┴───────────┴───────────┴───────────┴───────────┴───────────┘"
      ]
     },
     "metadata": {},
     "output_type": "display_data"
    }
   ],
   "source": [
    "from pathlib import Path\n",
    "\n",
    "movie_embeddings_df = ratings_df[\"movieId\", \"movieIdMapped\"].unique().sort(\"movieId\")\n",
    "# movie_embeddings_df.with_columns(pl.col('movieIdMapped').map_elements(lambda x: model.movie_embedding(torch.tensor(x)).detach().numpy(),return_dtype=pl.List(pl.Float32)))\n",
    "movie_embeddings_df = pl.concat(\n",
    "    [movie_embeddings_df, pl.DataFrame(model.movie_embedding.weight.detach().numpy())],\n",
    "    how=\"horizontal\",\n",
    ").drop(\"movieIdMapped\")\n",
    "display(movie_embeddings_df)\n",
    "\n",
    "Path(\"../data/embeddings\").mkdir(parents=True, exist_ok=True)\n",
    "movie_embeddings_df.write_parquet(\"../data/embeddings/nn.parquet\")"
   ]
  },
  {
   "cell_type": "markdown",
   "metadata": {},
   "source": [
    "# Appendix"
   ]
  },
  {
   "cell_type": "code",
   "execution_count": null,
   "metadata": {},
   "outputs": [
    {
     "ename": "NotImplementedError",
     "evalue": "",
     "output_type": "error",
     "traceback": [
      "\u001b[0;31m---------------------------------------------------------------------------\u001b[0m",
      "\u001b[0;31mNotImplementedError\u001b[0m                       Traceback (most recent call last)",
      "Cell \u001b[0;32mIn[26], line 1\u001b[0m\n\u001b[0;32m----> 1\u001b[0m \u001b[38;5;28;01mraise\u001b[39;00m \u001b[38;5;167;01mNotImplementedError\u001b[39;00m\n",
      "\u001b[0;31mNotImplementedError\u001b[0m: "
     ]
    }
   ],
   "source": [
    "raise NotImplementedError"
   ]
  },
  {
   "cell_type": "markdown",
   "metadata": {},
   "source": [
    "### Pick batch size\n",
    "\n",
    "Change batch size, test time for iteration, calculate time for epoch"
   ]
  },
  {
   "cell_type": "code",
   "execution_count": null,
   "metadata": {},
   "outputs": [
    {
     "name": "stderr",
     "output_type": "stream",
     "text": [
      "GPU available: True (mps), used: True\n",
      "TPU available: False, using: 0 TPU cores\n",
      "HPU available: False, using: 0 HPUs\n"
     ]
    },
    {
     "name": "stdout",
     "output_type": "stream",
     "text": [
      "Training with batch size 256\n"
     ]
    },
    {
     "name": "stderr",
     "output_type": "stream",
     "text": [
      "/Users/stantoon/Documents/VariousProjects/github/data-analysis/.venv/lib/python3.12/site-packages/pytorch_lightning/callbacks/model_checkpoint.py:654: Checkpoint directory /Users/stantoon/Documents/VariousProjects/github/data-analysis/neural_networks/unfinished-movie_similarity/DictLogger/1.0/checkpoints exists and is not empty.\n",
      "/Users/stantoon/Documents/VariousProjects/github/data-analysis/.venv/lib/python3.12/site-packages/pytorch_lightning/trainer/connectors/data_connector.py:419: Consider setting `persistent_workers=True` in 'val_dataloader' to speed up the dataloader worker initialization.\n",
      "/Users/stantoon/Documents/VariousProjects/github/data-analysis/.venv/lib/python3.12/site-packages/pytorch_lightning/trainer/connectors/data_connector.py:419: Consider setting `persistent_workers=True` in 'train_dataloader' to speed up the dataloader worker initialization.\n",
      "`Trainer.fit` stopped: `max_epochs=1` reached.\n"
     ]
    },
    {
     "name": "stdout",
     "output_type": "stream",
     "text": [
      "Training with batch size 512\n"
     ]
    },
    {
     "name": "stderr",
     "output_type": "stream",
     "text": [
      "`Trainer.fit` stopped: `max_epochs=1` reached.\n"
     ]
    },
    {
     "name": "stdout",
     "output_type": "stream",
     "text": [
      "Training with batch size 1024\n"
     ]
    },
    {
     "name": "stderr",
     "output_type": "stream",
     "text": [
      "`Trainer.fit` stopped: `max_epochs=1` reached.\n"
     ]
    },
    {
     "name": "stdout",
     "output_type": "stream",
     "text": [
      "Training with batch size 2048\n"
     ]
    },
    {
     "name": "stderr",
     "output_type": "stream",
     "text": [
      "`Trainer.fit` stopped: `max_epochs=1` reached.\n"
     ]
    },
    {
     "name": "stdout",
     "output_type": "stream",
     "text": [
      "Training with batch size 4096\n"
     ]
    },
    {
     "name": "stderr",
     "output_type": "stream",
     "text": [
      "`Trainer.fit` stopped: `max_epochs=1` reached.\n"
     ]
    },
    {
     "name": "stdout",
     "output_type": "stream",
     "text": [
      "Training with batch size 8192\n"
     ]
    },
    {
     "name": "stderr",
     "output_type": "stream",
     "text": [
      "`Trainer.fit` stopped: `max_epochs=1` reached.\n"
     ]
    },
    {
     "name": "stdout",
     "output_type": "stream",
     "text": [
      "Training with batch size 16384\n"
     ]
    },
    {
     "name": "stderr",
     "output_type": "stream",
     "text": [
      "`Trainer.fit` stopped: `max_epochs=1` reached.\n"
     ]
    },
    {
     "name": "stdout",
     "output_type": "stream",
     "text": [
      "Training with batch size 32768\n"
     ]
    },
    {
     "name": "stderr",
     "output_type": "stream",
     "text": [
      "`Trainer.fit` stopped: `max_epochs=1` reached.\n"
     ]
    },
    {
     "name": "stdout",
     "output_type": "stream",
     "text": [
      "Training with batch size 65536\n"
     ]
    },
    {
     "name": "stderr",
     "output_type": "stream",
     "text": [
      "`Trainer.fit` stopped: `max_epochs=1` reached.\n"
     ]
    },
    {
     "name": "stdout",
     "output_type": "stream",
     "text": [
      "(256, 11.856541125103831)\n",
      "(512, 4.736162832938135)\n",
      "(1024, 3.898271417012438)\n",
      "(2048, 3.8875532089732587)\n",
      "(4096, 5.152088291943073)\n",
      "(8192, 4.3516676251310855)\n",
      "(16384, 5.048533875029534)\n",
      "(32768, 4.2527649169787765)\n",
      "(65536, 5.126805416774005)\n"
     ]
    }
   ],
   "source": [
    "import timeit\n",
    "\n",
    "batch_sizes = [2**i for i in range(8, 17)]\n",
    "batch_training_time = []\n",
    "trainer = pyl.Trainer(\n",
    "    max_epochs=1,\n",
    "    logger=logger,\n",
    "    log_every_n_steps=1,\n",
    "    enable_progress_bar=False,\n",
    "    enable_model_summary=False,\n",
    ")\n",
    "for batch_size in batch_sizes:\n",
    "    print(f\"Training with batch size {batch_size}\")\n",
    "    dataloader_train_sample = DataLoader(\n",
    "        dataset_train_sample,\n",
    "        batch_size=batch_size,\n",
    "        shuffle=False,\n",
    "        num_workers=4,\n",
    "    )\n",
    "    dataloader_val_sample = DataLoader(\n",
    "        dataset_val_sample, batch_size=batch_size, num_workers=4\n",
    "    )\n",
    "\n",
    "    logger = DictLogger()\n",
    "    t1 = timeit.default_timer()\n",
    "    trainer.fit(model, dataloader_train_sample, dataloader_val_sample)\n",
    "    t2 = timeit.default_timer()\n",
    "    batch_training_time.append((batch_size, t2 - t1))\n",
    "\n",
    "\n",
    "for a in batch_training_time:\n",
    "    print(a)"
   ]
  },
  {
   "cell_type": "markdown",
   "metadata": {},
   "source": [
    "### Num workers"
   ]
  },
  {
   "cell_type": "code",
   "execution_count": null,
   "metadata": {},
   "outputs": [
    {
     "name": "stderr",
     "output_type": "stream",
     "text": [
      "GPU available: True (mps), used: True\n",
      "TPU available: False, using: 0 TPU cores\n",
      "HPU available: False, using: 0 HPUs\n"
     ]
    },
    {
     "name": "stdout",
     "output_type": "stream",
     "text": [
      "Training with num_workers 0\n"
     ]
    },
    {
     "name": "stderr",
     "output_type": "stream",
     "text": [
      "`Trainer.fit` stopped: `max_epochs=1` reached.\n"
     ]
    },
    {
     "name": "stdout",
     "output_type": "stream",
     "text": [
      "Training with num_workers 1\n"
     ]
    },
    {
     "name": "stderr",
     "output_type": "stream",
     "text": [
      "`Trainer.fit` stopped: `max_epochs=1` reached.\n"
     ]
    },
    {
     "name": "stdout",
     "output_type": "stream",
     "text": [
      "Training with num_workers 2\n"
     ]
    },
    {
     "name": "stderr",
     "output_type": "stream",
     "text": [
      "`Trainer.fit` stopped: `max_epochs=1` reached.\n"
     ]
    },
    {
     "name": "stdout",
     "output_type": "stream",
     "text": [
      "Training with num_workers 3\n"
     ]
    },
    {
     "name": "stderr",
     "output_type": "stream",
     "text": [
      "`Trainer.fit` stopped: `max_epochs=1` reached.\n"
     ]
    },
    {
     "name": "stdout",
     "output_type": "stream",
     "text": [
      "Training with num_workers 4\n"
     ]
    },
    {
     "name": "stderr",
     "output_type": "stream",
     "text": [
      "`Trainer.fit` stopped: `max_epochs=1` reached.\n"
     ]
    },
    {
     "name": "stdout",
     "output_type": "stream",
     "text": [
      "Training with num_workers 5\n"
     ]
    },
    {
     "name": "stderr",
     "output_type": "stream",
     "text": [
      "`Trainer.fit` stopped: `max_epochs=1` reached.\n"
     ]
    },
    {
     "name": "stdout",
     "output_type": "stream",
     "text": [
      "Training with num_workers 6\n"
     ]
    },
    {
     "name": "stderr",
     "output_type": "stream",
     "text": [
      "`Trainer.fit` stopped: `max_epochs=1` reached.\n"
     ]
    },
    {
     "name": "stdout",
     "output_type": "stream",
     "text": [
      "Training with num_workers 7\n"
     ]
    },
    {
     "name": "stderr",
     "output_type": "stream",
     "text": [
      "`Trainer.fit` stopped: `max_epochs=1` reached.\n"
     ]
    },
    {
     "name": "stdout",
     "output_type": "stream",
     "text": [
      "(0, 3.0349692499730736)\n",
      "(1, 3.4903268748894334)\n",
      "(2, 4.375782374991104)\n",
      "(3, 4.357490375172347)\n",
      "(4, 5.5021544171031564)\n",
      "(5, 4.955234291963279)\n",
      "(6, 7.25182820786722)\n",
      "(7, 9.90799583401531)\n"
     ]
    }
   ],
   "source": [
    "import timeit\n",
    "\n",
    "num_workers_range = range(0, 8)\n",
    "num_workers_training_time = []\n",
    "trainer = pyl.Trainer(\n",
    "    max_epochs=1,\n",
    "    logger=logger,\n",
    "    log_every_n_steps=1,\n",
    "    enable_progress_bar=False,\n",
    "    enable_model_summary=False,\n",
    ")\n",
    "for num_workers in num_workers_range:\n",
    "    print(f\"Training with num_workers {num_workers}\")\n",
    "    dataloader_train_sample = DataLoader(\n",
    "        dataset_train_sample,\n",
    "        batch_size=2**12,\n",
    "        shuffle=False,\n",
    "        num_workers=num_workers,\n",
    "    )\n",
    "    dataloader_val_sample = DataLoader(\n",
    "        dataset_val_sample, batch_size=2**12, num_workers=num_workers\n",
    "    )\n",
    "\n",
    "    logger = DictLogger()\n",
    "    t1 = timeit.default_timer()\n",
    "    trainer.fit(model, dataloader_train_sample, dataloader_val_sample)\n",
    "    t2 = timeit.default_timer()\n",
    "    num_workers_training_time.append((num_workers, t2 - t1))\n",
    "\n",
    "\n",
    "for a in num_workers_training_time:\n",
    "    print(a)"
   ]
  },
  {
   "cell_type": "markdown",
   "metadata": {},
   "source": [
    "### Test training on a sample"
   ]
  },
  {
   "cell_type": "code",
   "execution_count": null,
   "metadata": {},
   "outputs": [
    {
     "name": "stderr",
     "output_type": "stream",
     "text": [
      "GPU available: True (mps), used: True\n",
      "TPU available: False, using: 0 TPU cores\n",
      "HPU available: False, using: 0 HPUs\n",
      "/Users/stantoon/Documents/VariousProjects/github/data-analysis/.venv/lib/python3.12/site-packages/pytorch_lightning/callbacks/model_checkpoint.py:654: Checkpoint directory /Users/stantoon/Documents/VariousProjects/github/data-analysis/neural_networks/unfinished-movie_similarity/DictLogger/1.0/checkpoints exists and is not empty.\n",
      "\n",
      "  | Name            | Type      | Params | Mode \n",
      "------------------------------------------------------\n",
      "0 | user_embedding  | Embedding | 787 K  | train\n",
      "1 | movie_embedding | Embedding | 250    | train\n",
      "2 | output          | Linear    | 2      | train\n",
      "3 | sigmoid         | Sigmoid   | 0      | train\n",
      "------------------------------------------------------\n",
      "787 K     Trainable params\n",
      "0         Non-trainable params\n",
      "787 K     Total params\n",
      "3.151     Total estimated model params size (MB)\n",
      "4         Modules in train mode\n",
      "0         Modules in eval mode\n"
     ]
    },
    {
     "name": "stdout",
     "output_type": "stream",
     "text": [
      "Sanity Checking: |          | 0/? [00:00<?, ?it/s]"
     ]
    },
    {
     "name": "stderr",
     "output_type": "stream",
     "text": [
      "/Users/stantoon/Documents/VariousProjects/github/data-analysis/.venv/lib/python3.12/site-packages/pytorch_lightning/trainer/connectors/data_connector.py:424: The 'val_dataloader' does not have many workers which may be a bottleneck. Consider increasing the value of the `num_workers` argument` to `num_workers=7` in the `DataLoader` to improve performance.\n"
     ]
    },
    {
     "name": "stdout",
     "output_type": "stream",
     "text": [
      "                                                                           "
     ]
    },
    {
     "name": "stderr",
     "output_type": "stream",
     "text": [
      "/Users/stantoon/Documents/VariousProjects/github/data-analysis/.venv/lib/python3.12/site-packages/pytorch_lightning/trainer/connectors/data_connector.py:424: The 'train_dataloader' does not have many workers which may be a bottleneck. Consider increasing the value of the `num_workers` argument` to `num_workers=7` in the `DataLoader` to improve performance.\n"
     ]
    },
    {
     "name": "stdout",
     "output_type": "stream",
     "text": [
      "Epoch 39: 100%|██████████| 25/25 [00:02<00:00, 10.77it/s, v_num=1.0, train_loss_step=0.0389, val_loss_step=2.320, val_loss_epoch=2.210, train_loss_epoch=0.0748]"
     ]
    },
    {
     "name": "stderr",
     "output_type": "stream",
     "text": [
      "`Trainer.fit` stopped: `max_epochs=40` reached.\n"
     ]
    },
    {
     "name": "stdout",
     "output_type": "stream",
     "text": [
      "Epoch 39: 100%|██████████| 25/25 [00:02<00:00, 10.67it/s, v_num=1.0, train_loss_step=0.0389, val_loss_step=2.320, val_loss_epoch=2.210, train_loss_epoch=0.0748]\n"
     ]
    }
   ],
   "source": [
    "n_users = ratings_df[\"userIdMapped\"].unique().count()\n",
    "n_movies = ratings_df[\"movieIdMapped\"].unique().count()\n",
    "logger_sample = DictLogger()\n",
    "model_sample = MovieEmbeddingModel(n_users, n_movies, embedding_dim=5)\n",
    "trainer = pyl.Trainer(max_epochs=40, logger=logger_sample, log_every_n_steps=1)\n",
    "trainer.fit(model_sample, dataloader_train_sample, dataloader_val_sample)"
   ]
  },
  {
   "cell_type": "markdown",
   "metadata": {},
   "source": [
    "### Training loss\n",
    "\n",
    "We need a few epochs until the model starts to converge to somewhere useful."
   ]
  },
  {
   "cell_type": "code",
   "execution_count": null,
   "metadata": {},
   "outputs": [
    {
     "name": "stderr",
     "output_type": "stream",
     "text": [
      "/var/folders/_v/nlh4h1yx2n1gd6f3szjlgxt40000gr/T/ipykernel_8116/3972096283.py:23: UserWarning: FigureCanvasAgg is non-interactive, and thus cannot be shown\n",
      "  fig.show()\n"
     ]
    },
    {
     "data": {
      "image/png": "[encoded data removed]",
      "text/plain": [
       "<Figure size 600x400 with 1 Axes>"
      ]
     },
     "metadata": {},
     "output_type": "display_data"
    }
   ],
   "source": [
    "plot_df = pl.DataFrame(\n",
    "    logger_sample.metrics[\"train_loss_step\"],\n",
    "    orient=\"row\",\n",
    "    schema=[\"batch\", \"train_loss\"],\n",
    ").with_row_index(name=\"step_no\")\n",
    "\n",
    "fig, ax = plt.subplots(figsize=(6, 4))\n",
    "sns.lineplot(data=plot_df, x=\"step_no\", y=\"train_loss\", ax=ax)\n",
    "fig.show()"
   ]
  },
  {
   "cell_type": "markdown",
   "metadata": {},
   "source": [
    "Train/val epoch loss\n",
    "\n",
    "We are able to overfit. Need:\n",
    "1. use the larger dataset - **this works**\n",
    "2. some regulariation\n",
    "3. expand the embedding size"
   ]
  },
  {
   "cell_type": "code",
   "execution_count": null,
   "metadata": {},
   "outputs": [
    {
     "name": "stderr",
     "output_type": "stream",
     "text": [
      "/var/folders/_v/nlh4h1yx2n1gd6f3szjlgxt40000gr/T/ipykernel_8116/45602504.py:21: DeprecationWarning: `DataFrame.melt` is deprecated. Use `unpivot` instead, with `index` instead of `id_vars` and `on` instead of `value_vars`\n",
      "  .melt(id_vars=[\"step_no\", \"batch\"], variable_name=\"dataset\", value_name=\"loss\")\n",
      "/var/folders/_v/nlh4h1yx2n1gd6f3szjlgxt40000gr/T/ipykernel_8116/45602504.py:27: UserWarning: FigureCanvasAgg is non-interactive, and thus cannot be shown\n",
      "  fig.show()\n"
     ]
    },
    {
     "data": {
      "image/png": "[encoded data removed]",
      "text/plain": [
       "<Figure size 600x400 with 1 Axes>"
      ]
     },
     "metadata": {},
     "output_type": "display_data"
    }
   ],
   "source": [
    "plot_df = (\n",
    "    pl.concat(\n",
    "        [\n",
    "            pl.DataFrame(\n",
    "                logger_sample.metrics[\"train_loss_epoch\"],\n",
    "                orient=\"row\",\n",
    "                schema=[\"batch\", \"train_loss\"],\n",
    "            ),\n",
    "            pl.DataFrame(\n",
    "                logger_sample.metrics[\"val_loss_epoch\"],\n",
    "                orient=\"row\",\n",
    "                schema=[\"batch\", \"val_loss\"],\n",
    "            ).drop(\"batch\"),\n",
    "        ],\n",
    "        how=\"horizontal\",\n",
    "    )\n",
    "    .with_row_index(name=\"step_no\")\n",
    "    .melt(id_vars=[\"step_no\", \"batch\"], variable_name=\"dataset\", value_name=\"loss\")\n",
    ")\n",
    "\n",
    "\n",
    "fig, ax = plt.subplots(figsize=(6, 4))\n",
    "sns.lineplot(data=plot_df, x=\"step_no\", y=\"loss\", hue=\"dataset\", ax=ax)\n",
    "fig.show()"
   ]
  },
  {
   "cell_type": "markdown",
   "metadata": {},
   "source": [
    "### Check prediction results"
   ]
  },
  {
   "cell_type": "code",
   "execution_count": null,
   "metadata": {},
   "outputs": [],
   "source": [
    "preds, ratings = [], []\n",
    "for idx, batch in enumerate(dataloader_train_sample):\n",
    "    _user_ids, _movie_ids, _ratings = batch\n",
    "    _pred = model(_user_ids, _movie_ids)\n",
    "    preds.append(_pred.detach().numpy())\n",
    "    ratings.append(_ratings.detach().numpy())\n",
    "\n",
    "preds = np.concatenate(preds)\n",
    "ratings = np.concatenate(ratings)"
   ]
  },
  {
   "cell_type": "markdown",
   "metadata": {},
   "source": [
    "Baseline prediction from mean rating"
   ]
  },
  {
   "cell_type": "code",
   "execution_count": null,
   "metadata": {},
   "outputs": [
    {
     "data": {
      "text/html": [
       "<div><style>\n",
       ".dataframe > thead > tr,\n",
       ".dataframe > tbody > tr {\n",
       "  text-align: right;\n",
       "  white-space: pre-wrap;\n",
       "}\n",
       "</style>\n",
       "<small>shape: (100_000, 8)</small><table border=\"1\" class=\"dataframe\"><thead><tr><th>userId</th><th>movieId</th><th>rating</th><th>timestamp</th><th>userIdMapped</th><th>movieIdMapped</th><th>baseline</th><th>nn</th></tr><tr><td>i64</td><td>i64</td><td>f64</td><td>i64</td><td>u32</td><td>u32</td><td>f64</td><td>f32</td></tr></thead><tbody><tr><td>67708</td><td>2959</td><td>5.0</td><td>972622556</td><td>65623</td><td>41</td><td>3.977185</td><td>4.873698</td></tr><tr><td>91505</td><td>1198</td><td>5.0</td><td>949716859</td><td>88679</td><td>28</td><td>3.977185</td><td>4.848859</td></tr><tr><td>43849</td><td>1136</td><td>5.0</td><td>881632083</td><td>42520</td><td>25</td><td>3.977185</td><td>4.921653</td></tr><tr><td>34745</td><td>344</td><td>4.0</td><td>1134517613</td><td>33693</td><td>9</td><td>3.977185</td><td>3.932611</td></tr><tr><td>77573</td><td>364</td><td>4.0</td><td>1009228452</td><td>75160</td><td>11</td><td>3.977185</td><td>3.934654</td></tr><tr><td>&hellip;</td><td>&hellip;</td><td>&hellip;</td><td>&hellip;</td><td>&hellip;</td><td>&hellip;</td><td>&hellip;</td><td>&hellip;</td></tr><tr><td>109740</td><td>1196</td><td>3.0</td><td>1536930155</td><td>106339</td><td>26</td><td>3.977185</td><td>3.00328</td></tr><tr><td>136800</td><td>58559</td><td>4.0</td><td>1395708644</td><td>132548</td><td>48</td><td>3.977185</td><td>3.981432</td></tr><tr><td>139513</td><td>1265</td><td>4.0</td><td>1223914026</td><td>135162</td><td>31</td><td>3.977185</td><td>4.010388</td></tr><tr><td>150358</td><td>2571</td><td>5.0</td><td>1111545247</td><td>145669</td><td>38</td><td>3.977185</td><td>4.742016</td></tr><tr><td>35322</td><td>2571</td><td>5.0</td><td>978466679</td><td>34254</td><td>38</td><td>3.977185</td><td>4.771548</td></tr></tbody></table></div>"
      ],
      "text/plain": [
       "shape: (100_000, 8)\n",
       "┌────────┬─────────┬────────┬────────────┬──────────────┬───────────────┬──────────┬──────────┐\n",
       "│ userId ┆ movieId ┆ rating ┆ timestamp  ┆ userIdMapped ┆ movieIdMapped ┆ baseline ┆ nn       │\n",
       "│ ---    ┆ ---     ┆ ---    ┆ ---        ┆ ---          ┆ ---           ┆ ---      ┆ ---      │\n",
       "│ i64    ┆ i64     ┆ f64    ┆ i64        ┆ u32          ┆ u32           ┆ f64      ┆ f32      │\n",
       "╞════════╪═════════╪════════╪════════════╪══════════════╪═══════════════╪══════════╪══════════╡\n",
       "│ 67708  ┆ 2959    ┆ 5.0    ┆ 972622556  ┆ 65623        ┆ 41            ┆ 3.977185 ┆ 4.873698 │\n",
       "│ 91505  ┆ 1198    ┆ 5.0    ┆ 949716859  ┆ 88679        ┆ 28            ┆ 3.977185 ┆ 4.848859 │\n",
       "│ 43849  ┆ 1136    ┆ 5.0    ┆ 881632083  ┆ 42520        ┆ 25            ┆ 3.977185 ┆ 4.921653 │\n",
       "│ 34745  ┆ 344     ┆ 4.0    ┆ 1134517613 ┆ 33693        ┆ 9             ┆ 3.977185 ┆ 3.932611 │\n",
       "│ 77573  ┆ 364     ┆ 4.0    ┆ 1009228452 ┆ 75160        ┆ 11            ┆ 3.977185 ┆ 3.934654 │\n",
       "│ …      ┆ …       ┆ …      ┆ …          ┆ …            ┆ …             ┆ …        ┆ …        │\n",
       "│ 109740 ┆ 1196    ┆ 3.0    ┆ 1536930155 ┆ 106339       ┆ 26            ┆ 3.977185 ┆ 3.00328  │\n",
       "│ 136800 ┆ 58559   ┆ 4.0    ┆ 1395708644 ┆ 132548       ┆ 48            ┆ 3.977185 ┆ 3.981432 │\n",
       "│ 139513 ┆ 1265    ┆ 4.0    ┆ 1223914026 ┆ 135162       ┆ 31            ┆ 3.977185 ┆ 4.010388 │\n",
       "│ 150358 ┆ 2571    ┆ 5.0    ┆ 1111545247 ┆ 145669       ┆ 38            ┆ 3.977185 ┆ 4.742016 │\n",
       "│ 35322  ┆ 2571    ┆ 5.0    ┆ 978466679  ┆ 34254        ┆ 38            ┆ 3.977185 ┆ 4.771548 │\n",
       "└────────┴─────────┴────────┴────────────┴──────────────┴───────────────┴──────────┴──────────┘"
      ]
     },
     "execution_count": 135,
     "metadata": {},
     "output_type": "execute_result"
    }
   ],
   "source": [
    "x = train_data.head(int(1e5))\n",
    "x = x.with_columns(pl.col(\"rating\").mean().alias(\"baseline\"), pl.lit(preds).alias(\"nn\"))\n",
    "x"
   ]
  },
  {
   "cell_type": "markdown",
   "metadata": {},
   "source": [
    "MSE looks good on training set"
   ]
  },
  {
   "cell_type": "code",
   "execution_count": null,
   "metadata": {},
   "outputs": [
    {
     "data": {
      "text/plain": [
       "(tensor(0.8981), tensor(0.0711))"
      ]
     },
     "execution_count": 136,
     "metadata": {},
     "output_type": "execute_result"
    }
   ],
   "source": [
    "(\n",
    "    nn.MSELoss()(torch.tensor(x[\"baseline\"]), torch.tensor(x[\"rating\"])),\n",
    "    nn.MSELoss()(torch.tensor(x[\"nn\"]), torch.tensor(x[\"rating\"])),\n",
    ")"
   ]
  },
  {
   "cell_type": "code",
   "execution_count": null,
   "metadata": {},
   "outputs": [
    {
     "data": {
      "text/plain": [
       "<Axes: xlabel='rating', ylabel='Count'>"
      ]
     },
     "execution_count": 137,
     "metadata": {},
     "output_type": "execute_result"
    },
    {
     "data": {
      "image/png": "[encoded data removed]",
      "text/plain": [
       "<Figure size 600x400 with 1 Axes>"
      ]
     },
     "metadata": {},
     "output_type": "display_data"
    }
   ],
   "source": [
    "fig, ax = plt.subplots(figsize=(6, 4))\n",
    "sns.histplot(x, x=\"rating\", ax=ax)\n",
    "sns.histplot(x, x=\"nn\", ax=ax)\n",
    "fig.show()"
   ]
  }
 ],
 "metadata": {
  "kernelspec": {
   "display_name": ".venv",
   "language": "python",
   "name": "python3"
  },
  "language_info": {
   "codemirror_mode": {
    "name": "ipython",
    "version": 3
   },
   "file_extension": ".py",
   "mimetype": "text/x-python",
   "name": "python",
   "nbconvert_exporter": "python",
   "pygments_lexer": "ipython3",
   "version": "3.12.8"
  },
  "orig_nbformat": 2
 },
 "nbformat": 4,
 "nbformat_minor": 2
}
