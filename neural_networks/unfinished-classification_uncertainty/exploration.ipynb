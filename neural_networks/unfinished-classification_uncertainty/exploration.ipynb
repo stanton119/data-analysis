{
 "cells": [
  {
   "cell_type": "markdown",
   "metadata": {},
   "source": [
    "# Modelling uncertainty in classification neural networks\n",
    "\n",
    "Classification neural networks are typically over confident. Particularly when the class predictionsare close to 0 or 1 [ref].\n",
    "Measuring confidence is represented by measuring the prediction uncertainty.\n",
    "We can build neural networks to model uncertainty as well.\n",
    "\n",
    "Ref:\n",
    "* https://arxiv.org/pdf/2107.03342.pdf\n",
    "* https://arxiv.org/pdf/2011.06225.pdf\n",
    "* https://en.wikipedia.org/wiki/Dirichlet_distribution\n",
    "* Pytorch distributions - https://pytorch.org/docs/stable/distributions.html\n",
    "* https://www.youtube.com/watch?v=p1EnIbDItTc"
   ]
  },
  {
   "cell_type": "code",
   "execution_count": 1,
   "metadata": {},
   "outputs": [],
   "source": [
    "import matplotlib.pyplot as plt\n",
    "import numpy as np\n",
    "import scipy.stats\n",
    "\n",
    "plt.style.use(\"seaborn-v0_8-whitegrid\")"
   ]
  },
  {
   "cell_type": "markdown",
   "metadata": {},
   "source": [
    "# Non-contextual version\n",
    "We can fit a Beta distribution to random binary data with pytorch.\n"
   ]
  },
  {
   "cell_type": "markdown",
   "metadata": {},
   "source": [
    "## Generate data\n",
    "\n",
    "We need data for a classification problem.\n",
    "\n",
    "We will first make a non-contextual version.\n",
    "We generate data from Bernouli trials with a known success probability.\n"
   ]
  },
  {
   "cell_type": "code",
   "execution_count": 2,
   "metadata": {},
   "outputs": [
    {
     "data": {
      "text/plain": [
       "array([1, 1, 1, 1, 0, 0, 1, 0, 1, 0])"
      ]
     },
     "metadata": {},
     "output_type": "display_data"
    },
    {
     "name": "stdout",
     "output_type": "stream",
     "text": [
      "Average: 0.6999\n"
     ]
    }
   ],
   "source": [
    "# true distribution parameters\n",
    "p_success = 0.7\n",
    "n_samples = 10000\n",
    "\n",
    "rand_gen = np.random.default_rng(seed=0)\n",
    "\n",
    "rand_samples = rand_gen.binomial(n=1, p=p_success, size=(n_samples, 1))\n",
    "\n",
    "display(rand_samples[:10].flatten())\n",
    "print(f\"Average: {rand_samples.mean()}\")"
   ]
  },
  {
   "cell_type": "markdown",
   "metadata": {},
   "source": [
    "## Fit pytorch model"
   ]
  },
  {
   "cell_type": "markdown",
   "metadata": {},
   "source": [
    "The uninformed prior distribution for a Beta is commonly parameterised as [0.5, 0.5].\n",
    "Within a pytorch model we need to ensure the parameters remain in the correct domain.\n",
    "Beta parameters must be positive, therefore we use the soft plus function to convert them.\n"
   ]
  },
  {
   "cell_type": "code",
   "execution_count": 3,
   "metadata": {},
   "outputs": [
    {
     "name": "stderr",
     "output_type": "stream",
     "text": [
      "/var/folders/ky/4qby95090jbbq38_mh94x72r0000gn/T/ipykernel_45528/90226784.py:9: UserWarning: Matplotlib is currently using module://matplotlib_inline.backend_inline, which is a non-GUI backend, so cannot show the figure.\n",
      "  fig.show()\n"
     ]
    },
    {
     "data": {
      "image/png": "[encoded data removed]",
      "text/plain": [
       "<Figure size 600x400 with 1 Axes>"
      ]
     },
     "metadata": {},
     "output_type": "display_data"
    }
   ],
   "source": [
    "import torch\n",
    "import matplotlib.pyplot as plt\n",
    "\n",
    "fig, ax = plt.subplots(figsize=(6, 4))\n",
    "x = torch.linspace(-10, 10, 100)\n",
    "y = torch.nn.functional.softplus(x)\n",
    "ax.plot(x, y)\n",
    "ax.set(xlabel=\"x\", ylabel=\"y\", title=\"\")\n",
    "fig.show()"
   ]
  },
  {
   "cell_type": "markdown",
   "metadata": {},
   "source": [
    "To get the equivalent uninformed prior distribution parameters we can find the inverse soft plus, [ref](https://github.com/pytorch/pytorch/issues/72759)."
   ]
  },
  {
   "cell_type": "code",
   "execution_count": 4,
   "metadata": {},
   "outputs": [
    {
     "data": {
      "text/plain": [
       "tensor(-0.4328)"
      ]
     },
     "execution_count": 4,
     "metadata": {},
     "output_type": "execute_result"
    }
   ],
   "source": [
    "def inv_softplus(x):\n",
    "    return x + torch.log(-torch.expm1(-x))\n",
    "\n",
    "\n",
    "torch.nn.functional.softplus(inv_softplus(torch.tensor(0.5)))\n",
    "inv_softplus(torch.tensor(0.5))"
   ]
  },
  {
   "cell_type": "markdown",
   "metadata": {},
   "source": [
    "We can now construct our Beta distribution in pytorch."
   ]
  },
  {
   "cell_type": "code",
   "execution_count": 5,
   "metadata": {},
   "outputs": [
    {
     "name": "stderr",
     "output_type": "stream",
     "text": [
      "/Users/rich/Developer/miniconda3/envs/pytorch_env/lib/python3.10/site-packages/tqdm/auto.py:21: TqdmWarning: IProgress not found. Please update jupyter and ipywidgets. See https://ipywidgets.readthedocs.io/en/stable/user_install.html\n",
      "  from .autonotebook import tqdm as notebook_tqdm\n"
     ]
    }
   ],
   "source": [
    "import pytorch_lightning as pl\n",
    "import torch\n",
    "import torch.distributions\n",
    "from typing import List\n",
    "\n",
    "\n",
    "class BetaModel(pl.LightningModule):\n",
    "    def __init__(self, learning_rate=1e-3, prior_parameters: List[float] = None):\n",
    "        super().__init__()\n",
    "\n",
    "        if prior_parameters is None:\n",
    "            prior_parameters = [0.5, 0.5]\n",
    "        else:\n",
    "            assert len(prior_parameters) == 2\n",
    "            assert prior_parameters[0] > 0\n",
    "            assert prior_parameters[1] > 0\n",
    "\n",
    "        prior_parameters_invsp = inv_softplus(torch.tensor(prior_parameters))\n",
    "        self.beta_params_invsp = torch.nn.Parameter(prior_parameters_invsp)\n",
    "\n",
    "        self.train_log_error = []\n",
    "        self.val_log_error = []\n",
    "        self.beta_params_log = []\n",
    "        self.learning_rate = learning_rate\n",
    "\n",
    "    def forward(self):\n",
    "        beta_params_pos = torch.nn.functional.softplus(self.beta_params_invsp)\n",
    "        dist = torch.distributions.beta.Beta(beta_params_pos[0], beta_params_pos[1])\n",
    "        return dist\n",
    "\n",
    "    def training_step(self, batch, batch_idx):\n",
    "        y = batch[0]\n",
    "\n",
    "        # find loglikelihood of y given our current distribution estimate\n",
    "        dist = self.forward()\n",
    "        negloglik = -dist.log_prob(y.mean())\n",
    "        loss = torch.mean(negloglik)\n",
    "\n",
    "        # log training results\n",
    "        self.train_log_error.append(loss.detach().numpy())\n",
    "        self.beta_params_log.append(\n",
    "            torch.nn.functional.softplus(self.beta_params_invsp).detach().numpy()\n",
    "        )\n",
    "        return loss\n",
    "\n",
    "    def validation_step(self, batch, batch_idx):\n",
    "        y = batch[0]\n",
    "\n",
    "        # find loglikelihood of y given our current distribution estimate\n",
    "        dist = self.forward()\n",
    "        negloglik = -dist.log_prob(y)\n",
    "        loss = torch.mean(negloglik)\n",
    "\n",
    "        # log training results\n",
    "        self.val_log_error.append(loss.detach().numpy())\n",
    "        return loss\n",
    "\n",
    "    def configure_optimizers(self):\n",
    "        optimizer = torch.optim.Adam(\n",
    "            self.parameters(),\n",
    "            lr=self.learning_rate,\n",
    "        )\n",
    "        return optimizer"
   ]
  },
  {
   "cell_type": "markdown",
   "metadata": {},
   "source": [
    "Lets create the model:"
   ]
  },
  {
   "cell_type": "code",
   "execution_count": 6,
   "metadata": {},
   "outputs": [],
   "source": [
    "torch.manual_seed(1)\n",
    "model = BetaModel(learning_rate=1e1)"
   ]
  },
  {
   "cell_type": "markdown",
   "metadata": {},
   "source": [
    "Now we can generate distribution objects from the model by calling the forward pass method.\n",
    "We see the model does not yet know anything about the true success probability."
   ]
  },
  {
   "cell_type": "code",
   "execution_count": 7,
   "metadata": {},
   "outputs": [
    {
     "name": "stderr",
     "output_type": "stream",
     "text": [
      "/var/folders/ky/4qby95090jbbq38_mh94x72r0000gn/T/ipykernel_45528/4198434410.py:10: UserWarning: Matplotlib is currently using module://matplotlib_inline.backend_inline, which is a non-GUI backend, so cannot show the figure.\n",
      "  fig.show()\n"
     ]
    },
    {
     "data": {
      "image/png": "[encoded data removed]",
      "text/plain": [
       "<Figure size 600x400 with 1 Axes>"
      ]
     },
     "metadata": {},
     "output_type": "display_data"
    }
   ],
   "source": [
    "x = np.linspace(0, 1, 1000)\n",
    "output_dist = model()\n",
    "y = scipy.stats.beta(output_dist.concentration0.detach().numpy(), output_dist.concentration1.detach().numpy()).pdf(x)\n",
    "\n",
    "fig, ax = plt.subplots(figsize=(6, 4))\n",
    "ax.plot(x, y, label=\"Prior distribution\")\n",
    "ax.axvline(x=p_success, linestyle=\"--\", color=\"b\", alpha=0.5, label=\"True P(success)\")\n",
    "ax.legend()\n",
    "ax.set(xlabel=\"P(success)\", ylabel=\"PDF\", title=\"Prior distribution\")\n",
    "fig.show()"
   ]
  },
  {
   "cell_type": "markdown",
   "metadata": {},
   "source": [
    "## Fitting the model distribution\n",
    "To train the model with our random sample data created above, we need to setup a dataloader to pass to the trainer."
   ]
  },
  {
   "cell_type": "code",
   "execution_count": 8,
   "metadata": {},
   "outputs": [
    {
     "data": {
      "text/plain": [
       "torch.Size([10000, 1])"
      ]
     },
     "execution_count": 8,
     "metadata": {},
     "output_type": "execute_result"
    }
   ],
   "source": [
    "# training on the whole dataset each batch\n",
    "from torch.utils.data import TensorDataset, DataLoader\n",
    "\n",
    "rand_samples_t = torch.Tensor(rand_samples)\n",
    "dataset_train = TensorDataset(rand_samples_t)\n",
    "dataloader_train = DataLoader(dataset_train, batch_size=len(rand_samples))\n",
    "\n",
    "# test loading a batch\n",
    "rand_samples_batch = next(iter(dataloader_train))\n",
    "rand_samples_batch[0].shape"
   ]
  },
  {
   "cell_type": "markdown",
   "metadata": {},
   "source": [
    "Now we can train the model via PyTorch Lightning's Trainer object."
   ]
  },
  {
   "cell_type": "code",
   "execution_count": 9,
   "metadata": {},
   "outputs": [
    {
     "name": "stderr",
     "output_type": "stream",
     "text": [
      "GPU available: True (mps), used: False\n",
      "TPU available: False, using: 0 TPU cores\n",
      "IPU available: False, using: 0 IPUs\n",
      "HPU available: False, using: 0 HPUs\n",
      "/Users/rich/Developer/miniconda3/envs/pytorch_env/lib/python3.10/site-packages/pytorch_lightning/trainer/setup.py:201: UserWarning: MPS available but not used. Set `accelerator` and `devices` using `Trainer(accelerator='mps', devices=1)`.\n",
      "  rank_zero_warn(\n",
      "/Users/rich/Developer/miniconda3/envs/pytorch_env/lib/python3.10/site-packages/pytorch_lightning/trainer/configuration_validator.py:72: PossibleUserWarning: You defined a `validation_step` but have no `val_dataloader`. Skipping val loop.\n",
      "  rank_zero_warn(\n",
      "Missing logger folder: /Users/rich/Developer/Github/VariousDataAnalysis/neural_networks/unfinished-classification_uncertainty/lightning_logs\n",
      "\n",
      "  | Name | Type | Params\n",
      "------------------------------\n",
      "------------------------------\n",
      "2         Trainable params\n",
      "0         Non-trainable params\n",
      "2         Total params\n",
      "0.000     Total estimated model params size (MB)\n",
      "/Users/rich/Developer/miniconda3/envs/pytorch_env/lib/python3.10/site-packages/pytorch_lightning/trainer/connectors/data_connector.py:430: PossibleUserWarning: The dataloader, train_dataloader, does not have many workers which may be a bottleneck. Consider increasing the value of the `num_workers` argument` (try 8 which is the number of cpus on this machine) in the `DataLoader` init to improve performance.\n",
      "  rank_zero_warn(\n",
      "/Users/rich/Developer/miniconda3/envs/pytorch_env/lib/python3.10/site-packages/pytorch_lightning/loops/fit_loop.py:280: PossibleUserWarning: The number of training batches (1) is smaller than the logging interval Trainer(log_every_n_steps=50). Set a lower value for log_every_n_steps if you want to see logs for the training epoch.\n",
      "  rank_zero_warn(\n"
     ]
    },
    {
     "name": "stdout",
     "output_type": "stream",
     "text": [
      "Epoch 49: 100%|██████████| 1/1 [00:00<00:00, 64.80it/s, v_num=0]"
     ]
    },
    {
     "name": "stderr",
     "output_type": "stream",
     "text": [
      "`Trainer.fit` stopped: `max_epochs=50` reached.\n"
     ]
    },
    {
     "name": "stdout",
     "output_type": "stream",
     "text": [
      "Epoch 49: 100%|██████████| 1/1 [00:00<00:00, 59.08it/s, v_num=0]\n"
     ]
    }
   ],
   "source": [
    "# fit network\n",
    "trainer = pl.Trainer(max_epochs=50, accelerator=\"cpu\")\n",
    "trainer.fit(model, dataloader_train)"
   ]
  },
  {
   "cell_type": "markdown",
   "metadata": {},
   "source": [
    "We can see the training loss has converged ok."
   ]
  },
  {
   "cell_type": "code",
   "execution_count": 10,
   "metadata": {},
   "outputs": [
    {
     "name": "stderr",
     "output_type": "stream",
     "text": [
      "/var/folders/ky/4qby95090jbbq38_mh94x72r0000gn/T/ipykernel_45528/2207435402.py:10: UserWarning: Matplotlib is currently using module://matplotlib_inline.backend_inline, which is a non-GUI backend, so cannot show the figure.\n",
      "  fig.show()\n"
     ]
    },
    {
     "data": {
      "image/png": "[encoded data removed]",
      "text/plain": [
       "<Figure size 600x400 with 1 Axes>"
      ]
     },
     "metadata": {},
     "output_type": "display_data"
    }
   ],
   "source": [
    "def moving_average(a, n=10):\n",
    "    ret = np.cumsum(a, dtype=float)\n",
    "    ret[n:] = ret[n:] - ret[:-n]\n",
    "    return ret[n - 1 :] / n\n",
    "\n",
    "\n",
    "fig, ax = plt.subplots(figsize=(6, 4))\n",
    "ax.plot(moving_average(np.array(model.train_log_error)))\n",
    "ax.set(ylabel=\"Loss\",xlabel=\"Training iteration\", title='Training loss')\n",
    "fig.show()"
   ]
  },
  {
   "cell_type": "markdown",
   "metadata": {},
   "source": [
    "The beta parameters are moving towards appropriate values."
   ]
  },
  {
   "cell_type": "code",
   "execution_count": 11,
   "metadata": {},
   "outputs": [
    {
     "name": "stderr",
     "output_type": "stream",
     "text": [
      "/var/folders/ky/4qby95090jbbq38_mh94x72r0000gn/T/ipykernel_45528/4205145043.py:8: UserWarning: Matplotlib is currently using module://matplotlib_inline.backend_inline, which is a non-GUI backend, so cannot show the figure.\n",
      "  fig.show()\n"
     ]
    },
    {
     "data": {
      "image/png": "[encoded data removed]",
      "text/plain": [
       "<Figure size 600x400 with 1 Axes>"
      ]
     },
     "metadata": {},
     "output_type": "display_data"
    }
   ],
   "source": [
    "beta_params_log = np.array(model.beta_params_log)\n",
    "\n",
    "fig, ax = plt.subplots(figsize=(6, 4))\n",
    "ax.plot(beta_params_log[:, 0], label=\"param0\")\n",
    "ax.plot(beta_params_log[:, 1], label=\"param1\")\n",
    "ax.legend()\n",
    "ax.set(xlabel=\"Iteration\", ylabel=\"Coefficient value\", title='Distribution parameters through training')\n",
    "fig.show()"
   ]
  },
  {
   "cell_type": "markdown",
   "metadata": {},
   "source": [
    "Plotting distribution against interation"
   ]
  },
  {
   "cell_type": "code",
   "execution_count": 12,
   "metadata": {},
   "outputs": [
    {
     "name": "stderr",
     "output_type": "stream",
     "text": [
      "/var/folders/ky/4qby95090jbbq38_mh94x72r0000gn/T/ipykernel_45528/1794095813.py:13: UserWarning: Matplotlib is currently using module://matplotlib_inline.backend_inline, which is a non-GUI backend, so cannot show the figure.\n",
      "  fig.show()\n"
     ]
    },
    {
     "data": {
      "image/png": "[encoded data removed]",
      "text/plain": [
       "<Figure size 600x400 with 1 Axes>"
      ]
     },
     "metadata": {},
     "output_type": "display_data"
    }
   ],
   "source": [
    "beta_params_log = np.array(model.beta_params_log)\n",
    "x = np.linspace(0, 1, 1000)\n",
    "iterations = range(0, beta_params_log.shape[0], 10)\n",
    "\n",
    "fig, ax = plt.subplots(figsize=(6, 4))\n",
    "for idx in iterations:\n",
    "    y = scipy.stats.beta(*beta_params_log[idx, :]).pdf(x)\n",
    "    ax.plot(x, y, alpha=0.5, label=idx)\n",
    "\n",
    "ax.axvline(x=p_success, linestyle=\"--\", color=\"b\", alpha=0.5, label=\"True P(success)\")\n",
    "ax.legend()\n",
    "ax.set(xlabel=\"P(success)\", ylabel=\"PDF\", title=\"Distributions through training\")\n",
    "fig.show()"
   ]
  },
  {
   "cell_type": "markdown",
   "metadata": {},
   "source": [
    "### Comparison with maximum likelihood estimation"
   ]
  },
  {
   "cell_type": "markdown",
   "metadata": {},
   "source": [
    "\n",
    "The true beta parameters for this data can be calculated as the sum of the successes and the sum of the failures."
   ]
  },
  {
   "cell_type": "code",
   "execution_count": 13,
   "metadata": {},
   "outputs": [
    {
     "name": "stdout",
     "output_type": "stream",
     "text": [
      "MLE parameters\n",
      "6999\n",
      "3001\n"
     ]
    }
   ],
   "source": [
    "print(\"MLE parameters\")\n",
    "print((rand_samples == 1).sum())\n",
    "print((rand_samples == 0).sum())"
   ]
  },
  {
   "cell_type": "markdown",
   "metadata": {},
   "source": [
    "The MLE distribution is a very tight fit around the true success probability."
   ]
  },
  {
   "cell_type": "code",
   "execution_count": 14,
   "metadata": {},
   "outputs": [
    {
     "name": "stderr",
     "output_type": "stream",
     "text": [
      "/var/folders/ky/4qby95090jbbq38_mh94x72r0000gn/T/ipykernel_45528/2078173807.py:9: UserWarning: Matplotlib is currently using module://matplotlib_inline.backend_inline, which is a non-GUI backend, so cannot show the figure.\n",
      "  fig.show()\n"
     ]
    },
    {
     "data": {
      "image/png": "[encoded data removed]",
      "text/plain": [
       "<Figure size 600x400 with 1 Axes>"
      ]
     },
     "metadata": {},
     "output_type": "display_data"
    }
   ],
   "source": [
    "x = np.linspace(0, 1, 1000)\n",
    "y = scipy.stats.beta((rand_samples == 1).sum(), (rand_samples == 0).sum()).pdf(x)\n",
    "\n",
    "fig, ax = plt.subplots(figsize=(6, 4))\n",
    "ax.plot(x, y, label=\"MLE distribution\")\n",
    "ax.axvline(x=p_success, linestyle=\"--\", color=\"b\", alpha=0.5, label=\"True P(success)\")\n",
    "ax.set(xlabel=\"P(success)\", ylabel=\"PDF\", title=\"MLE distribution\")\n",
    "ax.legend()\n",
    "fig.show()"
   ]
  },
  {
   "cell_type": "markdown",
   "metadata": {},
   "source": [
    "This is shown also in the log likelihood of observing the data given the distribution.\n",
    "The MLE LL is expectedly better (higher):"
   ]
  },
  {
   "cell_type": "code",
   "execution_count": 15,
   "metadata": {},
   "outputs": [
    {
     "name": "stdout",
     "output_type": "stream",
     "text": [
      "MLE LL: 4.47\n",
      "NN LL: 2.28\n"
     ]
    }
   ],
   "source": [
    "print(\n",
    "    f\"MLE LL: {scipy.stats.beta((rand_samples==1).sum(), (rand_samples==0).sum()).logpdf(rand_samples.mean()):.2f}\"\n",
    ")\n",
    "print(\n",
    "    f\"NN LL: {scipy.stats.beta(*beta_params_log[-1,:]).logpdf(rand_samples.mean()):.2f}\"\n",
    ")"
   ]
  },
  {
   "cell_type": "markdown",
   "metadata": {},
   "source": [
    "However, when we want to make the distribution a function of various features we cannot use the MLE approach in the same way.\n",
    "Gradient descent however can still be used."
   ]
  },
  {
   "cell_type": "markdown",
   "metadata": {},
   "source": [
    "## Using sampling\n",
    "\n",
    "The above beta based models fits the parameters to the average success probability, not to the individual sample.\n",
    "When building a contextual model we need to use the individual output labels as the average success prob is non-contextual.\n",
    "When we take the PDF of a beta distribution for the individual sample we get a prob of 0, as the individual output labels are 0 or 1.\n",
    "Therefore we need another way. One such way is to use separate predicted distribution parameters for each data point.\n",
    "We can sample from that distribution for each data point.\n",
    "Sampling, however, breaks the derivative chain needed for back propagation to train the model weights.\n",
    "Therefore we use the reparameterisation to formulate the samples as a function of the distribution parameters.\n",
    "This allows training the model weights using the output labels from individual samples.\n",
    "\n",
    "Specifically in the following we construct a beta distribution and call `rsample`.\n",
    "The sample will be a draw from the beta representing the probability of success.\n",
    "We can then use binary cross entropy loss as usual on the true output labels to evaluate.\n",
    "\n",
    "\n",
    "Sampling is a similar process marginalising out the multinomial distribution.\n",
    "We only take one sample here.\n",
    "Ideally we would take many samples from the Beta, calculate the loglikelihood for each and average it.\n",
    "However this would be a fair bit slower."
   ]
  },
  {
   "cell_type": "code",
   "execution_count": 16,
   "metadata": {},
   "outputs": [],
   "source": [
    "import pytorch_lightning as pl\n",
    "import torch\n",
    "import torch.nn as nn\n",
    "import torch.distributions\n",
    "from typing import List\n",
    "\n",
    "\n",
    "class BetaModelSample(pl.LightningModule):\n",
    "    def __init__(self, learning_rate=1e-3, prior_parameters: List[float] = None):\n",
    "        super().__init__()\n",
    "\n",
    "        if prior_parameters is None:\n",
    "            prior_parameters = [0.5, 0.5]\n",
    "        else:\n",
    "            assert len(prior_parameters) == 2\n",
    "            assert prior_parameters[0] > 0\n",
    "            assert prior_parameters[1] > 0\n",
    "\n",
    "        prior_parameters_invsp = inv_softplus(torch.tensor(prior_parameters))\n",
    "        self.beta_params_invsp = torch.nn.Parameter(prior_parameters_invsp)\n",
    "\n",
    "        self.train_log_error = []\n",
    "        self.val_log_error = []\n",
    "        self.beta_params_log = []\n",
    "        self.learning_rate = learning_rate\n",
    "\n",
    "    def forward(self):\n",
    "        beta_params_pos = torch.nn.functional.softplus(self.beta_params_invsp)\n",
    "        dist = torch.distributions.beta.Beta(beta_params_pos[0], beta_params_pos[1])\n",
    "        return dist\n",
    "\n",
    "    def training_step(self, batch, batch_idx):\n",
    "        y = batch[0]\n",
    "\n",
    "        # find a sample of our current distribution estimate\n",
    "        dist = self.forward()\n",
    "        dist_sample = dist.rsample(y.shape)\n",
    "\n",
    "        criterion = nn.BCELoss()\n",
    "        loss = criterion(dist_sample, y).mean()\n",
    "\n",
    "        # log training results\n",
    "        self.train_log_error.append(loss.detach().numpy())\n",
    "        self.beta_params_log.append(\n",
    "            torch.nn.functional.softplus(self.beta_params_invsp).detach().numpy()\n",
    "        )\n",
    "        return loss\n",
    "\n",
    "    def validation_step(self, batch, batch_idx):\n",
    "        y = batch[0]\n",
    "\n",
    "        # find a sample of our current distribution estimate\n",
    "        dist = self.forward()\n",
    "        dist_sample = dist.rsample(y.shape)\n",
    "        \n",
    "        criterion = nn.BCELoss()\n",
    "        loss = criterion(dist_sample, y).mean()\n",
    "\n",
    "        # log training results\n",
    "        self.val_log_error.append(loss.detach().numpy())\n",
    "        return loss\n",
    "\n",
    "    def configure_optimizers(self):\n",
    "        optimizer = torch.optim.Adam(\n",
    "            self.parameters(),\n",
    "            lr=self.learning_rate,\n",
    "        )\n",
    "        return optimizer\n"
   ]
  },
  {
   "cell_type": "markdown",
   "metadata": {},
   "source": [
    "Lets create the model:"
   ]
  },
  {
   "cell_type": "code",
   "execution_count": 17,
   "metadata": {},
   "outputs": [],
   "source": [
    "torch.manual_seed(1)\n",
    "model = BetaModelSample(learning_rate=1e0)"
   ]
  },
  {
   "cell_type": "markdown",
   "metadata": {},
   "source": [
    "## Fitting the model distribution\n",
    "To train the model with our random sample data created above, we need to setup a dataloader to pass to the trainer."
   ]
  },
  {
   "cell_type": "markdown",
   "metadata": {},
   "source": [
    "Now we can train the model via PyTorch Lightning's Trainer object."
   ]
  },
  {
   "cell_type": "code",
   "execution_count": 18,
   "metadata": {},
   "outputs": [
    {
     "name": "stderr",
     "output_type": "stream",
     "text": [
      "GPU available: True (mps), used: False\n",
      "TPU available: False, using: 0 TPU cores\n",
      "IPU available: False, using: 0 IPUs\n",
      "HPU available: False, using: 0 HPUs\n",
      "/Users/rich/Developer/miniconda3/envs/pytorch_env/lib/python3.10/site-packages/pytorch_lightning/trainer/setup.py:201: UserWarning: MPS available but not used. Set `accelerator` and `devices` using `Trainer(accelerator='mps', devices=1)`.\n",
      "  rank_zero_warn(\n",
      "\n",
      "  | Name | Type | Params\n",
      "------------------------------\n",
      "------------------------------\n",
      "2         Trainable params\n",
      "0         Non-trainable params\n",
      "2         Total params\n",
      "0.000     Total estimated model params size (MB)\n"
     ]
    },
    {
     "name": "stdout",
     "output_type": "stream",
     "text": [
      "Epoch 99: 100%|██████████| 1/1 [00:00<00:00, 58.12it/s, v_num=1]"
     ]
    },
    {
     "name": "stderr",
     "output_type": "stream",
     "text": [
      "`Trainer.fit` stopped: `max_epochs=100` reached.\n"
     ]
    },
    {
     "name": "stdout",
     "output_type": "stream",
     "text": [
      "Epoch 99: 100%|██████████| 1/1 [00:00<00:00, 53.31it/s, v_num=1]\n"
     ]
    }
   ],
   "source": [
    "# fit network\n",
    "trainer = pl.Trainer(max_epochs=100, accelerator=\"cpu\")\n",
    "trainer.fit(model, dataloader_train)"
   ]
  },
  {
   "cell_type": "markdown",
   "metadata": {},
   "source": [
    "The beta parameters are moving towards appropriate values."
   ]
  },
  {
   "cell_type": "code",
   "execution_count": 19,
   "metadata": {},
   "outputs": [
    {
     "name": "stderr",
     "output_type": "stream",
     "text": [
      "/var/folders/ky/4qby95090jbbq38_mh94x72r0000gn/T/ipykernel_45528/4205145043.py:8: UserWarning: Matplotlib is currently using module://matplotlib_inline.backend_inline, which is a non-GUI backend, so cannot show the figure.\n",
      "  fig.show()\n"
     ]
    },
    {
     "data": {
      "image/png": "[encoded data removed]",
      "text/plain": [
       "<Figure size 600x400 with 1 Axes>"
      ]
     },
     "metadata": {},
     "output_type": "display_data"
    }
   ],
   "source": [
    "beta_params_log = np.array(model.beta_params_log)\n",
    "\n",
    "fig, ax = plt.subplots(figsize=(6, 4))\n",
    "ax.plot(beta_params_log[:, 0], label=\"param0\")\n",
    "ax.plot(beta_params_log[:, 1], label=\"param1\")\n",
    "ax.legend()\n",
    "ax.set(xlabel=\"Iteration\", ylabel=\"Coefficient value\", title='Distribution parameters through training')\n",
    "fig.show()"
   ]
  },
  {
   "cell_type": "markdown",
   "metadata": {},
   "source": [
    "Plotting distribution against interation"
   ]
  },
  {
   "cell_type": "code",
   "execution_count": 20,
   "metadata": {},
   "outputs": [
    {
     "name": "stderr",
     "output_type": "stream",
     "text": [
      "/var/folders/ky/4qby95090jbbq38_mh94x72r0000gn/T/ipykernel_45528/1794095813.py:13: UserWarning: Matplotlib is currently using module://matplotlib_inline.backend_inline, which is a non-GUI backend, so cannot show the figure.\n",
      "  fig.show()\n"
     ]
    },
    {
     "data": {
      "image/png": "[encoded data removed]",
      "text/plain": [
       "<Figure size 600x400 with 1 Axes>"
      ]
     },
     "metadata": {},
     "output_type": "display_data"
    }
   ],
   "source": [
    "beta_params_log = np.array(model.beta_params_log)\n",
    "x = np.linspace(0, 1, 1000)\n",
    "iterations = range(0, beta_params_log.shape[0], 10)\n",
    "\n",
    "fig, ax = plt.subplots(figsize=(6, 4))\n",
    "for idx in iterations:\n",
    "    y = scipy.stats.beta(*beta_params_log[idx, :]).pdf(x)\n",
    "    ax.plot(x, y, alpha=0.5, label=idx)\n",
    "\n",
    "ax.axvline(x=p_success, linestyle=\"--\", color=\"b\", alpha=0.5, label=\"True P(success)\")\n",
    "ax.legend()\n",
    "ax.set(xlabel=\"P(success)\", ylabel=\"PDF\", title=\"Distributions through training\")\n",
    "fig.show()"
   ]
  },
  {
   "cell_type": "markdown",
   "metadata": {},
   "source": [
    "The model is converging correctly, but slower than before.\n",
    "\n",
    "A question for another day - does this actually accurately represent the uncertainty here?"
   ]
  },
  {
   "cell_type": "markdown",
   "metadata": {},
   "source": [
    "## Empirical Bayes\n",
    "\n",
    "The likelihood of seeing a given binary outcome comes from a Bernoulli trial.\n",
    "The probability given to a success, $P(y=1)=p$, come from the Beta distribution.\n",
    "The Beta distribution is parameterised by $\\alpha$ and $\\beta$.\n",
    "To find the true likelihood of the parameters given the observed data we can use marginalisation.\n",
    "\n",
    "We can start by denoting the likelihood from the Bernoulli trial:\n",
    "$$\n",
    "L(p|y) = P(y|p) = p^y (1-p)^{(1-y)}\n",
    "$$\n",
    "We take the log to make the maths nicer and the maximial point of the derivative is the same.\n",
    "\n",
    "\\begin{align*}\n",
    "    \\mathrm{log} P(y|p) &= \\mathrm{log}(p^y (1-p)^{(1-y)}) \\\\\n",
    "    &= \\mathrm{log}(p^y) + \\mathrm{log}((1-p)^{(1-y)}) \\\\\n",
    "    &= y\\mathrm{log}(p) + (1-y)\\mathrm{log}(1-p)\n",
    "\\end{align*}\n",
    "\n",
    "Now we replace the probability of success with the Beta distribution PDF.\n",
    "$$P(y|p) = P(y|\\alpha, \\beta) = \\mathrm{Beta}(\\alpha, \\beta)$$\n",
    "The Beta PDF is given as:\n",
    "$$P(p|\\alpha, \\beta) = \\frac{p^{\\alpha-1}(1-p)^{\\beta-1}} {\\Beta(\\alpha,\\beta)}$$\n",
    "where $\\Beta$ is the Beta function.\n",
    "\n",
    "Error in the following - we don't insert y as p. We need to integrate over p...\n",
    "We can derive the loglikelihood in a similar way to before:\n",
    "\\begin{align*}\n",
    "    \\mathrm{log} P(y|\\alpha, \\beta) &= \\mathrm{log}\\frac{y^{\\alpha-1}(1-y)^{\\beta-1}} {\\Beta(\\alpha,\\beta)} \\\\\n",
    "    &= \\mathrm{log}(y^{\\alpha-1}) + \\mathrm{log}((1-y)^{\\beta-1}) - \\mathrm{log}(\\Beta(\\alpha,\\beta)) \\\\\n",
    "    &= (\\alpha-1)\\mathrm{log}(y) + (\\beta-1)\\mathrm{log}(1-y) - \\mathrm{log}(\\Beta(\\alpha,\\beta))\n",
    "\\end{align*}\n",
    "\n",
    "We optimise the network parameters by taking the derivative of the loglikelihood, as such we can ignore the $\\Beta$ term to give:\n",
    "$$\n",
    "\\mathrm{log} P(y|\\alpha, \\beta) = (\\alpha-1)\\mathrm{log}(y) + (\\beta-1)\\mathrm{log}(1-y)\n",
    "$$\n",
    "\n",
    "\n",
    "\n",
    "\n",
    "\n",
    "We can marginalise out $p$ by integrating:\n",
    "\\begin{align*}\n",
    "    P(y|p) &= P(y|p, \\alpha, \\beta) \\\\\n",
    "    &= \\int P(y|p) P(p|\\alpha, \\beta) dp \\\\\n",
    "    &= \\mathrm{log}(p^y) + \\mathrm{log}((1-p)^{(1-y)}) \\\\\n",
    "    &= y\\mathrm{log}(p) + (1-y)\\mathrm{log}(1-p)\n",
    "\\end{align*}\n",
    "\n",
    "P(y=1)\n",
    "\n",
    "$$\\frac{x^{\\alpha-1}(1-x)^{\\beta-1}} {\\Beta(\\alpha,\\beta)}$$\n",
    "\n",
    "$$\n",
    "\\mathrm{log} P(y|p) = \\mathrm{log}(p^y (1-p)^{(1-y)}) = \\mathrm{log}(p^y) + \\mathrm{log}((1-p)^{(1-y)})\n",
    "$$\n",
    "$$\n",
    "−(y⋅log(p)+(1−y)⋅log(1−p))\n",
    "$$\n",
    "$$\n",
    "p(y|\\alpha, \\beta)\n",
    "$$\n",
    "\n",
    "\n",
    "Ref:\n",
    "* https://en.wikipedia.org/wiki/Empirical_Bayes_method\n",
    "* https://en.wikipedia.org/wiki/Beta-binomial_distribution"
   ]
  },
  {
   "cell_type": "code",
   "execution_count": 46,
   "metadata": {},
   "outputs": [],
   "source": [
    "class BetaModelEmpiricalBayes(pl.LightningModule):\n",
    "    def __init__(self, learning_rate=1e-3, prior_parameters: List[float] = None):\n",
    "        super().__init__()\n",
    "\n",
    "        if prior_parameters is None:\n",
    "            prior_parameters = [0.5, 0.5]\n",
    "        else:\n",
    "            assert len(prior_parameters) == 2\n",
    "            assert prior_parameters[0] > 0\n",
    "            assert prior_parameters[1] > 0\n",
    "\n",
    "        prior_parameters_invsp = inv_softplus(torch.tensor(prior_parameters))\n",
    "        self.beta_params_invsp = torch.nn.Parameter(prior_parameters_invsp)\n",
    "\n",
    "        self.train_log_error = []\n",
    "        self.val_log_error = []\n",
    "        self.beta_params_log = []\n",
    "        self.learning_rate = learning_rate\n",
    "\n",
    "    def forward(self):\n",
    "        beta_params_pos = torch.nn.functional.softplus(self.beta_params_invsp)\n",
    "        # return beta_params_pos\n",
    "        return beta_params_pos[0], beta_params_pos[1]\n",
    "\n",
    "    def training_step(self, batch, batch_idx):\n",
    "        y = batch[0]\n",
    "\n",
    "        # find alpha and beta parameters, calculate negloglikelihood\n",
    "        # params = self.forward()\n",
    "        # alpha = params[0]\n",
    "        # beta = params[1]\n",
    "        alpha, beta = self.forward()\n",
    "        loss = -1 * ((alpha - 1) * torch.log(y) + (beta - 1) * torch.log(1-y))\n",
    "        loss = loss.mean()\n",
    "\n",
    "        # log training results\n",
    "        self.train_log_error.append(loss.detach().numpy())\n",
    "        self.beta_params_log.append(\n",
    "            torch.nn.functional.softplus(self.beta_params_invsp).detach().numpy()\n",
    "        )\n",
    "        return loss\n",
    "\n",
    "    def validation_step(self, batch, batch_idx):\n",
    "        y = batch[0]\n",
    "\n",
    "        # find alpha and beta parameters, calculate negloglikelihood\n",
    "        alpha, beta = self.forward()\n",
    "        loss = -1 * ((alpha - 1) * torch.log(y) + (beta - 1) * torch.log(1-y))\n",
    "        loss = loss.mean()\n",
    "\n",
    "        # log training results\n",
    "        self.val_log_error.append(loss.detach().numpy())\n",
    "        return loss\n",
    "\n",
    "    def configure_optimizers(self):\n",
    "        optimizer = torch.optim.Adam(\n",
    "            self.parameters(),\n",
    "            lr=self.learning_rate,\n",
    "        )\n",
    "        return optimizer\n"
   ]
  },
  {
   "cell_type": "markdown",
   "metadata": {},
   "source": [
    "Lets create the model:"
   ]
  },
  {
   "cell_type": "code",
   "execution_count": 51,
   "metadata": {},
   "outputs": [],
   "source": [
    "torch.manual_seed(1)\n",
    "model = BetaModelEmpiricalBayes(learning_rate=1e-2)"
   ]
  },
  {
   "cell_type": "code",
   "execution_count": 58,
   "metadata": {},
   "outputs": [
    {
     "data": {
      "text/plain": [
       "tensor(-inf, grad_fn=<MulBackward0>)"
      ]
     },
     "execution_count": 58,
     "metadata": {},
     "output_type": "execute_result"
    }
   ],
   "source": [
    "alpha, beta = model.forward()\n",
    "y = torch.tensor(1.0)\n",
    "loss = -1 * ((alpha - 1) * torch.log(y) + (beta - 1) * torch.log(1-y))\n",
    "loss"
   ]
  },
  {
   "cell_type": "code",
   "execution_count": 60,
   "metadata": {},
   "outputs": [
    {
     "data": {
      "text/plain": [
       "tensor(-0., grad_fn=<MulBackward0>)"
      ]
     },
     "execution_count": 60,
     "metadata": {},
     "output_type": "execute_result"
    }
   ],
   "source": [
    "(alpha - 1) * torch.log(y)\n",
    "# (beta - 1) * torch.log(1-y)"
   ]
  },
  {
   "cell_type": "markdown",
   "metadata": {},
   "source": [
    "## Fitting the model distribution\n",
    "To train the model with our random sample data created above, we need to setup a dataloader to pass to the trainer."
   ]
  },
  {
   "cell_type": "markdown",
   "metadata": {},
   "source": [
    "Now we can train the model via PyTorch Lightning's Trainer object."
   ]
  },
  {
   "cell_type": "code",
   "execution_count": 49,
   "metadata": {},
   "outputs": [
    {
     "name": "stderr",
     "output_type": "stream",
     "text": [
      "GPU available: True (mps), used: False\n",
      "TPU available: False, using: 0 TPU cores\n",
      "IPU available: False, using: 0 IPUs\n",
      "HPU available: False, using: 0 HPUs\n",
      "/Users/rich/Developer/miniconda3/envs/pytorch_env/lib/python3.10/site-packages/pytorch_lightning/trainer/setup.py:201: UserWarning: MPS available but not used. Set `accelerator` and `devices` using `Trainer(accelerator='mps', devices=1)`.\n",
      "  rank_zero_warn(\n",
      "/Users/rich/Developer/miniconda3/envs/pytorch_env/lib/python3.10/site-packages/pytorch_lightning/trainer/configuration_validator.py:72: PossibleUserWarning: You defined a `validation_step` but have no `val_dataloader`. Skipping val loop.\n",
      "  rank_zero_warn(\n",
      "\n",
      "  | Name | Type | Params\n",
      "------------------------------\n",
      "------------------------------\n",
      "2         Trainable params\n",
      "0         Non-trainable params\n",
      "2         Total params\n",
      "0.000     Total estimated model params size (MB)\n",
      "/Users/rich/Developer/miniconda3/envs/pytorch_env/lib/python3.10/site-packages/pytorch_lightning/trainer/connectors/data_connector.py:430: PossibleUserWarning: The dataloader, train_dataloader, does not have many workers which may be a bottleneck. Consider increasing the value of the `num_workers` argument` (try 8 which is the number of cpus on this machine) in the `DataLoader` init to improve performance.\n",
      "  rank_zero_warn(\n",
      "/Users/rich/Developer/miniconda3/envs/pytorch_env/lib/python3.10/site-packages/pytorch_lightning/loops/fit_loop.py:280: PossibleUserWarning: The number of training batches (1) is smaller than the logging interval Trainer(log_every_n_steps=50). Set a lower value for log_every_n_steps if you want to see logs for the training epoch.\n",
      "  rank_zero_warn(\n"
     ]
    },
    {
     "name": "stdout",
     "output_type": "stream",
     "text": [
      "Epoch 0:   0%|          | 0/1 [00:00<?, ?it/s] "
     ]
    },
    {
     "name": "stdout",
     "output_type": "stream",
     "text": [
      "Epoch 99: 100%|██████████| 1/1 [00:00<00:00, 58.03it/s, v_num=7]"
     ]
    },
    {
     "name": "stderr",
     "output_type": "stream",
     "text": [
      "`Trainer.fit` stopped: `max_epochs=100` reached.\n"
     ]
    },
    {
     "name": "stdout",
     "output_type": "stream",
     "text": [
      "Epoch 99: 100%|██████████| 1/1 [00:00<00:00, 51.78it/s, v_num=7]\n"
     ]
    }
   ],
   "source": [
    "# fit network\n",
    "trainer = pl.Trainer(max_epochs=100, accelerator=\"cpu\")\n",
    "trainer.fit(model, dataloader_train)"
   ]
  },
  {
   "cell_type": "markdown",
   "metadata": {},
   "source": [
    "The beta parameters are moving towards appropriate values."
   ]
  },
  {
   "cell_type": "code",
   "execution_count": 45,
   "metadata": {},
   "outputs": [
    {
     "name": "stderr",
     "output_type": "stream",
     "text": [
      "/var/folders/ky/4qby95090jbbq38_mh94x72r0000gn/T/ipykernel_45528/4205145043.py:8: UserWarning: Matplotlib is currently using module://matplotlib_inline.backend_inline, which is a non-GUI backend, so cannot show the figure.\n",
      "  fig.show()\n"
     ]
    },
    {
     "data": {
      "image/png": "[encoded data removed]",
      "text/plain": [
       "<Figure size 600x400 with 1 Axes>"
      ]
     },
     "metadata": {},
     "output_type": "display_data"
    }
   ],
   "source": [
    "beta_params_log = np.array(model.beta_params_log)\n",
    "\n",
    "fig, ax = plt.subplots(figsize=(6, 4))\n",
    "ax.plot(beta_params_log[:, 0], label=\"param0\")\n",
    "ax.plot(beta_params_log[:, 1], label=\"param1\")\n",
    "ax.legend()\n",
    "ax.set(xlabel=\"Iteration\", ylabel=\"Coefficient value\", title='Distribution parameters through training')\n",
    "fig.show()"
   ]
  },
  {
   "cell_type": "markdown",
   "metadata": {},
   "source": [
    "Plotting distribution against interation"
   ]
  },
  {
   "cell_type": "code",
   "execution_count": 41,
   "metadata": {},
   "outputs": [
    {
     "name": "stderr",
     "output_type": "stream",
     "text": [
      "/var/folders/ky/4qby95090jbbq38_mh94x72r0000gn/T/ipykernel_45528/1794095813.py:13: UserWarning: Matplotlib is currently using module://matplotlib_inline.backend_inline, which is a non-GUI backend, so cannot show the figure.\n",
      "  fig.show()\n"
     ]
    },
    {
     "data": {
      "image/png": "[encoded data removed]",
      "text/plain": [
       "<Figure size 600x400 with 1 Axes>"
      ]
     },
     "metadata": {},
     "output_type": "display_data"
    }
   ],
   "source": [
    "beta_params_log = np.array(model.beta_params_log)\n",
    "x = np.linspace(0, 1, 1000)\n",
    "iterations = range(0, beta_params_log.shape[0], 10)\n",
    "\n",
    "fig, ax = plt.subplots(figsize=(6, 4))\n",
    "for idx in iterations:\n",
    "    y = scipy.stats.beta(*beta_params_log[idx, :]).pdf(x)\n",
    "    ax.plot(x, y, alpha=0.5, label=idx)\n",
    "\n",
    "ax.axvline(x=p_success, linestyle=\"--\", color=\"b\", alpha=0.5, label=\"True P(success)\")\n",
    "ax.legend()\n",
    "ax.set(xlabel=\"P(success)\", ylabel=\"PDF\", title=\"Distributions through training\")\n",
    "fig.show()"
   ]
  },
  {
   "cell_type": "markdown",
   "metadata": {},
   "source": [
    "# Appendix\n",
    "\n",
    "TODO:\n",
    "\n",
    "* Quantile regression from a multi head NN\n",
    "  * Using pinball loss\n",
    "* Variational inference approach\n",
    "* Dropout approach\n",
    "* Bootstrapped NNs/ensemble networks\n",
    "  * Fit a different model on bootstrap samples, predict from all\n",
    "* MCMC\n",
    "* Empirical bayes\n",
    "\n",
    "\n",
    "\n",
    "\n",
    "## How to create a bayesian model\n",
    "\n",
    "* **Bayesian Logistic regression?**\n",
    "  * Distribution over parameter weights in final layer only\n",
    "  * Similar to contextual bandits\n",
    "* Variational inference on logistic regression layer weights\n",
    "* Parameterised beta distribution\n",
    "  * Logistic regression and beta distributions share no direct link [ref](https://stats.stackexchange.com/questions/259131/what-is-the-relationship-between-the-beta-distribution-and-the-logistic-regressi)\n",
    "  * How do we fit the loglikelihood of the beta? Common for the PDF to be 0 (logloss of -inf) at 0 and 1.\n",
    "  * Truncate outcomes to 0.01 and 0.99 for a hack?\n",
    "  * Conceptually it makes sense?\n",
    "    * data generating only 1s. beta concentrating at 1 will give higher prob of success than one less certain\n",
    "    * find log loss of mean outcome? should work. we find the average success and find the log loss of that given our beta\n",
    "* Dirichlet distribution\n",
    "  * **Empirical bayes to find prior parameters from data**\n",
    "    * ref - https://arxiv.org/pdf/1806.01768.pdf\n",
    "    * code - https://muratsensoy.github.io/uncertainty.html\n",
    "  * Same solution as parameterised beta\n",
    "    * How to simplify for singke beta?\n",
    "    * \n",
    "* Having a spare label for 'uncertain'\n",
    "  * how to train in a binary classification sense?\n",
    "* Dropout based approaches\n",
    "* bandits\n",
    "  * To enable bandits we need to sample from some posterior distribution\n",
    "  * here would be a beta distribution or sampling from logistic regression weights\n",
    "* Ensembles\n",
    "  * Train multiple networks on the same dataset with random initialisation. Predict from all."
   ]
  },
  {
   "cell_type": "markdown",
   "metadata": {},
   "source": [
    "## Drop out"
   ]
  },
  {
   "cell_type": "code",
   "execution_count": 26,
   "metadata": {},
   "outputs": [],
   "source": [
    "import pytorch_lightning as pl\n",
    "import torch\n",
    "import torch.nn as nn\n",
    "import torch.distributions\n",
    "from typing import List\n",
    "\n",
    "\n",
    "class DropOutModel(pl.LightningModule):\n",
    "    def __init__(self, learning_rate=1e-3, prior_parameters: List[float] = None):\n",
    "        super().__init__()\n",
    "\n",
    "        if prior_parameters is None:\n",
    "            prior_parameters = [0.5, 0.5]\n",
    "        else:\n",
    "            assert len(prior_parameters) == 2\n",
    "            assert prior_parameters[0] > 0\n",
    "            assert prior_parameters[1] > 0\n",
    "\n",
    "        prior_parameters_invsp = inv_softplus(torch.tensor(prior_parameters))\n",
    "        self.beta_params_invsp = torch.nn.Parameter(prior_parameters_invsp)\n",
    "\n",
    "        self.train_log_error = []\n",
    "        self.val_log_error = []\n",
    "        self.beta_params_log = []\n",
    "        self.learning_rate = learning_rate\n",
    "\n",
    "    def forward(self):\n",
    "        beta_params_pos = torch.nn.functional.softplus(self.beta_params_invsp)\n",
    "        dist = torch.distributions.beta.Beta(beta_params_pos[0], beta_params_pos[1])\n",
    "        return dist\n",
    "\n",
    "    def training_step(self, batch, batch_idx):\n",
    "        y = batch[0]\n",
    "\n",
    "        # find a sample of our current distribution estimate\n",
    "        dist = self.forward()\n",
    "        dist_sample = dist.rsample(y.shape)\n",
    "\n",
    "        criterion = nn.BCELoss()\n",
    "        loss = criterion(dist_sample, y).mean()\n",
    "\n",
    "        # log training results\n",
    "        self.train_log_error.append(loss.detach().numpy())\n",
    "        self.beta_params_log.append(\n",
    "            torch.nn.functional.softplus(self.beta_params_invsp).detach().numpy()\n",
    "        )\n",
    "        return loss\n",
    "\n",
    "    def validation_step(self, batch, batch_idx):\n",
    "        y = batch[0]\n",
    "\n",
    "        # find a sample of our current distribution estimate\n",
    "        dist = self.forward()\n",
    "        dist_sample = dist.rsample(y.shape)\n",
    "        \n",
    "        criterion = nn.BCELoss()\n",
    "        loss = criterion(dist_sample, y).mean()\n",
    "\n",
    "        # log training results\n",
    "        self.val_log_error.append(loss.detach().numpy())\n",
    "        return loss\n",
    "\n",
    "    def configure_optimizers(self):\n",
    "        optimizer = torch.optim.Adam(\n",
    "            self.parameters(),\n",
    "            lr=self.learning_rate,\n",
    "        )\n",
    "        return optimizer\n"
   ]
  },
  {
   "cell_type": "markdown",
   "metadata": {},
   "source": [
    "Lets create the model:"
   ]
  },
  {
   "cell_type": "code",
   "execution_count": 27,
   "metadata": {},
   "outputs": [],
   "source": [
    "torch.manual_seed(1)\n",
    "model = BetaModelSample(learning_rate=1e0)"
   ]
  },
  {
   "cell_type": "markdown",
   "metadata": {},
   "source": [
    "## Fitting the model distribution\n",
    "To train the model with our random sample data created above, we need to setup a dataloader to pass to the trainer."
   ]
  },
  {
   "cell_type": "markdown",
   "metadata": {},
   "source": [
    "Now we can train the model via PyTorch Lightning's Trainer object."
   ]
  },
  {
   "cell_type": "code",
   "execution_count": 28,
   "metadata": {},
   "outputs": [
    {
     "name": "stderr",
     "output_type": "stream",
     "text": [
      "GPU available: True (mps), used: False\n",
      "TPU available: False, using: 0 TPU cores\n",
      "IPU available: False, using: 0 IPUs\n",
      "HPU available: False, using: 0 HPUs\n",
      "\n",
      "  | Name | Type | Params\n",
      "------------------------------\n",
      "------------------------------\n",
      "2         Trainable params\n",
      "0         Non-trainable params\n",
      "2         Total params\n",
      "0.000     Total estimated model params size (MB)\n"
     ]
    },
    {
     "name": "stdout",
     "output_type": "stream",
     "text": [
      "Epoch 99: 100%|██████████| 1/1 [00:00<00:00, 14.00it/s, v_num=3]"
     ]
    },
    {
     "name": "stderr",
     "output_type": "stream",
     "text": [
      "`Trainer.fit` stopped: `max_epochs=100` reached.\n"
     ]
    },
    {
     "name": "stdout",
     "output_type": "stream",
     "text": [
      "Epoch 99: 100%|██████████| 1/1 [00:00<00:00, 13.59it/s, v_num=3]\n"
     ]
    }
   ],
   "source": [
    "# fit network\n",
    "trainer = pl.Trainer(max_epochs=100, accelerator=\"cpu\")\n",
    "trainer.fit(model, dataloader_train)"
   ]
  },
  {
   "cell_type": "markdown",
   "metadata": {},
   "source": [
    "The beta parameters are moving towards appropriate values."
   ]
  },
  {
   "cell_type": "code",
   "execution_count": 29,
   "metadata": {},
   "outputs": [
    {
     "name": "stderr",
     "output_type": "stream",
     "text": [
      "/var/folders/ky/4qby95090jbbq38_mh94x72r0000gn/T/ipykernel_45528/4205145043.py:8: UserWarning: Matplotlib is currently using module://matplotlib_inline.backend_inline, which is a non-GUI backend, so cannot show the figure.\n",
      "  fig.show()\n"
     ]
    },
    {
     "data": {
      "image/png": "[encoded data removed]",
      "text/plain": [
       "<Figure size 600x400 with 1 Axes>"
      ]
     },
     "metadata": {},
     "output_type": "display_data"
    }
   ],
   "source": [
    "beta_params_log = np.array(model.beta_params_log)\n",
    "\n",
    "fig, ax = plt.subplots(figsize=(6, 4))\n",
    "ax.plot(beta_params_log[:, 0], label=\"param0\")\n",
    "ax.plot(beta_params_log[:, 1], label=\"param1\")\n",
    "ax.legend()\n",
    "ax.set(xlabel=\"Iteration\", ylabel=\"Coefficient value\", title='Distribution parameters through training')\n",
    "fig.show()"
   ]
  },
  {
   "cell_type": "markdown",
   "metadata": {},
   "source": [
    "Plotting distribution against interation"
   ]
  },
  {
   "cell_type": "code",
   "execution_count": 30,
   "metadata": {},
   "outputs": [
    {
     "name": "stderr",
     "output_type": "stream",
     "text": [
      "/var/folders/ky/4qby95090jbbq38_mh94x72r0000gn/T/ipykernel_45528/1794095813.py:13: UserWarning: Matplotlib is currently using module://matplotlib_inline.backend_inline, which is a non-GUI backend, so cannot show the figure.\n",
      "  fig.show()\n"
     ]
    },
    {
     "data": {
      "image/png": "[encoded data removed]",
      "text/plain": [
       "<Figure size 600x400 with 1 Axes>"
      ]
     },
     "metadata": {},
     "output_type": "display_data"
    }
   ],
   "source": [
    "beta_params_log = np.array(model.beta_params_log)\n",
    "x = np.linspace(0, 1, 1000)\n",
    "iterations = range(0, beta_params_log.shape[0], 10)\n",
    "\n",
    "fig, ax = plt.subplots(figsize=(6, 4))\n",
    "for idx in iterations:\n",
    "    y = scipy.stats.beta(*beta_params_log[idx, :]).pdf(x)\n",
    "    ax.plot(x, y, alpha=0.5, label=idx)\n",
    "\n",
    "ax.axvline(x=p_success, linestyle=\"--\", color=\"b\", alpha=0.5, label=\"True P(success)\")\n",
    "ax.legend()\n",
    "ax.set(xlabel=\"P(success)\", ylabel=\"PDF\", title=\"Distributions through training\")\n",
    "fig.show()"
   ]
  },
  {
   "cell_type": "code",
   "execution_count": null,
   "metadata": {},
   "outputs": [],
   "source": []
  },
  {
   "cell_type": "markdown",
   "metadata": {},
   "source": [
    "## Exploring distributions"
   ]
  },
  {
   "cell_type": "code",
   "execution_count": 31,
   "metadata": {},
   "outputs": [
    {
     "name": "stdout",
     "output_type": "stream",
     "text": [
      "tensor([[8.8371e-01],\n",
      "        [4.0047e-02],\n",
      "        [9.9672e-02],\n",
      "        [9.9789e-01],\n",
      "        [3.5009e-01],\n",
      "        [8.8061e-01],\n",
      "        [7.7283e-01],\n",
      "        [2.3416e-01],\n",
      "        [5.6222e-02],\n",
      "        [2.4028e-02],\n",
      "        [1.5326e-01],\n",
      "        [1.7710e-01],\n",
      "        [1.3948e-01],\n",
      "        [8.8812e-01],\n",
      "        [9.7126e-01],\n",
      "        [5.4219e-02],\n",
      "        [7.8765e-02],\n",
      "        [5.3767e-01],\n",
      "        [9.8344e-01],\n",
      "        [3.5657e-01],\n",
      "        [9.4777e-01],\n",
      "        [9.8191e-01],\n",
      "        [7.6343e-04],\n",
      "        [9.9851e-01],\n",
      "        [1.1681e-01],\n",
      "        [4.6923e-01],\n",
      "        [8.9253e-01],\n",
      "        [9.5206e-01],\n",
      "        [2.6399e-01],\n",
      "        [8.9589e-01],\n",
      "        [4.3916e-01],\n",
      "        [9.7082e-01],\n",
      "        [5.1247e-01],\n",
      "        [1.0184e-01],\n",
      "        [6.1232e-01],\n",
      "        [6.9479e-01],\n",
      "        [3.6597e-01],\n",
      "        [9.9991e-01],\n",
      "        [2.8017e-01],\n",
      "        [7.6379e-01],\n",
      "        [3.2078e-01],\n",
      "        [9.7535e-01],\n",
      "        [1.6045e-01],\n",
      "        [1.6604e-01],\n",
      "        [3.2211e-02],\n",
      "        [9.3959e-01],\n",
      "        [8.4812e-01],\n",
      "        [1.0069e-01],\n",
      "        [2.0199e-01],\n",
      "        [9.9908e-01],\n",
      "        [5.7187e-01],\n",
      "        [7.5232e-01],\n",
      "        [6.5065e-01],\n",
      "        [4.6805e-02],\n",
      "        [2.0181e-01],\n",
      "        [6.1597e-03],\n",
      "        [2.2755e-02],\n",
      "        [5.0391e-01],\n",
      "        [1.6855e-01],\n",
      "        [1.3256e-02],\n",
      "        [3.4372e-01],\n",
      "        [3.2203e-01],\n",
      "        [4.9324e-01],\n",
      "        [1.7241e-01],\n",
      "        [4.9426e-01],\n",
      "        [3.4148e-01],\n",
      "        [1.9503e-01],\n",
      "        [2.1239e-01],\n",
      "        [1.2541e-02],\n",
      "        [4.3350e-02],\n",
      "        [7.9825e-01],\n",
      "        [9.6133e-01],\n",
      "        [9.4842e-01],\n",
      "        [3.6202e-01],\n",
      "        [8.3287e-04],\n",
      "        [1.1170e-01],\n",
      "        [9.9327e-01],\n",
      "        [9.9401e-01],\n",
      "        [4.4887e-01],\n",
      "        [3.7839e-03],\n",
      "        [9.7456e-01],\n",
      "        [9.9729e-01],\n",
      "        [9.1738e-01],\n",
      "        [9.6064e-01],\n",
      "        [8.5250e-01],\n",
      "        [6.2215e-01],\n",
      "        [3.1506e-01],\n",
      "        [9.9296e-01],\n",
      "        [6.5087e-01],\n",
      "        [1.0000e+00],\n",
      "        [7.6453e-01],\n",
      "        [3.5722e-02],\n",
      "        [1.1354e-03],\n",
      "        [1.1428e-02],\n",
      "        [8.7621e-01],\n",
      "        [1.7809e-02],\n",
      "        [7.8150e-01],\n",
      "        [3.7581e-01],\n",
      "        [7.0124e-02],\n",
      "        [1.7689e-01]])\n",
      "tensor([0.3131, 0.2646, 0.4223])\n",
      "tensor([0.2632, 0.3670, 0.3698])\n"
     ]
    }
   ],
   "source": [
    "import torch\n",
    "import torch.distributions\n",
    "\n",
    "dist = torch.distributions.beta.Beta(torch.tensor([0.5]), torch.tensor([0.5]))\n",
    "print(dist.sample(sample_shape=torch.Size([100])))\n",
    "\n",
    "dist = torch.distributions.dirichlet.Dirichlet(torch.tensor([0.5, 0.5, 0.5]))\n",
    "print(dist.sample())\n",
    "\n",
    "dist = torch.distributions.dirichlet.Dirichlet(torch.tensor([15.0, 15.0, 15.0]))\n",
    "print(dist.sample())"
   ]
  },
  {
   "cell_type": "code",
   "execution_count": null,
   "metadata": {},
   "outputs": [],
   "source": []
  },
  {
   "cell_type": "markdown",
   "metadata": {},
   "source": [
    "## Generate random data\n",
    "\n",
    "I'll make random data from two beta distributions and then select from them randomly to get two peaks.\n",
    "I'll deliberately make the distributions fairly distinct to make the initial analysis easier to visualise."
   ]
  },
  {
   "cell_type": "code",
   "execution_count": 32,
   "metadata": {},
   "outputs": [
    {
     "name": "stderr",
     "output_type": "stream",
     "text": [
      "/var/folders/ky/4qby95090jbbq38_mh94x72r0000gn/T/ipykernel_45528/2633365843.py:4: MatplotlibDeprecationWarning: The seaborn styles shipped by Matplotlib are deprecated since 3.6, as they no longer correspond to the styles shipped by seaborn. However, they will remain available as 'seaborn-v0_8-<style>'. Alternatively, directly use the seaborn API instead.\n",
      "  plt.style.use(\"seaborn-whitegrid\")\n"
     ]
    },
    {
     "data": {
      "image/png": "[encoded data removed]",
      "text/plain": [
       "<Figure size 1000x600 with 1 Axes>"
      ]
     },
     "metadata": {},
     "output_type": "display_data"
    }
   ],
   "source": [
    "import numpy as np\n",
    "import matplotlib.pyplot as plt\n",
    "\n",
    "plt.style.use(\"seaborn-whitegrid\")\n",
    "\n",
    "# true distribution parameters\n",
    "p_d1 = 0.5\n",
    "p_lambda = 5\n",
    "\n",
    "n = 10000\n",
    "rand_gen = np.random.default_rng(seed=0)\n",
    "\n",
    "poisson_samples = rand_gen.poisson(lam=p_lambda, size=(n, 1))\n",
    "mix_samples = rand_gen.binomial(n=1, p=p_d1, size=(n, 1))\n",
    "rand_samples = mix_samples * poisson_samples\n",
    "\n",
    "fig, ax = plt.subplots(figsize=(10, 6))\n",
    "ax.hist(rand_samples, bins=50)\n",
    "plt.show()"
   ]
  },
  {
   "cell_type": "markdown",
   "metadata": {},
   "source": [
    "## Creating a PyTorch model\n",
    "\n",
    "Assuming we know the underlying generating model (...strong assumption...?), we can construct a network that builds the equivalent distribution objects in PyTorch.\n",
    "\n",
    "We are fitting the distribution parameters.\n",
    "As such we have no input features for the forward pass, only the output values.\n",
    "We use negative log likelihood as the loss function to optimise."
   ]
  },
  {
   "cell_type": "code",
   "execution_count": 33,
   "metadata": {},
   "outputs": [],
   "source": [
    "import pytorch_lightning as pl\n",
    "import torch\n",
    "\n",
    "\n",
    "class ZIPModel(pl.LightningModule):\n",
    "    def __init__(\n",
    "        self,\n",
    "        learning_rate=1e-3,\n",
    "        init_mix_parameter: float = 0.5,\n",
    "        init_poisson_lambda: float = 1.0,\n",
    "    ):\n",
    "        super().__init__()\n",
    "        self.mixture_prob = torch.nn.Parameter(torch.tensor([init_mix_parameter]))\n",
    "        self.poisson_lambda = torch.nn.Parameter(torch.tensor([init_poisson_lambda]))\n",
    "\n",
    "        self.train_log_error = []\n",
    "        self.val_log_error = []\n",
    "        self.mixture_prob_log = []\n",
    "        self.poisson_lambda_log = []\n",
    "        self.learning_rate = learning_rate\n",
    "\n",
    "    def forward(self):\n",
    "        # ensure correct domain for params\n",
    "        mixture_prob_norm = torch.sigmoid(self.mixture_prob)\n",
    "        poisson_lambda_norm = torch.nn.functional.softplus(self.poisson_lambda)\n",
    "        poisson_lambda_norm = torch.concat(\n",
    "            (torch.tensor([0.0]), poisson_lambda_norm)\n",
    "        )  # maintains grad\n",
    "\n",
    "        mix = torch.distributions.Categorical(\n",
    "            torch.concat((mixture_prob_norm, 1 - mixture_prob_norm))\n",
    "        )\n",
    "        poissons = torch.distributions.Poisson(poisson_lambda_norm)\n",
    "\n",
    "        mixture_dist = torch.distributions.MixtureSameFamily(mix, poissons)\n",
    "        return mixture_dist\n",
    "\n",
    "    def configure_optimizers(self):\n",
    "        optimizer = torch.optim.Adam(\n",
    "            self.parameters(),\n",
    "            lr=self.learning_rate,\n",
    "        )\n",
    "        return optimizer\n",
    "\n",
    "    def training_step(self, batch, batch_idx):\n",
    "        y = batch[0]\n",
    "\n",
    "        mixture_dist = self.forward()\n",
    "\n",
    "        negloglik = -mixture_dist.log_prob(y)\n",
    "        loss = torch.mean(negloglik)\n",
    "\n",
    "        self.train_log_error.append(loss.detach().numpy())\n",
    "        self.poisson_lambda_log.append(\n",
    "            torch.nn.functional.softplus(self.poisson_lambda).detach().numpy()\n",
    "        )\n",
    "        self.mixture_prob_log.append(torch.sigmoid(self.mixture_prob).detach().numpy())\n",
    "        return loss\n",
    "\n",
    "    def validation_step(self, batch, batch_idx):\n",
    "        y = batch[0]\n",
    "\n",
    "        mixture_dist = self.forward()\n",
    "\n",
    "        negloglik = -mixture_dist.log_prob(y)\n",
    "        loss = torch.mean(negloglik)\n",
    "\n",
    "        self.train_log_error.append(loss.detach().numpy())\n",
    "        return loss"
   ]
  },
  {
   "cell_type": "markdown",
   "metadata": {},
   "source": [
    "Lets create the model:"
   ]
  },
  {
   "cell_type": "code",
   "execution_count": 34,
   "metadata": {},
   "outputs": [],
   "source": [
    "# create model\n",
    "torch.manual_seed(1)\n",
    "model = ZIPModel(learning_rate=1e-0, init_mix_parameter=0.5, init_poisson_lambda=4.5)"
   ]
  },
  {
   "cell_type": "markdown",
   "metadata": {},
   "source": [
    "Now we can generate distribution objects from the model by calling the forward pass method."
   ]
  },
  {
   "cell_type": "code",
   "execution_count": 35,
   "metadata": {},
   "outputs": [
    {
     "data": {
      "image/png": "[encoded data removed]",
      "text/plain": [
       "<Figure size 1000x600 with 1 Axes>"
      ]
     },
     "metadata": {},
     "output_type": "display_data"
    }
   ],
   "source": [
    "# get some samples\n",
    "output_dist = model()\n",
    "output_samples = output_dist.sample((n, 1)).numpy().squeeze()\n",
    "\n",
    "fig, ax = plt.subplots(figsize=(10, 6))\n",
    "ax.hist(output_samples, bins=50)\n",
    "plt.show()"
   ]
  },
  {
   "cell_type": "markdown",
   "metadata": {},
   "source": [
    "## Fitting the model distribution\n",
    "To train the model with our random sample data created above, we need to setup a dataloader to pass to the trainer."
   ]
  },
  {
   "cell_type": "code",
   "execution_count": 36,
   "metadata": {},
   "outputs": [
    {
     "data": {
      "text/plain": [
       "torch.Size([10000, 1])"
      ]
     },
     "execution_count": 36,
     "metadata": {},
     "output_type": "execute_result"
    }
   ],
   "source": [
    "# training on the whole dataset each batch\n",
    "from torch.utils.data import TensorDataset, DataLoader\n",
    "\n",
    "rand_samples_t = torch.Tensor(rand_samples)\n",
    "dataset_train = TensorDataset(rand_samples_t)\n",
    "dataloader_train = DataLoader(dataset_train, batch_size=len(rand_samples))\n",
    "\n",
    "# test loading a batch\n",
    "rand_samples_batch = next(iter(dataloader_train))\n",
    "rand_samples_batch[0].shape"
   ]
  },
  {
   "cell_type": "markdown",
   "metadata": {},
   "source": [
    "Now we can train the model via PyTorch Lightning's Trainer object."
   ]
  },
  {
   "cell_type": "code",
   "execution_count": 37,
   "metadata": {},
   "outputs": [
    {
     "name": "stderr",
     "output_type": "stream",
     "text": [
      "GPU available: True (mps), used: True\n",
      "TPU available: False, using: 0 TPU cores\n",
      "IPU available: False, using: 0 IPUs\n",
      "HPU available: False, using: 0 HPUs\n"
     ]
    },
    {
     "name": "stderr",
     "output_type": "stream",
     "text": [
      "/Users/rich/Developer/miniconda3/envs/pytorch_env/lib/python3.10/site-packages/pytorch_lightning/trainer/configuration_validator.py:72: PossibleUserWarning: You defined a `validation_step` but have no `val_dataloader`. Skipping val loop.\n",
      "  rank_zero_warn(\n",
      "\n",
      "  | Name | Type | Params\n",
      "------------------------------\n",
      "------------------------------\n",
      "2         Trainable params\n",
      "0         Non-trainable params\n",
      "2         Total params\n",
      "0.000     Total estimated model params size (MB)\n",
      "/Users/rich/Developer/miniconda3/envs/pytorch_env/lib/python3.10/site-packages/pytorch_lightning/trainer/connectors/data_connector.py:430: PossibleUserWarning: The dataloader, train_dataloader, does not have many workers which may be a bottleneck. Consider increasing the value of the `num_workers` argument` (try 8 which is the number of cpus on this machine) in the `DataLoader` init to improve performance.\n",
      "  rank_zero_warn(\n",
      "/Users/rich/Developer/miniconda3/envs/pytorch_env/lib/python3.10/site-packages/pytorch_lightning/loops/fit_loop.py:280: PossibleUserWarning: The number of training batches (1) is smaller than the logging interval Trainer(log_every_n_steps=50). Set a lower value for log_every_n_steps if you want to see logs for the training epoch.\n",
      "  rank_zero_warn(\n"
     ]
    },
    {
     "name": "stdout",
     "output_type": "stream",
     "text": [
      "Epoch 0:   0%|          | 0/1 [00:00<?, ?it/s] "
     ]
    },
    {
     "ename": "RuntimeError",
     "evalue": "torch.cat(): all input tensors must be on the same device. Received cpu and mps:0",
     "output_type": "error",
     "traceback": [
      "\u001b[0;31m---------------------------------------------------------------------------\u001b[0m",
      "\u001b[0;31mRuntimeError\u001b[0m                              Traceback (most recent call last)",
      "\u001b[1;32m/Users/rich/Developer/Github/VariousDataAnalysis/neural_networks/unfinished-classification_uncertainty/exploration.ipynb Cell 85\u001b[0m line \u001b[0;36m5\n\u001b[1;32m      <a href='vscode-notebook-cell:/Users/rich/Developer/Github/VariousDataAnalysis/neural_networks/unfinished-classification_uncertainty/exploration.ipynb#Y133sZmlsZQ%3D%3D?line=0'>1</a>\u001b[0m \u001b[39m# fit network\u001b[39;00m\n\u001b[1;32m      <a href='vscode-notebook-cell:/Users/rich/Developer/Github/VariousDataAnalysis/neural_networks/unfinished-classification_uncertainty/exploration.ipynb#Y133sZmlsZQ%3D%3D?line=1'>2</a>\u001b[0m trainer \u001b[39m=\u001b[39m pl\u001b[39m.\u001b[39mTrainer(\n\u001b[1;32m      <a href='vscode-notebook-cell:/Users/rich/Developer/Github/VariousDataAnalysis/neural_networks/unfinished-classification_uncertainty/exploration.ipynb#Y133sZmlsZQ%3D%3D?line=2'>3</a>\u001b[0m     max_epochs\u001b[39m=\u001b[39m\u001b[39m100\u001b[39m,\n\u001b[1;32m      <a href='vscode-notebook-cell:/Users/rich/Developer/Github/VariousDataAnalysis/neural_networks/unfinished-classification_uncertainty/exploration.ipynb#Y133sZmlsZQ%3D%3D?line=3'>4</a>\u001b[0m )\n\u001b[0;32m----> <a href='vscode-notebook-cell:/Users/rich/Developer/Github/VariousDataAnalysis/neural_networks/unfinished-classification_uncertainty/exploration.ipynb#Y133sZmlsZQ%3D%3D?line=4'>5</a>\u001b[0m trainer\u001b[39m.\u001b[39;49mfit(model, dataloader_train)\n",
      "File \u001b[0;32m~/Developer/miniconda3/envs/pytorch_env/lib/python3.10/site-packages/pytorch_lightning/trainer/trainer.py:520\u001b[0m, in \u001b[0;36mTrainer.fit\u001b[0;34m(self, model, train_dataloaders, val_dataloaders, datamodule, ckpt_path)\u001b[0m\n\u001b[1;32m    518\u001b[0m model \u001b[39m=\u001b[39m _maybe_unwrap_optimized(model)\n\u001b[1;32m    519\u001b[0m \u001b[39mself\u001b[39m\u001b[39m.\u001b[39mstrategy\u001b[39m.\u001b[39m_lightning_module \u001b[39m=\u001b[39m model\n\u001b[0;32m--> 520\u001b[0m call\u001b[39m.\u001b[39;49m_call_and_handle_interrupt(\n\u001b[1;32m    521\u001b[0m     \u001b[39mself\u001b[39;49m, \u001b[39mself\u001b[39;49m\u001b[39m.\u001b[39;49m_fit_impl, model, train_dataloaders, val_dataloaders, datamodule, ckpt_path\n\u001b[1;32m    522\u001b[0m )\n",
      "File \u001b[0;32m~/Developer/miniconda3/envs/pytorch_env/lib/python3.10/site-packages/pytorch_lightning/trainer/call.py:44\u001b[0m, in \u001b[0;36m_call_and_handle_interrupt\u001b[0;34m(trainer, trainer_fn, *args, **kwargs)\u001b[0m\n\u001b[1;32m     42\u001b[0m         \u001b[39mreturn\u001b[39;00m trainer\u001b[39m.\u001b[39mstrategy\u001b[39m.\u001b[39mlauncher\u001b[39m.\u001b[39mlaunch(trainer_fn, \u001b[39m*\u001b[39margs, trainer\u001b[39m=\u001b[39mtrainer, \u001b[39m*\u001b[39m\u001b[39m*\u001b[39mkwargs)\n\u001b[1;32m     43\u001b[0m     \u001b[39melse\u001b[39;00m:\n\u001b[0;32m---> 44\u001b[0m         \u001b[39mreturn\u001b[39;00m trainer_fn(\u001b[39m*\u001b[39;49margs, \u001b[39m*\u001b[39;49m\u001b[39m*\u001b[39;49mkwargs)\n\u001b[1;32m     46\u001b[0m \u001b[39mexcept\u001b[39;00m _TunerExitException:\n\u001b[1;32m     47\u001b[0m     _call_teardown_hook(trainer)\n",
      "File \u001b[0;32m~/Developer/miniconda3/envs/pytorch_env/lib/python3.10/site-packages/pytorch_lightning/trainer/trainer.py:559\u001b[0m, in \u001b[0;36mTrainer._fit_impl\u001b[0;34m(self, model, train_dataloaders, val_dataloaders, datamodule, ckpt_path)\u001b[0m\n\u001b[1;32m    549\u001b[0m \u001b[39mself\u001b[39m\u001b[39m.\u001b[39m_data_connector\u001b[39m.\u001b[39mattach_data(\n\u001b[1;32m    550\u001b[0m     model, train_dataloaders\u001b[39m=\u001b[39mtrain_dataloaders, val_dataloaders\u001b[39m=\u001b[39mval_dataloaders, datamodule\u001b[39m=\u001b[39mdatamodule\n\u001b[1;32m    551\u001b[0m )\n\u001b[1;32m    553\u001b[0m ckpt_path \u001b[39m=\u001b[39m \u001b[39mself\u001b[39m\u001b[39m.\u001b[39m_checkpoint_connector\u001b[39m.\u001b[39m_select_ckpt_path(\n\u001b[1;32m    554\u001b[0m     \u001b[39mself\u001b[39m\u001b[39m.\u001b[39mstate\u001b[39m.\u001b[39mfn,\n\u001b[1;32m    555\u001b[0m     ckpt_path,\n\u001b[1;32m    556\u001b[0m     model_provided\u001b[39m=\u001b[39m\u001b[39mTrue\u001b[39;00m,\n\u001b[1;32m    557\u001b[0m     model_connected\u001b[39m=\u001b[39m\u001b[39mself\u001b[39m\u001b[39m.\u001b[39mlightning_module \u001b[39mis\u001b[39;00m \u001b[39mnot\u001b[39;00m \u001b[39mNone\u001b[39;00m,\n\u001b[1;32m    558\u001b[0m )\n\u001b[0;32m--> 559\u001b[0m \u001b[39mself\u001b[39;49m\u001b[39m.\u001b[39;49m_run(model, ckpt_path\u001b[39m=\u001b[39;49mckpt_path)\n\u001b[1;32m    561\u001b[0m \u001b[39massert\u001b[39;00m \u001b[39mself\u001b[39m\u001b[39m.\u001b[39mstate\u001b[39m.\u001b[39mstopped\n\u001b[1;32m    562\u001b[0m \u001b[39mself\u001b[39m\u001b[39m.\u001b[39mtraining \u001b[39m=\u001b[39m \u001b[39mFalse\u001b[39;00m\n",
      "File \u001b[0;32m~/Developer/miniconda3/envs/pytorch_env/lib/python3.10/site-packages/pytorch_lightning/trainer/trainer.py:935\u001b[0m, in \u001b[0;36mTrainer._run\u001b[0;34m(self, model, ckpt_path)\u001b[0m\n\u001b[1;32m    930\u001b[0m \u001b[39mself\u001b[39m\u001b[39m.\u001b[39m_signal_connector\u001b[39m.\u001b[39mregister_signal_handlers()\n\u001b[1;32m    932\u001b[0m \u001b[39m# ----------------------------\u001b[39;00m\n\u001b[1;32m    933\u001b[0m \u001b[39m# RUN THE TRAINER\u001b[39;00m\n\u001b[1;32m    934\u001b[0m \u001b[39m# ----------------------------\u001b[39;00m\n\u001b[0;32m--> 935\u001b[0m results \u001b[39m=\u001b[39m \u001b[39mself\u001b[39;49m\u001b[39m.\u001b[39;49m_run_stage()\n\u001b[1;32m    937\u001b[0m \u001b[39m# ----------------------------\u001b[39;00m\n\u001b[1;32m    938\u001b[0m \u001b[39m# POST-Training CLEAN UP\u001b[39;00m\n\u001b[1;32m    939\u001b[0m \u001b[39m# ----------------------------\u001b[39;00m\n\u001b[1;32m    940\u001b[0m log\u001b[39m.\u001b[39mdebug(\u001b[39mf\u001b[39m\u001b[39m\"\u001b[39m\u001b[39m{\u001b[39;00m\u001b[39mself\u001b[39m\u001b[39m.\u001b[39m\u001b[39m__class__\u001b[39m\u001b[39m.\u001b[39m\u001b[39m__name__\u001b[39m\u001b[39m}\u001b[39;00m\u001b[39m: trainer tearing down\u001b[39m\u001b[39m\"\u001b[39m)\n",
      "File \u001b[0;32m~/Developer/miniconda3/envs/pytorch_env/lib/python3.10/site-packages/pytorch_lightning/trainer/trainer.py:978\u001b[0m, in \u001b[0;36mTrainer._run_stage\u001b[0;34m(self)\u001b[0m\n\u001b[1;32m    976\u001b[0m         \u001b[39mself\u001b[39m\u001b[39m.\u001b[39m_run_sanity_check()\n\u001b[1;32m    977\u001b[0m     \u001b[39mwith\u001b[39;00m torch\u001b[39m.\u001b[39mautograd\u001b[39m.\u001b[39mset_detect_anomaly(\u001b[39mself\u001b[39m\u001b[39m.\u001b[39m_detect_anomaly):\n\u001b[0;32m--> 978\u001b[0m         \u001b[39mself\u001b[39;49m\u001b[39m.\u001b[39;49mfit_loop\u001b[39m.\u001b[39;49mrun()\n\u001b[1;32m    979\u001b[0m     \u001b[39mreturn\u001b[39;00m \u001b[39mNone\u001b[39;00m\n\u001b[1;32m    980\u001b[0m \u001b[39mraise\u001b[39;00m \u001b[39mRuntimeError\u001b[39;00m(\u001b[39mf\u001b[39m\u001b[39m\"\u001b[39m\u001b[39mUnexpected state \u001b[39m\u001b[39m{\u001b[39;00m\u001b[39mself\u001b[39m\u001b[39m.\u001b[39mstate\u001b[39m}\u001b[39;00m\u001b[39m\"\u001b[39m)\n",
      "File \u001b[0;32m~/Developer/miniconda3/envs/pytorch_env/lib/python3.10/site-packages/pytorch_lightning/loops/fit_loop.py:201\u001b[0m, in \u001b[0;36m_FitLoop.run\u001b[0;34m(self)\u001b[0m\n\u001b[1;32m    199\u001b[0m \u001b[39mtry\u001b[39;00m:\n\u001b[1;32m    200\u001b[0m     \u001b[39mself\u001b[39m\u001b[39m.\u001b[39mon_advance_start()\n\u001b[0;32m--> 201\u001b[0m     \u001b[39mself\u001b[39;49m\u001b[39m.\u001b[39;49madvance()\n\u001b[1;32m    202\u001b[0m     \u001b[39mself\u001b[39m\u001b[39m.\u001b[39mon_advance_end()\n\u001b[1;32m    203\u001b[0m     \u001b[39mself\u001b[39m\u001b[39m.\u001b[39m_restarting \u001b[39m=\u001b[39m \u001b[39mFalse\u001b[39;00m\n",
      "File \u001b[0;32m~/Developer/miniconda3/envs/pytorch_env/lib/python3.10/site-packages/pytorch_lightning/loops/fit_loop.py:354\u001b[0m, in \u001b[0;36m_FitLoop.advance\u001b[0;34m(self)\u001b[0m\n\u001b[1;32m    352\u001b[0m \u001b[39mself\u001b[39m\u001b[39m.\u001b[39m_data_fetcher\u001b[39m.\u001b[39msetup(combined_loader)\n\u001b[1;32m    353\u001b[0m \u001b[39mwith\u001b[39;00m \u001b[39mself\u001b[39m\u001b[39m.\u001b[39mtrainer\u001b[39m.\u001b[39mprofiler\u001b[39m.\u001b[39mprofile(\u001b[39m\"\u001b[39m\u001b[39mrun_training_epoch\u001b[39m\u001b[39m\"\u001b[39m):\n\u001b[0;32m--> 354\u001b[0m     \u001b[39mself\u001b[39;49m\u001b[39m.\u001b[39;49mepoch_loop\u001b[39m.\u001b[39;49mrun(\u001b[39mself\u001b[39;49m\u001b[39m.\u001b[39;49m_data_fetcher)\n",
      "File \u001b[0;32m~/Developer/miniconda3/envs/pytorch_env/lib/python3.10/site-packages/pytorch_lightning/loops/training_epoch_loop.py:133\u001b[0m, in \u001b[0;36m_TrainingEpochLoop.run\u001b[0;34m(self, data_fetcher)\u001b[0m\n\u001b[1;32m    131\u001b[0m \u001b[39mwhile\u001b[39;00m \u001b[39mnot\u001b[39;00m \u001b[39mself\u001b[39m\u001b[39m.\u001b[39mdone:\n\u001b[1;32m    132\u001b[0m     \u001b[39mtry\u001b[39;00m:\n\u001b[0;32m--> 133\u001b[0m         \u001b[39mself\u001b[39;49m\u001b[39m.\u001b[39;49madvance(data_fetcher)\n\u001b[1;32m    134\u001b[0m         \u001b[39mself\u001b[39m\u001b[39m.\u001b[39mon_advance_end()\n\u001b[1;32m    135\u001b[0m         \u001b[39mself\u001b[39m\u001b[39m.\u001b[39m_restarting \u001b[39m=\u001b[39m \u001b[39mFalse\u001b[39;00m\n",
      "File \u001b[0;32m~/Developer/miniconda3/envs/pytorch_env/lib/python3.10/site-packages/pytorch_lightning/loops/training_epoch_loop.py:218\u001b[0m, in \u001b[0;36m_TrainingEpochLoop.advance\u001b[0;34m(self, data_fetcher)\u001b[0m\n\u001b[1;32m    215\u001b[0m \u001b[39mwith\u001b[39;00m trainer\u001b[39m.\u001b[39mprofiler\u001b[39m.\u001b[39mprofile(\u001b[39m\"\u001b[39m\u001b[39mrun_training_batch\u001b[39m\u001b[39m\"\u001b[39m):\n\u001b[1;32m    216\u001b[0m     \u001b[39mif\u001b[39;00m trainer\u001b[39m.\u001b[39mlightning_module\u001b[39m.\u001b[39mautomatic_optimization:\n\u001b[1;32m    217\u001b[0m         \u001b[39m# in automatic optimization, there can only be one optimizer\u001b[39;00m\n\u001b[0;32m--> 218\u001b[0m         batch_output \u001b[39m=\u001b[39m \u001b[39mself\u001b[39;49m\u001b[39m.\u001b[39;49mautomatic_optimization\u001b[39m.\u001b[39;49mrun(trainer\u001b[39m.\u001b[39;49moptimizers[\u001b[39m0\u001b[39;49m], kwargs)\n\u001b[1;32m    219\u001b[0m     \u001b[39melse\u001b[39;00m:\n\u001b[1;32m    220\u001b[0m         batch_output \u001b[39m=\u001b[39m \u001b[39mself\u001b[39m\u001b[39m.\u001b[39mmanual_optimization\u001b[39m.\u001b[39mrun(kwargs)\n",
      "File \u001b[0;32m~/Developer/miniconda3/envs/pytorch_env/lib/python3.10/site-packages/pytorch_lightning/loops/optimization/automatic.py:185\u001b[0m, in \u001b[0;36m_AutomaticOptimization.run\u001b[0;34m(self, optimizer, kwargs)\u001b[0m\n\u001b[1;32m    178\u001b[0m         closure()\n\u001b[1;32m    180\u001b[0m \u001b[39m# ------------------------------\u001b[39;00m\n\u001b[1;32m    181\u001b[0m \u001b[39m# BACKWARD PASS\u001b[39;00m\n\u001b[1;32m    182\u001b[0m \u001b[39m# ------------------------------\u001b[39;00m\n\u001b[1;32m    183\u001b[0m \u001b[39m# gradient update with accumulated gradients\u001b[39;00m\n\u001b[1;32m    184\u001b[0m \u001b[39melse\u001b[39;00m:\n\u001b[0;32m--> 185\u001b[0m     \u001b[39mself\u001b[39;49m\u001b[39m.\u001b[39;49m_optimizer_step(kwargs\u001b[39m.\u001b[39;49mget(\u001b[39m\"\u001b[39;49m\u001b[39mbatch_idx\u001b[39;49m\u001b[39m\"\u001b[39;49m, \u001b[39m0\u001b[39;49m), closure)\n\u001b[1;32m    187\u001b[0m result \u001b[39m=\u001b[39m closure\u001b[39m.\u001b[39mconsume_result()\n\u001b[1;32m    188\u001b[0m \u001b[39mif\u001b[39;00m result\u001b[39m.\u001b[39mloss \u001b[39mis\u001b[39;00m \u001b[39mNone\u001b[39;00m:\n",
      "File \u001b[0;32m~/Developer/miniconda3/envs/pytorch_env/lib/python3.10/site-packages/pytorch_lightning/loops/optimization/automatic.py:261\u001b[0m, in \u001b[0;36m_AutomaticOptimization._optimizer_step\u001b[0;34m(self, batch_idx, train_step_and_backward_closure)\u001b[0m\n\u001b[1;32m    258\u001b[0m     \u001b[39mself\u001b[39m\u001b[39m.\u001b[39moptim_progress\u001b[39m.\u001b[39moptimizer\u001b[39m.\u001b[39mstep\u001b[39m.\u001b[39mincrement_ready()\n\u001b[1;32m    260\u001b[0m \u001b[39m# model hook\u001b[39;00m\n\u001b[0;32m--> 261\u001b[0m call\u001b[39m.\u001b[39;49m_call_lightning_module_hook(\n\u001b[1;32m    262\u001b[0m     trainer,\n\u001b[1;32m    263\u001b[0m     \u001b[39m\"\u001b[39;49m\u001b[39moptimizer_step\u001b[39;49m\u001b[39m\"\u001b[39;49m,\n\u001b[1;32m    264\u001b[0m     trainer\u001b[39m.\u001b[39;49mcurrent_epoch,\n\u001b[1;32m    265\u001b[0m     batch_idx,\n\u001b[1;32m    266\u001b[0m     optimizer,\n\u001b[1;32m    267\u001b[0m     train_step_and_backward_closure,\n\u001b[1;32m    268\u001b[0m )\n\u001b[1;32m    270\u001b[0m \u001b[39mif\u001b[39;00m \u001b[39mnot\u001b[39;00m should_accumulate:\n\u001b[1;32m    271\u001b[0m     \u001b[39mself\u001b[39m\u001b[39m.\u001b[39moptim_progress\u001b[39m.\u001b[39moptimizer\u001b[39m.\u001b[39mstep\u001b[39m.\u001b[39mincrement_completed()\n",
      "File \u001b[0;32m~/Developer/miniconda3/envs/pytorch_env/lib/python3.10/site-packages/pytorch_lightning/trainer/call.py:142\u001b[0m, in \u001b[0;36m_call_lightning_module_hook\u001b[0;34m(trainer, hook_name, pl_module, *args, **kwargs)\u001b[0m\n\u001b[1;32m    139\u001b[0m pl_module\u001b[39m.\u001b[39m_current_fx_name \u001b[39m=\u001b[39m hook_name\n\u001b[1;32m    141\u001b[0m \u001b[39mwith\u001b[39;00m trainer\u001b[39m.\u001b[39mprofiler\u001b[39m.\u001b[39mprofile(\u001b[39mf\u001b[39m\u001b[39m\"\u001b[39m\u001b[39m[LightningModule]\u001b[39m\u001b[39m{\u001b[39;00mpl_module\u001b[39m.\u001b[39m\u001b[39m__class__\u001b[39m\u001b[39m.\u001b[39m\u001b[39m__name__\u001b[39m\u001b[39m}\u001b[39;00m\u001b[39m.\u001b[39m\u001b[39m{\u001b[39;00mhook_name\u001b[39m}\u001b[39;00m\u001b[39m\"\u001b[39m):\n\u001b[0;32m--> 142\u001b[0m     output \u001b[39m=\u001b[39m fn(\u001b[39m*\u001b[39;49margs, \u001b[39m*\u001b[39;49m\u001b[39m*\u001b[39;49mkwargs)\n\u001b[1;32m    144\u001b[0m \u001b[39m# restore current_fx when nested context\u001b[39;00m\n\u001b[1;32m    145\u001b[0m pl_module\u001b[39m.\u001b[39m_current_fx_name \u001b[39m=\u001b[39m prev_fx_name\n",
      "File \u001b[0;32m~/Developer/miniconda3/envs/pytorch_env/lib/python3.10/site-packages/pytorch_lightning/core/module.py:1265\u001b[0m, in \u001b[0;36mLightningModule.optimizer_step\u001b[0;34m(self, epoch, batch_idx, optimizer, optimizer_closure)\u001b[0m\n\u001b[1;32m   1226\u001b[0m \u001b[39mdef\u001b[39;00m \u001b[39moptimizer_step\u001b[39m(\n\u001b[1;32m   1227\u001b[0m     \u001b[39mself\u001b[39m,\n\u001b[1;32m   1228\u001b[0m     epoch: \u001b[39mint\u001b[39m,\n\u001b[0;32m   (...)\u001b[0m\n\u001b[1;32m   1231\u001b[0m     optimizer_closure: Optional[Callable[[], Any]] \u001b[39m=\u001b[39m \u001b[39mNone\u001b[39;00m,\n\u001b[1;32m   1232\u001b[0m ) \u001b[39m-\u001b[39m\u001b[39m>\u001b[39m \u001b[39mNone\u001b[39;00m:\n\u001b[1;32m   1233\u001b[0m \u001b[39m    \u001b[39m\u001b[39mr\u001b[39m\u001b[39m\"\"\"\u001b[39;00m\n\u001b[1;32m   1234\u001b[0m \u001b[39m    Override this method to adjust the default way the :class:`~pytorch_lightning.trainer.trainer.Trainer` calls\u001b[39;00m\n\u001b[1;32m   1235\u001b[0m \u001b[39m    the optimizer.\u001b[39;00m\n\u001b[0;32m   (...)\u001b[0m\n\u001b[1;32m   1263\u001b[0m \u001b[39m                    pg[\"lr\"] = lr_scale * self.learning_rate\u001b[39;00m\n\u001b[1;32m   1264\u001b[0m \u001b[39m    \"\"\"\u001b[39;00m\n\u001b[0;32m-> 1265\u001b[0m     optimizer\u001b[39m.\u001b[39;49mstep(closure\u001b[39m=\u001b[39;49moptimizer_closure)\n",
      "File \u001b[0;32m~/Developer/miniconda3/envs/pytorch_env/lib/python3.10/site-packages/pytorch_lightning/core/optimizer.py:158\u001b[0m, in \u001b[0;36mLightningOptimizer.step\u001b[0;34m(self, closure, **kwargs)\u001b[0m\n\u001b[1;32m    155\u001b[0m     \u001b[39mraise\u001b[39;00m MisconfigurationException(\u001b[39m\"\u001b[39m\u001b[39mWhen `optimizer.step(closure)` is called, the closure should be callable\u001b[39m\u001b[39m\"\u001b[39m)\n\u001b[1;32m    157\u001b[0m \u001b[39massert\u001b[39;00m \u001b[39mself\u001b[39m\u001b[39m.\u001b[39m_strategy \u001b[39mis\u001b[39;00m \u001b[39mnot\u001b[39;00m \u001b[39mNone\u001b[39;00m\n\u001b[0;32m--> 158\u001b[0m step_output \u001b[39m=\u001b[39m \u001b[39mself\u001b[39;49m\u001b[39m.\u001b[39;49m_strategy\u001b[39m.\u001b[39;49moptimizer_step(\u001b[39mself\u001b[39;49m\u001b[39m.\u001b[39;49m_optimizer, closure, \u001b[39m*\u001b[39;49m\u001b[39m*\u001b[39;49mkwargs)\n\u001b[1;32m    160\u001b[0m \u001b[39mself\u001b[39m\u001b[39m.\u001b[39m_on_after_step()\n\u001b[1;32m    162\u001b[0m \u001b[39mreturn\u001b[39;00m step_output\n",
      "File \u001b[0;32m~/Developer/miniconda3/envs/pytorch_env/lib/python3.10/site-packages/pytorch_lightning/strategies/strategy.py:224\u001b[0m, in \u001b[0;36mStrategy.optimizer_step\u001b[0;34m(self, optimizer, closure, model, **kwargs)\u001b[0m\n\u001b[1;32m    222\u001b[0m \u001b[39m# TODO(fabric): remove assertion once strategy's optimizer_step typing is fixed\u001b[39;00m\n\u001b[1;32m    223\u001b[0m \u001b[39massert\u001b[39;00m \u001b[39misinstance\u001b[39m(model, pl\u001b[39m.\u001b[39mLightningModule)\n\u001b[0;32m--> 224\u001b[0m \u001b[39mreturn\u001b[39;00m \u001b[39mself\u001b[39;49m\u001b[39m.\u001b[39;49mprecision_plugin\u001b[39m.\u001b[39;49moptimizer_step(optimizer, model\u001b[39m=\u001b[39;49mmodel, closure\u001b[39m=\u001b[39;49mclosure, \u001b[39m*\u001b[39;49m\u001b[39m*\u001b[39;49mkwargs)\n",
      "File \u001b[0;32m~/Developer/miniconda3/envs/pytorch_env/lib/python3.10/site-packages/pytorch_lightning/plugins/precision/precision_plugin.py:114\u001b[0m, in \u001b[0;36mPrecisionPlugin.optimizer_step\u001b[0;34m(self, optimizer, model, closure, **kwargs)\u001b[0m\n\u001b[1;32m    112\u001b[0m \u001b[39m\u001b[39m\u001b[39m\"\"\"Hook to run the optimizer step.\"\"\"\u001b[39;00m\n\u001b[1;32m    113\u001b[0m closure \u001b[39m=\u001b[39m partial(\u001b[39mself\u001b[39m\u001b[39m.\u001b[39m_wrap_closure, model, optimizer, closure)\n\u001b[0;32m--> 114\u001b[0m \u001b[39mreturn\u001b[39;00m optimizer\u001b[39m.\u001b[39;49mstep(closure\u001b[39m=\u001b[39;49mclosure, \u001b[39m*\u001b[39;49m\u001b[39m*\u001b[39;49mkwargs)\n",
      "File \u001b[0;32m~/Developer/miniconda3/envs/pytorch_env/lib/python3.10/site-packages/torch/optim/optimizer.py:280\u001b[0m, in \u001b[0;36mOptimizer.profile_hook_step.<locals>.wrapper\u001b[0;34m(*args, **kwargs)\u001b[0m\n\u001b[1;32m    276\u001b[0m         \u001b[39melse\u001b[39;00m:\n\u001b[1;32m    277\u001b[0m             \u001b[39mraise\u001b[39;00m \u001b[39mRuntimeError\u001b[39;00m(\u001b[39mf\u001b[39m\u001b[39m\"\u001b[39m\u001b[39m{\u001b[39;00mfunc\u001b[39m}\u001b[39;00m\u001b[39m must return None or a tuple of (new_args, new_kwargs),\u001b[39m\u001b[39m\"\u001b[39m\n\u001b[1;32m    278\u001b[0m                                \u001b[39mf\u001b[39m\u001b[39m\"\u001b[39m\u001b[39mbut got \u001b[39m\u001b[39m{\u001b[39;00mresult\u001b[39m}\u001b[39;00m\u001b[39m.\u001b[39m\u001b[39m\"\u001b[39m)\n\u001b[0;32m--> 280\u001b[0m out \u001b[39m=\u001b[39m func(\u001b[39m*\u001b[39;49margs, \u001b[39m*\u001b[39;49m\u001b[39m*\u001b[39;49mkwargs)\n\u001b[1;32m    281\u001b[0m \u001b[39mself\u001b[39m\u001b[39m.\u001b[39m_optimizer_step_code()\n\u001b[1;32m    283\u001b[0m \u001b[39m# call optimizer step post hooks\u001b[39;00m\n",
      "File \u001b[0;32m~/Developer/miniconda3/envs/pytorch_env/lib/python3.10/site-packages/torch/optim/optimizer.py:33\u001b[0m, in \u001b[0;36m_use_grad_for_differentiable.<locals>._use_grad\u001b[0;34m(self, *args, **kwargs)\u001b[0m\n\u001b[1;32m     31\u001b[0m \u001b[39mtry\u001b[39;00m:\n\u001b[1;32m     32\u001b[0m     torch\u001b[39m.\u001b[39mset_grad_enabled(\u001b[39mself\u001b[39m\u001b[39m.\u001b[39mdefaults[\u001b[39m'\u001b[39m\u001b[39mdifferentiable\u001b[39m\u001b[39m'\u001b[39m])\n\u001b[0;32m---> 33\u001b[0m     ret \u001b[39m=\u001b[39m func(\u001b[39mself\u001b[39;49m, \u001b[39m*\u001b[39;49margs, \u001b[39m*\u001b[39;49m\u001b[39m*\u001b[39;49mkwargs)\n\u001b[1;32m     34\u001b[0m \u001b[39mfinally\u001b[39;00m:\n\u001b[1;32m     35\u001b[0m     torch\u001b[39m.\u001b[39mset_grad_enabled(prev_grad)\n",
      "File \u001b[0;32m~/Developer/miniconda3/envs/pytorch_env/lib/python3.10/site-packages/torch/optim/adam.py:121\u001b[0m, in \u001b[0;36mAdam.step\u001b[0;34m(self, closure)\u001b[0m\n\u001b[1;32m    119\u001b[0m \u001b[39mif\u001b[39;00m closure \u001b[39mis\u001b[39;00m \u001b[39mnot\u001b[39;00m \u001b[39mNone\u001b[39;00m:\n\u001b[1;32m    120\u001b[0m     \u001b[39mwith\u001b[39;00m torch\u001b[39m.\u001b[39menable_grad():\n\u001b[0;32m--> 121\u001b[0m         loss \u001b[39m=\u001b[39m closure()\n\u001b[1;32m    123\u001b[0m \u001b[39mfor\u001b[39;00m group \u001b[39min\u001b[39;00m \u001b[39mself\u001b[39m\u001b[39m.\u001b[39mparam_groups:\n\u001b[1;32m    124\u001b[0m     params_with_grad \u001b[39m=\u001b[39m []\n",
      "File \u001b[0;32m~/Developer/miniconda3/envs/pytorch_env/lib/python3.10/site-packages/pytorch_lightning/plugins/precision/precision_plugin.py:101\u001b[0m, in \u001b[0;36mPrecisionPlugin._wrap_closure\u001b[0;34m(self, model, optimizer, closure)\u001b[0m\n\u001b[1;32m     89\u001b[0m \u001b[39mdef\u001b[39;00m \u001b[39m_wrap_closure\u001b[39m(\n\u001b[1;32m     90\u001b[0m     \u001b[39mself\u001b[39m,\n\u001b[1;32m     91\u001b[0m     model: \u001b[39m\"\u001b[39m\u001b[39mpl.LightningModule\u001b[39m\u001b[39m\"\u001b[39m,\n\u001b[1;32m     92\u001b[0m     optimizer: Optimizer,\n\u001b[1;32m     93\u001b[0m     closure: Callable[[], Any],\n\u001b[1;32m     94\u001b[0m ) \u001b[39m-\u001b[39m\u001b[39m>\u001b[39m Any:\n\u001b[1;32m     95\u001b[0m \u001b[39m    \u001b[39m\u001b[39m\"\"\"This double-closure allows makes sure the ``closure`` is executed before the\u001b[39;00m\n\u001b[1;32m     96\u001b[0m \u001b[39m    ``on_before_optimizer_step`` hook is called.\u001b[39;00m\n\u001b[1;32m     97\u001b[0m \n\u001b[1;32m     98\u001b[0m \u001b[39m    The closure (generally) runs ``backward`` so this allows inspecting gradients in this hook. This structure is\u001b[39;00m\n\u001b[1;32m     99\u001b[0m \u001b[39m    consistent with the ``PrecisionPlugin`` subclasses that cannot pass ``optimizer.step(closure)`` directly.\u001b[39;00m\n\u001b[1;32m    100\u001b[0m \u001b[39m    \"\"\"\u001b[39;00m\n\u001b[0;32m--> 101\u001b[0m     closure_result \u001b[39m=\u001b[39m closure()\n\u001b[1;32m    102\u001b[0m     \u001b[39mself\u001b[39m\u001b[39m.\u001b[39m_after_closure(model, optimizer)\n\u001b[1;32m    103\u001b[0m     \u001b[39mreturn\u001b[39;00m closure_result\n",
      "File \u001b[0;32m~/Developer/miniconda3/envs/pytorch_env/lib/python3.10/site-packages/pytorch_lightning/loops/optimization/automatic.py:140\u001b[0m, in \u001b[0;36mClosure.__call__\u001b[0;34m(self, *args, **kwargs)\u001b[0m\n\u001b[1;32m    139\u001b[0m \u001b[39mdef\u001b[39;00m \u001b[39m__call__\u001b[39m(\u001b[39mself\u001b[39m, \u001b[39m*\u001b[39margs: Any, \u001b[39m*\u001b[39m\u001b[39m*\u001b[39mkwargs: Any) \u001b[39m-\u001b[39m\u001b[39m>\u001b[39m Optional[Tensor]:\n\u001b[0;32m--> 140\u001b[0m     \u001b[39mself\u001b[39m\u001b[39m.\u001b[39m_result \u001b[39m=\u001b[39m \u001b[39mself\u001b[39;49m\u001b[39m.\u001b[39;49mclosure(\u001b[39m*\u001b[39;49margs, \u001b[39m*\u001b[39;49m\u001b[39m*\u001b[39;49mkwargs)\n\u001b[1;32m    141\u001b[0m     \u001b[39mreturn\u001b[39;00m \u001b[39mself\u001b[39m\u001b[39m.\u001b[39m_result\u001b[39m.\u001b[39mloss\n",
      "File \u001b[0;32m~/Developer/miniconda3/envs/pytorch_env/lib/python3.10/site-packages/pytorch_lightning/loops/optimization/automatic.py:126\u001b[0m, in \u001b[0;36mClosure.closure\u001b[0;34m(self, *args, **kwargs)\u001b[0m\n\u001b[1;32m    125\u001b[0m \u001b[39mdef\u001b[39;00m \u001b[39mclosure\u001b[39m(\u001b[39mself\u001b[39m, \u001b[39m*\u001b[39margs: Any, \u001b[39m*\u001b[39m\u001b[39m*\u001b[39mkwargs: Any) \u001b[39m-\u001b[39m\u001b[39m>\u001b[39m ClosureResult:\n\u001b[0;32m--> 126\u001b[0m     step_output \u001b[39m=\u001b[39m \u001b[39mself\u001b[39;49m\u001b[39m.\u001b[39;49m_step_fn()\n\u001b[1;32m    128\u001b[0m     \u001b[39mif\u001b[39;00m step_output\u001b[39m.\u001b[39mclosure_loss \u001b[39mis\u001b[39;00m \u001b[39mNone\u001b[39;00m:\n\u001b[1;32m    129\u001b[0m         \u001b[39mself\u001b[39m\u001b[39m.\u001b[39mwarning_cache\u001b[39m.\u001b[39mwarn(\u001b[39m\"\u001b[39m\u001b[39m`training_step` returned `None`. If this was on purpose, ignore this warning...\u001b[39m\u001b[39m\"\u001b[39m)\n",
      "File \u001b[0;32m~/Developer/miniconda3/envs/pytorch_env/lib/python3.10/site-packages/pytorch_lightning/loops/optimization/automatic.py:308\u001b[0m, in \u001b[0;36m_AutomaticOptimization._training_step\u001b[0;34m(self, kwargs)\u001b[0m\n\u001b[1;32m    305\u001b[0m trainer \u001b[39m=\u001b[39m \u001b[39mself\u001b[39m\u001b[39m.\u001b[39mtrainer\n\u001b[1;32m    307\u001b[0m \u001b[39m# manually capture logged metrics\u001b[39;00m\n\u001b[0;32m--> 308\u001b[0m training_step_output \u001b[39m=\u001b[39m call\u001b[39m.\u001b[39;49m_call_strategy_hook(trainer, \u001b[39m\"\u001b[39;49m\u001b[39mtraining_step\u001b[39;49m\u001b[39m\"\u001b[39;49m, \u001b[39m*\u001b[39;49mkwargs\u001b[39m.\u001b[39;49mvalues())\n\u001b[1;32m    309\u001b[0m \u001b[39mself\u001b[39m\u001b[39m.\u001b[39mtrainer\u001b[39m.\u001b[39mstrategy\u001b[39m.\u001b[39mpost_training_step()\n\u001b[1;32m    311\u001b[0m result \u001b[39m=\u001b[39m \u001b[39mself\u001b[39m\u001b[39m.\u001b[39moutput_result_cls\u001b[39m.\u001b[39mfrom_training_step_output(training_step_output, trainer\u001b[39m.\u001b[39maccumulate_grad_batches)\n",
      "File \u001b[0;32m~/Developer/miniconda3/envs/pytorch_env/lib/python3.10/site-packages/pytorch_lightning/trainer/call.py:288\u001b[0m, in \u001b[0;36m_call_strategy_hook\u001b[0;34m(trainer, hook_name, *args, **kwargs)\u001b[0m\n\u001b[1;32m    285\u001b[0m     \u001b[39mreturn\u001b[39;00m\n\u001b[1;32m    287\u001b[0m \u001b[39mwith\u001b[39;00m trainer\u001b[39m.\u001b[39mprofiler\u001b[39m.\u001b[39mprofile(\u001b[39mf\u001b[39m\u001b[39m\"\u001b[39m\u001b[39m[Strategy]\u001b[39m\u001b[39m{\u001b[39;00mtrainer\u001b[39m.\u001b[39mstrategy\u001b[39m.\u001b[39m\u001b[39m__class__\u001b[39m\u001b[39m.\u001b[39m\u001b[39m__name__\u001b[39m\u001b[39m}\u001b[39;00m\u001b[39m.\u001b[39m\u001b[39m{\u001b[39;00mhook_name\u001b[39m}\u001b[39;00m\u001b[39m\"\u001b[39m):\n\u001b[0;32m--> 288\u001b[0m     output \u001b[39m=\u001b[39m fn(\u001b[39m*\u001b[39;49margs, \u001b[39m*\u001b[39;49m\u001b[39m*\u001b[39;49mkwargs)\n\u001b[1;32m    290\u001b[0m \u001b[39m# restore current_fx when nested context\u001b[39;00m\n\u001b[1;32m    291\u001b[0m pl_module\u001b[39m.\u001b[39m_current_fx_name \u001b[39m=\u001b[39m prev_fx_name\n",
      "File \u001b[0;32m~/Developer/miniconda3/envs/pytorch_env/lib/python3.10/site-packages/pytorch_lightning/strategies/strategy.py:366\u001b[0m, in \u001b[0;36mStrategy.training_step\u001b[0;34m(self, *args, **kwargs)\u001b[0m\n\u001b[1;32m    364\u001b[0m \u001b[39mwith\u001b[39;00m \u001b[39mself\u001b[39m\u001b[39m.\u001b[39mprecision_plugin\u001b[39m.\u001b[39mtrain_step_context():\n\u001b[1;32m    365\u001b[0m     \u001b[39massert\u001b[39;00m \u001b[39misinstance\u001b[39m(\u001b[39mself\u001b[39m\u001b[39m.\u001b[39mmodel, TrainingStep)\n\u001b[0;32m--> 366\u001b[0m     \u001b[39mreturn\u001b[39;00m \u001b[39mself\u001b[39;49m\u001b[39m.\u001b[39;49mmodel\u001b[39m.\u001b[39;49mtraining_step(\u001b[39m*\u001b[39;49margs, \u001b[39m*\u001b[39;49m\u001b[39m*\u001b[39;49mkwargs)\n",
      "\u001b[1;32m/Users/rich/Developer/Github/VariousDataAnalysis/neural_networks/unfinished-classification_uncertainty/exploration.ipynb Cell 85\u001b[0m line \u001b[0;36m4\n\u001b[1;32m     <a href='vscode-notebook-cell:/Users/rich/Developer/Github/VariousDataAnalysis/neural_networks/unfinished-classification_uncertainty/exploration.ipynb#Y133sZmlsZQ%3D%3D?line=44'>45</a>\u001b[0m \u001b[39mdef\u001b[39;00m \u001b[39mtraining_step\u001b[39m(\u001b[39mself\u001b[39m, batch, batch_idx):\n\u001b[1;32m     <a href='vscode-notebook-cell:/Users/rich/Developer/Github/VariousDataAnalysis/neural_networks/unfinished-classification_uncertainty/exploration.ipynb#Y133sZmlsZQ%3D%3D?line=45'>46</a>\u001b[0m     y \u001b[39m=\u001b[39m batch[\u001b[39m0\u001b[39m]\n\u001b[0;32m---> <a href='vscode-notebook-cell:/Users/rich/Developer/Github/VariousDataAnalysis/neural_networks/unfinished-classification_uncertainty/exploration.ipynb#Y133sZmlsZQ%3D%3D?line=47'>48</a>\u001b[0m     mixture_dist \u001b[39m=\u001b[39m \u001b[39mself\u001b[39;49m\u001b[39m.\u001b[39;49mforward()\n\u001b[1;32m     <a href='vscode-notebook-cell:/Users/rich/Developer/Github/VariousDataAnalysis/neural_networks/unfinished-classification_uncertainty/exploration.ipynb#Y133sZmlsZQ%3D%3D?line=49'>50</a>\u001b[0m     negloglik \u001b[39m=\u001b[39m \u001b[39m-\u001b[39mmixture_dist\u001b[39m.\u001b[39mlog_prob(y)\n\u001b[1;32m     <a href='vscode-notebook-cell:/Users/rich/Developer/Github/VariousDataAnalysis/neural_networks/unfinished-classification_uncertainty/exploration.ipynb#Y133sZmlsZQ%3D%3D?line=50'>51</a>\u001b[0m     loss \u001b[39m=\u001b[39m torch\u001b[39m.\u001b[39mmean(negloglik)\n",
      "\u001b[1;32m/Users/rich/Developer/Github/VariousDataAnalysis/neural_networks/unfinished-classification_uncertainty/exploration.ipynb Cell 85\u001b[0m line \u001b[0;36m2\n\u001b[1;32m     <a href='vscode-notebook-cell:/Users/rich/Developer/Github/VariousDataAnalysis/neural_networks/unfinished-classification_uncertainty/exploration.ipynb#Y133sZmlsZQ%3D%3D?line=23'>24</a>\u001b[0m mixture_prob_norm \u001b[39m=\u001b[39m torch\u001b[39m.\u001b[39msigmoid(\u001b[39mself\u001b[39m\u001b[39m.\u001b[39mmixture_prob)\n\u001b[1;32m     <a href='vscode-notebook-cell:/Users/rich/Developer/Github/VariousDataAnalysis/neural_networks/unfinished-classification_uncertainty/exploration.ipynb#Y133sZmlsZQ%3D%3D?line=24'>25</a>\u001b[0m poisson_lambda_norm \u001b[39m=\u001b[39m torch\u001b[39m.\u001b[39mnn\u001b[39m.\u001b[39mfunctional\u001b[39m.\u001b[39msoftplus(\u001b[39mself\u001b[39m\u001b[39m.\u001b[39mpoisson_lambda)\n\u001b[0;32m---> <a href='vscode-notebook-cell:/Users/rich/Developer/Github/VariousDataAnalysis/neural_networks/unfinished-classification_uncertainty/exploration.ipynb#Y133sZmlsZQ%3D%3D?line=25'>26</a>\u001b[0m poisson_lambda_norm \u001b[39m=\u001b[39m torch\u001b[39m.\u001b[39;49mconcat(\n\u001b[1;32m     <a href='vscode-notebook-cell:/Users/rich/Developer/Github/VariousDataAnalysis/neural_networks/unfinished-classification_uncertainty/exploration.ipynb#Y133sZmlsZQ%3D%3D?line=26'>27</a>\u001b[0m     (torch\u001b[39m.\u001b[39;49mtensor([\u001b[39m0.0\u001b[39;49m]), poisson_lambda_norm)\n\u001b[1;32m     <a href='vscode-notebook-cell:/Users/rich/Developer/Github/VariousDataAnalysis/neural_networks/unfinished-classification_uncertainty/exploration.ipynb#Y133sZmlsZQ%3D%3D?line=27'>28</a>\u001b[0m )  \u001b[39m# maintains grad\u001b[39;00m\n\u001b[1;32m     <a href='vscode-notebook-cell:/Users/rich/Developer/Github/VariousDataAnalysis/neural_networks/unfinished-classification_uncertainty/exploration.ipynb#Y133sZmlsZQ%3D%3D?line=29'>30</a>\u001b[0m mix \u001b[39m=\u001b[39m torch\u001b[39m.\u001b[39mdistributions\u001b[39m.\u001b[39mCategorical(\n\u001b[1;32m     <a href='vscode-notebook-cell:/Users/rich/Developer/Github/VariousDataAnalysis/neural_networks/unfinished-classification_uncertainty/exploration.ipynb#Y133sZmlsZQ%3D%3D?line=30'>31</a>\u001b[0m     torch\u001b[39m.\u001b[39mconcat((mixture_prob_norm, \u001b[39m1\u001b[39m \u001b[39m-\u001b[39m mixture_prob_norm))\n\u001b[1;32m     <a href='vscode-notebook-cell:/Users/rich/Developer/Github/VariousDataAnalysis/neural_networks/unfinished-classification_uncertainty/exploration.ipynb#Y133sZmlsZQ%3D%3D?line=31'>32</a>\u001b[0m )\n\u001b[1;32m     <a href='vscode-notebook-cell:/Users/rich/Developer/Github/VariousDataAnalysis/neural_networks/unfinished-classification_uncertainty/exploration.ipynb#Y133sZmlsZQ%3D%3D?line=32'>33</a>\u001b[0m poissons \u001b[39m=\u001b[39m torch\u001b[39m.\u001b[39mdistributions\u001b[39m.\u001b[39mPoisson(poisson_lambda_norm)\n",
      "\u001b[0;31mRuntimeError\u001b[0m: torch.cat(): all input tensors must be on the same device. Received cpu and mps:0"
     ]
    }
   ],
   "source": [
    "# fit network\n",
    "trainer = pl.Trainer(\n",
    "    max_epochs=100,\n",
    ")\n",
    "trainer.fit(model, dataloader_train)"
   ]
  },
  {
   "cell_type": "markdown",
   "metadata": {},
   "source": [
    "We can see the training loss has converged ok."
   ]
  },
  {
   "cell_type": "code",
   "execution_count": null,
   "metadata": {},
   "outputs": [
    {
     "name": "stderr",
     "output_type": "stream",
     "text": [
      "/var/folders/ky/4qby95090jbbq38_mh94x72r0000gn/T/ipykernel_82119/2590399248.py:11: UserWarning: Matplotlib is currently using module://matplotlib_inline.backend_inline, which is a non-GUI backend, so cannot show the figure.\n",
      "  fig.show()\n"
     ]
    },
    {
     "data": {
      "image/png": "[encoded data removed]",
      "text/plain": [
       "<Figure size 1000x600 with 1 Axes>"
      ]
     },
     "metadata": {},
     "output_type": "display_data"
    }
   ],
   "source": [
    "def moving_average(a, n=10):\n",
    "    ret = np.cumsum(a, dtype=float)\n",
    "    ret[n:] = ret[n:] - ret[:-n]\n",
    "    return ret[n - 1 :] / n\n",
    "\n",
    "\n",
    "fig, ax = plt.subplots(figsize=(10, 6))\n",
    "ax.plot(moving_average(np.array(model.train_log_error)))\n",
    "ax.set_ylabel(\"Loss\")\n",
    "ax.set_xlabel(\"Training iteration\")\n",
    "fig.show()"
   ]
  },
  {
   "cell_type": "code",
   "execution_count": null,
   "metadata": {},
   "outputs": [
    {
     "name": "stderr",
     "output_type": "stream",
     "text": [
      "/var/folders/ky/4qby95090jbbq38_mh94x72r0000gn/T/ipykernel_82119/2571154232.py:9: UserWarning: Matplotlib is currently using module://matplotlib_inline.backend_inline, which is a non-GUI backend, so cannot show the figure.\n",
      "  fig.show()\n"
     ]
    },
    {
     "data": {
      "image/png": "[encoded data removed]",
      "text/plain": [
       "<Figure size 1000x600 with 1 Axes>"
      ]
     },
     "metadata": {},
     "output_type": "display_data"
    }
   ],
   "source": [
    "fig, ax = plt.subplots(figsize=(10, 6))\n",
    "ax.plot(model.poisson_lambda_log, color=\"b\", label=\"lambda\")\n",
    "ax.plot(model.mixture_prob_log, color=\"orange\", label=\"p\")\n",
    "ax.axhline(y=p_lambda, linestyle=\"--\", color=\"b\", alpha=0.5)\n",
    "ax.axhline(y=p_d1, linestyle=\"--\", color=\"orange\", alpha=0.5)\n",
    "ax.legend()\n",
    "ax.set_xlabel(\"Iteration\")\n",
    "ax.set_ylabel(\"Coefficient value\")\n",
    "fig.show()"
   ]
  },
  {
   "cell_type": "markdown",
   "metadata": {},
   "source": [
    "## Checking results\n",
    "Now we can check the resulting distribution that comes out of our model and compare that directly to the random samples."
   ]
  },
  {
   "cell_type": "code",
   "execution_count": null,
   "metadata": {},
   "outputs": [
    {
     "data": {
      "image/png": "[encoded data removed]",
      "text/plain": [
       "<Figure size 1000x600 with 1 Axes>"
      ]
     },
     "metadata": {},
     "output_type": "display_data"
    }
   ],
   "source": [
    "# plot pdf\n",
    "output_dist = model()\n",
    "x = torch.arange(0, 20)\n",
    "y = torch.exp(output_dist.log_prob(x))\n",
    "\n",
    "fig, ax = plt.subplots(figsize=(10, 6))\n",
    "ax.hist(\n",
    "    rand_samples,\n",
    "    bins=rand_samples.max() - rand_samples.min(),\n",
    "    density=True,\n",
    "    label=\"raw data\",\n",
    ")\n",
    "ax.plot(x.detach().numpy(), y.detach().numpy(), label=\"model pdf\")\n",
    "fig.legend()\n",
    "plt.show()"
   ]
  },
  {
   "cell_type": "markdown",
   "metadata": {},
   "source": [
    "We can see that the trained distribution parameters now are close to the underlying parameters."
   ]
  },
  {
   "cell_type": "code",
   "execution_count": null,
   "metadata": {},
   "outputs": [
    {
     "name": "stdout",
     "output_type": "stream",
     "text": [
      "Final mix: 0.5104645\n",
      "Final lambda: 5.013678\n",
      "True mix: 0.5\n",
      "True lambda: 5\n"
     ]
    }
   ],
   "source": [
    "print(\"Final mix:\", model.mixture_prob_log[-1][0])\n",
    "print(\"Final lambda:\", model.poisson_lambda_log[-1][0])\n",
    "\n",
    "print(\"True mix:\", p_d1)\n",
    "print(\"True lambda:\", p_lambda)"
   ]
  },
  {
   "cell_type": "markdown",
   "metadata": {},
   "source": [
    "### Random seeding\n",
    "We can start the training from different random initialisations to see how smooth the objective function surface is."
   ]
  },
  {
   "cell_type": "code",
   "execution_count": null,
   "metadata": {},
   "outputs": [
    {
     "name": "stdout",
     "output_type": "stream",
     "text": [
      "0\n"
     ]
    },
    {
     "name": "stderr",
     "output_type": "stream",
     "text": [
      "GPU available: True (mps), used: False\n",
      "TPU available: False, using: 0 TPU cores\n",
      "IPU available: False, using: 0 IPUs\n",
      "HPU available: False, using: 0 HPUs\n",
      "\n",
      "  | Name | Type | Params\n",
      "------------------------------\n",
      "------------------------------\n",
      "2         Trainable params\n",
      "0         Non-trainable params\n",
      "2         Total params\n",
      "0.000     Total estimated model params size (MB)\n"
     ]
    },
    {
     "data": {
      "application/vnd.jupyter.widget-view+json": {
       "model_id": "605a1889cc094909a5f7e54c8e482ae1",
       "version_major": 2,
       "version_minor": 0
      },
      "text/plain": [
       "Training: 0it [00:00, ?it/s]"
      ]
     },
     "metadata": {},
     "output_type": "display_data"
    },
    {
     "name": "stderr",
     "output_type": "stream",
     "text": [
      "`Trainer.fit` stopped: `max_epochs=100` reached.\n"
     ]
    },
    {
     "name": "stdout",
     "output_type": "stream",
     "text": [
      "1\n"
     ]
    },
    {
     "name": "stderr",
     "output_type": "stream",
     "text": [
      "GPU available: True (mps), used: False\n",
      "TPU available: False, using: 0 TPU cores\n",
      "IPU available: False, using: 0 IPUs\n",
      "HPU available: False, using: 0 HPUs\n",
      "\n",
      "  | Name | Type | Params\n",
      "------------------------------\n",
      "------------------------------\n",
      "2         Trainable params\n",
      "0         Non-trainable params\n",
      "2         Total params\n",
      "0.000     Total estimated model params size (MB)\n"
     ]
    },
    {
     "data": {
      "application/vnd.jupyter.widget-view+json": {
       "model_id": "7d3c515e6aae4ae18a6e9070581b2de6",
       "version_major": 2,
       "version_minor": 0
      },
      "text/plain": [
       "Training: 0it [00:00, ?it/s]"
      ]
     },
     "metadata": {},
     "output_type": "display_data"
    },
    {
     "name": "stderr",
     "output_type": "stream",
     "text": [
      "`Trainer.fit` stopped: `max_epochs=100` reached.\n"
     ]
    },
    {
     "name": "stdout",
     "output_type": "stream",
     "text": [
      "2\n"
     ]
    },
    {
     "name": "stderr",
     "output_type": "stream",
     "text": [
      "GPU available: True (mps), used: False\n",
      "TPU available: False, using: 0 TPU cores\n",
      "IPU available: False, using: 0 IPUs\n",
      "HPU available: False, using: 0 HPUs\n",
      "\n",
      "  | Name | Type | Params\n",
      "------------------------------\n",
      "------------------------------\n",
      "2         Trainable params\n",
      "0         Non-trainable params\n",
      "2         Total params\n",
      "0.000     Total estimated model params size (MB)\n"
     ]
    },
    {
     "data": {
      "application/vnd.jupyter.widget-view+json": {
       "model_id": "84aae68403154d368f0642658647bbd8",
       "version_major": 2,
       "version_minor": 0
      },
      "text/plain": [
       "Training: 0it [00:00, ?it/s]"
      ]
     },
     "metadata": {},
     "output_type": "display_data"
    },
    {
     "name": "stderr",
     "output_type": "stream",
     "text": [
      "`Trainer.fit` stopped: `max_epochs=100` reached.\n"
     ]
    },
    {
     "name": "stdout",
     "output_type": "stream",
     "text": [
      "3\n"
     ]
    },
    {
     "name": "stderr",
     "output_type": "stream",
     "text": [
      "GPU available: True (mps), used: False\n",
      "TPU available: False, using: 0 TPU cores\n",
      "IPU available: False, using: 0 IPUs\n",
      "HPU available: False, using: 0 HPUs\n",
      "\n",
      "  | Name | Type | Params\n",
      "------------------------------\n",
      "------------------------------\n",
      "2         Trainable params\n",
      "0         Non-trainable params\n",
      "2         Total params\n",
      "0.000     Total estimated model params size (MB)\n"
     ]
    },
    {
     "data": {
      "application/vnd.jupyter.widget-view+json": {
       "model_id": "14b3b745289d41abab2188420f79accd",
       "version_major": 2,
       "version_minor": 0
      },
      "text/plain": [
       "Training: 0it [00:00, ?it/s]"
      ]
     },
     "metadata": {},
     "output_type": "display_data"
    },
    {
     "name": "stderr",
     "output_type": "stream",
     "text": [
      "`Trainer.fit` stopped: `max_epochs=100` reached.\n"
     ]
    },
    {
     "name": "stdout",
     "output_type": "stream",
     "text": [
      "4\n"
     ]
    },
    {
     "name": "stderr",
     "output_type": "stream",
     "text": [
      "GPU available: True (mps), used: False\n",
      "TPU available: False, using: 0 TPU cores\n",
      "IPU available: False, using: 0 IPUs\n",
      "HPU available: False, using: 0 HPUs\n",
      "\n",
      "  | Name | Type | Params\n",
      "------------------------------\n",
      "------------------------------\n",
      "2         Trainable params\n",
      "0         Non-trainable params\n",
      "2         Total params\n",
      "0.000     Total estimated model params size (MB)\n"
     ]
    },
    {
     "data": {
      "application/vnd.jupyter.widget-view+json": {
       "model_id": "d6c47f4ffd714f1aac9f216cab5c0b99",
       "version_major": 2,
       "version_minor": 0
      },
      "text/plain": [
       "Training: 0it [00:00, ?it/s]"
      ]
     },
     "metadata": {},
     "output_type": "display_data"
    },
    {
     "name": "stderr",
     "output_type": "stream",
     "text": [
      "`Trainer.fit` stopped: `max_epochs=100` reached.\n"
     ]
    },
    {
     "name": "stdout",
     "output_type": "stream",
     "text": [
      "5\n"
     ]
    },
    {
     "name": "stderr",
     "output_type": "stream",
     "text": [
      "GPU available: True (mps), used: False\n",
      "TPU available: False, using: 0 TPU cores\n",
      "IPU available: False, using: 0 IPUs\n",
      "HPU available: False, using: 0 HPUs\n",
      "\n",
      "  | Name | Type | Params\n",
      "------------------------------\n",
      "------------------------------\n",
      "2         Trainable params\n",
      "0         Non-trainable params\n",
      "2         Total params\n",
      "0.000     Total estimated model params size (MB)\n"
     ]
    },
    {
     "data": {
      "application/vnd.jupyter.widget-view+json": {
       "model_id": "d77e5dfd2c5e441588e97d77aa8b0e98",
       "version_major": 2,
       "version_minor": 0
      },
      "text/plain": [
       "Training: 0it [00:00, ?it/s]"
      ]
     },
     "metadata": {},
     "output_type": "display_data"
    },
    {
     "name": "stderr",
     "output_type": "stream",
     "text": [
      "`Trainer.fit` stopped: `max_epochs=100` reached.\n"
     ]
    },
    {
     "name": "stdout",
     "output_type": "stream",
     "text": [
      "6\n"
     ]
    },
    {
     "name": "stderr",
     "output_type": "stream",
     "text": [
      "GPU available: True (mps), used: False\n",
      "TPU available: False, using: 0 TPU cores\n",
      "IPU available: False, using: 0 IPUs\n",
      "HPU available: False, using: 0 HPUs\n",
      "\n",
      "  | Name | Type | Params\n",
      "------------------------------\n",
      "------------------------------\n",
      "2         Trainable params\n",
      "0         Non-trainable params\n",
      "2         Total params\n",
      "0.000     Total estimated model params size (MB)\n"
     ]
    },
    {
     "data": {
      "application/vnd.jupyter.widget-view+json": {
       "model_id": "9f988731de19470daf91d8290febfeb3",
       "version_major": 2,
       "version_minor": 0
      },
      "text/plain": [
       "Training: 0it [00:00, ?it/s]"
      ]
     },
     "metadata": {},
     "output_type": "display_data"
    },
    {
     "name": "stderr",
     "output_type": "stream",
     "text": [
      "`Trainer.fit` stopped: `max_epochs=100` reached.\n"
     ]
    },
    {
     "name": "stdout",
     "output_type": "stream",
     "text": [
      "7\n"
     ]
    },
    {
     "name": "stderr",
     "output_type": "stream",
     "text": [
      "GPU available: True (mps), used: False\n",
      "TPU available: False, using: 0 TPU cores\n",
      "IPU available: False, using: 0 IPUs\n",
      "HPU available: False, using: 0 HPUs\n",
      "\n",
      "  | Name | Type | Params\n",
      "------------------------------\n",
      "------------------------------\n",
      "2         Trainable params\n",
      "0         Non-trainable params\n",
      "2         Total params\n",
      "0.000     Total estimated model params size (MB)\n"
     ]
    },
    {
     "data": {
      "application/vnd.jupyter.widget-view+json": {
       "model_id": "de8f04d053d043109eff2f5520321ab6",
       "version_major": 2,
       "version_minor": 0
      },
      "text/plain": [
       "Training: 0it [00:00, ?it/s]"
      ]
     },
     "metadata": {},
     "output_type": "display_data"
    },
    {
     "name": "stderr",
     "output_type": "stream",
     "text": [
      "`Trainer.fit` stopped: `max_epochs=100` reached.\n"
     ]
    },
    {
     "name": "stdout",
     "output_type": "stream",
     "text": [
      "8\n"
     ]
    },
    {
     "name": "stderr",
     "output_type": "stream",
     "text": [
      "GPU available: True (mps), used: False\n",
      "TPU available: False, using: 0 TPU cores\n",
      "IPU available: False, using: 0 IPUs\n",
      "HPU available: False, using: 0 HPUs\n",
      "\n",
      "  | Name | Type | Params\n",
      "------------------------------\n",
      "------------------------------\n",
      "2         Trainable params\n",
      "0         Non-trainable params\n",
      "2         Total params\n",
      "0.000     Total estimated model params size (MB)\n"
     ]
    },
    {
     "data": {
      "application/vnd.jupyter.widget-view+json": {
       "model_id": "6292a6facca84d3ba87b3f1cf08ff16d",
       "version_major": 2,
       "version_minor": 0
      },
      "text/plain": [
       "Training: 0it [00:00, ?it/s]"
      ]
     },
     "metadata": {},
     "output_type": "display_data"
    },
    {
     "name": "stderr",
     "output_type": "stream",
     "text": [
      "`Trainer.fit` stopped: `max_epochs=100` reached.\n"
     ]
    },
    {
     "name": "stdout",
     "output_type": "stream",
     "text": [
      "9\n"
     ]
    },
    {
     "name": "stderr",
     "output_type": "stream",
     "text": [
      "GPU available: True (mps), used: False\n",
      "TPU available: False, using: 0 TPU cores\n",
      "IPU available: False, using: 0 IPUs\n",
      "HPU available: False, using: 0 HPUs\n",
      "\n",
      "  | Name | Type | Params\n",
      "------------------------------\n",
      "------------------------------\n",
      "2         Trainable params\n",
      "0         Non-trainable params\n",
      "2         Total params\n",
      "0.000     Total estimated model params size (MB)\n"
     ]
    },
    {
     "data": {
      "application/vnd.jupyter.widget-view+json": {
       "model_id": "9ab3e9840e744a7585c16126e561638d",
       "version_major": 2,
       "version_minor": 0
      },
      "text/plain": [
       "Training: 0it [00:00, ?it/s]"
      ]
     },
     "metadata": {},
     "output_type": "display_data"
    },
    {
     "name": "stderr",
     "output_type": "stream",
     "text": [
      "`Trainer.fit` stopped: `max_epochs=100` reached.\n"
     ]
    }
   ],
   "source": [
    "import random\n",
    "\n",
    "seed_model_params = []\n",
    "for _idx in range(10):\n",
    "    print(_idx)\n",
    "    init_params = [random.random(), random.random() * 10]\n",
    "    model = ZIPModel(\n",
    "        learning_rate=1e-0,\n",
    "        init_mix_parameter=init_params[0],\n",
    "        init_poisson_lambda=init_params[1],\n",
    "    )\n",
    "\n",
    "    # fit network\n",
    "    trainer = pl.Trainer(\n",
    "        max_epochs=100,\n",
    "    )\n",
    "    trainer.fit(model, dataloader_train)\n",
    "\n",
    "    seed_model_params.append(\n",
    "        {\n",
    "            \"err\": model.train_log_error[-1],\n",
    "            \"mixture\": model.mixture_prob_log[-1],\n",
    "            \"lambda\": model.poisson_lambda_log[-1],\n",
    "            \"mixture_init\": init_params[0],\n",
    "            \"lambda_init\": init_params[1],\n",
    "        }\n",
    "    )"
   ]
  },
  {
   "cell_type": "code",
   "execution_count": null,
   "metadata": {},
   "outputs": [
    {
     "data": {
      "text/html": [
       "<div>\n",
       "<style scoped>\n",
       "    .dataframe tbody tr th:only-of-type {\n",
       "        vertical-align: middle;\n",
       "    }\n",
       "\n",
       "    .dataframe tbody tr th {\n",
       "        vertical-align: top;\n",
       "    }\n",
       "\n",
       "    .dataframe thead th {\n",
       "        text-align: right;\n",
       "    }\n",
       "</style>\n",
       "<table border=\"1\" class=\"dataframe\">\n",
       "  <thead>\n",
       "    <tr style=\"text-align: right;\">\n",
       "      <th></th>\n",
       "      <th>err</th>\n",
       "      <th>mixture</th>\n",
       "      <th>lambda</th>\n",
       "      <th>mixture_init</th>\n",
       "      <th>lambda_init</th>\n",
       "    </tr>\n",
       "  </thead>\n",
       "  <tbody>\n",
       "    <tr>\n",
       "      <th>0</th>\n",
       "      <td>1.7549713</td>\n",
       "      <td>[0.5084596]</td>\n",
       "      <td>[4.990373]</td>\n",
       "      <td>0.206126</td>\n",
       "      <td>1.271737</td>\n",
       "    </tr>\n",
       "    <tr>\n",
       "      <th>1</th>\n",
       "      <td>1.7549436</td>\n",
       "      <td>[0.5095606]</td>\n",
       "      <td>[5.0154147]</td>\n",
       "      <td>0.957375</td>\n",
       "      <td>5.609975</td>\n",
       "    </tr>\n",
       "    <tr>\n",
       "      <th>2</th>\n",
       "      <td>1.75495</td>\n",
       "      <td>[0.50945556]</td>\n",
       "      <td>[5.0249567]</td>\n",
       "      <td>0.113368</td>\n",
       "      <td>9.019589</td>\n",
       "    </tr>\n",
       "    <tr>\n",
       "      <th>3</th>\n",
       "      <td>1.7549486</td>\n",
       "      <td>[0.51113284]</td>\n",
       "      <td>[5.019183]</td>\n",
       "      <td>0.024360</td>\n",
       "      <td>2.504726</td>\n",
       "    </tr>\n",
       "    <tr>\n",
       "      <th>4</th>\n",
       "      <td>1.7549453</td>\n",
       "      <td>[0.50945634]</td>\n",
       "      <td>[5.0075474]</td>\n",
       "      <td>0.422956</td>\n",
       "      <td>6.300903</td>\n",
       "    </tr>\n",
       "    <tr>\n",
       "      <th>5</th>\n",
       "      <td>1.7549646</td>\n",
       "      <td>[0.5087664]</td>\n",
       "      <td>[4.992894]</td>\n",
       "      <td>0.317083</td>\n",
       "      <td>1.335294</td>\n",
       "    </tr>\n",
       "    <tr>\n",
       "      <th>6</th>\n",
       "      <td>1.7549437</td>\n",
       "      <td>[0.50981426]</td>\n",
       "      <td>[5.016553]</td>\n",
       "      <td>0.569097</td>\n",
       "      <td>3.339710</td>\n",
       "    </tr>\n",
       "    <tr>\n",
       "      <th>7</th>\n",
       "      <td>1.7549523</td>\n",
       "      <td>[0.51095116]</td>\n",
       "      <td>[5.002224]</td>\n",
       "      <td>0.146055</td>\n",
       "      <td>8.153884</td>\n",
       "    </tr>\n",
       "    <tr>\n",
       "      <th>8</th>\n",
       "      <td>1.7549479</td>\n",
       "      <td>[0.50936157]</td>\n",
       "      <td>[5.022941]</td>\n",
       "      <td>0.538195</td>\n",
       "      <td>3.024650</td>\n",
       "    </tr>\n",
       "    <tr>\n",
       "      <th>9</th>\n",
       "      <td>1.7549556</td>\n",
       "      <td>[0.50825804]</td>\n",
       "      <td>[5.0001493]</td>\n",
       "      <td>0.075363</td>\n",
       "      <td>9.901132</td>\n",
       "    </tr>\n",
       "  </tbody>\n",
       "</table>\n",
       "</div>"
      ],
      "text/plain": [
       "         err       mixture       lambda  mixture_init  lambda_init\n",
       "0  1.7549713   [0.5084596]   [4.990373]      0.206126     1.271737\n",
       "1  1.7549436   [0.5095606]  [5.0154147]      0.957375     5.609975\n",
       "2    1.75495  [0.50945556]  [5.0249567]      0.113368     9.019589\n",
       "3  1.7549486  [0.51113284]   [5.019183]      0.024360     2.504726\n",
       "4  1.7549453  [0.50945634]  [5.0075474]      0.422956     6.300903\n",
       "5  1.7549646   [0.5087664]   [4.992894]      0.317083     1.335294\n",
       "6  1.7549437  [0.50981426]   [5.016553]      0.569097     3.339710\n",
       "7  1.7549523  [0.51095116]   [5.002224]      0.146055     8.153884\n",
       "8  1.7549479  [0.50936157]   [5.022941]      0.538195     3.024650\n",
       "9  1.7549556  [0.50825804]  [5.0001493]      0.075363     9.901132"
      ]
     },
     "execution_count": 12,
     "metadata": {},
     "output_type": "execute_result"
    }
   ],
   "source": [
    "import pandas as pd\n",
    "\n",
    "pd.DataFrame(seed_model_params)"
   ]
  },
  {
   "cell_type": "markdown",
   "metadata": {},
   "source": [
    "Compared with the true parameters, it looks like we're converging well in each case.\n",
    "\n",
    "So seems successful overall! This approach makes it quite easy to train fairly complex distributions without having to understand the particular methods for fitting that distribution type (if they even exist)."
   ]
  },
  {
   "cell_type": "markdown",
   "metadata": {},
   "source": [
    "## Creating a PyTorch distribution object\n",
    "\n",
    "The solution is a bit hacky - we need to define the mixture of two of the same types, so we used a Poisson distribution with a $\\lambda$ of 0.\n",
    "Can we reformulate this is a pytorch distribution class instead?\n",
    "\n",
    "The poisson class in PyTorch is based around the following (simplified) form:\n",
    "```python\n",
    "class Poisson(ExponentialFamily):\n",
    "    def __init__(self, rate, validate_args=None):\n",
    "        self.rate = rate\n",
    "        super(Poisson, self).__init__(batch_shape, validate_args=validate_args)\n",
    "\n",
    "    def sample(self, sample_shape=torch.Size()):\n",
    "        with torch.no_grad():\n",
    "            return torch.poisson(self.rate.expand(shape))\n",
    "\n",
    "    def log_prob(self, value):\n",
    "        return value.xlogy(self.rate) - self.rate - (value + 1).lgamma()\n",
    "\n",
    "    ...\n",
    "```\n",
    "\n",
    "Can we build the equivalent zero-inflated Poisson distribution?\n",
    "\n",
    "We need to specify a `sample` and `log-prob` method. For both of those we need to find an expression for the product mass function (PMF).\n",
    "\n",
    "### PMF\n",
    "Poisson PMF:\n",
    "$$\\mathrm{P_{s}}(Y=k | \\lambda) = \\frac{\\lambda^{k} e^{-\\lambda }} {k!}$$\n",
    "\n",
    "Bernoulli PMF:\n",
    "$$\n",
    "\\begin{align*}\n",
    "\\mathrm{P_{d}}(Y=0) &= \\pi\\\\\n",
    "\\mathrm{P_{d}}(Y!=0) &= 1-\\pi\n",
    "\\end{align*}\n",
    "$$\n",
    "\n",
    "Mixture distribution:\n",
    "$$\\mathrm{P}(Y) = \\mathrm{P_{d}}(Y) \\mathrm{P_{s}}(Y)$$\n",
    "\n",
    "This is the expression we implement to create the `sample` method.\n",
    "\n",
    "\n",
    "We need to dig further to get the full expression.\n",
    "The zero case:\n",
    "$$\n",
    "\\begin{align*}\n",
    "\\mathrm{P}(Y=0) &= \\mathrm{P_{d}}(Y=0) + \\mathrm{P_{d}}(Y=1) \\mathrm{P_{s}}(Y=0 | \\lambda)\\\\\n",
    "                &= \\pi + (1-\\pi) \\frac{\\lambda^{0} e^{-\\lambda }} {0!}\\\\\n",
    "                &= \\pi + (1-\\pi) e^{-\\lambda }\n",
    "\\end{align*}\n",
    "$$\n",
    "\n",
    "The non-zero case:\n",
    "$$\\mathrm{P}(Y=k) = (1-\\pi) \\frac{\\lambda^{k} e^{-\\lambda }} {k!}$$\n",
    "\n",
    "### Log probs\n",
    "Log of the above:\n",
    "$$\\log{\\mathrm{P}(Y=0)} = \\log(\\pi + (1-\\pi) e^{-\\lambda })$$\n",
    "\n",
    "Non zero case:\n",
    "$$\n",
    "\\begin{align*}\n",
    "\\log{\\mathrm{P}(Y=k)} &= \\log((1-\\pi) \\frac{\\lambda^{k} e^{-\\lambda }} {k!})\\\\\n",
    "                      &= \\log(1-\\pi) + \\log(\\frac{\\lambda^{k} e^{-\\lambda }} {k!})\\\\\n",
    "                      &= \\log(1-\\pi) + \\log(\\lambda^{k} e^{-\\lambda }) -\\log(k!)\\\\\n",
    "                      &= \\log(1-\\pi) + k\\log(\\lambda) -\\lambda -\\log(\\Gamma(k+1))\n",
    "\\end{align*}\n",
    "$$\n",
    "\n",
    "\n",
    "We can create those expression inside a new class:"
   ]
  },
  {
   "cell_type": "code",
   "execution_count": null,
   "metadata": {},
   "outputs": [],
   "source": [
    "from numbers import Number\n",
    "\n",
    "import torch\n",
    "from torch.distributions import constraints\n",
    "from torch.distributions.exp_family import ExponentialFamily\n",
    "from torch.distributions.utils import broadcast_all\n",
    "\n",
    "\n",
    "class ZeroInflatedPoisson(ExponentialFamily):\n",
    "    arg_constraints = {\"p\": constraints.unit_interval, \"rate\": constraints.nonnegative}\n",
    "    support = constraints.nonnegative_integer\n",
    "\n",
    "    def __init__(self, p, rate, validate_args=None):\n",
    "        self.p, self.rate = broadcast_all(p, rate)\n",
    "        if isinstance(rate, Number):\n",
    "            batch_shape = torch.Size()\n",
    "        else:\n",
    "            batch_shape = self.rate.size()\n",
    "        super(ZeroInflatedPoisson, self).__init__(\n",
    "            batch_shape, validate_args=validate_args\n",
    "        )\n",
    "\n",
    "    def sample(self, sample_shape=torch.Size()):\n",
    "        shape = self._extended_shape(sample_shape)\n",
    "        with torch.no_grad():\n",
    "            zero = torch.bernoulli(self.p.expand(shape))\n",
    "            poisson = torch.poisson(self.rate.expand(shape))\n",
    "            return zero * poisson\n",
    "\n",
    "    def log_prob(self, value):\n",
    "        if self._validate_args:\n",
    "            self._validate_sample(value)\n",
    "        rate, p, value = broadcast_all(self.rate, self.p, value)\n",
    "        poisson_log_prob = value.xlogy(rate) - rate - (value + 1).lgamma()\n",
    "        poisson_log_prob[torch.where(value == 0.0)] = torch.log(\n",
    "            p + (1 - p) * torch.exp(-rate)\n",
    "        )[torch.where(value == 0.0)]\n",
    "        poisson_log_prob[value > 0.0] = (\n",
    "            torch.log(1 - p)[value > 0.0] + poisson_log_prob[value > 0.0]\n",
    "        )\n",
    "        return poisson_log_prob"
   ]
  },
  {
   "cell_type": "markdown",
   "metadata": {},
   "source": [
    "We can sample from the distribution object and it looks good:"
   ]
  },
  {
   "cell_type": "code",
   "execution_count": null,
   "metadata": {},
   "outputs": [
    {
     "data": {
      "image/png": "[encoded data removed]",
      "text/plain": [
       "<Figure size 1000x600 with 1 Axes>"
      ]
     },
     "metadata": {},
     "output_type": "display_data"
    }
   ],
   "source": [
    "dist = ZeroInflatedPoisson(p=0.5, rate=10.0)\n",
    "samples = dist.sample(sample_shape=(10000,))\n",
    "\n",
    "fig, ax = plt.subplots(figsize=(10, 6))\n",
    "ax.hist(\n",
    "    samples, bins=int(samples.max() - samples.min()), density=True, label=\"raw data\"\n",
    ")\n",
    "\n",
    "# plot pdf\n",
    "x = torch.arange(0, 20)\n",
    "y = torch.exp(dist.log_prob(x))\n",
    "\n",
    "ax.plot(x.detach().numpy(), y.detach().numpy(), label=\"model pdf\")\n",
    "fig.legend()\n",
    "plt.show()"
   ]
  },
  {
   "cell_type": "markdown",
   "metadata": {},
   "source": [
    "Can we fit the same model with the output as a `ZeroInflatedPoisson`?\n",
    "\n",
    "We can build the model class with the new distribution object as the output:"
   ]
  },
  {
   "cell_type": "code",
   "execution_count": null,
   "metadata": {},
   "outputs": [],
   "source": [
    "class DistZIPModel(ZIPModel):\n",
    "    def __init__(self, **kwargs):\n",
    "        super().__init__(**kwargs)\n",
    "\n",
    "    def forward(self):\n",
    "        # ensure correct domain for params\n",
    "        mixture_prob_norm = torch.sigmoid(self.mixture_prob)\n",
    "        poisson_lambda_norm = torch.nn.functional.softplus(self.poisson_lambda)\n",
    "\n",
    "        zip_dist = ZeroInflatedPoisson(p=mixture_prob_norm, rate=poisson_lambda_norm)\n",
    "        return zip_dist"
   ]
  },
  {
   "cell_type": "markdown",
   "metadata": {},
   "source": [
    "Similarly to before, we can then fit the model multiple times from random starting seeds."
   ]
  },
  {
   "cell_type": "code",
   "execution_count": null,
   "metadata": {},
   "outputs": [
    {
     "name": "stdout",
     "output_type": "stream",
     "text": [
      "0\n"
     ]
    },
    {
     "name": "stderr",
     "output_type": "stream",
     "text": [
      "GPU available: True (mps), used: False\n",
      "TPU available: False, using: 0 TPU cores\n",
      "IPU available: False, using: 0 IPUs\n",
      "HPU available: False, using: 0 HPUs\n",
      "/Users/rich/Developer/miniconda3/envs/pytorch_env/lib/python3.10/site-packages/pytorch_lightning/trainer/trainer.py:1789: UserWarning: MPS available but not used. Set `accelerator` and `devices` using `Trainer(accelerator='mps', devices=1)`.\n",
      "  rank_zero_warn(\n",
      "/Users/rich/Developer/miniconda3/envs/pytorch_env/lib/python3.10/site-packages/pytorch_lightning/trainer/configuration_validator.py:107: PossibleUserWarning: You defined a `validation_step` but have no `val_dataloader`. Skipping val loop.\n",
      "  rank_zero_warn(\n",
      "\n",
      "  | Name | Type | Params\n",
      "------------------------------\n",
      "------------------------------\n",
      "2         Trainable params\n",
      "0         Non-trainable params\n",
      "2         Total params\n",
      "0.000     Total estimated model params size (MB)\n",
      "/Users/rich/Developer/miniconda3/envs/pytorch_env/lib/python3.10/site-packages/pytorch_lightning/trainer/connectors/data_connector.py:236: PossibleUserWarning: The dataloader, train_dataloader, does not have many workers which may be a bottleneck. Consider increasing the value of the `num_workers` argument` (try 8 which is the number of cpus on this machine) in the `DataLoader` init to improve performance.\n",
      "  rank_zero_warn(\n",
      "/Users/rich/Developer/miniconda3/envs/pytorch_env/lib/python3.10/site-packages/pytorch_lightning/trainer/trainer.py:1892: PossibleUserWarning: The number of training batches (1) is smaller than the logging interval Trainer(log_every_n_steps=50). Set a lower value for log_every_n_steps if you want to see logs for the training epoch.\n",
      "  rank_zero_warn(\n"
     ]
    },
    {
     "data": {
      "application/vnd.jupyter.widget-view+json": {
       "model_id": "2f75aeb222b94cbdab78dee8d6789180",
       "version_major": 2,
       "version_minor": 0
      },
      "text/plain": [
       "Training: 0it [00:00, ?it/s]"
      ]
     },
     "metadata": {},
     "output_type": "display_data"
    },
    {
     "name": "stderr",
     "output_type": "stream",
     "text": [
      "`Trainer.fit` stopped: `max_epochs=100` reached.\n"
     ]
    },
    {
     "name": "stdout",
     "output_type": "stream",
     "text": [
      "1\n"
     ]
    },
    {
     "name": "stderr",
     "output_type": "stream",
     "text": [
      "GPU available: True (mps), used: False\n",
      "TPU available: False, using: 0 TPU cores\n",
      "IPU available: False, using: 0 IPUs\n",
      "HPU available: False, using: 0 HPUs\n",
      "\n",
      "  | Name | Type | Params\n",
      "------------------------------\n",
      "------------------------------\n",
      "2         Trainable params\n",
      "0         Non-trainable params\n",
      "2         Total params\n",
      "0.000     Total estimated model params size (MB)\n"
     ]
    },
    {
     "data": {
      "application/vnd.jupyter.widget-view+json": {
       "model_id": "d17ead5b225e4a0c88d6f7b0e845159c",
       "version_major": 2,
       "version_minor": 0
      },
      "text/plain": [
       "Training: 0it [00:00, ?it/s]"
      ]
     },
     "metadata": {},
     "output_type": "display_data"
    },
    {
     "name": "stderr",
     "output_type": "stream",
     "text": [
      "`Trainer.fit` stopped: `max_epochs=100` reached.\n"
     ]
    },
    {
     "name": "stdout",
     "output_type": "stream",
     "text": [
      "2\n"
     ]
    },
    {
     "name": "stderr",
     "output_type": "stream",
     "text": [
      "GPU available: True (mps), used: False\n",
      "TPU available: False, using: 0 TPU cores\n",
      "IPU available: False, using: 0 IPUs\n",
      "HPU available: False, using: 0 HPUs\n",
      "\n",
      "  | Name | Type | Params\n",
      "------------------------------\n",
      "------------------------------\n",
      "2         Trainable params\n",
      "0         Non-trainable params\n",
      "2         Total params\n",
      "0.000     Total estimated model params size (MB)\n"
     ]
    },
    {
     "data": {
      "application/vnd.jupyter.widget-view+json": {
       "model_id": "d798af0ee7f547faac29030d3397a256",
       "version_major": 2,
       "version_minor": 0
      },
      "text/plain": [
       "Training: 0it [00:00, ?it/s]"
      ]
     },
     "metadata": {},
     "output_type": "display_data"
    },
    {
     "name": "stderr",
     "output_type": "stream",
     "text": [
      "`Trainer.fit` stopped: `max_epochs=100` reached.\n"
     ]
    },
    {
     "name": "stdout",
     "output_type": "stream",
     "text": [
      "3\n"
     ]
    },
    {
     "name": "stderr",
     "output_type": "stream",
     "text": [
      "GPU available: True (mps), used: False\n",
      "TPU available: False, using: 0 TPU cores\n",
      "IPU available: False, using: 0 IPUs\n",
      "HPU available: False, using: 0 HPUs\n",
      "\n",
      "  | Name | Type | Params\n",
      "------------------------------\n",
      "------------------------------\n",
      "2         Trainable params\n",
      "0         Non-trainable params\n",
      "2         Total params\n",
      "0.000     Total estimated model params size (MB)\n"
     ]
    },
    {
     "data": {
      "application/vnd.jupyter.widget-view+json": {
       "model_id": "6882e4d50091428b9b7e677c5cbf8a33",
       "version_major": 2,
       "version_minor": 0
      },
      "text/plain": [
       "Training: 0it [00:00, ?it/s]"
      ]
     },
     "metadata": {},
     "output_type": "display_data"
    },
    {
     "name": "stderr",
     "output_type": "stream",
     "text": [
      "`Trainer.fit` stopped: `max_epochs=100` reached.\n"
     ]
    },
    {
     "name": "stdout",
     "output_type": "stream",
     "text": [
      "4\n"
     ]
    },
    {
     "name": "stderr",
     "output_type": "stream",
     "text": [
      "GPU available: True (mps), used: False\n",
      "TPU available: False, using: 0 TPU cores\n",
      "IPU available: False, using: 0 IPUs\n",
      "HPU available: False, using: 0 HPUs\n",
      "\n",
      "  | Name | Type | Params\n",
      "------------------------------\n",
      "------------------------------\n",
      "2         Trainable params\n",
      "0         Non-trainable params\n",
      "2         Total params\n",
      "0.000     Total estimated model params size (MB)\n"
     ]
    },
    {
     "data": {
      "application/vnd.jupyter.widget-view+json": {
       "model_id": "ad50ee6e37054b11b0c2a1d56410f6e9",
       "version_major": 2,
       "version_minor": 0
      },
      "text/plain": [
       "Training: 0it [00:00, ?it/s]"
      ]
     },
     "metadata": {},
     "output_type": "display_data"
    },
    {
     "name": "stderr",
     "output_type": "stream",
     "text": [
      "`Trainer.fit` stopped: `max_epochs=100` reached.\n"
     ]
    },
    {
     "name": "stdout",
     "output_type": "stream",
     "text": [
      "5\n"
     ]
    },
    {
     "name": "stderr",
     "output_type": "stream",
     "text": [
      "GPU available: True (mps), used: False\n",
      "TPU available: False, using: 0 TPU cores\n",
      "IPU available: False, using: 0 IPUs\n",
      "HPU available: False, using: 0 HPUs\n",
      "\n",
      "  | Name | Type | Params\n",
      "------------------------------\n",
      "------------------------------\n",
      "2         Trainable params\n",
      "0         Non-trainable params\n",
      "2         Total params\n",
      "0.000     Total estimated model params size (MB)\n"
     ]
    },
    {
     "data": {
      "application/vnd.jupyter.widget-view+json": {
       "model_id": "b6910ac0d21f47bbb7cb5f9e47e7b07c",
       "version_major": 2,
       "version_minor": 0
      },
      "text/plain": [
       "Training: 0it [00:00, ?it/s]"
      ]
     },
     "metadata": {},
     "output_type": "display_data"
    },
    {
     "name": "stderr",
     "output_type": "stream",
     "text": [
      "`Trainer.fit` stopped: `max_epochs=100` reached.\n"
     ]
    },
    {
     "name": "stdout",
     "output_type": "stream",
     "text": [
      "6\n"
     ]
    },
    {
     "name": "stderr",
     "output_type": "stream",
     "text": [
      "GPU available: True (mps), used: False\n",
      "TPU available: False, using: 0 TPU cores\n",
      "IPU available: False, using: 0 IPUs\n",
      "HPU available: False, using: 0 HPUs\n",
      "\n",
      "  | Name | Type | Params\n",
      "------------------------------\n",
      "------------------------------\n",
      "2         Trainable params\n",
      "0         Non-trainable params\n",
      "2         Total params\n",
      "0.000     Total estimated model params size (MB)\n"
     ]
    },
    {
     "data": {
      "application/vnd.jupyter.widget-view+json": {
       "model_id": "01e7d1a92d2a4abc9297c24caec6e4d9",
       "version_major": 2,
       "version_minor": 0
      },
      "text/plain": [
       "Training: 0it [00:00, ?it/s]"
      ]
     },
     "metadata": {},
     "output_type": "display_data"
    },
    {
     "name": "stderr",
     "output_type": "stream",
     "text": [
      "`Trainer.fit` stopped: `max_epochs=100` reached.\n"
     ]
    },
    {
     "name": "stdout",
     "output_type": "stream",
     "text": [
      "7\n"
     ]
    },
    {
     "name": "stderr",
     "output_type": "stream",
     "text": [
      "GPU available: True (mps), used: False\n",
      "TPU available: False, using: 0 TPU cores\n",
      "IPU available: False, using: 0 IPUs\n",
      "HPU available: False, using: 0 HPUs\n",
      "\n",
      "  | Name | Type | Params\n",
      "------------------------------\n",
      "------------------------------\n",
      "2         Trainable params\n",
      "0         Non-trainable params\n",
      "2         Total params\n",
      "0.000     Total estimated model params size (MB)\n"
     ]
    },
    {
     "data": {
      "application/vnd.jupyter.widget-view+json": {
       "model_id": "f6feedbe320f45e1b21e565dec839ef7",
       "version_major": 2,
       "version_minor": 0
      },
      "text/plain": [
       "Training: 0it [00:00, ?it/s]"
      ]
     },
     "metadata": {},
     "output_type": "display_data"
    },
    {
     "name": "stderr",
     "output_type": "stream",
     "text": [
      "`Trainer.fit` stopped: `max_epochs=100` reached.\n"
     ]
    },
    {
     "name": "stdout",
     "output_type": "stream",
     "text": [
      "8\n"
     ]
    },
    {
     "name": "stderr",
     "output_type": "stream",
     "text": [
      "GPU available: True (mps), used: False\n",
      "TPU available: False, using: 0 TPU cores\n",
      "IPU available: False, using: 0 IPUs\n",
      "HPU available: False, using: 0 HPUs\n",
      "\n",
      "  | Name | Type | Params\n",
      "------------------------------\n",
      "------------------------------\n",
      "2         Trainable params\n",
      "0         Non-trainable params\n",
      "2         Total params\n",
      "0.000     Total estimated model params size (MB)\n"
     ]
    },
    {
     "data": {
      "application/vnd.jupyter.widget-view+json": {
       "model_id": "6600e6dc4f5e414686f0c67c78086900",
       "version_major": 2,
       "version_minor": 0
      },
      "text/plain": [
       "Training: 0it [00:00, ?it/s]"
      ]
     },
     "metadata": {},
     "output_type": "display_data"
    },
    {
     "name": "stderr",
     "output_type": "stream",
     "text": [
      "`Trainer.fit` stopped: `max_epochs=100` reached.\n"
     ]
    },
    {
     "name": "stdout",
     "output_type": "stream",
     "text": [
      "9\n"
     ]
    },
    {
     "name": "stderr",
     "output_type": "stream",
     "text": [
      "GPU available: True (mps), used: False\n",
      "TPU available: False, using: 0 TPU cores\n",
      "IPU available: False, using: 0 IPUs\n",
      "HPU available: False, using: 0 HPUs\n",
      "\n",
      "  | Name | Type | Params\n",
      "------------------------------\n",
      "------------------------------\n",
      "2         Trainable params\n",
      "0         Non-trainable params\n",
      "2         Total params\n",
      "0.000     Total estimated model params size (MB)\n"
     ]
    },
    {
     "data": {
      "application/vnd.jupyter.widget-view+json": {
       "model_id": "a565ffe920614df0b79e28adc5eb56bf",
       "version_major": 2,
       "version_minor": 0
      },
      "text/plain": [
       "Training: 0it [00:00, ?it/s]"
      ]
     },
     "metadata": {},
     "output_type": "display_data"
    },
    {
     "name": "stderr",
     "output_type": "stream",
     "text": [
      "`Trainer.fit` stopped: `max_epochs=100` reached.\n"
     ]
    }
   ],
   "source": [
    "import random\n",
    "\n",
    "seed_model_params = []\n",
    "for _idx in range(10):\n",
    "    print(_idx)\n",
    "    init_params = [random.random(), random.random() * 10]\n",
    "    model = DistZIPModel(\n",
    "        learning_rate=1e-0,\n",
    "        init_mix_parameter=init_params[0],\n",
    "        init_poisson_lambda=init_params[1],\n",
    "    )\n",
    "\n",
    "    # fit network\n",
    "    trainer = pl.Trainer(\n",
    "        max_epochs=100,\n",
    "    )\n",
    "    trainer.fit(model, dataloader_train)\n",
    "\n",
    "    seed_model_params.append(\n",
    "        {\n",
    "            \"err\": model.train_log_error[-1],\n",
    "            \"mixture\": model.mixture_prob_log[-1][0],\n",
    "            \"lambda\": model.poisson_lambda_log[-1][0],\n",
    "            \"mixture_init\": init_params[0],\n",
    "            \"lambda_init\": init_params[1],\n",
    "        }\n",
    "    )"
   ]
  },
  {
   "cell_type": "markdown",
   "metadata": {},
   "source": [
    "We get similar results to last time, so the training is working:"
   ]
  },
  {
   "cell_type": "code",
   "execution_count": null,
   "metadata": {},
   "outputs": [
    {
     "data": {
      "text/html": [
       "<div>\n",
       "<style scoped>\n",
       "    .dataframe tbody tr th:only-of-type {\n",
       "        vertical-align: middle;\n",
       "    }\n",
       "\n",
       "    .dataframe tbody tr th {\n",
       "        vertical-align: top;\n",
       "    }\n",
       "\n",
       "    .dataframe thead th {\n",
       "        text-align: right;\n",
       "    }\n",
       "</style>\n",
       "<table border=\"1\" class=\"dataframe\">\n",
       "  <thead>\n",
       "    <tr style=\"text-align: right;\">\n",
       "      <th></th>\n",
       "      <th>err</th>\n",
       "      <th>mixture</th>\n",
       "      <th>lambda</th>\n",
       "      <th>mixture_init</th>\n",
       "      <th>lambda_init</th>\n",
       "    </tr>\n",
       "  </thead>\n",
       "  <tbody>\n",
       "    <tr>\n",
       "      <th>0</th>\n",
       "      <td>1.7549562</td>\n",
       "      <td>0.509187</td>\n",
       "      <td>4.996997</td>\n",
       "      <td>0.903635</td>\n",
       "      <td>2.128501</td>\n",
       "    </tr>\n",
       "    <tr>\n",
       "      <th>1</th>\n",
       "      <td>1.75495</td>\n",
       "      <td>0.510270</td>\n",
       "      <td>5.002354</td>\n",
       "      <td>0.465512</td>\n",
       "      <td>8.292895</td>\n",
       "    </tr>\n",
       "    <tr>\n",
       "      <th>2</th>\n",
       "      <td>1.7549443</td>\n",
       "      <td>0.509034</td>\n",
       "      <td>5.013655</td>\n",
       "      <td>0.527130</td>\n",
       "      <td>5.674198</td>\n",
       "    </tr>\n",
       "    <tr>\n",
       "      <th>3</th>\n",
       "      <td>1.7549495</td>\n",
       "      <td>0.510738</td>\n",
       "      <td>5.004287</td>\n",
       "      <td>0.960527</td>\n",
       "      <td>7.272479</td>\n",
       "    </tr>\n",
       "    <tr>\n",
       "      <th>4</th>\n",
       "      <td>1.7549485</td>\n",
       "      <td>0.510341</td>\n",
       "      <td>5.022951</td>\n",
       "      <td>0.543747</td>\n",
       "      <td>7.638310</td>\n",
       "    </tr>\n",
       "    <tr>\n",
       "      <th>5</th>\n",
       "      <td>1.7549614</td>\n",
       "      <td>0.509203</td>\n",
       "      <td>5.032393</td>\n",
       "      <td>0.378267</td>\n",
       "      <td>0.567890</td>\n",
       "    </tr>\n",
       "    <tr>\n",
       "      <th>6</th>\n",
       "      <td>1.7549452</td>\n",
       "      <td>0.509837</td>\n",
       "      <td>5.007850</td>\n",
       "      <td>0.241634</td>\n",
       "      <td>1.943764</td>\n",
       "    </tr>\n",
       "    <tr>\n",
       "      <th>7</th>\n",
       "      <td>1.754977</td>\n",
       "      <td>0.508137</td>\n",
       "      <td>5.037724</td>\n",
       "      <td>0.597536</td>\n",
       "      <td>0.653239</td>\n",
       "    </tr>\n",
       "    <tr>\n",
       "      <th>8</th>\n",
       "      <td>1.7549465</td>\n",
       "      <td>0.510558</td>\n",
       "      <td>5.019430</td>\n",
       "      <td>0.807217</td>\n",
       "      <td>6.436518</td>\n",
       "    </tr>\n",
       "    <tr>\n",
       "      <th>9</th>\n",
       "      <td>1.754944</td>\n",
       "      <td>0.509288</td>\n",
       "      <td>5.011004</td>\n",
       "      <td>0.871826</td>\n",
       "      <td>8.402232</td>\n",
       "    </tr>\n",
       "  </tbody>\n",
       "</table>\n",
       "</div>"
      ],
      "text/plain": [
       "         err   mixture    lambda  mixture_init  lambda_init\n",
       "0  1.7549562  0.509187  4.996997      0.903635     2.128501\n",
       "1    1.75495  0.510270  5.002354      0.465512     8.292895\n",
       "2  1.7549443  0.509034  5.013655      0.527130     5.674198\n",
       "3  1.7549495  0.510738  5.004287      0.960527     7.272479\n",
       "4  1.7549485  0.510341  5.022951      0.543747     7.638310\n",
       "5  1.7549614  0.509203  5.032393      0.378267     0.567890\n",
       "6  1.7549452  0.509837  5.007850      0.241634     1.943764\n",
       "7   1.754977  0.508137  5.037724      0.597536     0.653239\n",
       "8  1.7549465  0.510558  5.019430      0.807217     6.436518\n",
       "9   1.754944  0.509288  5.011004      0.871826     8.402232"
      ]
     },
     "execution_count": 17,
     "metadata": {},
     "output_type": "execute_result"
    }
   ],
   "source": [
    "import pandas as pd\n",
    "\n",
    "pd.DataFrame(seed_model_params)"
   ]
  },
  {
   "cell_type": "markdown",
   "metadata": {},
   "source": [
    "So in summary, we can create a PyTorch distribution class by constructing the `log_prob` of the distribution product mass function. We can then fit that distribution to data via gradient descent without needing to know any particular fitting proceedure for that distribution."
   ]
  }
 ],
 "metadata": {
  "kernelspec": {
   "display_name": "Python 3.10.6 64-bit ('pytorch_env')",
   "language": "python",
   "name": "python3"
  },
  "language_info": {
   "codemirror_mode": {
    "name": "ipython",
    "version": 3
   },
   "file_extension": ".py",
   "mimetype": "text/x-python",
   "name": "python",
   "nbconvert_exporter": "python",
   "pygments_lexer": "ipython3",
   "version": "3.10.10"
  },
  "orig_nbformat": 4,
  "vscode": {
   "interpreter": {
    "hash": "155ead7e3e7cc87f1c8ac5b93741665d5692c3c80ccfbc75b55ba980f115c04c"
   }
  }
 },
 "nbformat": 4,
 "nbformat_minor": 2
}
