{
 "cells": [
  {
   "attachments": {},
   "cell_type": "markdown",
   "metadata": {},
   "source": [
    "# Representing the dot/inner product through an MLP\n",
    "\n",
    "Dot products are commonly used in recommender systems to combine user and item embeddings.\n",
    "\n",
    "The dot product of two vectors (A and B) is the sum of the products of their corresponding elements:\n",
    "$$\n",
    "\\mathbf{a} \\cdot \\mathbf{b} = \\langle \\mathbf{a}, \\mathbf{b} \\rangle = \\sum_{i=1}^{n} a_i b_i\n",
    "$$\n",
    "\n",
    "\n",
    "Dense layers in a neural network work on the weighted sum of inputs. They dont directly capture interactions between features. We can concat two vector and push through a dense layer. The output of a dense layer is given as:\n",
    "$$\n",
    "g([\\mathbf{a} , \\mathbf{b}]) = \\sigma(\\mathbf{W} \\cdot ([\\mathbf{a} , \\mathbf{b}]) + \\mathbf{c})\n",
    "$$\n",
    "\n",
    "Where $[,]$ is the concatenation operation and $\\mathbf{W}$ and $\\mathbf{c}$ are the weight matrix and bias of the dense layer, respectively.\n",
    "\n",
    "In this notebook, we will explore how to represent the dot product using a neural network\n",
    "\n",
    "## TODO\n",
    "1. Create a model training framework\n",
    "2. Deep vs shallow\n",
    "3. data loader to create random dot product samples\n",
    "4. overfit small sample, with high epoch count\n",
    "   1. is learning rate correct?\n",
    "\n",
    "## Setup\n",
    "```\n",
    "uv add pytorch-lightning\n",
    "uv run mlflow ui --backend-store-uri experiments\n",
    "```"
   ]
  },
  {
   "cell_type": "markdown",
   "metadata": {},
   "source": [
    "## Model definition"
   ]
  },
  {
   "cell_type": "code",
   "execution_count": 1,
   "metadata": {},
   "outputs": [],
   "source": [
    "from typing import List\n",
    "import pytorch_lightning as pyl\n",
    "import torch\n",
    "import torch.nn as nn\n",
    "\n",
    "\n",
    "class Model(pyl.LightningModule):\n",
    "    def __init__(\n",
    "        self,\n",
    "        dimension: int,\n",
    "        layer_sizes: List[int] = [32, 16],\n",
    "        learning_rate: float = 5e-3,\n",
    "        incl_multiplication: bool = False,\n",
    "    ):\n",
    "        super().__init__()\n",
    "\n",
    "        self.incl_multiplication = incl_multiplication\n",
    "        input_layer_size = dimension * 3 if incl_multiplication else dimension * 2\n",
    "        if layer_sizes is None:\n",
    "            self.output = nn.Linear(input_layer_size, 1)\n",
    "            # self.output.weight.data.fill_(1.0)\n",
    "            # self.output.bias.data.fill_(0.0)\n",
    "        else:\n",
    "            layer_sizes = [input_layer_size] + layer_sizes + [1]\n",
    "            layers = []\n",
    "            for i in range(len(layer_sizes) - 1):\n",
    "                layers.append(nn.Linear(layer_sizes[i], layer_sizes[i + 1]))\n",
    "                layers.append(nn.ReLU())\n",
    "            self.output = nn.Sequential(*layers, nn.Linear(layer_sizes[-1], 1))\n",
    "\n",
    "        self.learning_rate = learning_rate\n",
    "        self.save_hyperparameters()\n",
    "\n",
    "    def forward(self, a, b):\n",
    "        if self.incl_multiplication:\n",
    "            return self.output(torch.cat([a, b, a * b], dim=1)).flatten()\n",
    "        else:\n",
    "            return self.output(torch.cat([a, b], dim=1)).flatten()\n",
    "\n",
    "    def training_step(self, batch, batch_idx):\n",
    "        a, b, y = batch\n",
    "        y_hat = self(a, b)\n",
    "        loss = nn.MSELoss()(y_hat, y)\n",
    "        self.log(\"train_loss\", loss, on_step=True, on_epoch=True, prog_bar=True)\n",
    "        return loss\n",
    "\n",
    "    def validation_step(self, batch, batch_idx):\n",
    "        a, b, y = batch\n",
    "        y_hat = self(a, b)\n",
    "        loss = nn.MSELoss()(y_hat, y)\n",
    "        self.log(\"val_loss\", loss, on_step=True, on_epoch=True, prog_bar=True)\n",
    "        return loss\n",
    "\n",
    "    def test_step(self, batch, batch_idx):\n",
    "        a, b, y = batch\n",
    "        y_hat = self(a, b)\n",
    "        loss = nn.MSELoss()(y_hat, y)\n",
    "        self.log(\"test_loss\", loss, on_step=True, on_epoch=True, prog_bar=True)\n",
    "        return loss\n",
    "\n",
    "    def configure_optimizers(self):\n",
    "        return torch.optim.Adam(self.parameters(), lr=self.learning_rate)"
   ]
  },
  {
   "cell_type": "markdown",
   "metadata": {},
   "source": [
    "## Generate data\n",
    "We will make a dataset that creates a random pair of vectors and their dot product.\n",
    "As the data is randomly generate each batch we don't need to be concerned with overfitting.\n",
    "Therefore we have only a train dataloader."
   ]
  },
  {
   "cell_type": "code",
   "execution_count": 2,
   "metadata": {},
   "outputs": [
    {
     "name": "stdout",
     "output_type": "stream",
     "text": [
      "a: tensor([[0.3367],\n",
      "        [0.1288],\n",
      "        [0.2345],\n",
      "        [0.2303]])\n",
      "b: tensor([[ 0.5349],\n",
      "        [ 0.8094],\n",
      "        [ 1.1103],\n",
      "        [-1.6898]])\n",
      "Dot Product: tensor([ 0.1801,  0.1043,  0.2603, -0.3892])\n"
     ]
    }
   ],
   "source": [
    "from torch.utils.data import Dataset, DataLoader\n",
    "import torch\n",
    "\n",
    "\n",
    "class RandomVectorDataset(Dataset):\n",
    "    def __init__(self, dimension: int, num_samples: int, seed: int = 42):\n",
    "        self.seed = seed\n",
    "        torch.manual_seed(seed)\n",
    "        self.dimension = dimension\n",
    "        self.num_samples = num_samples\n",
    "\n",
    "        self.a = torch.randn(num_samples, dimension)\n",
    "        self.b = torch.randn(num_samples, dimension)\n",
    "        self.y = torch.sum(self.a * self.b, dim=1)\n",
    "\n",
    "    def __len__(self):\n",
    "        return self.num_samples\n",
    "\n",
    "    def __getitem__(self, idx):\n",
    "        return self.a[idx, :], self.b[idx, :], self.y[idx]\n",
    "\n",
    "\n",
    "class RandomVectorDataset2(Dataset):\n",
    "    def __init__(self, dimension: int, num_samples: int, seed: int = 42):\n",
    "        self.seed = seed\n",
    "        torch.manual_seed(seed)\n",
    "        self.dimension = dimension\n",
    "        self.num_samples = num_samples\n",
    "\n",
    "    def __len__(self):\n",
    "        return self.num_samples\n",
    "\n",
    "    def __getitem__(self, idx):\n",
    "        a = torch.randn(self.dimension)\n",
    "        b = torch.randn(self.dimension)\n",
    "        y = torch.dot(a, b)\n",
    "        return a, b, y\n",
    "\n",
    "\n",
    "dataset = RandomVectorDataset(dimension=1, num_samples=10)\n",
    "dataloader = DataLoader(dataset, batch_size=4, shuffle=False)\n",
    "\n",
    "for batch in dataloader:\n",
    "    a, b, y = batch\n",
    "    print(f\"a: {a}\")\n",
    "    print(f\"b: {b}\")\n",
    "    print(f\"Dot Product: {y}\")\n",
    "    break  # Remove this break to iterate through the entire dataset"
   ]
  },
  {
   "cell_type": "markdown",
   "metadata": {},
   "source": [
    "## Train models"
   ]
  },
  {
   "cell_type": "code",
   "execution_count": 9,
   "metadata": {},
   "outputs": [],
   "source": [
    "from pytorch_lightning.callbacks import EarlyStopping\n",
    "from pytorch_lightning.loggers import MLFlowLogger\n",
    "\n",
    "\n",
    "def setup_experiment():\n",
    "    mlf_logger = MLFlowLogger(experiment_name=\"dot_product\", tracking_uri=\"experiments\")\n",
    "    return mlf_logger\n",
    "\n",
    "\n",
    "def train(model, dataloader):\n",
    "    early_stopping = EarlyStopping(monitor=\"train_loss\", patience=2, mode=\"min\")\n",
    "    mlf_logger = setup_experiment()\n",
    "    trainer = pyl.Trainer(\n",
    "        max_epochs=300,\n",
    "        logger=mlf_logger,\n",
    "        log_every_n_steps=1,\n",
    "        callbacks=early_stopping,\n",
    "    )\n",
    "    trainer.fit(model, dataloader)\n",
    "\n",
    "    return trainer.test(model, dataloader)\n",
    "\n",
    "\n",
    "def train_loop(dimension: int, model_kwargs: dict = None):\n",
    "    _model_kwargs = {\"layer_sizes\": [dimension * 2, dimension], \"learning_rate\": 1e-2}\n",
    "    _model_kwargs.update(model_kwargs or {})\n",
    "\n",
    "    # Create dataset and dataloader\n",
    "    num_samples = 1_000_000\n",
    "    num_samples = 1024\n",
    "    batch_size = 1024\n",
    "    dataset = RandomVectorDataset(dimension=dimension, num_samples=num_samples)\n",
    "    dataloader = DataLoader(dataset, batch_size=batch_size, shuffle=False)\n",
    "\n",
    "    model = Model(dimension=dimension, **_model_kwargs)\n",
    "    loss = train(model=model, dataloader=dataloader)\n",
    "    return model, loss"
   ]
  },
  {
   "cell_type": "code",
   "execution_count": 23,
   "metadata": {},
   "outputs": [
    {
     "name": "stderr",
     "output_type": "stream",
     "text": [
      "GPU available: True (mps), used: True\n",
      "TPU available: False, using: 0 TPU cores\n",
      "HPU available: False, using: 0 HPUs\n",
      "\n",
      "  | Name   | Type       | Params | Mode \n",
      "----------------------------------------------\n",
      "0 | output | Sequential | 66     | train\n",
      "----------------------------------------------\n",
      "66        Trainable params\n",
      "0         Non-trainable params\n",
      "66        Total params\n",
      "0.000     Total estimated model params size (MB)\n",
      "64        Modules in train mode\n",
      "0         Modules in eval mode\n"
     ]
    },
    {
     "name": "stdout",
     "output_type": "stream",
     "text": [
      "Epoch 51: 100%|██████████| 1/1 [00:00<00:00, 14.57it/s, v_num=515e, train_loss_step=0.960, train_loss_epoch=0.960]\n",
      "Testing DataLoader 0: 100%|██████████| 1/1 [00:00<00:00, 149.32it/s]\n",
      "────────────────────────────────────────────────────────────────────────────────────────────────────────────────────────\n",
      "       Test metric             DataLoader 0\n",
      "────────────────────────────────────────────────────────────────────────────────────────────────────────────────────────\n",
      "     test_loss_epoch         0.96002197265625\n",
      "────────────────────────────────────────────────────────────────────────────────────────────────────────────────────────\n"
     ]
    }
   ],
   "source": [
    "# model, loss = train_loop(dimension=4, layers=[4, 2])\n",
    "# model, loss = train_loop(dimension=4, layers=[4])\n",
    "# model, loss = train_loop(dimension=4, layers=[16, 8, 4, 2])\n",
    "# model, loss = train_loop(dimension=2, layers=[4, 2])\n",
    "# model, loss = train_loop(dimension=1, layers=[2])\n",
    "# model, loss = train_loop(dimension=2, layers=[16, 8, 4, 2])\n",
    "# model, loss = train_loop(dimension=2, layers=[32, 32, 16, 16, 8, 8, 4, 4, 2, 2])\n",
    "# model, loss = train_loop(dimension=2, layers=[4]*30)\n",
    "# model, loss = train_loop(dimension=1, layers=[4]*100)\n",
    "# model, loss = train_loop(dimension=1, layers=[1024, 512, 128, 64, 32])\n",
    "# model, loss = train_loop(dimension=1)\n",
    "# model, loss = train_loop(dimension=1, model_kwargs={\"incl_multiplication\": True})\n",
    "# model, loss = train_loop(dimension=1, model_kwargs={\"layer_sizes\":[8, 8, 4, 4], \"incl_multiplication\": True})\n",
    "# model, loss = train_loop(\n",
    "#     dimension=1,\n",
    "#     model_kwargs={\"layer_sizes\": [16, 8, 8, 4, 4], \"incl_multiplication\": True, 'learning_rate': 1e-2},\n",
    "# )\n",
    "# model, loss = train_loop(\n",
    "#     dimension=1, model_kwargs={\"layer_sizes\": None, \"incl_multiplication\": True}\n",
    "# )\n",
    "model, loss = train_loop(\n",
    "    dimension=1, model_kwargs={\"layer_sizes\": [1] * 30, \"incl_multiplication\": True}\n",
    ")\n",
    "# model, loss = train_loop(dimension=1, layers=[10000, 512, 128, 64, 32])\n",
    "# model, loss = train_loop(dimension=1, layers=[64, 32, 16, 8, 4, 2])\n",
    "# model, loss = train_loop(dimension=1, layers=None)\n",
    "# model, loss = train_loop(dimension=2, layers=None)"
   ]
  },
  {
   "cell_type": "code",
   "execution_count": 72,
   "metadata": {},
   "outputs": [
    {
     "data": {
      "text/plain": [
       "[Parameter containing:\n",
       " tensor([[ 0.6321,  0.6314,  0.3821],\n",
       "         [ 0.8511,  0.9255, -0.3002],\n",
       "         [-0.2286, -0.2052,  0.8763],\n",
       "         [-0.4934, -0.4419, -0.6459]], requires_grad=True),\n",
       " Parameter containing:\n",
       " tensor([ 0.2503,  0.0763,  1.2434, -0.0285], requires_grad=True),\n",
       " Parameter containing:\n",
       " tensor([[ 0.8136, -0.3749,  1.2269, -0.4511]], requires_grad=True),\n",
       " Parameter containing:\n",
       " tensor([0.7480], requires_grad=True),\n",
       " Parameter containing:\n",
       " tensor([[0.7036]], requires_grad=True),\n",
       " Parameter containing:\n",
       " tensor([-1.6541], requires_grad=True)]"
      ]
     },
     "execution_count": 72,
     "metadata": {},
     "output_type": "execute_result"
    }
   ],
   "source": [
    "list(model.parameters())"
   ]
  },
  {
   "cell_type": "markdown",
   "metadata": {},
   "source": [
    "## Results"
   ]
  },
  {
   "cell_type": "code",
   "execution_count": 30,
   "metadata": {},
   "outputs": [
    {
     "data": {
      "text/plain": [
       "[]"
      ]
     },
     "execution_count": 30,
     "metadata": {},
     "output_type": "execute_result"
    }
   ],
   "source": [
    "runs"
   ]
  },
  {
   "cell_type": "code",
   "execution_count": 29,
   "metadata": {},
   "outputs": [
    {
     "name": "stderr",
     "output_type": "stream",
     "text": [
      "/var/folders/ky/4qby95090jbbq38_mh94x72r0000gn/T/ipykernel_30302/2643683158.py:31: UserWarning: No artists with labels found to put in legend.  Note that artists whose label start with an underscore are ignored when legend() is called with no argument.\n",
      "  plt.legend()\n"
     ]
    },
    {
     "data": {
      "image/png": "[encoded data removed]",
      "text/plain": [
       "<Figure size 1000x600 with 1 Axes>"
      ]
     },
     "metadata": {},
     "output_type": "display_data"
    }
   ],
   "source": [
    "# load all mlflow final epoch loss\n",
    "# plot against architecture and dimension\n",
    "\n",
    "import mlflow\n",
    "import pandas as pd\n",
    "import matplotlib.pyplot as plt\n",
    "\n",
    "# Set the experiment ID or name\n",
    "experiment_id = \"dot_product\"\n",
    "# mlf_logger = MLFlowLogger(experiment_name=\"dot_product\", tracking_uri=\"experiments\")\n",
    "\n",
    "# Load all runs from the experiment\n",
    "client = mlflow.tracking.MlflowClient(tracking_uri=\"experiments\")\n",
    "runs = client.search_runs(experiment_ids=[experiment_id])\n",
    "\n",
    "# Extract training losses\n",
    "losses = {}\n",
    "for run in runs:\n",
    "    run_id = run.info.run_id\n",
    "    metrics = client.get_metric_history(run_id, \"training_loss\")\n",
    "    losses[run_id] = [metric.value for metric in metrics]\n",
    "\n",
    "# Plot the training losses\n",
    "plt.figure(figsize=(10, 6))\n",
    "for run_id, loss_values in losses.items():\n",
    "    plt.plot(loss_values, label=f\"Run {run_id}\")\n",
    "\n",
    "plt.xlabel(\"Epoch\")\n",
    "plt.ylabel(\"Training Loss\")\n",
    "plt.title(\"Training Losses for All Runs\")\n",
    "plt.legend()\n",
    "plt.show()"
   ]
  },
  {
   "attachments": {},
   "cell_type": "markdown",
   "metadata": {},
   "source": [
    "### Conclusion\n",
    "\n"
   ]
  }
 ],
 "metadata": {
  "kernelspec": {
   "display_name": ".venv",
   "language": "python",
   "name": "python3"
  },
  "language_info": {
   "codemirror_mode": {
    "name": "ipython",
    "version": 3
   },
   "file_extension": ".py",
   "mimetype": "text/x-python",
   "name": "python",
   "nbconvert_exporter": "python",
   "pygments_lexer": "ipython3",
   "version": "3.12.8"
  },
  "orig_nbformat": 4
 },
 "nbformat": 4,
 "nbformat_minor": 2
}
