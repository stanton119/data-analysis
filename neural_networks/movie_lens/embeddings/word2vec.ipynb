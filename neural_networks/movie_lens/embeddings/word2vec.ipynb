{
 "cells": [
  {
   "attachments": {},
   "cell_type": "markdown",
   "metadata": {},
   "source": [
    "# Word2Vec - Finding similar movies in the MovieLens datset\n",
    "\n",
    "Can we find an embedding space built on the movielens dataset to compare distance between titles?\n",
    "\n",
    "Consider each person's viewing history as a series of titles.\n",
    "Build a model to predict the next title watched based on the ones before it.\n",
    "Or build a model to predict the middle title based on the ones either side.\n",
    "\n",
    "Represent the titles as an embedding vector.\n",
    "Build a dense layer on top of the embedding vector to predict the next title.\n",
    "\n",
    "Follow an approach similar to Word2Vec.\n",
    "Instead of treating each word as an entity or token, we use each title.\n",
    "We treat the vocabulary as the set of titles.\n",
    "\n",
    "1. Load the movielens dataset\n",
    "2. Convert each movie title to an integer token\n",
    "3. Create an embedding layer on the tokens\n",
    "\n",
    "References:\n",
    "* https://en.wikipedia.org/wiki/Word2vec\n",
    "\n",
    "Start by importing stuff:"
   ]
  },
  {
   "cell_type": "code",
   "execution_count": 1,
   "metadata": {},
   "outputs": [],
   "source": [
    "import matplotlib.pyplot as plt\n",
    "import seaborn as sns\n",
    "import numpy as np\n",
    "import polars as pl\n",
    "\n",
    "plt.style.use(\"seaborn-v0_8-whitegrid\")\n",
    "\n",
    "import sys\n",
    "from pathlib import Path\n",
    "\n",
    "sys.path.append(str(Path().absolute().parent))\n",
    "\n",
    "import utilities"
   ]
  },
  {
   "attachments": {},
   "cell_type": "markdown",
   "metadata": {},
   "source": [
    "## Load data\n",
    "\n",
    "Load the movielens dataset."
   ]
  },
  {
   "cell_type": "code",
   "execution_count": 2,
   "metadata": {},
   "outputs": [
    {
     "data": {
      "text/html": [
       "<div><style>\n",
       ".dataframe > thead > tr,\n",
       ".dataframe > tbody > tr {\n",
       "  text-align: right;\n",
       "  white-space: pre-wrap;\n",
       "}\n",
       "</style>\n",
       "<small>shape: (25_000_095, 4)</small><table border=\"1\" class=\"dataframe\"><thead><tr><th>userId</th><th>movieId</th><th>rating</th><th>timestamp</th></tr><tr><td>i64</td><td>i64</td><td>f64</td><td>i64</td></tr></thead><tbody><tr><td>1</td><td>5952</td><td>4.0</td><td>1147868053</td></tr><tr><td>1</td><td>2012</td><td>2.5</td><td>1147868068</td></tr><tr><td>1</td><td>2011</td><td>2.5</td><td>1147868079</td></tr><tr><td>1</td><td>1653</td><td>4.0</td><td>1147868097</td></tr><tr><td>1</td><td>1250</td><td>4.0</td><td>1147868414</td></tr><tr><td>&hellip;</td><td>&hellip;</td><td>&hellip;</td><td>&hellip;</td></tr><tr><td>162541</td><td>1259</td><td>4.5</td><td>1240953609</td></tr><tr><td>162541</td><td>1266</td><td>5.0</td><td>1240953613</td></tr><tr><td>162541</td><td>1556</td><td>1.0</td><td>1240953650</td></tr><tr><td>162541</td><td>293</td><td>4.0</td><td>1240953789</td></tr><tr><td>162541</td><td>1201</td><td>3.0</td><td>1240953800</td></tr></tbody></table></div>"
      ],
      "text/plain": [
       "shape: (25_000_095, 4)\n",
       "┌────────┬─────────┬────────┬────────────┐\n",
       "│ userId ┆ movieId ┆ rating ┆ timestamp  │\n",
       "│ ---    ┆ ---     ┆ ---    ┆ ---        │\n",
       "│ i64    ┆ i64     ┆ f64    ┆ i64        │\n",
       "╞════════╪═════════╪════════╪════════════╡\n",
       "│ 1      ┆ 5952    ┆ 4.0    ┆ 1147868053 │\n",
       "│ 1      ┆ 2012    ┆ 2.5    ┆ 1147868068 │\n",
       "│ 1      ┆ 2011    ┆ 2.5    ┆ 1147868079 │\n",
       "│ 1      ┆ 1653    ┆ 4.0    ┆ 1147868097 │\n",
       "│ 1      ┆ 1250    ┆ 4.0    ┆ 1147868414 │\n",
       "│ …      ┆ …       ┆ …      ┆ …          │\n",
       "│ 162541 ┆ 1259    ┆ 4.5    ┆ 1240953609 │\n",
       "│ 162541 ┆ 1266    ┆ 5.0    ┆ 1240953613 │\n",
       "│ 162541 ┆ 1556    ┆ 1.0    ┆ 1240953650 │\n",
       "│ 162541 ┆ 293     ┆ 4.0    ┆ 1240953789 │\n",
       "│ 162541 ┆ 1201    ┆ 3.0    ┆ 1240953800 │\n",
       "└────────┴─────────┴────────┴────────────┘"
      ]
     },
     "execution_count": 2,
     "metadata": {},
     "output_type": "execute_result"
    }
   ],
   "source": [
    "ratings_df = utilities.load_ratings()\n",
    "ratings_df"
   ]
  },
  {
   "cell_type": "markdown",
   "metadata": {},
   "source": [
    "Each person has rated at least 20 titles."
   ]
  },
  {
   "cell_type": "code",
   "execution_count": 3,
   "metadata": {},
   "outputs": [
    {
     "name": "stderr",
     "output_type": "stream",
     "text": [
      "/var/folders/_v/nlh4h1yx2n1gd6f3szjlgxt40000gr/T/ipykernel_44973/2997066704.py:1: DeprecationWarning: `GroupBy.count` is deprecated. It has been renamed to `len`.\n",
      "  ratings_df.group_by(\"userId\").count().sort(\"count\", descending=True)\n"
     ]
    },
    {
     "data": {
      "text/html": [
       "<div><style>\n",
       ".dataframe > thead > tr,\n",
       ".dataframe > tbody > tr {\n",
       "  text-align: right;\n",
       "  white-space: pre-wrap;\n",
       "}\n",
       "</style>\n",
       "<small>shape: (162_541, 2)</small><table border=\"1\" class=\"dataframe\"><thead><tr><th>userId</th><th>count</th></tr><tr><td>i64</td><td>u32</td></tr></thead><tbody><tr><td>72315</td><td>32202</td></tr><tr><td>80974</td><td>9178</td></tr><tr><td>137293</td><td>8913</td></tr><tr><td>33844</td><td>7919</td></tr><tr><td>20055</td><td>7488</td></tr><tr><td>&hellip;</td><td>&hellip;</td></tr><tr><td>162277</td><td>20</td></tr><tr><td>162304</td><td>20</td></tr><tr><td>162351</td><td>20</td></tr><tr><td>162370</td><td>20</td></tr><tr><td>162371</td><td>20</td></tr></tbody></table></div>"
      ],
      "text/plain": [
       "shape: (162_541, 2)\n",
       "┌────────┬───────┐\n",
       "│ userId ┆ count │\n",
       "│ ---    ┆ ---   │\n",
       "│ i64    ┆ u32   │\n",
       "╞════════╪═══════╡\n",
       "│ 72315  ┆ 32202 │\n",
       "│ 80974  ┆ 9178  │\n",
       "│ 137293 ┆ 8913  │\n",
       "│ 33844  ┆ 7919  │\n",
       "│ 20055  ┆ 7488  │\n",
       "│ …      ┆ …     │\n",
       "│ 162277 ┆ 20    │\n",
       "│ 162304 ┆ 20    │\n",
       "│ 162351 ┆ 20    │\n",
       "│ 162370 ┆ 20    │\n",
       "│ 162371 ┆ 20    │\n",
       "└────────┴───────┘"
      ]
     },
     "execution_count": 3,
     "metadata": {},
     "output_type": "execute_result"
    }
   ],
   "source": [
    "ratings_df.group_by(\"userId\").count().sort(\"count\", descending=True)"
   ]
  },
  {
   "cell_type": "markdown",
   "metadata": {},
   "source": [
    "Not all movieIds are sequential, we have 59k IDs with values up to 209k. We will need to tokenize them before training."
   ]
  },
  {
   "cell_type": "code",
   "execution_count": 4,
   "metadata": {},
   "outputs": [
    {
     "name": "stdout",
     "output_type": "stream",
     "text": [
      "209171\n"
     ]
    },
    {
     "name": "stderr",
     "output_type": "stream",
     "text": [
      "/var/folders/_v/nlh4h1yx2n1gd6f3szjlgxt40000gr/T/ipykernel_44973/3773860017.py:2: DeprecationWarning: `GroupBy.count` is deprecated. It has been renamed to `len`.\n",
      "  ratings_df.group_by(\"movieId\").count().sort(\"count\", descending=True)\n"
     ]
    },
    {
     "data": {
      "text/html": [
       "<div><style>\n",
       ".dataframe > thead > tr,\n",
       ".dataframe > tbody > tr {\n",
       "  text-align: right;\n",
       "  white-space: pre-wrap;\n",
       "}\n",
       "</style>\n",
       "<small>shape: (59_047, 2)</small><table border=\"1\" class=\"dataframe\"><thead><tr><th>movieId</th><th>count</th></tr><tr><td>i64</td><td>u32</td></tr></thead><tbody><tr><td>356</td><td>81491</td></tr><tr><td>318</td><td>81482</td></tr><tr><td>296</td><td>79672</td></tr><tr><td>593</td><td>74127</td></tr><tr><td>2571</td><td>72674</td></tr><tr><td>&hellip;</td><td>&hellip;</td></tr><tr><td>203286</td><td>1</td></tr><tr><td>183621</td><td>1</td></tr><tr><td>134186</td><td>1</td></tr><tr><td>102109</td><td>1</td></tr><tr><td>186101</td><td>1</td></tr></tbody></table></div>"
      ],
      "text/plain": [
       "shape: (59_047, 2)\n",
       "┌─────────┬───────┐\n",
       "│ movieId ┆ count │\n",
       "│ ---     ┆ ---   │\n",
       "│ i64     ┆ u32   │\n",
       "╞═════════╪═══════╡\n",
       "│ 356     ┆ 81491 │\n",
       "│ 318     ┆ 81482 │\n",
       "│ 296     ┆ 79672 │\n",
       "│ 593     ┆ 74127 │\n",
       "│ 2571    ┆ 72674 │\n",
       "│ …       ┆ …     │\n",
       "│ 203286  ┆ 1     │\n",
       "│ 183621  ┆ 1     │\n",
       "│ 134186  ┆ 1     │\n",
       "│ 102109  ┆ 1     │\n",
       "│ 186101  ┆ 1     │\n",
       "└─────────┴───────┘"
      ]
     },
     "execution_count": 4,
     "metadata": {},
     "output_type": "execute_result"
    }
   ],
   "source": [
    "print(ratings_df[\"movieId\"].max())\n",
    "ratings_df.group_by(\"movieId\").count().sort(\"count\", descending=True)"
   ]
  },
  {
   "cell_type": "markdown",
   "metadata": {},
   "source": [
    "We will make a small subset of data for initial building and testing our models\n",
    "\n",
    "We limit to the top 50 movies and users with at least 20 ratings."
   ]
  },
  {
   "cell_type": "code",
   "execution_count": 5,
   "metadata": {},
   "outputs": [
    {
     "data": {
      "text/plain": [
       "(1511948, 4)"
      ]
     },
     "execution_count": 5,
     "metadata": {},
     "output_type": "execute_result"
    }
   ],
   "source": [
    "top_movie_ids = utilities.get_most_frequent_movies(ratings_df)\n",
    "ratings_df = ratings_df.join(top_movie_ids, on=\"movieId\", how=\"inner\")\n",
    "\n",
    "\n",
    "user_id_counts = (\n",
    "    ratings_df.group_by(\"userId\").len().filter(pl.col(\"len\") >= 20)[[\"userId\"]]\n",
    ")\n",
    "ratings_df = ratings_df.join(user_id_counts, on=\"userId\", how=\"inner\")\n",
    "ratings_df.shape"
   ]
  },
  {
   "cell_type": "markdown",
   "metadata": {},
   "source": [
    "## Build model architecture\n",
    "\n",
    "We will build the embedding using word2vec. There are two forms:\n",
    "\n",
    "1. Continuous Bag of Words (CBOW):\n",
    "In CBOW, the model predicts the current word (target word) based on the context words within a fixed window size.\n",
    "\n",
    "1. Skip-gram:\n",
    "In Skip-gram, the model predicts context words (surrounding words) given the current word (target word).\n",
    "\n",
    "CBOW is generally faster to train compared to Skip-gram, especially when using small training datasets.\n",
    "In our case the words are actually movies.\n",
    "\n",
    "We will use CBOW for this test as hopefully its faster and more appropriate on a smallish training dataset.\n",
    "Therefore we need to define a window of entities to train over. We will start with 3, so predict the current entity given the one before and the one after.\n"
   ]
  },
  {
   "cell_type": "markdown",
   "metadata": {},
   "source": [
    "### Data preparation"
   ]
  },
  {
   "cell_type": "markdown",
   "metadata": {},
   "source": [
    "We need to get sequenences of tokens. So we next create tokens from the movieIds as they do not start from 0 and are not sequential."
   ]
  },
  {
   "cell_type": "code",
   "execution_count": 6,
   "metadata": {},
   "outputs": [
    {
     "data": {
      "text/html": [
       "<div><style>\n",
       ".dataframe > thead > tr,\n",
       ".dataframe > tbody > tr {\n",
       "  text-align: right;\n",
       "  white-space: pre-wrap;\n",
       "}\n",
       "</style>\n",
       "<small>shape: (4, 6)</small><table border=\"1\" class=\"dataframe\"><thead><tr><th>userId</th><th>movieId</th><th>rating</th><th>timestamp</th><th>userIdMapped</th><th>token</th></tr><tr><td>i64</td><td>i64</td><td>f64</td><td>i64</td><td>u32</td><td>u32</td></tr></thead><tbody><tr><td>2</td><td>5952</td><td>5.0</td><td>1141415528</td><td>0</td><td>46</td></tr><tr><td>2</td><td>150</td><td>4.0</td><td>1141415790</td><td>0</td><td>5</td></tr><tr><td>2</td><td>3578</td><td>5.0</td><td>1141415803</td><td>0</td><td>42</td></tr><tr><td>2</td><td>380</td><td>1.0</td><td>1141415808</td><td>0</td><td>13</td></tr></tbody></table></div>"
      ],
      "text/plain": [
       "shape: (4, 6)\n",
       "┌────────┬─────────┬────────┬────────────┬──────────────┬───────┐\n",
       "│ userId ┆ movieId ┆ rating ┆ timestamp  ┆ userIdMapped ┆ token │\n",
       "│ ---    ┆ ---     ┆ ---    ┆ ---        ┆ ---          ┆ ---   │\n",
       "│ i64    ┆ i64     ┆ f64    ┆ i64        ┆ u32          ┆ u32   │\n",
       "╞════════╪═════════╪════════╪════════════╪══════════════╪═══════╡\n",
       "│ 2      ┆ 5952    ┆ 5.0    ┆ 1141415528 ┆ 0            ┆ 46    │\n",
       "│ 2      ┆ 150     ┆ 4.0    ┆ 1141415790 ┆ 0            ┆ 5     │\n",
       "│ 2      ┆ 3578    ┆ 5.0    ┆ 1141415803 ┆ 0            ┆ 42    │\n",
       "│ 2      ┆ 380     ┆ 1.0    ┆ 1141415808 ┆ 0            ┆ 13    │\n",
       "└────────┴─────────┴────────┴────────────┴──────────────┴───────┘"
      ]
     },
     "metadata": {},
     "output_type": "display_data"
    }
   ],
   "source": [
    "ratings_df, user_id_mapping, movie_id_mapping = utilities.map_users_and_movies(\n",
    "    ratings_df\n",
    ")\n",
    "ratings_df = ratings_df.rename({\"movieIdMapped\": \"token\"})\n",
    "display(ratings_df.head(4))"
   ]
  },
  {
   "cell_type": "markdown",
   "metadata": {},
   "source": [
    "Then for each userId we convert the tokens in to a list."
   ]
  },
  {
   "cell_type": "code",
   "execution_count": 7,
   "metadata": {},
   "outputs": [],
   "source": [
    "import tqdm\n",
    "\n",
    "\n",
    "def get_sequences_from_df(ratings_df: pl.DataFrame):\n",
    "    sequences = []\n",
    "    for _user_id in tqdm.tqdm(ratings_df[\"userId\"].unique()):\n",
    "        sequences.append(\n",
    "            ratings_df.filter(pl.col(\"userId\") == _user_id)[\"token\"].to_list()\n",
    "        )\n",
    "    return sequences"
   ]
  },
  {
   "cell_type": "code",
   "execution_count": 8,
   "metadata": {},
   "outputs": [
    {
     "name": "stderr",
     "output_type": "stream",
     "text": [
      "100%|██████████| 49276/49276 [00:03<00:00, 14016.76it/s]"
     ]
    },
    {
     "name": "stdout",
     "output_type": "stream",
     "text": [
      "[46, 5, 42, 13, 16, 0, 39, 37, 27, 4]\n"
     ]
    },
    {
     "name": "stderr",
     "output_type": "stream",
     "text": [
      "\n"
     ]
    }
   ],
   "source": [
    "sequences = get_sequences_from_df(ratings_df)\n",
    "print(sequences[0][:10])"
   ]
  },
  {
   "cell_type": "markdown",
   "metadata": {},
   "source": [
    "Split sequences randomly to train/test sets"
   ]
  },
  {
   "cell_type": "code",
   "execution_count": 9,
   "metadata": {},
   "outputs": [
    {
     "data": {
      "text/plain": [
       "(39420, 9856)"
      ]
     },
     "execution_count": 9,
     "metadata": {},
     "output_type": "execute_result"
    }
   ],
   "source": [
    "import random\n",
    "\n",
    "\n",
    "def split_train_test(data, test_ratio=0.2):\n",
    "    data_copy = data.copy()\n",
    "    random.shuffle(data_copy)\n",
    "\n",
    "    split_index = int(len(data_copy) * (1 - test_ratio))\n",
    "    train_set = data_copy[:split_index]\n",
    "    test_set = data_copy[split_index:]\n",
    "\n",
    "    return train_set, test_set\n",
    "\n",
    "\n",
    "# Example usage:\n",
    "data = [\n",
    "    [\"sample1\", \"feature1\", \"feature2\"],\n",
    "    [\"sample2\", \"feature1\", \"feature2\"],\n",
    "    [\"sample3\", \"feature1\", \"feature2\"],\n",
    "    [\"sample4\", \"feature1\", \"feature2\"],\n",
    "    [\"sample5\", \"feature1\", \"feature2\"],\n",
    "]\n",
    "\n",
    "sequences_train, sequences_test = split_train_test(sequences, test_ratio=0.2)\n",
    "len(sequences_train), len(sequences_test)"
   ]
  },
  {
   "cell_type": "markdown",
   "metadata": {},
   "source": [
    "We can now create the CBOW dataset from the sequences.\n",
    "We will use a small embedding size and a window of only 1.\n",
    "\n",
    "So in a sequence of (w1, w2, w3) we get training tuples as: predict w2 given [w1, w3].\n",
    "\n",
    "We create a `collate_fn` to collect all the sequences and combine into tensors for training.\n",
    "\n",
    "```\n",
    "Sequence Data (e.g., Text, Time Series):\n",
    "For sequence data, such as text or time series, the shape of a batch is often: (batch_size, sequence_length, input_dim).\n",
    "batch_size is the number of sequences in the batch.\n",
    "sequence_length is the length of each sequence.\n",
    "input_dim represents the dimensionality of each element in the sequence (e.g., word embeddings for text).\n",
    "```"
   ]
  },
  {
   "cell_type": "code",
   "execution_count": 10,
   "metadata": {},
   "outputs": [],
   "source": [
    "from torch.utils.data import Dataset, DataLoader\n",
    "import torch\n",
    "\n",
    "\n",
    "class CBOWDataset(Dataset):\n",
    "    def __init__(self, sequences: list[int], window_size: int):\n",
    "        self.sequences = sequences\n",
    "        self.window_size = window_size\n",
    "\n",
    "    def __len__(self):\n",
    "        return len(self.sequences)\n",
    "\n",
    "    def __getitem__(self, idx):\n",
    "        sequence = self.sequences[idx]\n",
    "        data = []\n",
    "        for i in range(len(sequence)):\n",
    "            target_word = sequence[i]\n",
    "            context = []\n",
    "            for j in range(\n",
    "                max(0, i - self.window_size),\n",
    "                min(len(sequence), i + self.window_size + 1),\n",
    "            ):\n",
    "                if j != i:\n",
    "                    context.append(sequence[j])\n",
    "            data.append((context, target_word))\n",
    "        return data\n",
    "\n",
    "\n",
    "def collate_fn(batch):\n",
    "    # join all training examples into single tensor\n",
    "    data = []\n",
    "    targets = []\n",
    "    for batch_item in batch:\n",
    "        for _item in batch_item[1:-1]:\n",
    "            data.append(_item[0])\n",
    "            targets.append(_item[1])\n",
    "\n",
    "    return torch.tensor(data), torch.tensor(targets).view(-1, 1)"
   ]
  },
  {
   "cell_type": "code",
   "execution_count": 11,
   "metadata": {},
   "outputs": [],
   "source": [
    "vocab_size = ratings_df[\"movieId\"].unique().count()\n",
    "window_size = 1\n",
    "\n",
    "# Create dataset and dataloader\n",
    "dataset_train = CBOWDataset(sequences_train, window_size)\n",
    "dataloader_train = DataLoader(\n",
    "    dataset_train, batch_size=64, shuffle=False, collate_fn=collate_fn\n",
    ")\n",
    "dataset_test = CBOWDataset(sequences_test, window_size)\n",
    "dataloader_test = DataLoader(\n",
    "    dataset_test, batch_size=64, shuffle=False, collate_fn=collate_fn\n",
    ")"
   ]
  },
  {
   "cell_type": "markdown",
   "metadata": {},
   "source": [
    "The training data is made up of pairs of tokens and the token from the middle. Here is a preview:"
   ]
  },
  {
   "cell_type": "code",
   "execution_count": 12,
   "metadata": {},
   "outputs": [
    {
     "data": {
      "text/plain": [
       "[([26], 8), ([8, 28], 26), ([26, 16], 28), ([28, 6], 16), ([16, 10], 6)]"
      ]
     },
     "execution_count": 12,
     "metadata": {},
     "output_type": "execute_result"
    }
   ],
   "source": [
    "dataset_train.__getitem__(0)[:5]"
   ]
  },
  {
   "cell_type": "markdown",
   "metadata": {},
   "source": [
    "Following the dataloader we get."
   ]
  },
  {
   "cell_type": "code",
   "execution_count": 13,
   "metadata": {},
   "outputs": [
    {
     "data": {
      "text/plain": [
       "(tensor([[ 8, 28],\n",
       "         [26, 16],\n",
       "         [28,  6],\n",
       "         ...,\n",
       "         [ 5, 47],\n",
       "         [11, 46],\n",
       "         [47, 45]]),\n",
       " tensor([[26],\n",
       "         [28],\n",
       "         [16],\n",
       "         ...,\n",
       "         [11],\n",
       "         [47],\n",
       "         [46]]))"
      ]
     },
     "execution_count": 13,
     "metadata": {},
     "output_type": "execute_result"
    }
   ],
   "source": [
    "batch = next(iter(dataloader_train))\n",
    "batch"
   ]
  },
  {
   "cell_type": "markdown",
   "metadata": {},
   "source": [
    "### Model architecture\n",
    "\n",
    "The input to the model is a one-hot encoded vector representing the context words.\n",
    "The hidden layer is a projection layer (embedding layer) that converts the one-hot encoded vectors into dense embedding vectors.\n",
    "The output layer predicts the probability distribution of the target word given the context.\n",
    "The model is trained to minimize the difference between the predicted probabilities and the actual word (softmax output).\n",
    "\n",
    "\n",
    "The input to the model is a series of tokens representing the movies.\n",
    "(These are converted to one-hot encoded vectors. Not needed?)\n",
    "The tokens are converted into embedding vectors.\n",
    "\n",
    "The embedding vectors of the context words are averaged to obtain a single context vector.\n",
    "This context vector represents the overall context of the surrounding words.\n",
    "The context vector is then passed through a linear transformation followed by a softmax activation function to produce a probability distribution over the entire vocabulary.\n",
    "\n",
    "We then use a dense layer(s) to find the probability of each element in the vocabulary.\n",
    "We compare against the true target word and use cross entropy loss to train the model weights, including the embedding layer.\n",
    "\n",
    "\n",
    "With large vocabularies cross entropy loss can be expensive. There are approximations which are faster. We will stick with the full computation as we have a small vocab."
   ]
  },
  {
   "cell_type": "code",
   "execution_count": 14,
   "metadata": {},
   "outputs": [],
   "source": [
    "import torch\n",
    "import torch.nn as nn\n",
    "import torch.optim as optim\n",
    "import pytorch_lightning as pytl\n",
    "\n",
    "\n",
    "class CBOWModel(pytl.LightningModule):\n",
    "    def __init__(\n",
    "        self, vocab_size: int, embedding_dim: int, learning_rate: float = 1e-2\n",
    "    ):\n",
    "        super(CBOWModel, self).__init__()\n",
    "        self.embeddings = nn.Embedding(vocab_size, embedding_dim)\n",
    "        self.linear = nn.Linear(embedding_dim, vocab_size)\n",
    "\n",
    "        self.learning_rate = learning_rate\n",
    "        self.train_log_error = []\n",
    "        self.val_log_error = []\n",
    "\n",
    "    def forward(self, context):\n",
    "        embedded_context = self.embeddings(context)\n",
    "        # sum over context to get single embedding vector\n",
    "        sum_embedded_context = torch.sum(embedded_context, dim=1)\n",
    "        output = self.linear(sum_embedded_context)\n",
    "        return output\n",
    "\n",
    "    def training_step(self, batch, batch_idx):\n",
    "        context, target = batch\n",
    "        context = context.squeeze(1)\n",
    "        target = target.squeeze(1)\n",
    "        output = self(context)\n",
    "        loss = nn.CrossEntropyLoss()(output, target)\n",
    "\n",
    "        self.train_log_error.append(loss.item())\n",
    "        self.log(\"train_loss\", loss, on_step=True, on_epoch=True, prog_bar=True)\n",
    "        return loss\n",
    "\n",
    "    def validation_step(self, batch, batch_idx):\n",
    "        context, target = batch\n",
    "        context = context.squeeze(1)\n",
    "        target = target.squeeze(1)\n",
    "        output = self(context)\n",
    "        loss = nn.CrossEntropyLoss()(output, target)\n",
    "\n",
    "        self.val_log_error.append(loss.item())\n",
    "        self.log(\"val_loss\", loss, on_step=True, on_epoch=True, prog_bar=True)\n",
    "        return loss\n",
    "\n",
    "    def configure_optimizers(self):\n",
    "        return optim.Adam(self.parameters(), lr=self.learning_rate)"
   ]
  },
  {
   "cell_type": "markdown",
   "metadata": {},
   "source": [
    "Test with a single training example\n",
    "\n",
    "We have at least 64*20 sequences in the training example and they return a value for each title in the vocabulary (50)."
   ]
  },
  {
   "cell_type": "code",
   "execution_count": 15,
   "metadata": {},
   "outputs": [
    {
     "data": {
      "text/plain": [
       "torch.Size([1838, 50])"
      ]
     },
     "execution_count": 15,
     "metadata": {},
     "output_type": "execute_result"
    }
   ],
   "source": [
    "embedding_dim = 5\n",
    "model = CBOWModel(vocab_size, embedding_dim)\n",
    "batch = next(iter(dataloader_train))\n",
    "model(batch[0]).shape"
   ]
  },
  {
   "cell_type": "markdown",
   "metadata": {},
   "source": [
    "Custom logger to store metrics in python dictionaries"
   ]
  },
  {
   "cell_type": "code",
   "execution_count": 16,
   "metadata": {},
   "outputs": [],
   "source": [
    "from pytorch_lightning.loggers import Logger\n",
    "from pytorch_lightning.utilities import rank_zero_only\n",
    "\n",
    "\n",
    "class DictLogger(Logger):\n",
    "    def __init__(self):\n",
    "        super().__init__()\n",
    "        self.metrics = {}\n",
    "\n",
    "    @property\n",
    "    def name(self):\n",
    "        return \"DictLogger\"\n",
    "\n",
    "    @property\n",
    "    def version(self):\n",
    "        return \"1.0\"\n",
    "\n",
    "    @rank_zero_only\n",
    "    def log_hyperparams(self, params):\n",
    "        pass\n",
    "\n",
    "    @rank_zero_only\n",
    "    def log_metrics(self, metrics, step):\n",
    "        for k, v in metrics.items():\n",
    "            if k not in self.metrics:\n",
    "                self.metrics[k] = []\n",
    "            self.metrics[k].append((step, v))\n",
    "\n",
    "    def save(self):\n",
    "        pass\n",
    "\n",
    "    @rank_zero_only\n",
    "    def finalize(self, status):\n",
    "        pass"
   ]
  },
  {
   "cell_type": "markdown",
   "metadata": {},
   "source": [
    "Add early stopping and enforce a minimum of 6 epochs (it takes a few epochs to start improving over a mean baseline)"
   ]
  },
  {
   "cell_type": "code",
   "execution_count": 17,
   "metadata": {},
   "outputs": [],
   "source": [
    "from pytorch_lightning.callbacks import EarlyStopping\n",
    "from pytorch_lightning.callbacks import Callback\n",
    "\n",
    "\n",
    "class EarlyStoppingWithMinEpochs(Callback):\n",
    "    def __init__(self, min_epochs, **kwargs):\n",
    "        super().__init__()\n",
    "        self.min_epochs = min_epochs\n",
    "        self.early_stopping = EarlyStopping(**kwargs)\n",
    "\n",
    "    def on_validation_end(self, trainer, pl_module):\n",
    "        if trainer.current_epoch >= self.min_epochs - 1:\n",
    "            self.early_stopping.on_validation_end(trainer, pl_module)\n",
    "\n",
    "    def on_train_end(self, trainer, pl_module):\n",
    "        self.early_stopping.on_train_end(trainer, pl_module)\n",
    "\n",
    "\n",
    "early_stop_callback = EarlyStoppingWithMinEpochs(\n",
    "    min_epochs=6, monitor=\"val_loss\", patience=3, mode=\"min\"\n",
    ")"
   ]
  },
  {
   "cell_type": "markdown",
   "metadata": {},
   "source": [
    "Train the model"
   ]
  },
  {
   "cell_type": "code",
   "execution_count": 18,
   "metadata": {},
   "outputs": [
    {
     "name": "stderr",
     "output_type": "stream",
     "text": [
      "GPU available: True (mps), used: True\n",
      "TPU available: False, using: 0 TPU cores\n",
      "HPU available: False, using: 0 HPUs\n",
      "/Users/stantoon/Documents/VariousProjects/github/data-analysis/.venv/lib/python3.12/site-packages/pytorch_lightning/callbacks/model_checkpoint.py:654: Checkpoint directory /Users/stantoon/Documents/VariousProjects/github/data-analysis/neural_networks/movie_lens/embeddings/DictLogger/1.0/checkpoints exists and is not empty.\n",
      "\n",
      "  | Name       | Type      | Params | Mode \n",
      "-------------------------------------------------\n",
      "0 | embeddings | Embedding | 1.0 K  | train\n",
      "1 | linear     | Linear    | 1.1 K  | train\n",
      "-------------------------------------------------\n",
      "2.0 K     Trainable params\n",
      "0         Non-trainable params\n",
      "2.0 K     Total params\n",
      "0.008     Total estimated model params size (MB)\n",
      "2         Modules in train mode\n",
      "0         Modules in eval mode\n"
     ]
    },
    {
     "name": "stdout",
     "output_type": "stream",
     "text": [
      "Sanity Checking DataLoader 0:   0%|          | 0/2 [00:00<?, ?it/s]"
     ]
    },
    {
     "name": "stderr",
     "output_type": "stream",
     "text": [
      "/Users/stantoon/Documents/VariousProjects/github/data-analysis/.venv/lib/python3.12/site-packages/pytorch_lightning/trainer/connectors/data_connector.py:424: The 'val_dataloader' does not have many workers which may be a bottleneck. Consider increasing the value of the `num_workers` argument` to `num_workers=7` in the `DataLoader` to improve performance.\n"
     ]
    },
    {
     "name": "stdout",
     "output_type": "stream",
     "text": [
      "                                                                           "
     ]
    },
    {
     "name": "stderr",
     "output_type": "stream",
     "text": [
      "/Users/stantoon/Documents/VariousProjects/github/data-analysis/.venv/lib/python3.12/site-packages/pytorch_lightning/trainer/connectors/data_connector.py:424: The 'train_dataloader' does not have many workers which may be a bottleneck. Consider increasing the value of the `num_workers` argument` to `num_workers=7` in the `DataLoader` to improve performance.\n"
     ]
    },
    {
     "name": "stdout",
     "output_type": "stream",
     "text": [
      "Epoch 11: 100%|██████████| 616/616 [00:08<00:00, 71.62it/s, v_num=1.0, train_loss_step=3.630, val_loss_step=3.620, val_loss_epoch=3.550, train_loss_epoch=3.550]\n"
     ]
    }
   ],
   "source": [
    "embedding_dim = 20\n",
    "model = CBOWModel(vocab_size, embedding_dim)\n",
    "logger = DictLogger()\n",
    "trainer = pytl.Trainer(\n",
    "    max_epochs=20,\n",
    "    logger=logger,\n",
    "    log_every_n_steps=1,\n",
    "    callbacks=[early_stop_callback],\n",
    ")\n",
    "trainer.fit(model, train_dataloaders=dataloader_train, val_dataloaders=dataloader_test)"
   ]
  },
  {
   "cell_type": "markdown",
   "metadata": {},
   "source": [
    "Plotting train/val epoch loss\n",
    "\n",
    "Looks like we are learning reasonably well."
   ]
  },
  {
   "cell_type": "code",
   "execution_count": 19,
   "metadata": {},
   "outputs": [
    {
     "name": "stderr",
     "output_type": "stream",
     "text": [
      "/var/folders/_v/nlh4h1yx2n1gd6f3szjlgxt40000gr/T/ipykernel_44973/3638243156.py:31: UserWarning: FigureCanvasAgg is non-interactive, and thus cannot be shown\n",
      "  fig.show()\n"
     ]
    },
    {
     "data": {
      "image/png": "[encoded data removed]",
      "text/plain": [
       "<Figure size 600x400 with 1 Axes>"
      ]
     },
     "metadata": {},
     "output_type": "display_data"
    }
   ],
   "source": [
    "def training_logs_to_df(logger, name: str = None):\n",
    "    df = (\n",
    "        pl.concat(\n",
    "            [\n",
    "                pl.DataFrame(\n",
    "                    logger.metrics[\"train_loss_epoch\"],\n",
    "                    orient=\"row\",\n",
    "                    schema=[\"batch\", \"train_loss\"],\n",
    "                ),\n",
    "                pl.DataFrame(\n",
    "                    logger.metrics[\"val_loss_epoch\"],\n",
    "                    orient=\"row\",\n",
    "                    schema=[\"batch\", \"val_loss\"],\n",
    "                ).drop(\"batch\"),\n",
    "            ],\n",
    "            how=\"horizontal\",\n",
    "        )\n",
    "        .with_row_index(name=\"epoch\", offset=1)\n",
    "        .unpivot(index=[\"epoch\", \"batch\"], variable_name=\"dataset\", value_name=\"loss\")\n",
    "    )\n",
    "    if name:\n",
    "        df = df.with_columns(pl.lit(name).alias(\"name\"))\n",
    "    return df\n",
    "\n",
    "\n",
    "plot_df = training_logs_to_df(logger, name=\"nn_inner\")\n",
    "\n",
    "\n",
    "fig, ax = plt.subplots(figsize=(6, 4))\n",
    "sns.lineplot(data=plot_df, x=\"epoch\", y=\"loss\", hue=\"dataset\", ax=ax)\n",
    "fig.show()"
   ]
  },
  {
   "cell_type": "markdown",
   "metadata": {},
   "source": [
    "### Baseline model\n",
    "\n",
    "A baseline model can be a uniform distribution over the vocab.\n",
    "We use this to ensure our model is learning something meaningful."
   ]
  },
  {
   "cell_type": "markdown",
   "metadata": {},
   "source": [
    "Loss for the model"
   ]
  },
  {
   "cell_type": "code",
   "execution_count": 20,
   "metadata": {},
   "outputs": [
    {
     "data": {
      "text/plain": [
       "tensor(3.5518)"
      ]
     },
     "execution_count": 20,
     "metadata": {},
     "output_type": "execute_result"
    }
   ],
   "source": [
    "y_est, y_true = [], []\n",
    "for idx, batch in enumerate(dataloader_train):\n",
    "    _x, _y = batch\n",
    "    _y_est = model(_x)\n",
    "    y_est.append(_y_est.detach().numpy())\n",
    "    y_true.append(_y.detach().numpy())\n",
    "\n",
    "y_est = np.concatenate(y_est)\n",
    "y_true = np.concatenate(y_true)\n",
    "\n",
    "nn.CrossEntropyLoss()(torch.tensor(y_est), torch.tensor(y_true).squeeze(1))"
   ]
  },
  {
   "cell_type": "markdown",
   "metadata": {},
   "source": [
    "Loss for a uniform distribution\n",
    "\n",
    "CrossEntropyLoss applies a softmax first, so the fill value doesn't matter here."
   ]
  },
  {
   "cell_type": "code",
   "execution_count": 21,
   "metadata": {},
   "outputs": [
    {
     "data": {
      "text/plain": [
       "tensor(3.9120, dtype=torch.float64)"
      ]
     },
     "execution_count": 21,
     "metadata": {},
     "output_type": "execute_result"
    }
   ],
   "source": [
    "y_est_uniform = np.full(shape=y_est.shape, fill_value=1.0)\n",
    "nn.CrossEntropyLoss()(torch.tensor(y_est_uniform), torch.tensor(y_true).squeeze(1))"
   ]
  },
  {
   "cell_type": "markdown",
   "metadata": {},
   "source": [
    "### Get embeddings\n",
    "\n",
    "Get movie embeddings from the model layers and store for later use."
   ]
  },
  {
   "cell_type": "code",
   "execution_count": 22,
   "metadata": {},
   "outputs": [
    {
     "data": {
      "text/html": [
       "<div><style>\n",
       ".dataframe > thead > tr,\n",
       ".dataframe > tbody > tr {\n",
       "  text-align: right;\n",
       "  white-space: pre-wrap;\n",
       "}\n",
       "</style>\n",
       "<small>shape: (50, 21)</small><table border=\"1\" class=\"dataframe\"><thead><tr><th>movieId</th><th>column_0</th><th>column_1</th><th>column_2</th><th>column_3</th><th>column_4</th><th>column_5</th><th>column_6</th><th>column_7</th><th>column_8</th><th>column_9</th><th>column_10</th><th>column_11</th><th>column_12</th><th>column_13</th><th>column_14</th><th>column_15</th><th>column_16</th><th>column_17</th><th>column_18</th><th>column_19</th></tr><tr><td>i64</td><td>f32</td><td>f32</td><td>f32</td><td>f32</td><td>f32</td><td>f32</td><td>f32</td><td>f32</td><td>f32</td><td>f32</td><td>f32</td><td>f32</td><td>f32</td><td>f32</td><td>f32</td><td>f32</td><td>f32</td><td>f32</td><td>f32</td><td>f32</td></tr></thead><tbody><tr><td>1</td><td>0.170268</td><td>0.005285</td><td>0.173711</td><td>-0.514811</td><td>-0.717947</td><td>-0.426253</td><td>0.095356</td><td>0.199622</td><td>0.449421</td><td>0.635752</td><td>0.000855</td><td>-0.27404</td><td>-0.381104</td><td>0.076468</td><td>0.117747</td><td>0.058355</td><td>-0.195489</td><td>-0.429596</td><td>0.263023</td><td>0.047042</td></tr><tr><td>32</td><td>-0.508879</td><td>-0.034648</td><td>-0.601913</td><td>-0.150512</td><td>-0.586849</td><td>-0.113532</td><td>-0.202662</td><td>0.321145</td><td>0.165959</td><td>0.050083</td><td>-0.078404</td><td>0.570016</td><td>-0.045625</td><td>-0.14668</td><td>0.304445</td><td>-0.128906</td><td>-0.543937</td><td>-0.180518</td><td>-0.055841</td><td>0.024215</td></tr><tr><td>47</td><td>-0.031499</td><td>0.355408</td><td>-0.286842</td><td>-0.124137</td><td>0.329915</td><td>0.005808</td><td>0.354786</td><td>0.341577</td><td>0.198219</td><td>0.110213</td><td>0.412576</td><td>-0.344803</td><td>-0.210823</td><td>-0.445296</td><td>0.594245</td><td>-0.515395</td><td>0.356284</td><td>0.213535</td><td>-0.142556</td><td>0.032458</td></tr><tr><td>50</td><td>-0.324363</td><td>0.060988</td><td>0.007004</td><td>-0.091061</td><td>0.266039</td><td>-0.519057</td><td>0.006314</td><td>-0.527639</td><td>-0.69752</td><td>0.073614</td><td>0.83331</td><td>0.505465</td><td>-0.053987</td><td>-0.890503</td><td>0.081994</td><td>-0.145882</td><td>-0.237505</td><td>0.496448</td><td>-0.316936</td><td>0.07419</td></tr><tr><td>110</td><td>0.246857</td><td>-0.459349</td><td>0.304814</td><td>0.228468</td><td>0.538425</td><td>-0.34115</td><td>-0.468971</td><td>0.226764</td><td>-0.623984</td><td>0.341686</td><td>-0.251205</td><td>0.095348</td><td>0.19869</td><td>0.210442</td><td>-0.183482</td><td>-0.010722</td><td>-0.408665</td><td>-0.622425</td><td>0.272464</td><td>-0.16026</td></tr><tr><td>&hellip;</td><td>&hellip;</td><td>&hellip;</td><td>&hellip;</td><td>&hellip;</td><td>&hellip;</td><td>&hellip;</td><td>&hellip;</td><td>&hellip;</td><td>&hellip;</td><td>&hellip;</td><td>&hellip;</td><td>&hellip;</td><td>&hellip;</td><td>&hellip;</td><td>&hellip;</td><td>&hellip;</td><td>&hellip;</td><td>&hellip;</td><td>&hellip;</td><td>&hellip;</td></tr><tr><td>4993</td><td>-0.006215</td><td>0.108027</td><td>-0.323896</td><td>-0.340742</td><td>-0.128894</td><td>-0.168293</td><td>-0.813256</td><td>-0.417005</td><td>0.524438</td><td>0.162587</td><td>-0.490397</td><td>-0.189253</td><td>-0.293136</td><td>-0.726565</td><td>-1.080682</td><td>0.441643</td><td>0.52161</td><td>-0.08282</td><td>0.690598</td><td>-0.103665</td></tr><tr><td>5952</td><td>-0.558613</td><td>-0.147518</td><td>0.790067</td><td>-0.84381</td><td>-0.155056</td><td>0.188955</td><td>0.141412</td><td>0.286123</td><td>-0.389624</td><td>-0.765076</td><td>-0.872002</td><td>0.416089</td><td>-0.080197</td><td>0.419377</td><td>-0.193393</td><td>0.610264</td><td>0.568712</td><td>0.614561</td><td>-0.481618</td><td>-0.443433</td></tr><tr><td>7153</td><td>0.006625</td><td>0.832853</td><td>-0.093344</td><td>0.031611</td><td>-0.413336</td><td>-0.008178</td><td>-0.171429</td><td>0.01716</td><td>-0.150033</td><td>-0.930672</td><td>0.746316</td><td>-0.609427</td><td>0.974754</td><td>0.796484</td><td>-0.476131</td><td>0.371503</td><td>-0.033553</td><td>0.367805</td><td>0.717005</td><td>-0.464248</td></tr><tr><td>58559</td><td>-0.44002</td><td>0.347676</td><td>-0.26734</td><td>-0.046302</td><td>-0.116599</td><td>-0.620522</td><td>-0.21927</td><td>0.047042</td><td>-0.054698</td><td>-0.469698</td><td>-0.5836</td><td>0.256216</td><td>0.519925</td><td>0.131071</td><td>-0.462281</td><td>-0.363096</td><td>0.646975</td><td>0.42879</td><td>0.039636</td><td>-0.365519</td></tr><tr><td>79132</td><td>0.323736</td><td>0.066623</td><td>0.029123</td><td>-0.560737</td><td>-0.148516</td><td>0.312844</td><td>-0.171787</td><td>0.226215</td><td>-1.063323</td><td>-0.222305</td><td>0.139809</td><td>-0.532508</td><td>-0.199893</td><td>-0.619747</td><td>-0.588239</td><td>0.640908</td><td>0.050276</td><td>0.12261</td><td>-0.061714</td><td>-0.458745</td></tr></tbody></table></div>"
      ],
      "text/plain": [
       "shape: (50, 21)\n",
       "┌─────────┬───────────┬───────────┬───────────┬───┬───────────┬───────────┬───────────┬───────────┐\n",
       "│ movieId ┆ column_0  ┆ column_1  ┆ column_2  ┆ … ┆ column_16 ┆ column_17 ┆ column_18 ┆ column_19 │\n",
       "│ ---     ┆ ---       ┆ ---       ┆ ---       ┆   ┆ ---       ┆ ---       ┆ ---       ┆ ---       │\n",
       "│ i64     ┆ f32       ┆ f32       ┆ f32       ┆   ┆ f32       ┆ f32       ┆ f32       ┆ f32       │\n",
       "╞═════════╪═══════════╪═══════════╪═══════════╪═══╪═══════════╪═══════════╪═══════════╪═══════════╡\n",
       "│ 1       ┆ 0.170268  ┆ 0.005285  ┆ 0.173711  ┆ … ┆ -0.195489 ┆ -0.429596 ┆ 0.263023  ┆ 0.047042  │\n",
       "│ 32      ┆ -0.508879 ┆ -0.034648 ┆ -0.601913 ┆ … ┆ -0.543937 ┆ -0.180518 ┆ -0.055841 ┆ 0.024215  │\n",
       "│ 47      ┆ -0.031499 ┆ 0.355408  ┆ -0.286842 ┆ … ┆ 0.356284  ┆ 0.213535  ┆ -0.142556 ┆ 0.032458  │\n",
       "│ 50      ┆ -0.324363 ┆ 0.060988  ┆ 0.007004  ┆ … ┆ -0.237505 ┆ 0.496448  ┆ -0.316936 ┆ 0.07419   │\n",
       "│ 110     ┆ 0.246857  ┆ -0.459349 ┆ 0.304814  ┆ … ┆ -0.408665 ┆ -0.622425 ┆ 0.272464  ┆ -0.16026  │\n",
       "│ …       ┆ …         ┆ …         ┆ …         ┆ … ┆ …         ┆ …         ┆ …         ┆ …         │\n",
       "│ 4993    ┆ -0.006215 ┆ 0.108027  ┆ -0.323896 ┆ … ┆ 0.52161   ┆ -0.08282  ┆ 0.690598  ┆ -0.103665 │\n",
       "│ 5952    ┆ -0.558613 ┆ -0.147518 ┆ 0.790067  ┆ … ┆ 0.568712  ┆ 0.614561  ┆ -0.481618 ┆ -0.443433 │\n",
       "│ 7153    ┆ 0.006625  ┆ 0.832853  ┆ -0.093344 ┆ … ┆ -0.033553 ┆ 0.367805  ┆ 0.717005  ┆ -0.464248 │\n",
       "│ 58559   ┆ -0.44002  ┆ 0.347676  ┆ -0.26734  ┆ … ┆ 0.646975  ┆ 0.42879   ┆ 0.039636  ┆ -0.365519 │\n",
       "│ 79132   ┆ 0.323736  ┆ 0.066623  ┆ 0.029123  ┆ … ┆ 0.050276  ┆ 0.12261   ┆ -0.061714 ┆ -0.458745 │\n",
       "└─────────┴───────────┴───────────┴───────────┴───┴───────────┴───────────┴───────────┴───────────┘"
      ]
     },
     "metadata": {},
     "output_type": "display_data"
    }
   ],
   "source": [
    "from pathlib import Path\n",
    "\n",
    "movie_embeddings_df = ratings_df[\"movieId\", \"token\"].unique().sort(\"movieId\")\n",
    "movie_embeddings_df = pl.concat(\n",
    "    [movie_embeddings_df, pl.DataFrame(model.embeddings.weight.detach().numpy())],\n",
    "    how=\"horizontal\",\n",
    ").drop(\"token\")\n",
    "display(movie_embeddings_df)\n",
    "\n",
    "Path(\"../data/embeddings\").mkdir(parents=True, exist_ok=True)\n",
    "movie_embeddings_df.write_parquet(\"../data/embeddings/word2vec_20.parquet\")"
   ]
  },
  {
   "cell_type": "markdown",
   "metadata": {},
   "source": [
    "# Appendix\n",
    "\n",
    "## TODO\n",
    "* Larger dataset\n",
    "* Using\n",
    "\n",
    "### Ratings based\n",
    "The above Word2Vec approach will be assuming that people watched films that are similar in succession.\n",
    "\n",
    "We have explicit ratings in the dataset we can use for a better indication.\n",
    "We are assuming that people rate highly movies that are similar.\n",
    "\n",
    "We also have genre information, how can we exploit this?\n",
    "\n",
    "### Text dataset\n",
    "Can we confirm the above approach with text data."
   ]
  },
  {
   "cell_type": "markdown",
   "metadata": {},
   "source": [
    "### Predict sequences\n",
    "\n",
    "Given a starting movie, predict the sequences of movies the user will rate next."
   ]
  },
  {
   "cell_type": "code",
   "execution_count": 23,
   "metadata": {},
   "outputs": [
    {
     "data": {
      "text/html": [
       "<div><style>\n",
       ".dataframe > thead > tr,\n",
       ".dataframe > tbody > tr {\n",
       "  text-align: right;\n",
       "  white-space: pre-wrap;\n",
       "}\n",
       "</style>\n",
       "<small>shape: (50, 4)</small><table border=\"1\" class=\"dataframe\"><thead><tr><th>movieId</th><th>title</th><th>genres</th><th>movieIdMapped</th></tr><tr><td>i64</td><td>str</td><td>str</td><td>u32</td></tr></thead><tbody><tr><td>1</td><td>&quot;Toy Story (1995)&quot;</td><td>&quot;Adventure|Animation|Children|C…</td><td>0</td></tr><tr><td>32</td><td>&quot;Twelve Monkeys (a.k.a. 12 Monk…</td><td>&quot;Mystery|Sci-Fi|Thriller&quot;</td><td>1</td></tr><tr><td>47</td><td>&quot;Seven (a.k.a. Se7en) (1995)&quot;</td><td>&quot;Mystery|Thriller&quot;</td><td>2</td></tr><tr><td>50</td><td>&quot;Usual Suspects, The (1995)&quot;</td><td>&quot;Crime|Mystery|Thriller&quot;</td><td>3</td></tr><tr><td>110</td><td>&quot;Braveheart (1995)&quot;</td><td>&quot;Action|Drama|War&quot;</td><td>4</td></tr><tr><td>&hellip;</td><td>&hellip;</td><td>&hellip;</td><td>&hellip;</td></tr><tr><td>4993</td><td>&quot;Lord of the Rings: The Fellows…</td><td>&quot;Adventure|Fantasy&quot;</td><td>45</td></tr><tr><td>5952</td><td>&quot;Lord of the Rings: The Two Tow…</td><td>&quot;Adventure|Fantasy&quot;</td><td>46</td></tr><tr><td>7153</td><td>&quot;Lord of the Rings: The Return …</td><td>&quot;Action|Adventure|Drama|Fantasy&quot;</td><td>47</td></tr><tr><td>58559</td><td>&quot;Dark Knight, The (2008)&quot;</td><td>&quot;Action|Crime|Drama|IMAX&quot;</td><td>48</td></tr><tr><td>79132</td><td>&quot;Inception (2010)&quot;</td><td>&quot;Action|Crime|Drama|Mystery|Sci…</td><td>49</td></tr></tbody></table></div>"
      ],
      "text/plain": [
       "shape: (50, 4)\n",
       "┌─────────┬─────────────────────────────────┬─────────────────────────────────┬───────────────┐\n",
       "│ movieId ┆ title                           ┆ genres                          ┆ movieIdMapped │\n",
       "│ ---     ┆ ---                             ┆ ---                             ┆ ---           │\n",
       "│ i64     ┆ str                             ┆ str                             ┆ u32           │\n",
       "╞═════════╪═════════════════════════════════╪═════════════════════════════════╪═══════════════╡\n",
       "│ 1       ┆ Toy Story (1995)                ┆ Adventure|Animation|Children|C… ┆ 0             │\n",
       "│ 32      ┆ Twelve Monkeys (a.k.a. 12 Monk… ┆ Mystery|Sci-Fi|Thriller         ┆ 1             │\n",
       "│ 47      ┆ Seven (a.k.a. Se7en) (1995)     ┆ Mystery|Thriller                ┆ 2             │\n",
       "│ 50      ┆ Usual Suspects, The (1995)      ┆ Crime|Mystery|Thriller          ┆ 3             │\n",
       "│ 110     ┆ Braveheart (1995)               ┆ Action|Drama|War                ┆ 4             │\n",
       "│ …       ┆ …                               ┆ …                               ┆ …             │\n",
       "│ 4993    ┆ Lord of the Rings: The Fellows… ┆ Adventure|Fantasy               ┆ 45            │\n",
       "│ 5952    ┆ Lord of the Rings: The Two Tow… ┆ Adventure|Fantasy               ┆ 46            │\n",
       "│ 7153    ┆ Lord of the Rings: The Return … ┆ Action|Adventure|Drama|Fantasy  ┆ 47            │\n",
       "│ 58559   ┆ Dark Knight, The (2008)         ┆ Action|Crime|Drama|IMAX         ┆ 48            │\n",
       "│ 79132   ┆ Inception (2010)                ┆ Action|Crime|Drama|Mystery|Sci… ┆ 49            │\n",
       "└─────────┴─────────────────────────────────┴─────────────────────────────────┴───────────────┘"
      ]
     },
     "execution_count": 23,
     "metadata": {},
     "output_type": "execute_result"
    }
   ],
   "source": [
    "movies_df = utilities.load_movies()\n",
    "movies_df = movies_df.join(movie_id_mapping, on=\"movieId\", how=\"inner\")\n",
    "movies_df"
   ]
  },
  {
   "cell_type": "markdown",
   "metadata": {},
   "source": [
    "We make sequence of 'Lord of the Rings: The Fellows...' and 'Lord of the Rings: The Return ...'.\n",
    "The model predicts the most likely middle movie as 'Lord of the Rings: The Two Tow...'"
   ]
  },
  {
   "cell_type": "code",
   "execution_count": 24,
   "metadata": {},
   "outputs": [
    {
     "data": {
      "text/html": [
       "<div><style>\n",
       ".dataframe > thead > tr,\n",
       ".dataframe > tbody > tr {\n",
       "  text-align: right;\n",
       "  white-space: pre-wrap;\n",
       "}\n",
       "</style>\n",
       "<small>shape: (1, 4)</small><table border=\"1\" class=\"dataframe\"><thead><tr><th>movieId</th><th>title</th><th>genres</th><th>movieIdMapped</th></tr><tr><td>i64</td><td>str</td><td>str</td><td>u32</td></tr></thead><tbody><tr><td>5952</td><td>&quot;Lord of the Rings: The Two Tow…</td><td>&quot;Adventure|Fantasy&quot;</td><td>46</td></tr></tbody></table></div>"
      ],
      "text/plain": [
       "shape: (1, 4)\n",
       "┌─────────┬─────────────────────────────────┬───────────────────┬───────────────┐\n",
       "│ movieId ┆ title                           ┆ genres            ┆ movieIdMapped │\n",
       "│ ---     ┆ ---                             ┆ ---               ┆ ---           │\n",
       "│ i64     ┆ str                             ┆ str               ┆ u32           │\n",
       "╞═════════╪═════════════════════════════════╪═══════════════════╪═══════════════╡\n",
       "│ 5952    ┆ Lord of the Rings: The Two Tow… ┆ Adventure|Fantasy ┆ 46            │\n",
       "└─────────┴─────────────────────────────────┴───────────────────┴───────────────┘"
      ]
     },
     "execution_count": 24,
     "metadata": {},
     "output_type": "execute_result"
    }
   ],
   "source": [
    "y_est = model(torch.tensor([[45, 47]]))\n",
    "movies_df.filter(pl.col(\"movieIdMapped\") == y_est.argmax())"
   ]
  },
  {
   "cell_type": "markdown",
   "metadata": {},
   "source": [
    "## Larger dataset"
   ]
  },
  {
   "cell_type": "code",
   "execution_count": 25,
   "metadata": {},
   "outputs": [
    {
     "name": "stderr",
     "output_type": "stream",
     "text": [
      "/var/folders/_v/nlh4h1yx2n1gd6f3szjlgxt40000gr/T/ipykernel_44973/2374773301.py:3: DeprecationWarning: `GroupBy.count` is deprecated. It has been renamed to `len`.\n",
      "  .count()\n",
      "/var/folders/_v/nlh4h1yx2n1gd6f3szjlgxt40000gr/T/ipykernel_44973/2374773301.py:10: DeprecationWarning: `GroupBy.count` is deprecated. It has been renamed to `len`.\n",
      "  ratings_med_df.group_by(\"userId\").count().filter(pl.col(\"count\") >= 20)[[\"userId\"]]\n"
     ]
    },
    {
     "data": {
      "text/plain": [
       "(1511948, 6)"
      ]
     },
     "execution_count": 25,
     "metadata": {},
     "output_type": "execute_result"
    }
   ],
   "source": [
    "top_movie_ids = (\n",
    "    ratings_df.group_by(\"movieId\")\n",
    "    .count()\n",
    "    .sort(\"count\", descending=True)\n",
    "    .head(200)[[\"movieId\"]]\n",
    ")\n",
    "ratings_med_df = ratings_df.join(top_movie_ids, on=\"movieId\", how=\"inner\")\n",
    "\n",
    "user_id_counts = (\n",
    "    ratings_med_df.group_by(\"userId\").count().filter(pl.col(\"count\") >= 20)[[\"userId\"]]\n",
    ")\n",
    "ratings_med_df = ratings_med_df.join(user_id_counts, on=\"userId\", how=\"inner\")\n",
    "ratings_med_df.shape"
   ]
  },
  {
   "cell_type": "code",
   "execution_count": 26,
   "metadata": {},
   "outputs": [
    {
     "ename": "NameError",
     "evalue": "name 'convert_movies_to_tokens' is not defined",
     "output_type": "error",
     "traceback": [
      "\u001b[0;31m---------------------------------------------------------------------------\u001b[0m",
      "\u001b[0;31mNameError\u001b[0m                                 Traceback (most recent call last)",
      "Cell \u001b[0;32mIn[26], line 1\u001b[0m\n\u001b[0;32m----> 1\u001b[0m ratings_med_df, token_mapping \u001b[38;5;241m=\u001b[39m \u001b[43mconvert_movies_to_tokens\u001b[49m(ratings_med_df)\n\u001b[1;32m      2\u001b[0m display(ratings_med_df\u001b[38;5;241m.\u001b[39mhead(\u001b[38;5;241m4\u001b[39m))\n\u001b[1;32m      4\u001b[0m sequences \u001b[38;5;241m=\u001b[39m get_sequences_from_df(ratings_med_df)\n",
      "\u001b[0;31mNameError\u001b[0m: name 'convert_movies_to_tokens' is not defined"
     ]
    }
   ],
   "source": [
    "ratings_med_df, token_mapping = convert_movies_to_tokens(ratings_med_df)\n",
    "display(ratings_med_df.head(4))\n",
    "\n",
    "sequences = get_sequences_from_df(ratings_med_df)\n",
    "print(sequences[0][:10])\n",
    "\n",
    "vocab_size = ratings_med_df[\"movieId\"].unique().count()\n",
    "window_size = 1\n",
    "\n",
    "# Create dataset and dataloader\n",
    "dataset = CBOWDataset(sequences, window_size)\n",
    "dataloader = DataLoader(dataset, batch_size=64, shuffle=False, collate_fn=collate_fn)\n",
    "\n",
    "embedding_dim = 20\n",
    "model = CBOWModel(vocab_size, embedding_dim)\n",
    "trainer = pytl.Trainer(max_epochs=1)\n",
    "trainer.fit(model, dataloader)\n",
    "\n",
    "fig, ax = plt.subplots(figsize=(6, 4))\n",
    "ax.plot(moving_average(model.train_log_error, 100), label=\"train\")\n",
    "ax.set_title(f\"Training error\")\n",
    "ax.set_xlabel(\"Batches\")\n",
    "ax.set_ylabel(\"LL\")\n",
    "ax.legend()\n",
    "fig.show()\n",
    "\n",
    "embedding_matrix = model.embeddings.weight\n",
    "similarities = calculate_cosine_similarity(embedding_matrix.cpu()).detach().numpy()\n",
    "similarities[np.triu_indices(similarities.shape[0], k=1)] = np.nan\n",
    "\n",
    "labels = token_mapping.join(names_df, on=\"movieId\").sort(\"token\")[\"title\"].to_list()\n",
    "\n",
    "fig, ax = plt.subplots(figsize=(10, 10))\n",
    "sns.heatmap(\n",
    "    data=similarities,\n",
    "    ax=ax,\n",
    "    xticklabels=labels,\n",
    "    yticklabels=labels,\n",
    ")\n",
    "fig.show()"
   ]
  },
  {
   "cell_type": "markdown",
   "metadata": {},
   "source": [
    "Strong correlations"
   ]
  },
  {
   "cell_type": "code",
   "execution_count": null,
   "metadata": {},
   "outputs": [
    {
     "name": "stdout",
     "output_type": "stream",
     "text": [
      "0.9033904\n",
      "American Pie (1999) Austin Powers: International Man of Mystery (1997)\n",
      "0.8816099\n",
      "One Flew Over the Cuckoo's Nest (1975) Casablanca (1942)\n",
      "0.8643362\n",
      "Donnie Darko (2001) Casablanca (1942)\n"
     ]
    },
    {
     "data": {
      "text/plain": [
       "[(134, 103),\n",
       " (78, 68),\n",
       " (156, 151),\n",
       " (107, 104),\n",
       " (141, 96),\n",
       " (198, 188),\n",
       " (119, 100),\n",
       " (156, 149),\n",
       " (109, 74),\n",
       " (196, 193)]"
      ]
     },
     "execution_count": 22,
     "metadata": {},
     "output_type": "execute_result"
    }
   ],
   "source": [
    "indices = top_n_indices(similarities)\n",
    "print(similarities[indices[0][0], indices[0][1]])\n",
    "print(labels[indices[0][0]], labels[indices[0][1]])\n",
    "print(similarities[indices[1][0], indices[1][1]])\n",
    "print(labels[indices[1][0]], labels[indices[1][1]])\n",
    "print(similarities[indices[2][0], indices[2][1]])\n",
    "print(labels[indices[2][0]], labels[indices[1][1]])\n",
    "indices"
   ]
  },
  {
   "cell_type": "code",
   "execution_count": null,
   "metadata": {},
   "outputs": [
    {
     "ename": "NotImplementedError",
     "evalue": "",
     "output_type": "error",
     "traceback": [
      "\u001b[0;31m---------------------------------------------------------------------------\u001b[0m",
      "\u001b[0;31mNotImplementedError\u001b[0m                       Traceback (most recent call last)",
      "Cell \u001b[0;32mIn[23], line 1\u001b[0m\n\u001b[0;32m----> 1\u001b[0m \u001b[38;5;28;01mraise\u001b[39;00m \u001b[38;5;167;01mNotImplementedError\u001b[39;00m\n",
      "\u001b[0;31mNotImplementedError\u001b[0m: "
     ]
    }
   ],
   "source": [
    "raise NotImplementedError"
   ]
  }
 ],
 "metadata": {
  "kernelspec": {
   "display_name": ".venv",
   "language": "python",
   "name": "python3"
  },
  "language_info": {
   "codemirror_mode": {
    "name": "ipython",
    "version": 3
   },
   "file_extension": ".py",
   "mimetype": "text/x-python",
   "name": "python",
   "nbconvert_exporter": "python",
   "pygments_lexer": "ipython3",
   "version": "3.12.8"
  },
  "orig_nbformat": 2
 },
 "nbformat": 4,
 "nbformat_minor": 2
}
