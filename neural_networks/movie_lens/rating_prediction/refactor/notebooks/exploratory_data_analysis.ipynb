{
 "cells": [
  {
   "cell_type": "markdown",
   "metadata": {},
   "source": [
    "# Exploratory Data Analysis\n"
   ]
  },
  {
   "cell_type": "markdown",
   "metadata": {},
   "source": [
    "## Dataloader exploration"
   ]
  },
  {
   "cell_type": "code",
   "execution_count": 1,
   "metadata": {},
   "outputs": [],
   "source": [
    "import recsys.movie_lens"
   ]
  },
  {
   "cell_type": "code",
   "execution_count": 2,
   "metadata": {},
   "outputs": [
    {
     "data": {
      "text/plain": [
       "(PosixPath('/Users/stantoon/Documents/VariousProjects/github/data-analysis/neural_networks/movie_lens/rating_prediction/refactor'),\n",
       " PosixPath('/Users/stantoon/Documents/VariousProjects/github/data-analysis/neural_networks/movie_lens/rating_prediction/refactor/data/raw'))"
      ]
     },
     "execution_count": 2,
     "metadata": {},
     "output_type": "execute_result"
    }
   ],
   "source": [
    "recsys.movie_lens.PROJECT_ROOT, recsys.movie_lens.DEFAULT_DATA_DIR"
   ]
  },
  {
   "cell_type": "code",
   "execution_count": 3,
   "metadata": {},
   "outputs": [
    {
     "name": "stdout",
     "output_type": "stream",
     "text": [
      "Loaded 55375 positive interactions\n",
      "Users: 942, Items: 1447\n"
     ]
    }
   ],
   "source": [
    "output = recsys.movie_lens.load_movielens()"
   ]
  },
  {
   "cell_type": "code",
   "execution_count": 4,
   "metadata": {},
   "outputs": [
    {
     "name": "stdout",
     "output_type": "stream",
     "text": [
      "Loaded 55375 positive interactions\n",
      "Users: 942, Items: 1447\n"
     ]
    }
   ],
   "source": [
    "train_loader, test_loader, num_users, num_items = recsys.movie_lens.get_dataloaders()"
   ]
  },
  {
   "cell_type": "markdown",
   "metadata": {},
   "source": [
    "Positive and negative samples are based on index"
   ]
  },
  {
   "cell_type": "code",
   "execution_count": 5,
   "metadata": {},
   "outputs": [
    {
     "data": {
      "text/plain": [
       "({'user_id': tensor(415), 'item_id': tensor(197), 'rating': tensor(1.)},\n",
       " {'user_id': tensor(415), 'item_id': tensor(1069), 'rating': tensor(0.)},\n",
       " {'user_id': tensor(415), 'item_id': tensor(109), 'rating': tensor(0.)},\n",
       " {'user_id': tensor(415), 'item_id': tensor(1107), 'rating': tensor(0.)})"
      ]
     },
     "execution_count": 5,
     "metadata": {},
     "output_type": "execute_result"
    }
   ],
   "source": [
    "train_loader.dataset[0], train_loader.dataset[1], train_loader.dataset[2], train_loader.dataset[3]"
   ]
  },
  {
   "cell_type": "markdown",
   "metadata": {},
   "source": [
    "Number of user/items"
   ]
  },
  {
   "cell_type": "code",
   "execution_count": 10,
   "metadata": {},
   "outputs": [
    {
     "data": {
      "text/plain": [
       "(942, 1447)"
      ]
     },
     "execution_count": 10,
     "metadata": {},
     "output_type": "execute_result"
    }
   ],
   "source": [
    "train_loader.dataset.num_users, train_loader.dataset.num_items"
   ]
  },
  {
   "cell_type": "markdown",
   "metadata": {},
   "source": [
    "Dataloader outputs"
   ]
  },
  {
   "cell_type": "code",
   "execution_count": 6,
   "metadata": {},
   "outputs": [
    {
     "data": {
      "text/plain": [
       "{'user_id': tensor([920, 387, 245,  ..., 504, 393, 345]),\n",
       " 'item_id': tensor([  21,  545, 1300,  ...,  290,  770,  958]),\n",
       " 'rating': tensor([1., 0., 0.,  ..., 0., 0., 0.])}"
      ]
     },
     "execution_count": 6,
     "metadata": {},
     "output_type": "execute_result"
    }
   ],
   "source": [
    "batch = next(iter(train_loader))\n",
    "batch"
   ]
  },
  {
   "cell_type": "markdown",
   "metadata": {},
   "source": [
    "## Models"
   ]
  },
  {
   "cell_type": "code",
   "execution_count": 7,
   "metadata": {},
   "outputs": [
    {
     "data": {
      "text/plain": [
       "tensor([[0.5000],\n",
       "        [0.5000],\n",
       "        [0.5000],\n",
       "        ...,\n",
       "        [0.5000],\n",
       "        [1.7278],\n",
       "        [0.5000]], grad_fn=<ClampBackward1>)"
      ]
     },
     "execution_count": 7,
     "metadata": {},
     "output_type": "execute_result"
    }
   ],
   "source": [
    "from recsys.models import get_model\n",
    "\n",
    "\n",
    "model = get_model(\n",
    "    **{\n",
    "        \"architecture\": \"NeuralInnerProduct\",\n",
    "        \"embedding_dim\": 10,\n",
    "        \"num_users\": 943,\n",
    "        \"num_items\": 1682,\n",
    "    }\n",
    ")\n",
    "\n",
    "    # \"NeuralColabFilterSigmoid\": \"recsys.models.neural_colab_filter_sigmoid\",\n",
    "    # \"NeuralColabFilter\": \"recsys.models.neural_colab_filter\",\n",
    "    # \"NeuralColabFilterNonLinear\": \"recsys.models.neural_colab_filter_non_linear\",\n",
    "    # \"NeuralInnerProduct\": \"recsys.models.neural_inner_product\",\n",
    "\n",
    "y_est = model(batch[\"user_id\"], batch[\"item_id\"])\n",
    "y_est"
   ]
  },
  {
   "cell_type": "code",
   "execution_count": 8,
   "metadata": {},
   "outputs": [
    {
     "data": {
      "text/plain": [
       "(torch.Size([1024, 1]), torch.Size([1024]), torch.Size([1024]))"
      ]
     },
     "execution_count": 8,
     "metadata": {},
     "output_type": "execute_result"
    }
   ],
   "source": [
    "y_est.shape, batch[\"user_id\"].shape, batch[\"item_id\"].shape"
   ]
  },
  {
   "cell_type": "markdown",
   "metadata": {},
   "source": [
    "## Training"
   ]
  },
  {
   "cell_type": "code",
   "execution_count": 9,
   "metadata": {},
   "outputs": [
    {
     "name": "stderr",
     "output_type": "stream",
     "text": [
      "INFO:recsys.train:Configuration: {'dataset': {'version': '100k', 'batch_size': 4096, 'test_split': 0.2, 'num_negatives': 4}, 'model': {'architecture': 'NeuralColabFilter', 'embedding_dim': 10, 'num_users': 943, 'num_items': 1682}, 'training': {'epochs': 1, 'learning_rate': 0.001, 'loss_function': 'mse'}, 'logging': {'experiment_name': 'movielens_rating_prediction', 'run_name': 'nn_colab_filter_linear'}}\n",
      "INFO:recsys.train:Loading model: NeuralColabFilter\n",
      "INFO:recsys.train:Loading dataset: {'version': '100k', 'batch_size': 4096, 'test_split': 0.2, 'num_negatives': 4}\n",
      "GPU available: True (mps), used: True\n",
      "TPU available: False, using: 0 TPU cores\n",
      "HPU available: False, using: 0 HPUs\n"
     ]
    },
    {
     "name": "stdout",
     "output_type": "stream",
     "text": [
      "Loaded 55375 positive interactions\n",
      "Users: 942, Items: 1447\n"
     ]
    },
    {
     "name": "stderr",
     "output_type": "stream",
     "text": [
      "\n",
      "  | Name  | Type  | Params | Mode \n",
      "----------------------------------------\n",
      "0 | model | Model | 28.9 K | train\n",
      "----------------------------------------\n",
      "28.9 K    Trainable params\n",
      "0         Non-trainable params\n",
      "28.9 K    Total params\n",
      "0.116     Total estimated model params size (MB)\n",
      "6         Modules in train mode\n",
      "0         Modules in eval mode\n"
     ]
    },
    {
     "name": "stdout",
     "output_type": "stream",
     "text": [
      "Sanity Checking: |          | 0/? [00:00<?, ?it/s]"
     ]
    },
    {
     "name": "stderr",
     "output_type": "stream",
     "text": [
      "/Users/stantoon/Documents/VariousProjects/github/data-analysis/neural_networks/movie_lens/rating_prediction/refactor/.venv/lib/python3.12/site-packages/pytorch_lightning/trainer/connectors/data_connector.py:433: The 'val_dataloader' does not have many workers which may be a bottleneck. Consider increasing the value of the `num_workers` argument` to `num_workers=7` in the `DataLoader` to improve performance.\n"
     ]
    },
    {
     "name": "stdout",
     "output_type": "stream",
     "text": [
      "Sanity Checking DataLoader 0:   0%|          | 0/2 [00:00<?, ?it/s]"
     ]
    },
    {
     "name": "stderr",
     "output_type": "stream",
     "text": [
      "/Users/stantoon/Documents/VariousProjects/github/data-analysis/neural_networks/movie_lens/rating_prediction/refactor/.venv/lib/python3.12/site-packages/torch/nn/modules/loss.py:616: UserWarning: Using a target size (torch.Size([4096])) that is different to the input size (torch.Size([4096, 1])). This will likely lead to incorrect results due to broadcasting. Please ensure they have the same size.\n",
      "  return F.mse_loss(input, target, reduction=self.reduction)\n"
     ]
    },
    {
     "name": "stdout",
     "output_type": "stream",
     "text": [
      "                                                                           "
     ]
    },
    {
     "name": "stderr",
     "output_type": "stream",
     "text": [
      "/Users/stantoon/Documents/VariousProjects/github/data-analysis/neural_networks/movie_lens/rating_prediction/refactor/.venv/lib/python3.12/site-packages/pytorch_lightning/trainer/connectors/data_connector.py:433: The 'train_dataloader' does not have many workers which may be a bottleneck. Consider increasing the value of the `num_workers` argument` to `num_workers=7` in the `DataLoader` to improve performance.\n"
     ]
    },
    {
     "name": "stdout",
     "output_type": "stream",
     "text": [
      "Epoch 0: 100%|██████████| 55/55 [00:06<00:00,  8.84it/s, v_num=8b61, train_loss_step=0.892]"
     ]
    },
    {
     "name": "stderr",
     "output_type": "stream",
     "text": [
      "/Users/stantoon/Documents/VariousProjects/github/data-analysis/neural_networks/movie_lens/rating_prediction/refactor/.venv/lib/python3.12/site-packages/torch/nn/modules/loss.py:616: UserWarning: Using a target size (torch.Size([316])) that is different to the input size (torch.Size([316, 1])). This will likely lead to incorrect results due to broadcasting. Please ensure they have the same size.\n",
      "  return F.mse_loss(input, target, reduction=self.reduction)\n"
     ]
    },
    {
     "name": "stdout",
     "output_type": "stream",
     "text": [
      "Epoch 0: 100%|██████████| 55/55 [00:07<00:00,  7.32it/s, v_num=8b61, train_loss_step=0.892, val_loss_step=0.830, val_loss_epoch=0.807, train_loss_epoch=0.927]"
     ]
    },
    {
     "name": "stderr",
     "output_type": "stream",
     "text": [
      "/Users/stantoon/Documents/VariousProjects/github/data-analysis/neural_networks/movie_lens/rating_prediction/refactor/.venv/lib/python3.12/site-packages/torch/nn/modules/loss.py:616: UserWarning: Using a target size (torch.Size([2127])) that is different to the input size (torch.Size([2127, 1])). This will likely lead to incorrect results due to broadcasting. Please ensure they have the same size.\n",
      "  return F.mse_loss(input, target, reduction=self.reduction)\n",
      "`Trainer.fit` stopped: `max_epochs=1` reached.\n"
     ]
    },
    {
     "name": "stdout",
     "output_type": "stream",
     "text": [
      "Epoch 0: 100%|██████████| 55/55 [00:07<00:00,  7.30it/s, v_num=8b61, train_loss_step=0.892, val_loss_step=0.830, val_loss_epoch=0.807, train_loss_epoch=0.927]\n"
     ]
    }
   ],
   "source": [
    "import recsys.train\n",
    "import yaml\n",
    "\n",
    "config = \"\"\"\n",
    "dataset:\n",
    "  version: \"100k\"\n",
    "  batch_size: 4096\n",
    "  test_split: 0.2\n",
    "  num_negatives: 4\n",
    "\n",
    "model:\n",
    "  architecture: \"NeuralColabFilter\"\n",
    "  embedding_dim: 10\n",
    "  num_users: 943\n",
    "  num_items: 1682\n",
    "\n",
    "training:\n",
    "  epochs: 1\n",
    "  learning_rate: 0.001\n",
    "  loss_function: \"mse\"\n",
    "\n",
    "logging:\n",
    "  experiment_name: \"movielens_rating_prediction\"\n",
    "  run_name: \"nn_colab_filter_linear\"\n",
    "\"\"\"\n",
    "config = yaml.safe_load(config)\n",
    "recsys.train.main(config)"
   ]
  }
 ],
 "metadata": {
  "kernelspec": {
   "display_name": ".venv",
   "language": "python",
   "name": "python3"
  },
  "language_info": {
   "codemirror_mode": {
    "name": "ipython",
    "version": 3
   },
   "file_extension": ".py",
   "mimetype": "text/x-python",
   "name": "python",
   "nbconvert_exporter": "python",
   "pygments_lexer": "ipython3",
   "version": "3.12.8"
  }
 },
 "nbformat": 4,
 "nbformat_minor": 4
}
