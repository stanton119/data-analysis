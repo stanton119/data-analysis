{
 "cells": [
  {
   "attachments": {},
   "cell_type": "markdown",
   "metadata": {},
   "source": [
    "# NN Collaborative filter\n",
    "\n",
    "Collaborative filter:\n",
    "Movies and customer embeddings.\n",
    "Replacing the inner product with a concat and a dense NN on top to make a neural collaborative filter."
   ]
  },
  {
   "cell_type": "code",
   "execution_count": 1,
   "metadata": {},
   "outputs": [],
   "source": [
    "import matplotlib.pyplot as plt\n",
    "import numpy as np\n",
    "import polars as pl\n",
    "import seaborn as sns\n",
    "\n",
    "plt.style.use(\"seaborn-v0_8-whitegrid\")\n",
    "\n",
    "import sys\n",
    "from pathlib import Path\n",
    "\n",
    "sys.path.append(str(Path().absolute().parent))\n",
    "\n",
    "import utilities"
   ]
  },
  {
   "cell_type": "markdown",
   "metadata": {},
   "source": [
    "### Loading and transforming MovieLens"
   ]
  },
  {
   "cell_type": "code",
   "execution_count": 2,
   "metadata": {},
   "outputs": [
    {
     "data": {
      "text/html": [
       "<div><style>\n",
       ".dataframe > thead > tr,\n",
       ".dataframe > tbody > tr {\n",
       "  text-align: right;\n",
       "  white-space: pre-wrap;\n",
       "}\n",
       "</style>\n",
       "<small>shape: (2_544_549, 6)</small><table border=\"1\" class=\"dataframe\"><thead><tr><th>userId</th><th>movieId</th><th>rating</th><th>timestamp</th><th>userIdMapped</th><th>movieIdMapped</th></tr><tr><td>i64</td><td>i64</td><td>f64</td><td>i64</td><td>u32</td><td>u32</td></tr></thead><tbody><tr><td>1</td><td>5952</td><td>4.0</td><td>1147868053</td><td>0</td><td>46</td></tr><tr><td>1</td><td>296</td><td>5.0</td><td>1147880044</td><td>0</td><td>7</td></tr><tr><td>2</td><td>5952</td><td>5.0</td><td>1141415528</td><td>1</td><td>46</td></tr><tr><td>2</td><td>150</td><td>4.0</td><td>1141415790</td><td>1</td><td>5</td></tr><tr><td>2</td><td>3578</td><td>5.0</td><td>1141415803</td><td>1</td><td>42</td></tr><tr><td>&hellip;</td><td>&hellip;</td><td>&hellip;</td><td>&hellip;</td><td>&hellip;</td><td>&hellip;</td></tr><tr><td>162541</td><td>1136</td><td>4.5</td><td>1240953505</td><td>157480</td><td>25</td></tr><tr><td>162541</td><td>296</td><td>3.5</td><td>1240953510</td><td>157480</td><td>7</td></tr><tr><td>162541</td><td>1197</td><td>4.5</td><td>1240953534</td><td>157480</td><td>27</td></tr><tr><td>162541</td><td>593</td><td>4.0</td><td>1240953576</td><td>157480</td><td>21</td></tr><tr><td>162541</td><td>47</td><td>4.5</td><td>1240953606</td><td>157480</td><td>2</td></tr></tbody></table></div>"
      ],
      "text/plain": [
       "shape: (2_544_549, 6)\n",
       "┌────────┬─────────┬────────┬────────────┬──────────────┬───────────────┐\n",
       "│ userId ┆ movieId ┆ rating ┆ timestamp  ┆ userIdMapped ┆ movieIdMapped │\n",
       "│ ---    ┆ ---     ┆ ---    ┆ ---        ┆ ---          ┆ ---           │\n",
       "│ i64    ┆ i64     ┆ f64    ┆ i64        ┆ u32          ┆ u32           │\n",
       "╞════════╪═════════╪════════╪════════════╪══════════════╪═══════════════╡\n",
       "│ 1      ┆ 5952    ┆ 4.0    ┆ 1147868053 ┆ 0            ┆ 46            │\n",
       "│ 1      ┆ 296     ┆ 5.0    ┆ 1147880044 ┆ 0            ┆ 7             │\n",
       "│ 2      ┆ 5952    ┆ 5.0    ┆ 1141415528 ┆ 1            ┆ 46            │\n",
       "│ 2      ┆ 150     ┆ 4.0    ┆ 1141415790 ┆ 1            ┆ 5             │\n",
       "│ 2      ┆ 3578    ┆ 5.0    ┆ 1141415803 ┆ 1            ┆ 42            │\n",
       "│ …      ┆ …       ┆ …      ┆ …          ┆ …            ┆ …             │\n",
       "│ 162541 ┆ 1136    ┆ 4.5    ┆ 1240953505 ┆ 157480       ┆ 25            │\n",
       "│ 162541 ┆ 296     ┆ 3.5    ┆ 1240953510 ┆ 157480       ┆ 7             │\n",
       "│ 162541 ┆ 1197    ┆ 4.5    ┆ 1240953534 ┆ 157480       ┆ 27            │\n",
       "│ 162541 ┆ 593     ┆ 4.0    ┆ 1240953576 ┆ 157480       ┆ 21            │\n",
       "│ 162541 ┆ 47      ┆ 4.5    ┆ 1240953606 ┆ 157480       ┆ 2             │\n",
       "└────────┴─────────┴────────┴────────────┴──────────────┴───────────────┘"
      ]
     },
     "execution_count": 2,
     "metadata": {},
     "output_type": "execute_result"
    }
   ],
   "source": [
    "ratings_df, user_id_mapping, movie_id_mapping = utilities.load_torch_data()\n",
    "ratings_df"
   ]
  },
  {
   "cell_type": "markdown",
   "metadata": {},
   "source": [
    "Make into torch datasets"
   ]
  },
  {
   "cell_type": "code",
   "execution_count": 3,
   "metadata": {},
   "outputs": [],
   "source": [
    "dataloader_train, dataloader_val, dataloader_test = utilities.get_data_loaders(\n",
    "    ratings_df=ratings_df  # , sample=int(1e5)\n",
    ")"
   ]
  },
  {
   "cell_type": "markdown",
   "metadata": {},
   "source": [
    "MLflow logging"
   ]
  },
  {
   "cell_type": "code",
   "execution_count": 4,
   "metadata": {},
   "outputs": [],
   "source": [
    "from pytorch_lightning.loggers import MLFlowLogger\n",
    "\n",
    "mlf_logger = MLFlowLogger(\n",
    "    experiment_name=\"movie_lens_rating_prediction\",\n",
    "    tracking_uri=\"mlruns\",\n",
    "    run_name=\"nn_colab_filter_linear\",\n",
    ")"
   ]
  },
  {
   "cell_type": "markdown",
   "metadata": {},
   "source": [
    "### Model definition"
   ]
  },
  {
   "cell_type": "markdown",
   "metadata": {},
   "source": [
    "Fit a model to learn embeddings"
   ]
  },
  {
   "cell_type": "code",
   "execution_count": 5,
   "metadata": {},
   "outputs": [],
   "source": [
    "import pytorch_lightning as pyl\n",
    "import torch\n",
    "import torch.nn as nn\n",
    "\n",
    "\n",
    "class MovieEmbeddingModel(pyl.LightningModule):\n",
    "    def __init__(\n",
    "        self, n_users, n_movies, embedding_dim=10, learning_rate: float = 5e-3\n",
    "    ):\n",
    "        super().__init__()\n",
    "        self.user_embedding = nn.Embedding(n_users, embedding_dim)\n",
    "        self.movie_embedding = nn.Embedding(n_movies, embedding_dim)\n",
    "        self.output = nn.Linear(embedding_dim * 2, 1)\n",
    "        self.sigmoid = nn.Sigmoid()\n",
    "        self.max_rating = 5.0\n",
    "        self.min_rating = 0.5\n",
    "        self.output_bias = torch.logit(\n",
    "            torch.tensor((3.9 - self.min_rating) / (self.max_rating - self.min_rating))\n",
    "        )\n",
    "        self.output.bias.data.fill_(self.output_bias)\n",
    "        self.learning_rate = learning_rate\n",
    "        self.save_hyperparameters()\n",
    "\n",
    "    def forward(self, user_ids, movie_ids):\n",
    "        user_embeds = self.user_embedding(user_ids)\n",
    "        movie_embeds = self.movie_embedding(movie_ids)\n",
    "        embeds_concat = torch.concat([user_embeds, movie_embeds], dim=1)\n",
    "        output = self.output(embeds_concat)\n",
    "        rating = (\n",
    "            self.sigmoid(output) * (self.max_rating - self.min_rating) + self.min_rating\n",
    "        )\n",
    "        return rating.flatten()\n",
    "\n",
    "    def training_step(self, batch, batch_idx):\n",
    "        user_ids, movie_ids, ratings = batch\n",
    "        predictions = self(user_ids, movie_ids)\n",
    "        loss = nn.MSELoss()(predictions, ratings)\n",
    "        self.log(\"train_loss\", loss, on_step=True, on_epoch=True, prog_bar=True)\n",
    "        return loss\n",
    "\n",
    "    def validation_step(self, batch, batch_idx):\n",
    "        user_ids, movie_ids, ratings = batch\n",
    "        predictions = self(user_ids, movie_ids)\n",
    "        loss = nn.MSELoss()(predictions, ratings)\n",
    "        self.log(\"val_loss\", loss, on_step=True, on_epoch=True, prog_bar=True)\n",
    "\n",
    "    def test_step(self, batch, batch_idx):\n",
    "        user_ids, movie_ids, ratings = batch\n",
    "        predictions = self(user_ids, movie_ids)\n",
    "        loss = nn.MSELoss()(predictions, ratings)\n",
    "        self.log(\"test_loss\", loss, on_step=True, on_epoch=True, prog_bar=True)\n",
    "\n",
    "    def configure_optimizers(self):\n",
    "        return torch.optim.Adam(self.parameters(), lr=self.learning_rate)"
   ]
  },
  {
   "cell_type": "markdown",
   "metadata": {},
   "source": [
    "Check it works with a small sample"
   ]
  },
  {
   "cell_type": "code",
   "execution_count": 6,
   "metadata": {},
   "outputs": [
    {
     "data": {
      "text/plain": [
       "tensor([3.6801, 4.0196, 3.7064,  ..., 4.4108, 3.3255, 4.0251],\n",
       "       grad_fn=<ViewBackward0>)"
      ]
     },
     "execution_count": 6,
     "metadata": {},
     "output_type": "execute_result"
    }
   ],
   "source": [
    "n_users = ratings_df[\"userIdMapped\"].unique().count()\n",
    "n_movies = ratings_df[\"movieIdMapped\"].unique().count()\n",
    "batch = next(iter(dataloader_train))\n",
    "model = MovieEmbeddingModel(n_users, n_movies)\n",
    "model(batch[0], batch[1])"
   ]
  },
  {
   "cell_type": "markdown",
   "metadata": {},
   "source": [
    "Add early stopping and enforce a minimum of 6 epochs (it takes a few epochs to start improving over a mean baseline)"
   ]
  },
  {
   "cell_type": "code",
   "execution_count": 7,
   "metadata": {},
   "outputs": [],
   "source": [
    "from pytorch_lightning.callbacks import Callback, EarlyStopping, ModelCheckpoint\n",
    "\n",
    "checkpoint_callback = ModelCheckpoint(\n",
    "    dirpath=\"checkpoints\", save_top_k=1, monitor=\"val_loss\"\n",
    ")\n",
    "\n",
    "\n",
    "class EarlyStoppingWithMinEpochs(Callback):\n",
    "    def __init__(self, min_epochs, **kwargs):\n",
    "        super().__init__()\n",
    "        self.min_epochs = min_epochs\n",
    "        self.early_stopping = EarlyStopping(**kwargs)\n",
    "\n",
    "    def on_validation_end(self, trainer, pl_module):\n",
    "        if trainer.current_epoch >= self.min_epochs - 1:\n",
    "            self.early_stopping.on_validation_end(trainer, pl_module)\n",
    "\n",
    "    def on_train_end(self, trainer, pl_module):\n",
    "        self.early_stopping.on_train_end(trainer, pl_module)\n",
    "\n",
    "\n",
    "early_stop_callback = EarlyStoppingWithMinEpochs(\n",
    "    min_epochs=6, monitor=\"val_loss\", patience=2, mode=\"min\"\n",
    ")"
   ]
  },
  {
   "cell_type": "markdown",
   "metadata": {},
   "source": [
    "Train the model\n",
    "\n",
    "Using an embedding size of 5."
   ]
  },
  {
   "cell_type": "code",
   "execution_count": 8,
   "metadata": {},
   "outputs": [
    {
     "name": "stderr",
     "output_type": "stream",
     "text": [
      "GPU available: True (mps), used: True\n",
      "TPU available: False, using: 0 TPU cores\n",
      "HPU available: False, using: 0 HPUs\n",
      "/Users/stantoon/Documents/VariousProjects/github/data-analysis/.venv/lib/python3.12/site-packages/pytorch_lightning/callbacks/model_checkpoint.py:654: Checkpoint directory /Users/stantoon/Documents/VariousProjects/github/data-analysis/neural_networks/movie_lens/rating_prediction/checkpoints exists and is not empty.\n",
      "\n",
      "  | Name            | Type      | Params | Mode \n",
      "------------------------------------------------------\n",
      "0 | user_embedding  | Embedding | 787 K  | train\n",
      "1 | movie_embedding | Embedding | 250    | train\n",
      "2 | output          | Linear    | 11     | train\n",
      "3 | sigmoid         | Sigmoid   | 0      | train\n",
      "------------------------------------------------------\n",
      "787 K     Trainable params\n",
      "0         Non-trainable params\n",
      "787 K     Total params\n",
      "3.151     Total estimated model params size (MB)\n",
      "4         Modules in train mode\n",
      "0         Modules in eval mode\n"
     ]
    },
    {
     "name": "stdout",
     "output_type": "stream",
     "text": [
      "Sanity Checking:   0%|          | 0/2 [00:00<?, ?it/s]"
     ]
    },
    {
     "name": "stderr",
     "output_type": "stream",
     "text": [
      "/Users/stantoon/Documents/VariousProjects/github/data-analysis/.venv/lib/python3.12/site-packages/pytorch_lightning/trainer/connectors/data_connector.py:424: The 'val_dataloader' does not have many workers which may be a bottleneck. Consider increasing the value of the `num_workers` argument` to `num_workers=7` in the `DataLoader` to improve performance.\n"
     ]
    },
    {
     "name": "stdout",
     "output_type": "stream",
     "text": [
      "                                                                           "
     ]
    },
    {
     "name": "stderr",
     "output_type": "stream",
     "text": [
      "/Users/stantoon/Documents/VariousProjects/github/data-analysis/.venv/lib/python3.12/site-packages/pytorch_lightning/trainer/connectors/data_connector.py:424: The 'train_dataloader' does not have many workers which may be a bottleneck. Consider increasing the value of the `num_workers` argument` to `num_workers=7` in the `DataLoader` to improve performance.\n"
     ]
    },
    {
     "name": "stdout",
     "output_type": "stream",
     "text": [
      "Epoch 9: 100%|██████████| 435/435 [00:22<00:00, 19.56it/s, v_num=8409, train_loss_step=0.609, val_loss_step=0.670, val_loss_epoch=0.689, train_loss_epoch=0.596]\n"
     ]
    }
   ],
   "source": [
    "model = MovieEmbeddingModel(n_users, n_movies, embedding_dim=5)\n",
    "trainer = pyl.Trainer(\n",
    "    max_epochs=40,\n",
    "    logger=mlf_logger,\n",
    "    log_every_n_steps=1,\n",
    "    callbacks=[early_stop_callback, checkpoint_callback],\n",
    ")\n",
    "trainer.fit(model, dataloader_train, dataloader_val)"
   ]
  },
  {
   "cell_type": "markdown",
   "metadata": {},
   "source": [
    "Evaluate test set performance"
   ]
  },
  {
   "cell_type": "code",
   "execution_count": 9,
   "metadata": {},
   "outputs": [
    {
     "name": "stderr",
     "output_type": "stream",
     "text": [
      "/Users/stantoon/Documents/VariousProjects/github/data-analysis/.venv/lib/python3.12/site-packages/pytorch_lightning/trainer/connectors/data_connector.py:424: The 'test_dataloader' does not have many workers which may be a bottleneck. Consider increasing the value of the `num_workers` argument` to `num_workers=7` in the `DataLoader` to improve performance.\n"
     ]
    },
    {
     "name": "stdout",
     "output_type": "stream",
     "text": [
      "Testing DataLoader 0: 100%|██████████| 63/63 [00:02<00:00, 27.43it/s]\n",
      "────────────────────────────────────────────────────────────────────────────────────────────────────────────────────────\n",
      "       Test metric             DataLoader 0\n",
      "────────────────────────────────────────────────────────────────────────────────────────────────────────────────────────\n",
      "     test_loss_epoch        0.6960532665252686\n",
      "────────────────────────────────────────────────────────────────────────────────────────────────────────────────────────\n"
     ]
    },
    {
     "data": {
      "text/plain": [
       "[{'test_loss_epoch': 0.6960532665252686}]"
      ]
     },
     "execution_count": 9,
     "metadata": {},
     "output_type": "execute_result"
    }
   ],
   "source": [
    "trainer.test(model, dataloader_test)"
   ]
  },
  {
   "cell_type": "markdown",
   "metadata": {},
   "source": [
    "Store model"
   ]
  },
  {
   "cell_type": "code",
   "execution_count": 10,
   "metadata": {},
   "outputs": [],
   "source": [
    "mlf_logger.experiment.log_artifact(\n",
    "    mlf_logger.run_id, checkpoint_callback.best_model_path\n",
    ")"
   ]
  },
  {
   "cell_type": "markdown",
   "metadata": {},
   "source": [
    "Plotting train/val epoch loss"
   ]
  },
  {
   "cell_type": "code",
   "execution_count": 11,
   "metadata": {},
   "outputs": [
    {
     "name": "stderr",
     "output_type": "stream",
     "text": [
      "/var/folders/_v/nlh4h1yx2n1gd6f3szjlgxt40000gr/T/ipykernel_87702/2428333827.py:4: UserWarning: FigureCanvasAgg is non-interactive, and thus cannot be shown\n",
      "  fig.show()\n"
     ]
    },
    {
     "data": {
      "image/png": "[encoded data removed]",
      "text/plain": [
       "<Figure size 600x400 with 1 Axes>"
      ]
     },
     "metadata": {},
     "output_type": "display_data"
    }
   ],
   "source": [
    "plot_df = utilities.training_logs_to_df(run_id=mlf_logger.run_id)\n",
    "fig, ax = plt.subplots(figsize=(6, 4))\n",
    "sns.lineplot(data=plot_df, x=\"epoch\", y=\"loss\", hue=\"dataset\", ax=ax)\n",
    "fig.show()"
   ]
  },
  {
   "cell_type": "markdown",
   "metadata": {},
   "source": [
    "### Check prediction results"
   ]
  },
  {
   "cell_type": "markdown",
   "metadata": {},
   "source": [
    "We will use a baseline prediction from mean ratings to sanity check"
   ]
  },
  {
   "cell_type": "code",
   "execution_count": 12,
   "metadata": {},
   "outputs": [
    {
     "data": {
      "text/html": [
       "<div><style>\n",
       ".dataframe > thead > tr,\n",
       ".dataframe > tbody > tr {\n",
       "  text-align: right;\n",
       "  white-space: pre-wrap;\n",
       "}\n",
       "</style>\n",
       "<small>shape: (1_781_184, 8)</small><table border=\"1\" class=\"dataframe\"><thead><tr><th>userId</th><th>movieId</th><th>rating</th><th>timestamp</th><th>userIdMapped</th><th>movieIdMapped</th><th>baseline</th><th>nn</th></tr><tr><td>i64</td><td>i64</td><td>f64</td><td>i64</td><td>u32</td><td>u32</td><td>f64</td><td>f32</td></tr></thead><tbody><tr><td>5150</td><td>79132</td><td>2.5</td><td>1459431773</td><td>5008</td><td>49</td><td>3.979833</td><td>3.192008</td></tr><tr><td>79646</td><td>150</td><td>3.5</td><td>1554224374</td><td>77175</td><td>5</td><td>3.979833</td><td>3.87137</td></tr><tr><td>63956</td><td>318</td><td>4.0</td><td>948005318</td><td>61981</td><td>8</td><td>3.979833</td><td>4.498392</td></tr><tr><td>66248</td><td>1291</td><td>4.5</td><td>1189775094</td><td>64204</td><td>33</td><td>3.979833</td><td>3.991202</td></tr><tr><td>57849</td><td>527</td><td>4.5</td><td>1322993994</td><td>56060</td><td>16</td><td>3.979833</td><td>3.686289</td></tr><tr><td>&hellip;</td><td>&hellip;</td><td>&hellip;</td><td>&hellip;</td><td>&hellip;</td><td>&hellip;</td><td>&hellip;</td><td>&hellip;</td></tr><tr><td>7160</td><td>780</td><td>3.0</td><td>848676694</td><td>6942</td><td>23</td><td>3.979833</td><td>2.991416</td></tr><tr><td>108304</td><td>527</td><td>4.0</td><td>1419181402</td><td>104945</td><td>16</td><td>3.979833</td><td>3.886832</td></tr><tr><td>150532</td><td>380</td><td>3.5</td><td>1181551976</td><td>145835</td><td>13</td><td>3.979833</td><td>3.050255</td></tr><tr><td>142477</td><td>260</td><td>5.0</td><td>832244201</td><td>138046</td><td>6</td><td>3.979833</td><td>4.222733</td></tr><tr><td>141844</td><td>1136</td><td>4.5</td><td>1111183788</td><td>137436</td><td>25</td><td>3.979833</td><td>4.504933</td></tr></tbody></table></div>"
      ],
      "text/plain": [
       "shape: (1_781_184, 8)\n",
       "┌────────┬─────────┬────────┬────────────┬──────────────┬───────────────┬──────────┬──────────┐\n",
       "│ userId ┆ movieId ┆ rating ┆ timestamp  ┆ userIdMapped ┆ movieIdMapped ┆ baseline ┆ nn       │\n",
       "│ ---    ┆ ---     ┆ ---    ┆ ---        ┆ ---          ┆ ---           ┆ ---      ┆ ---      │\n",
       "│ i64    ┆ i64     ┆ f64    ┆ i64        ┆ u32          ┆ u32           ┆ f64      ┆ f32      │\n",
       "╞════════╪═════════╪════════╪════════════╪══════════════╪═══════════════╪══════════╪══════════╡\n",
       "│ 5150   ┆ 79132   ┆ 2.5    ┆ 1459431773 ┆ 5008         ┆ 49            ┆ 3.979833 ┆ 3.192008 │\n",
       "│ 79646  ┆ 150     ┆ 3.5    ┆ 1554224374 ┆ 77175        ┆ 5             ┆ 3.979833 ┆ 3.87137  │\n",
       "│ 63956  ┆ 318     ┆ 4.0    ┆ 948005318  ┆ 61981        ┆ 8             ┆ 3.979833 ┆ 4.498392 │\n",
       "│ 66248  ┆ 1291    ┆ 4.5    ┆ 1189775094 ┆ 64204        ┆ 33            ┆ 3.979833 ┆ 3.991202 │\n",
       "│ 57849  ┆ 527     ┆ 4.5    ┆ 1322993994 ┆ 56060        ┆ 16            ┆ 3.979833 ┆ 3.686289 │\n",
       "│ …      ┆ …       ┆ …      ┆ …          ┆ …            ┆ …             ┆ …        ┆ …        │\n",
       "│ 7160   ┆ 780     ┆ 3.0    ┆ 848676694  ┆ 6942         ┆ 23            ┆ 3.979833 ┆ 2.991416 │\n",
       "│ 108304 ┆ 527     ┆ 4.0    ┆ 1419181402 ┆ 104945       ┆ 16            ┆ 3.979833 ┆ 3.886832 │\n",
       "│ 150532 ┆ 380     ┆ 3.5    ┆ 1181551976 ┆ 145835       ┆ 13            ┆ 3.979833 ┆ 3.050255 │\n",
       "│ 142477 ┆ 260     ┆ 5.0    ┆ 832244201  ┆ 138046       ┆ 6             ┆ 3.979833 ┆ 4.222733 │\n",
       "│ 141844 ┆ 1136    ┆ 4.5    ┆ 1111183788 ┆ 137436       ┆ 25            ┆ 3.979833 ┆ 4.504933 │\n",
       "└────────┴─────────┴────────┴────────────┴──────────────┴───────────────┴──────────┴──────────┘"
      ]
     },
     "execution_count": 12,
     "metadata": {},
     "output_type": "execute_result"
    }
   ],
   "source": [
    "train_data, val_data, test_data = utilities.split_train_test(ratings_df=ratings_df)\n",
    "train_data = train_data.with_columns(pl.col(\"rating\").mean().alias(\"baseline\"))\n",
    "\n",
    "preds = model(\n",
    "    torch.tensor(train_data[\"userIdMapped\"]), torch.tensor(train_data[\"movieIdMapped\"])\n",
    ")\n",
    "train_data = train_data.with_columns(pl.lit(preds.detach().numpy()).alias(\"nn\"))\n",
    "\n",
    "train_data"
   ]
  },
  {
   "cell_type": "markdown",
   "metadata": {},
   "source": [
    "We are beating the mean baseline in the training dataset"
   ]
  },
  {
   "cell_type": "code",
   "execution_count": 13,
   "metadata": {},
   "outputs": [
    {
     "name": "stdout",
     "output_type": "stream",
     "text": [
      "baseline loss:  tensor(0.9037)\n",
      "NN loss:  tensor(0.5793)\n"
     ]
    }
   ],
   "source": [
    "print(\n",
    "    \"baseline loss: \",\n",
    "    nn.MSELoss()(\n",
    "        torch.tensor(train_data[\"baseline\"]), torch.tensor(train_data[\"rating\"])\n",
    "    ),\n",
    ")\n",
    "print(\n",
    "    \"NN loss: \",\n",
    "    nn.MSELoss()(torch.tensor(train_data[\"nn\"]), torch.tensor(train_data[\"rating\"])),\n",
    ")"
   ]
  },
  {
   "cell_type": "markdown",
   "metadata": {},
   "source": [
    "The histogram of predictions looks reasonable"
   ]
  },
  {
   "cell_type": "code",
   "execution_count": 14,
   "metadata": {},
   "outputs": [
    {
     "name": "stderr",
     "output_type": "stream",
     "text": [
      "/var/folders/_v/nlh4h1yx2n1gd6f3szjlgxt40000gr/T/ipykernel_87702/2656779169.py:4: UserWarning: FigureCanvasAgg is non-interactive, and thus cannot be shown\n",
      "  fig.show()\n"
     ]
    },
    {
     "data": {
      "image/png": "[encoded data removed]",
      "text/plain": [
       "<Figure size 600x400 with 1 Axes>"
      ]
     },
     "metadata": {},
     "output_type": "display_data"
    }
   ],
   "source": [
    "fig, ax = plt.subplots(figsize=(6, 4))\n",
    "sns.histplot(data=train_data, x=\"rating\", ax=ax)\n",
    "sns.histplot(data=train_data, x=\"nn\", ax=ax)\n",
    "fig.show()"
   ]
  }
 ],
 "metadata": {
  "kernelspec": {
   "display_name": ".venv",
   "language": "python",
   "name": "python3"
  },
  "language_info": {
   "codemirror_mode": {
    "name": "ipython",
    "version": 3
   },
   "file_extension": ".py",
   "mimetype": "text/x-python",
   "name": "python",
   "nbconvert_exporter": "python",
   "pygments_lexer": "ipython3",
   "version": "3.12.8"
  },
  "orig_nbformat": 2
 },
 "nbformat": 4,
 "nbformat_minor": 2
}
