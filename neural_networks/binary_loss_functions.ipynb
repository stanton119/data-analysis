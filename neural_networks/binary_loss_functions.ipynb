{
 "cells": [
  {
   "attachments": {},
   "cell_type": "markdown",
   "metadata": {},
   "source": [
    "# Binary cross entropy vs cross entropy loss functions in PyTorch?\n",
    "\n",
    "Sometimes when designing a classifier we don't quite know how many output classes there will be. We can design a multi class model and then realise a binary classification model would suffice. When creating a multi class model in PyTorch we typically use the `CrossEntropyLoss` loss function. For a binary classification model we would usually use `BCEWithLogitsLoss`. However, for a binary classification problem, if we use `CrossEntropyLoss` loss we end up with twice as many weights than using `BCEWithLogitsLoss`. Does this matter...?\n",
    "\n",
    "To do a quite check we can create some dummy binary classification data and fit a few models. We'll fit the same model structure with different loss functions and see what the differences are."
   ]
  },
  {
   "attachments": {},
   "cell_type": "markdown",
   "metadata": {},
   "source": [
    "## Create data\n",
    "\n",
    "We create random data from a binary classification problem. Then we convert to PyTorch dataloaders for training our models.\n",
    "\n",
    "> Note: We use no parallel workers for the dataloader as it slows down loading data a lot when the dataset can fit in memory."
   ]
  },
  {
   "cell_type": "code",
   "execution_count": 1,
   "metadata": {},
   "outputs": [],
   "source": [
    "import torch\n",
    "import numpy as np\n",
    "import scipy.special\n",
    "\n",
    "n = 100_000  # number of data points\n",
    "m = 4  # number of features\n",
    "\n",
    "torch.manual_seed(0)\n",
    "random = np.random.default_rng(seed=0)\n",
    "w = random.normal(size=(m, 1))  # weights vector\n",
    "b = random.normal(size=1)\n",
    "X = random.normal(size=(n, m))\n",
    "y_logit = b + np.dot(X, w) + random.normal(scale=0.0, size=(n, 1))\n",
    "y = random.binomial(n=1, p=scipy.special.expit(y_logit)).flatten()\n",
    "\n",
    "# split to train/test\n",
    "X_train, X_test, y_train, y_test = (\n",
    "    X[: int(n / 2)],\n",
    "    X[int(n / 2) :],\n",
    "    y[: int(n / 2)],\n",
    "    y[int(n / 2) :],\n",
    ")\n",
    "\n",
    "train_dataset = torch.utils.data.TensorDataset(\n",
    "    torch.Tensor(X_train), torch.Tensor(y_train)\n",
    ")\n",
    "test_dataset = torch.utils.data.TensorDataset(\n",
    "    torch.Tensor(X_test), torch.Tensor(y_test)\n",
    ")\n",
    "\n",
    "# create to data loader\n",
    "train_loader = torch.utils.data.DataLoader(\n",
    "    train_dataset, batch_size=int(n / 2), shuffle=False\n",
    ")\n",
    "test_loader = torch.utils.data.DataLoader(\n",
    "    test_dataset, batch_size=int(n / 2), shuffle=False\n",
    ")"
   ]
  },
  {
   "attachments": {},
   "cell_type": "markdown",
   "metadata": {},
   "source": [
    "## Build models"
   ]
  },
  {
   "attachments": {},
   "cell_type": "markdown",
   "metadata": {},
   "source": [
    "Here we'll define some common functions. Namely, to train a pytorch lightning models and evaluate model performance.\n",
    "\n",
    "Metrics - we use log likelihood and accuracy (we have a class split of 50/50 so this is reasonable)\n"
   ]
  },
  {
   "cell_type": "code",
   "execution_count": 2,
   "metadata": {},
   "outputs": [
    {
     "name": "stderr",
     "output_type": "stream",
     "text": [
      "/Users/rich/Developer/miniconda3/envs/pytorch_env/lib/python3.10/site-packages/tqdm/auto.py:21: TqdmWarning: IProgress not found. Please update jupyter and ipywidgets. See https://ipywidgets.readthedocs.io/en/stable/user_install.html\n",
      "  from .autonotebook import tqdm as notebook_tqdm\n",
      "/var/folders/ky/4qby95090jbbq38_mh94x72r0000gn/T/ipykernel_69550/494113661.py:7: MatplotlibDeprecationWarning: The seaborn styles shipped by Matplotlib are deprecated since 3.6, as they no longer correspond to the styles shipped by seaborn. However, they will remain available as 'seaborn-v0_8-<style>'. Alternatively, directly use the seaborn API instead.\n",
      "  plt.style.use(\"seaborn-whitegrid\")\n"
     ]
    }
   ],
   "source": [
    "import sklearn.metrics\n",
    "import pandas as pd\n",
    "import pytorch_lightning as pl\n",
    "\n",
    "import matplotlib.pyplot as plt\n",
    "\n",
    "plt.style.use(\"seaborn-whitegrid\")\n",
    "\n",
    "\n",
    "def tensor_to_sklearn_pred(pred):\n",
    "    return np.stack([1 - pred, pred]).transpose()\n",
    "\n",
    "\n",
    "def evaluate_predictions_with_skl(y_train, y_train_est, y_test, y_test_est) -> dict:\n",
    "    return {\n",
    "        \"log_loss_train\": sklearn.metrics.log_loss(y_train, y_train_est),\n",
    "        \"log_loss_test\": sklearn.metrics.log_loss(y_test, y_test_est),\n",
    "        \"accuracy_score_train\": sklearn.metrics.accuracy_score(\n",
    "            y_train, y_train_est[:, 1] > y_train_est[:, 0]\n",
    "        ),\n",
    "        \"accuracy_score_test\": sklearn.metrics.accuracy_score(\n",
    "            y_test, y_test_est[:, 1] > y_test_est[:, 0]\n",
    "        ),\n",
    "    }\n",
    "\n",
    "\n",
    "def evaluate_all_models(model_outputs: dict) -> pd.DataFrame:\n",
    "    results = []\n",
    "    for name, model_output in model_outputs.items():\n",
    "        _results = evaluate_predictions_with_skl(\n",
    "            y_train, model_output[0], y_test, model_output[1]\n",
    "        )\n",
    "        _results[\"name\"] = name\n",
    "        results.append(_results)\n",
    "    return pd.DataFrame(results)\n",
    "\n",
    "\n",
    "def train_torch_model(\n",
    "    model,\n",
    "    epochs: int = 100,\n",
    "    train_loader=train_loader,\n",
    "    test_loader=test_loader,\n",
    "    accelerator=\"gpu\",\n",
    "):\n",
    "    trainer = pl.Trainer(\n",
    "        max_epochs=epochs, enable_progress_bar=True, accelerator=accelerator\n",
    "    )\n",
    "    trainer.fit(model, train_loader, test_loader)\n",
    "\n",
    "\n",
    "def plot_training_logs(model):\n",
    "    fig, ax = plt.subplots(figsize=(8, 6))\n",
    "    ax.plot(np.array(model.log_train), label=\"train_LL\")\n",
    "    ax.plot(np.array(model.log_val), label=\"test_LL\")\n",
    "    ax.set(xlabel=\"Step\", ylabel=\"Logloss\")\n",
    "    ax.legend()\n",
    "    fig.show()\n",
    "\n",
    "\n",
    "def predict_data_loader(model, data_loader):\n",
    "    model.eval()\n",
    "\n",
    "    y_est = []\n",
    "    y_true = []\n",
    "    with torch.no_grad():\n",
    "        for img_batch, label_batch in data_loader:\n",
    "            output = model(img_batch)\n",
    "            probs = torch.nn.functional.sigmoid(output)\n",
    "\n",
    "            y_est.append(probs)\n",
    "            y_true.append(label_batch)\n",
    "\n",
    "    y_est = torch.cat(y_est)\n",
    "    y_true = torch.cat(y_true)\n",
    "\n",
    "    return y_est, y_true\n",
    "\n",
    "\n",
    "model_outputs = {}\n",
    "model_times = {}\n",
    "model_parameters = {}"
   ]
  },
  {
   "attachments": {},
   "cell_type": "markdown",
   "metadata": {},
   "source": [
    "### Binary cross entropy\n",
    "\n",
    "The model we build is a binary classifier with a single linear layer, a logistic regression. We set the criterion to `BCEWithLogitsLoss`.\n",
    "Given we have 4 features, there are only 5 parameters to learn here.\n",
    "\n",
    "We train the model for 50 epochs and time how long it takes."
   ]
  },
  {
   "cell_type": "code",
   "execution_count": 3,
   "metadata": {},
   "outputs": [
    {
     "name": "stderr",
     "output_type": "stream",
     "text": [
      "GPU available: True (mps), used: True\n",
      "TPU available: False, using: 0 TPU cores\n",
      "IPU available: False, using: 0 IPUs\n",
      "HPU available: False, using: 0 HPUs\n",
      "\n",
      "  | Name       | Type              | Params\n",
      "-------------------------------------------------\n",
      "0 | classifier | Linear            | 5     \n",
      "1 | criterion  | BCEWithLogitsLoss | 0     \n",
      "-------------------------------------------------\n",
      "5         Trainable params\n",
      "0         Non-trainable params\n",
      "5         Total params\n",
      "0.000     Total estimated model params size (MB)\n"
     ]
    },
    {
     "name": "stdout",
     "output_type": "stream",
     "text": [
      "Sanity Checking: 0it [00:00, ?it/s]"
     ]
    },
    {
     "name": "stderr",
     "output_type": "stream",
     "text": [
      "/Users/rich/Developer/miniconda3/envs/pytorch_env/lib/python3.10/site-packages/pytorch_lightning/trainer/connectors/data_connector.py:430: PossibleUserWarning: The dataloader, val_dataloader, does not have many workers which may be a bottleneck. Consider increasing the value of the `num_workers` argument` (try 8 which is the number of cpus on this machine) in the `DataLoader` init to improve performance.\n",
      "  rank_zero_warn(\n"
     ]
    },
    {
     "name": "stdout",
     "output_type": "stream",
     "text": [
      "                                                                           "
     ]
    },
    {
     "name": "stderr",
     "output_type": "stream",
     "text": [
      "/Users/rich/Developer/miniconda3/envs/pytorch_env/lib/python3.10/site-packages/pytorch_lightning/trainer/connectors/data_connector.py:430: PossibleUserWarning: The dataloader, train_dataloader, does not have many workers which may be a bottleneck. Consider increasing the value of the `num_workers` argument` (try 8 which is the number of cpus on this machine) in the `DataLoader` init to improve performance.\n",
      "  rank_zero_warn(\n",
      "/Users/rich/Developer/miniconda3/envs/pytorch_env/lib/python3.10/site-packages/pytorch_lightning/loops/fit_loop.py:280: PossibleUserWarning: The number of training batches (1) is smaller than the logging interval Trainer(log_every_n_steps=50). Set a lower value for log_every_n_steps if you want to see logs for the training epoch.\n",
      "  rank_zero_warn(\n"
     ]
    },
    {
     "name": "stdout",
     "output_type": "stream",
     "text": [
      "Epoch 49: 100%|██████████| 1/1 [00:00<00:00,  2.13it/s, v_num=195, train_loss=0.616, val_loss_step=0.618, val_loss_epoch=0.618]"
     ]
    },
    {
     "name": "stderr",
     "output_type": "stream",
     "text": [
      "`Trainer.fit` stopped: `max_epochs=50` reached.\n"
     ]
    },
    {
     "name": "stdout",
     "output_type": "stream",
     "text": [
      "Epoch 49: 100%|██████████| 1/1 [00:00<00:00,  2.11it/s, v_num=195, train_loss=0.616, val_loss_step=0.618, val_loss_epoch=0.618]\n"
     ]
    },
    {
     "name": "stderr",
     "output_type": "stream",
     "text": [
      "/var/folders/ky/4qby95090jbbq38_mh94x72r0000gn/T/ipykernel_69550/494113661.py:57: UserWarning: Matplotlib is currently using module://matplotlib_inline.backend_inline, which is a non-GUI backend, so cannot show the figure.\n",
      "  fig.show()\n"
     ]
    },
    {
     "data": {
      "image/png": "[encoded data removed]",
      "text/plain": [
       "<Figure size 800x600 with 1 Axes>"
      ]
     },
     "metadata": {},
     "output_type": "display_data"
    }
   ],
   "source": [
    "import torch.nn as nn\n",
    "import timeit\n",
    "\n",
    "\n",
    "class BCEModel(pl.LightningModule):\n",
    "    def __init__(self, input_features: int, learning_rate=0.01):\n",
    "        super().__init__()\n",
    "\n",
    "        self.classifier = nn.Linear(input_features, 1)\n",
    "\n",
    "        # Define loss function\n",
    "        self.criterion = nn.BCEWithLogitsLoss()\n",
    "\n",
    "        # Define optimizer\n",
    "        self.learning_rate = learning_rate\n",
    "        self.optimizer = torch.optim.Adam(self.parameters(), lr=learning_rate)\n",
    "\n",
    "        # training logs\n",
    "        self.log_train = []\n",
    "        self.log_val = []\n",
    "\n",
    "    def forward(self, x):\n",
    "        x = self.classifier(x)\n",
    "        return x.flatten()\n",
    "\n",
    "    def training_step(self, batch, batch_idx):\n",
    "        x, y = batch\n",
    "        y_hat = self(x)\n",
    "        loss = self.criterion(y_hat, y)\n",
    "        self.log(\"train_loss\", loss, prog_bar=True, on_step=True)\n",
    "        self.log_train.append(loss.detach().cpu().numpy())\n",
    "        return loss\n",
    "\n",
    "    def validation_step(self, batch, batch_idx):\n",
    "        x, y = batch\n",
    "        y_hat = self(x)\n",
    "        loss = self.criterion(y_hat, y)\n",
    "        self.log(\"val_loss\", loss, prog_bar=True, on_step=True)\n",
    "        self.log_val.append(loss.cpu().numpy())\n",
    "\n",
    "    def configure_optimizers(self):\n",
    "        return self.optimizer\n",
    "\n",
    "\n",
    "model_lightning = BCEModel(learning_rate=1e-1, input_features=m)\n",
    "\n",
    "start_time = timeit.default_timer()\n",
    "train_torch_model(model_lightning, epochs=50)\n",
    "model_times[\"logistic_reg_bce\"] = timeit.default_timer() - start_time\n",
    "\n",
    "plot_training_logs(model_lightning)\n",
    "\n",
    "y_train_est, y_true_train = predict_data_loader(model_lightning, train_loader)\n",
    "y_test_est, y_true_test = predict_data_loader(model_lightning, test_loader)\n",
    "model_outputs[\"logistic_reg_bce\"] = [\n",
    "    tensor_to_sklearn_pred(y_train_est),\n",
    "    tensor_to_sklearn_pred(y_test_est),\n",
    "]\n",
    "model_parameters[\"logistic_reg_bce\"] = model_lightning.parameters()"
   ]
  },
  {
   "attachments": {},
   "cell_type": "markdown",
   "metadata": {},
   "source": [
    "## Cross Entropy\n",
    "\n",
    "Now we do the same but using `CrossEntropyLoss`. This requires an output per possible target class. We have a single class, where the target takes on 0 or 1. However for a multi class problem that is considered as two classes, 0 and 1. So we can adjust the single output, `p(x)`, to make the output in the form:\n",
    "\n",
    "```\n",
    "[p(x), 1-p(x)]\n",
    "```\n",
    "\n",
    "As the output is in logits we need to use the `expit` and `logit` function to do the transform. This is now the same model as before with 5 parameters, but using `CrossEntropyLoss`."
   ]
  },
  {
   "cell_type": "code",
   "execution_count": 4,
   "metadata": {},
   "outputs": [
    {
     "name": "stderr",
     "output_type": "stream",
     "text": [
      "GPU available: True (mps), used: False\n",
      "TPU available: False, using: 0 TPU cores\n",
      "IPU available: False, using: 0 IPUs\n",
      "HPU available: False, using: 0 HPUs\n",
      "/Users/rich/Developer/miniconda3/envs/pytorch_env/lib/python3.10/site-packages/pytorch_lightning/trainer/setup.py:201: UserWarning: MPS available but not used. Set `accelerator` and `devices` using `Trainer(accelerator='mps', devices=1)`.\n",
      "  rank_zero_warn(\n",
      "\n",
      "  | Name       | Type             | Params\n",
      "------------------------------------------------\n",
      "0 | classifier | Linear           | 5     \n",
      "1 | criterion  | CrossEntropyLoss | 0     \n",
      "------------------------------------------------\n",
      "5         Trainable params\n",
      "0         Non-trainable params\n",
      "5         Total params\n",
      "0.000     Total estimated model params size (MB)\n"
     ]
    },
    {
     "name": "stdout",
     "output_type": "stream",
     "text": [
      "Epoch 0:   0%|          | 0/1 [00:00<?, ?it/s]                              torch.Size([50000, 4])\n",
      "torch.Size([50000, 2])\n",
      "torch.Size([50000])\n",
      "Epoch 1:   0%|          | 0/1 [00:00<?, ?it/s, v_num=196, train_loss=0.748, val_loss_step=0.689, val_loss_epoch=0.689]        torch.Size([50000, 4])\n",
      "torch.Size([50000, 2])\n",
      "torch.Size([50000])\n",
      "Epoch 2:   0%|          | 0/1 [00:00<?, ?it/s, v_num=196, train_loss=0.686, val_loss_step=0.650, val_loss_epoch=0.650]        torch.Size([50000, 4])\n",
      "torch.Size([50000, 2])\n",
      "torch.Size([50000])\n",
      "Epoch 3:   0%|          | 0/1 [00:00<?, ?it/s, v_num=196, train_loss=0.647, val_loss_step=0.633, val_loss_epoch=0.633]        torch.Size([50000, 4])\n",
      "torch.Size([50000, 2])\n",
      "torch.Size([50000])\n",
      "Epoch 4:   0%|          | 0/1 [00:00<?, ?it/s, v_num=196, train_loss=0.631, val_loss_step=0.630, val_loss_epoch=0.630]        torch.Size([50000, 4])\n",
      "torch.Size([50000, 2])\n",
      "torch.Size([50000])\n",
      "Epoch 5:   0%|          | 0/1 [00:00<?, ?it/s, v_num=196, train_loss=0.627, val_loss_step=0.630, val_loss_epoch=0.630]        torch.Size([50000, 4])\n",
      "torch.Size([50000, 2])\n",
      "torch.Size([50000])\n",
      "Epoch 6:   0%|          | 0/1 [00:00<?, ?it/s, v_num=196, train_loss=0.628, val_loss_step=0.632, val_loss_epoch=0.632]        torch.Size([50000, 4])\n",
      "torch.Size([50000, 2])\n",
      "torch.Size([50000])\n",
      "Epoch 7:   0%|          | 0/1 [00:00<?, ?it/s, v_num=196, train_loss=0.630, val_loss_step=0.635, val_loss_epoch=0.635]        torch.Size([50000, 4])\n",
      "torch.Size([50000, 2])\n",
      "torch.Size([50000])\n",
      "Epoch 8:   0%|          | 0/1 [00:00<?, ?it/s, v_num=196, train_loss=0.633, val_loss_step=0.637, val_loss_epoch=0.637]        torch.Size([50000, 4])\n",
      "torch.Size([50000, 2])\n",
      "torch.Size([50000])\n",
      "Epoch 9:   0%|          | 0/1 [00:00<?, ?it/s, v_num=196, train_loss=0.635, val_loss_step=0.639, val_loss_epoch=0.639]        torch.Size([50000, 4])\n",
      "torch.Size([50000, 2])\n",
      "torch.Size([50000])\n",
      "Epoch 10:   0%|          | 0/1 [00:00<?, ?it/s, v_num=196, train_loss=0.637, val_loss_step=0.640, val_loss_epoch=0.640]       torch.Size([50000, 4])\n",
      "torch.Size([50000, 2])\n",
      "torch.Size([50000])\n",
      "Epoch 11:   0%|          | 0/1 [00:00<?, ?it/s, v_num=196, train_loss=0.638, val_loss_step=0.638, val_loss_epoch=0.638]        torch.Size([50000, 4])\n",
      "torch.Size([50000, 2])\n",
      "torch.Size([50000])\n",
      "Epoch 12:   0%|          | 0/1 [00:00<?, ?it/s, v_num=196, train_loss=0.636, val_loss_step=0.634, val_loss_epoch=0.634]        torch.Size([50000, 4])\n",
      "torch.Size([50000, 2])\n",
      "torch.Size([50000])\n",
      "Epoch 13:   0%|          | 0/1 [00:00<?, ?it/s, v_num=196, train_loss=0.632, val_loss_step=0.629, val_loss_epoch=0.629]        torch.Size([50000, 4])\n",
      "torch.Size([50000, 2])\n",
      "torch.Size([50000])\n",
      "Epoch 14:   0%|          | 0/1 [00:00<?, ?it/s, v_num=196, train_loss=0.628, val_loss_step=0.625, val_loss_epoch=0.625]        torch.Size([50000, 4])\n",
      "torch.Size([50000, 2])\n",
      "torch.Size([50000])\n",
      "Epoch 15:   0%|          | 0/1 [00:00<?, ?it/s, v_num=196, train_loss=0.623, val_loss_step=0.622, val_loss_epoch=0.622]        torch.Size([50000, 4])\n",
      "torch.Size([50000, 2])\n",
      "torch.Size([50000])\n",
      "Epoch 16:   0%|          | 0/1 [00:00<?, ?it/s, v_num=196, train_loss=0.620, val_loss_step=0.621, val_loss_epoch=0.621]        torch.Size([50000, 4])\n",
      "torch.Size([50000, 2])\n",
      "torch.Size([50000])\n",
      "Epoch 17:   0%|          | 0/1 [00:00<?, ?it/s, v_num=196, train_loss=0.619, val_loss_step=0.620, val_loss_epoch=0.620]        torch.Size([50000, 4])\n",
      "torch.Size([50000, 2])\n",
      "torch.Size([50000])\n",
      "Epoch 18:   0%|          | 0/1 [00:00<?, ?it/s, v_num=196, train_loss=0.619, val_loss_step=0.621, val_loss_epoch=0.621]        torch.Size([50000, 4])\n",
      "torch.Size([50000, 2])\n",
      "torch.Size([50000])\n",
      "Epoch 19:   0%|          | 0/1 [00:00<?, ?it/s, v_num=196, train_loss=0.619, val_loss_step=0.621, val_loss_epoch=0.621]        torch.Size([50000, 4])\n",
      "torch.Size([50000, 2])\n",
      "torch.Size([50000])\n",
      "Epoch 20:   0%|          | 0/1 [00:00<?, ?it/s, v_num=196, train_loss=0.619, val_loss_step=0.622, val_loss_epoch=0.622]        torch.Size([50000, 4])\n",
      "torch.Size([50000, 2])\n",
      "torch.Size([50000])\n",
      "Epoch 21:   0%|          | 0/1 [00:00<?, ?it/s, v_num=196, train_loss=0.620, val_loss_step=0.623, val_loss_epoch=0.623]        torch.Size([50000, 4])\n",
      "torch.Size([50000, 2])\n",
      "torch.Size([50000])\n",
      "Epoch 22:   0%|          | 0/1 [00:00<?, ?it/s, v_num=196, train_loss=0.621, val_loss_step=0.623, val_loss_epoch=0.623]        torch.Size([50000, 4])\n",
      "torch.Size([50000, 2])\n",
      "torch.Size([50000])\n",
      "Epoch 23:   0%|          | 0/1 [00:00<?, ?it/s, v_num=196, train_loss=0.621, val_loss_step=0.624, val_loss_epoch=0.624]        torch.Size([50000, 4])\n",
      "torch.Size([50000, 2])\n",
      "torch.Size([50000])\n",
      "Epoch 24:   0%|          | 0/1 [00:00<?, ?it/s, v_num=196, train_loss=0.621, val_loss_step=0.623, val_loss_epoch=0.623]        torch.Size([50000, 4])\n",
      "torch.Size([50000, 2])\n",
      "torch.Size([50000])\n",
      "Epoch 25:   0%|          | 0/1 [00:00<?, ?it/s, v_num=196, train_loss=0.621, val_loss_step=0.622, val_loss_epoch=0.622]        torch.Size([50000, 4])\n",
      "torch.Size([50000, 2])\n",
      "torch.Size([50000])\n",
      "Epoch 26:   0%|          | 0/1 [00:00<?, ?it/s, v_num=196, train_loss=0.620, val_loss_step=0.621, val_loss_epoch=0.621]        torch.Size([50000, 4])\n",
      "torch.Size([50000, 2])\n",
      "torch.Size([50000])\n",
      "Epoch 27:   0%|          | 0/1 [00:00<?, ?it/s, v_num=196, train_loss=0.619, val_loss_step=0.620, val_loss_epoch=0.620]        torch.Size([50000, 4])\n",
      "torch.Size([50000, 2])\n",
      "torch.Size([50000])\n",
      "Epoch 28:   0%|          | 0/1 [00:00<?, ?it/s, v_num=196, train_loss=0.618, val_loss_step=0.619, val_loss_epoch=0.619]        torch.Size([50000, 4])\n",
      "torch.Size([50000, 2])\n",
      "torch.Size([50000])\n",
      "Epoch 29:   0%|          | 0/1 [00:00<?, ?it/s, v_num=196, train_loss=0.617, val_loss_step=0.618, val_loss_epoch=0.618]        torch.Size([50000, 4])\n",
      "torch.Size([50000, 2])\n",
      "torch.Size([50000])\n",
      "Epoch 30:   0%|          | 0/1 [00:00<?, ?it/s, v_num=196, train_loss=0.617, val_loss_step=0.618, val_loss_epoch=0.618]        torch.Size([50000, 4])\n",
      "torch.Size([50000, 2])\n",
      "torch.Size([50000])\n",
      "Epoch 31:   0%|          | 0/1 [00:00<?, ?it/s, v_num=196, train_loss=0.616, val_loss_step=0.618, val_loss_epoch=0.618]        torch.Size([50000, 4])\n",
      "torch.Size([50000, 2])\n",
      "torch.Size([50000])\n",
      "Epoch 32:   0%|          | 0/1 [00:00<?, ?it/s, v_num=196, train_loss=0.617, val_loss_step=0.619, val_loss_epoch=0.619]        torch.Size([50000, 4])\n",
      "torch.Size([50000, 2])\n",
      "torch.Size([50000])\n",
      "Epoch 33:   0%|          | 0/1 [00:00<?, ?it/s, v_num=196, train_loss=0.617, val_loss_step=0.620, val_loss_epoch=0.620]        torch.Size([50000, 4])\n",
      "torch.Size([50000, 2])\n",
      "torch.Size([50000])\n",
      "Epoch 34:   0%|          | 0/1 [00:00<?, ?it/s, v_num=196, train_loss=0.618, val_loss_step=0.620, val_loss_epoch=0.620]        torch.Size([50000, 4])\n",
      "torch.Size([50000, 2])\n",
      "torch.Size([50000])\n",
      "Epoch 35:   0%|          | 0/1 [00:00<?, ?it/s, v_num=196, train_loss=0.618, val_loss_step=0.620, val_loss_epoch=0.620]        torch.Size([50000, 4])\n",
      "torch.Size([50000, 2])\n",
      "torch.Size([50000])\n",
      "Epoch 36:   0%|          | 0/1 [00:00<?, ?it/s, v_num=196, train_loss=0.618, val_loss_step=0.619, val_loss_epoch=0.619]        torch.Size([50000, 4])\n",
      "torch.Size([50000, 2])\n",
      "torch.Size([50000])\n",
      "Epoch 37:   0%|          | 0/1 [00:00<?, ?it/s, v_num=196, train_loss=0.617, val_loss_step=0.619, val_loss_epoch=0.619]        torch.Size([50000, 4])\n",
      "torch.Size([50000, 2])\n",
      "torch.Size([50000])\n",
      "Epoch 38:   0%|          | 0/1 [00:00<?, ?it/s, v_num=196, train_loss=0.617, val_loss_step=0.618, val_loss_epoch=0.618]        torch.Size([50000, 4])\n",
      "torch.Size([50000, 2])\n",
      "torch.Size([50000])\n",
      "Epoch 39:   0%|          | 0/1 [00:00<?, ?it/s, v_num=196, train_loss=0.617, val_loss_step=0.618, val_loss_epoch=0.618]        torch.Size([50000, 4])\n",
      "torch.Size([50000, 2])\n",
      "torch.Size([50000])\n",
      "Epoch 40:   0%|          | 0/1 [00:00<?, ?it/s, v_num=196, train_loss=0.616, val_loss_step=0.618, val_loss_epoch=0.618]        torch.Size([50000, 4])\n",
      "torch.Size([50000, 2])\n",
      "torch.Size([50000])\n",
      "Epoch 41:   0%|          | 0/1 [00:00<?, ?it/s, v_num=196, train_loss=0.616, val_loss_step=0.618, val_loss_epoch=0.618]        torch.Size([50000, 4])\n",
      "torch.Size([50000, 2])\n",
      "torch.Size([50000])\n",
      "Epoch 42:   0%|          | 0/1 [00:00<?, ?it/s, v_num=196, train_loss=0.616, val_loss_step=0.618, val_loss_epoch=0.618]        torch.Size([50000, 4])\n",
      "torch.Size([50000, 2])\n",
      "torch.Size([50000])\n",
      "Epoch 43:   0%|          | 0/1 [00:00<?, ?it/s, v_num=196, train_loss=0.616, val_loss_step=0.618, val_loss_epoch=0.618]        torch.Size([50000, 4])\n",
      "torch.Size([50000, 2])\n",
      "torch.Size([50000])\n",
      "Epoch 44:   0%|          | 0/1 [00:00<?, ?it/s, v_num=196, train_loss=0.616, val_loss_step=0.619, val_loss_epoch=0.619]        torch.Size([50000, 4])\n",
      "torch.Size([50000, 2])\n",
      "torch.Size([50000])\n",
      "Epoch 45:   0%|          | 0/1 [00:00<?, ?it/s, v_num=196, train_loss=0.617, val_loss_step=0.619, val_loss_epoch=0.619]        torch.Size([50000, 4])\n",
      "torch.Size([50000, 2])\n",
      "torch.Size([50000])\n",
      "Epoch 46:   0%|          | 0/1 [00:00<?, ?it/s, v_num=196, train_loss=0.617, val_loss_step=0.619, val_loss_epoch=0.619]        torch.Size([50000, 4])\n",
      "torch.Size([50000, 2])\n",
      "torch.Size([50000])\n",
      "Epoch 47:   0%|          | 0/1 [00:00<?, ?it/s, v_num=196, train_loss=0.617, val_loss_step=0.618, val_loss_epoch=0.618]        torch.Size([50000, 4])\n",
      "torch.Size([50000, 2])\n",
      "torch.Size([50000])\n",
      "Epoch 48:   0%|          | 0/1 [00:00<?, ?it/s, v_num=196, train_loss=0.616, val_loss_step=0.618, val_loss_epoch=0.618]        torch.Size([50000, 4])\n",
      "torch.Size([50000, 2])\n",
      "torch.Size([50000])\n",
      "Epoch 49:   0%|          | 0/1 [00:00<?, ?it/s, v_num=196, train_loss=0.616, val_loss_step=0.618, val_loss_epoch=0.618]        torch.Size([50000, 4])\n",
      "torch.Size([50000, 2])\n",
      "torch.Size([50000])\n",
      "Epoch 49: 100%|██████████| 1/1 [00:00<00:00,  2.10it/s, v_num=196, train_loss=0.616, val_loss_step=0.618, val_loss_epoch=0.618]"
     ]
    },
    {
     "name": "stderr",
     "output_type": "stream",
     "text": [
      "`Trainer.fit` stopped: `max_epochs=50` reached.\n"
     ]
    },
    {
     "name": "stdout",
     "output_type": "stream",
     "text": [
      "Epoch 49: 100%|██████████| 1/1 [00:00<00:00,  2.09it/s, v_num=196, train_loss=0.616, val_loss_step=0.618, val_loss_epoch=0.618]\n"
     ]
    },
    {
     "name": "stderr",
     "output_type": "stream",
     "text": [
      "/var/folders/ky/4qby95090jbbq38_mh94x72r0000gn/T/ipykernel_69550/494113661.py:57: UserWarning: Matplotlib is currently using module://matplotlib_inline.backend_inline, which is a non-GUI backend, so cannot show the figure.\n",
      "  fig.show()\n"
     ]
    },
    {
     "data": {
      "image/png": "[encoded data removed]",
      "text/plain": [
       "<Figure size 800x600 with 1 Axes>"
      ]
     },
     "metadata": {},
     "output_type": "display_data"
    }
   ],
   "source": [
    "class CrossEntropyModel(pl.LightningModule):\n",
    "    def __init__(self, input_features: int, learning_rate=0.01):\n",
    "        super().__init__()\n",
    "\n",
    "        self.classifier = nn.Linear(input_features, 1)\n",
    "\n",
    "        # Define loss function\n",
    "        self.criterion = nn.CrossEntropyLoss()\n",
    "\n",
    "        # Define optimizer\n",
    "        self.learning_rate = learning_rate\n",
    "        self.optimizer = torch.optim.Adam(self.parameters(), lr=learning_rate)\n",
    "\n",
    "        # training logs\n",
    "        self.log_train = []\n",
    "        self.log_val = []\n",
    "\n",
    "    def forward(self, x):\n",
    "        x = self.classifier(x)\n",
    "        x = torch.concat([torch.special.logit(1 - torch.special.expit(x)), x], dim=1)\n",
    "        return x\n",
    "\n",
    "    def training_step(self, batch, batch_idx):\n",
    "        x, y = batch\n",
    "        y_hat = self(x)\n",
    "        print(x.shape)\n",
    "        print(y_hat.shape)\n",
    "        print(y.shape)\n",
    "        loss = self.criterion(y_hat, y.type(torch.long))\n",
    "        self.log(\"train_loss\", loss, prog_bar=True, on_step=True)\n",
    "        self.log_train.append(loss.detach().cpu().numpy())\n",
    "        return loss\n",
    "\n",
    "    def validation_step(self, batch, batch_idx):\n",
    "        x, y = batch\n",
    "        y_hat = self(x)\n",
    "        loss = self.criterion(y_hat, y.type(torch.long))\n",
    "        self.log(\"val_loss\", loss, prog_bar=True, on_step=True)\n",
    "        self.log_val.append(loss.cpu().numpy())\n",
    "\n",
    "    def configure_optimizers(self):\n",
    "        return self.optimizer\n",
    "\n",
    "\n",
    "model_lightning = CrossEntropyModel(learning_rate=1e-1, input_features=m)\n",
    "\n",
    "start_time = timeit.default_timer()\n",
    "train_torch_model(model_lightning, epochs=50, accelerator=\"cpu\")\n",
    "model_times[\"logistic_reg_ce\"] = timeit.default_timer() - start_time\n",
    "\n",
    "plot_training_logs(model_lightning)\n",
    "\n",
    "y_train_est, y_true_train = predict_data_loader(model_lightning, train_loader)\n",
    "y_test_est, y_true_test = predict_data_loader(model_lightning, test_loader)\n",
    "model_outputs[\"logistic_reg_ce\"] = [y_train_est.numpy(), y_test_est.numpy()]\n",
    "model_parameters[\"logistic_reg_ce\"] = model_lightning.parameters()"
   ]
  },
  {
   "attachments": {},
   "cell_type": "markdown",
   "metadata": {},
   "source": [
    "## Cross Entropy 2 classes\n",
    "\n",
    "The final model uses `CrossEntropyLoss` in the normal way. We create an output layer with 2 nodes. Therefore this model has twice as many parameters as before."
   ]
  },
  {
   "cell_type": "code",
   "execution_count": 5,
   "metadata": {},
   "outputs": [
    {
     "name": "stderr",
     "output_type": "stream",
     "text": [
      "GPU available: True (mps), used: True\n",
      "TPU available: False, using: 0 TPU cores\n",
      "IPU available: False, using: 0 IPUs\n",
      "HPU available: False, using: 0 HPUs\n",
      "\n",
      "  | Name       | Type             | Params\n",
      "------------------------------------------------\n",
      "0 | classifier | Linear           | 10    \n",
      "1 | criterion  | CrossEntropyLoss | 0     \n",
      "------------------------------------------------\n",
      "10        Trainable params\n",
      "0         Non-trainable params\n",
      "10        Total params\n",
      "0.000     Total estimated model params size (MB)\n"
     ]
    },
    {
     "name": "stdout",
     "output_type": "stream",
     "text": [
      "Epoch 49: 100%|██████████| 1/1 [00:00<00:00,  2.01it/s, v_num=197, train_loss=0.616, val_loss_step=0.618, val_loss_epoch=0.618]"
     ]
    },
    {
     "name": "stderr",
     "output_type": "stream",
     "text": [
      "`Trainer.fit` stopped: `max_epochs=50` reached.\n"
     ]
    },
    {
     "name": "stdout",
     "output_type": "stream",
     "text": [
      "Epoch 49: 100%|██████████| 1/1 [00:00<00:00,  2.00it/s, v_num=197, train_loss=0.616, val_loss_step=0.618, val_loss_epoch=0.618]\n"
     ]
    },
    {
     "name": "stderr",
     "output_type": "stream",
     "text": [
      "/var/folders/ky/4qby95090jbbq38_mh94x72r0000gn/T/ipykernel_69550/494113661.py:57: UserWarning: Matplotlib is currently using module://matplotlib_inline.backend_inline, which is a non-GUI backend, so cannot show the figure.\n",
      "  fig.show()\n"
     ]
    },
    {
     "data": {
      "image/png": "[encoded data removed]",
      "text/plain": [
       "<Figure size 800x600 with 1 Axes>"
      ]
     },
     "metadata": {},
     "output_type": "display_data"
    }
   ],
   "source": [
    "class CrossEntropy2ClassModel(pl.LightningModule):\n",
    "    def __init__(self, input_features: int, learning_rate=0.01):\n",
    "        super().__init__()\n",
    "\n",
    "        self.classifier = nn.Linear(input_features, 2)\n",
    "\n",
    "        # Define loss function\n",
    "        self.criterion = nn.CrossEntropyLoss()\n",
    "\n",
    "        # Define optimizer\n",
    "        self.learning_rate = learning_rate\n",
    "        self.optimizer = torch.optim.Adam(self.parameters(), lr=learning_rate)\n",
    "\n",
    "        # training logs\n",
    "        self.log_train = []\n",
    "        self.log_val = []\n",
    "\n",
    "    def forward(self, x):\n",
    "        x = self.classifier(x)\n",
    "        return x\n",
    "\n",
    "    def training_step(self, batch, batch_idx):\n",
    "        x, y = batch\n",
    "        y_hat = self(x)\n",
    "        loss = self.criterion(y_hat, y.type(torch.long))\n",
    "        self.log(\"train_loss\", loss, prog_bar=True, on_step=True)\n",
    "        self.log_train.append(loss.detach().cpu().numpy())\n",
    "        return loss\n",
    "\n",
    "    def validation_step(self, batch, batch_idx):\n",
    "        x, y = batch\n",
    "        y_hat = self(x)\n",
    "        loss = self.criterion(y_hat, y.type(torch.long))\n",
    "        self.log(\"val_loss\", loss, prog_bar=True, on_step=True)\n",
    "        self.log_val.append(loss.cpu().numpy())\n",
    "\n",
    "    def configure_optimizers(self):\n",
    "        return self.optimizer\n",
    "\n",
    "\n",
    "model_lightning = CrossEntropy2ClassModel(learning_rate=1e-1, input_features=m)\n",
    "\n",
    "start_time = timeit.default_timer()\n",
    "train_torch_model(model_lightning, epochs=50)\n",
    "model_times[\"logistic_reg_ce2\"] = timeit.default_timer() - start_time\n",
    "\n",
    "plot_training_logs(model_lightning)\n",
    "\n",
    "y_train_est, y_true_train = predict_data_loader(model_lightning, train_loader)\n",
    "y_test_est, y_true_test = predict_data_loader(model_lightning, test_loader)\n",
    "model_outputs[\"logistic_reg_ce2\"] = [y_train_est.numpy(), y_test_est.numpy()]\n",
    "model_parameters[\"logistic_reg_ce2\"] = model_lightning.parameters()"
   ]
  },
  {
   "attachments": {},
   "cell_type": "markdown",
   "metadata": {},
   "source": [
    "## Results\n",
    "\n",
    "Lets check the model performance in a few ways:"
   ]
  },
  {
   "attachments": {},
   "cell_type": "markdown",
   "metadata": {},
   "source": [
    "### Performance\n",
    "\n",
    "We don't see any significant difference in performance between models. Log likelihood and accuracy are similar, within reason, across all models.\n",
    "These are small models to fit, so perhaps a much large model would present differently, and a model with twice as many parameters would overfit more readily..."
   ]
  },
  {
   "cell_type": "code",
   "execution_count": 6,
   "metadata": {},
   "outputs": [
    {
     "data": {
      "text/html": [
       "<div>\n",
       "<style scoped>\n",
       "    .dataframe tbody tr th:only-of-type {\n",
       "        vertical-align: middle;\n",
       "    }\n",
       "\n",
       "    .dataframe tbody tr th {\n",
       "        vertical-align: top;\n",
       "    }\n",
       "\n",
       "    .dataframe thead th {\n",
       "        text-align: right;\n",
       "    }\n",
       "</style>\n",
       "<table border=\"1\" class=\"dataframe\">\n",
       "  <thead>\n",
       "    <tr style=\"text-align: right;\">\n",
       "      <th></th>\n",
       "      <th>log_loss_train</th>\n",
       "      <th>log_loss_test</th>\n",
       "      <th>accuracy_score_train</th>\n",
       "      <th>accuracy_score_test</th>\n",
       "      <th>name</th>\n",
       "    </tr>\n",
       "  </thead>\n",
       "  <tbody>\n",
       "    <tr>\n",
       "      <th>0</th>\n",
       "      <td>0.616102</td>\n",
       "      <td>0.618044</td>\n",
       "      <td>0.65992</td>\n",
       "      <td>0.65580</td>\n",
       "      <td>logistic_reg_bce</td>\n",
       "    </tr>\n",
       "    <tr>\n",
       "      <th>1</th>\n",
       "      <td>0.634614</td>\n",
       "      <td>0.635658</td>\n",
       "      <td>0.66044</td>\n",
       "      <td>0.65568</td>\n",
       "      <td>logistic_reg_ce</td>\n",
       "    </tr>\n",
       "    <tr>\n",
       "      <th>2</th>\n",
       "      <td>0.643445</td>\n",
       "      <td>0.644258</td>\n",
       "      <td>0.65938</td>\n",
       "      <td>0.65642</td>\n",
       "      <td>logistic_reg_ce2</td>\n",
       "    </tr>\n",
       "  </tbody>\n",
       "</table>\n",
       "</div>"
      ],
      "text/plain": [
       "   log_loss_train  log_loss_test  accuracy_score_train  accuracy_score_test   \n",
       "0        0.616102       0.618044               0.65992              0.65580  \\\n",
       "1        0.634614       0.635658               0.66044              0.65568   \n",
       "2        0.643445       0.644258               0.65938              0.65642   \n",
       "\n",
       "               name  \n",
       "0  logistic_reg_bce  \n",
       "1   logistic_reg_ce  \n",
       "2  logistic_reg_ce2  "
      ]
     },
     "execution_count": 6,
     "metadata": {},
     "output_type": "execute_result"
    }
   ],
   "source": [
    "evaluate_all_models(model_outputs)"
   ]
  },
  {
   "attachments": {},
   "cell_type": "markdown",
   "metadata": {},
   "source": [
    "### Training time\n",
    "\n",
    "We don't see any significant difference in training time between models."
   ]
  },
  {
   "cell_type": "code",
   "execution_count": 7,
   "metadata": {},
   "outputs": [
    {
     "data": {
      "text/plain": [
       "{'logistic_reg_bce': 28.00450733397156,\n",
       " 'logistic_reg_ce': 24.72408683411777,\n",
       " 'logistic_reg_ce2': 25.281254459172487}"
      ]
     },
     "execution_count": 7,
     "metadata": {},
     "output_type": "execute_result"
    }
   ],
   "source": [
    "model_times"
   ]
  },
  {
   "attachments": {},
   "cell_type": "markdown",
   "metadata": {},
   "source": [
    "### Parameters\n",
    "\n",
    "The weights of the binary class models are similar to the true weights from the data generating function. However the 2 output model has twice as many parameters and thus the interpretation of the weights is not clear here:"
   ]
  },
  {
   "cell_type": "code",
   "execution_count": 8,
   "metadata": {},
   "outputs": [
    {
     "name": "stdout",
     "output_type": "stream",
     "text": [
      "True weights:\n"
     ]
    },
    {
     "data": {
      "text/plain": [
       "array([[ 0.12573022],\n",
       "       [-0.13210486],\n",
       "       [ 0.64042265],\n",
       "       [ 0.10490012]])"
      ]
     },
     "metadata": {},
     "output_type": "display_data"
    },
    {
     "name": "stdout",
     "output_type": "stream",
     "text": [
      "True bias:\n"
     ]
    },
    {
     "data": {
      "text/plain": [
       "array([-0.53566937])"
      ]
     },
     "metadata": {},
     "output_type": "display_data"
    },
    {
     "name": "stdout",
     "output_type": "stream",
     "text": [
      "logistic_reg_bce: \n"
     ]
    },
    {
     "data": {
      "text/plain": [
       "[Parameter containing:\n",
       " tensor([[ 0.1037, -0.1576,  0.6802,  0.1207]], requires_grad=True),\n",
       " Parameter containing:\n",
       " tensor([-0.5245], requires_grad=True)]"
      ]
     },
     "metadata": {},
     "output_type": "display_data"
    },
    {
     "name": "stdout",
     "output_type": "stream",
     "text": [
      "logistic_reg_ce: \n"
     ]
    },
    {
     "data": {
      "text/plain": [
       "[Parameter containing:\n",
       " tensor([[ 0.0615, -0.0684,  0.3213,  0.0474]], requires_grad=True),\n",
       " Parameter containing:\n",
       " tensor([-0.2585], requires_grad=True)]"
      ]
     },
     "metadata": {},
     "output_type": "display_data"
    },
    {
     "name": "stdout",
     "output_type": "stream",
     "text": [
      "logistic_reg_ce2: \n"
     ]
    },
    {
     "data": {
      "text/plain": [
       "[Parameter containing:\n",
       " tensor([[-0.0351, -0.0528, -0.5174, -0.1480],\n",
       "         [ 0.0698, -0.2241,  0.0729, -0.0377]], requires_grad=True),\n",
       " Parameter containing:\n",
       " tensor([ 0.4980, -0.0408], requires_grad=True)]"
      ]
     },
     "metadata": {},
     "output_type": "display_data"
    }
   ],
   "source": [
    "print(\"True weights:\")\n",
    "display(w)\n",
    "print(\"True bias:\")\n",
    "display(b)\n",
    "\n",
    "for name, params in model_parameters.items():\n",
    "    print(f\"{name}: \")\n",
    "    display(list(params))"
   ]
  },
  {
   "attachments": {},
   "cell_type": "markdown",
   "metadata": {},
   "source": [
    "### Conclusion\n",
    "\n",
    "There is not noticeable impact on training times or performance.\n",
    "However, the parameter interpretation is much clearer from a model with a single output as we only have the one set of parameters. This probably depends on the use case - but if we want an interpretable model that matches the data generating process, we should use a model with a binary output based on `BCEWithLogitsLoss`. Otherwise it doesn't seem to matter for this type of problem."
   ]
  }
 ],
 "metadata": {
  "kernelspec": {
   "display_name": "pytorch_env",
   "language": "python",
   "name": "python3"
  },
  "language_info": {
   "codemirror_mode": {
    "name": "ipython",
    "version": 3
   },
   "file_extension": ".py",
   "mimetype": "text/x-python",
   "name": "python",
   "nbconvert_exporter": "python",
   "pygments_lexer": "ipython3",
   "version": "3.10.10"
  },
  "orig_nbformat": 4,
  "vscode": {
   "interpreter": {
    "hash": "155ead7e3e7cc87f1c8ac5b93741665d5692c3c80ccfbc75b55ba980f115c04c"
   }
  }
 },
 "nbformat": 4,
 "nbformat_minor": 2
}
