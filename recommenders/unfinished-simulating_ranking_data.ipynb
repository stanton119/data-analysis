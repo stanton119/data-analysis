{
 "cells": [
  {
   "cell_type": "code",
   "execution_count": 5,
   "metadata": {},
   "outputs": [],
   "source": [
    "from typing import List, Optional\n",
    "import numpy as np\n",
    "from scipy.special import expit\n",
    "\n",
    "\n",
    "class RankingSimulator:\n",
    "    def __init__(\n",
    "        self,\n",
    "        num_actions: int,\n",
    "        feature_dim: Optional[int] = None,\n",
    "        weights: Optional[np.ndarray] = None,\n",
    "        sparsity_factor: float = -2,\n",
    "        position_bias_factor: float = 0.1,\n",
    "        seed: int = 0,\n",
    "    ):\n",
    "        self.rng = np.random.default_rng(seed)\n",
    "\n",
    "        if weights is None:\n",
    "            if feature_dim is None:\n",
    "                raise ValueError(\n",
    "                    \"Either feature_dim or weights must be provided for initialization\"\n",
    "                )\n",
    "            weights = self.rng.normal(size=feature_dim)\n",
    "        if feature_dim is None:\n",
    "            feature_dim = len(weights)\n",
    "\n",
    "        self.num_actions = num_actions\n",
    "        self.weights = weights\n",
    "        self.feature_dim = feature_dim\n",
    "        self.sparsity_factor = sparsity_factor\n",
    "        self.position_bias = np.exp(-position_bias_factor * np.arange(num_actions))\n",
    "\n",
    "    def sample(self, num_impressions: int):\n",
    "        # get action features and reward probs\n",
    "        item_features = self.rng.normal(\n",
    "            size=(num_impressions, self.num_actions, self.feature_dim)\n",
    "        )\n",
    "        logits = np.dot(item_features, self.weights) + self.sparsity_factor\n",
    "        base_reward_probs = expit(logits)\n",
    "        position_biased_probs = base_reward_probs * self.position_bias\n",
    "\n",
    "        # get first observed reward\n",
    "        rewards = (\n",
    "            self.rng.random((num_impressions, self.num_actions)) < position_biased_probs\n",
    "        )\n",
    "        rewards = (rewards & (np.cumsum(rewards, axis=1) == 1)).astype(int)\n",
    "\n",
    "        # Assign equal propensity scores\n",
    "        propensity_scores = np.full((num_impressions, self.num_actions), 1 / self.num_actions)\n",
    "\n",
    "        return [\n",
    "            {\n",
    "                \"impression_id\": i,\n",
    "                \"item_features\": item_features[i],\n",
    "                \"num_actions\": self.num_actions,\n",
    "                \"rewards\": rewards[i],\n",
    "                \"base_reward_probs\": base_reward_probs[i],\n",
    "                \"position_biased_probs\": position_biased_probs[i],\n",
    "                \"propensity_scores\": propensity_scores[i],\n",
    "            }\n",
    "            for i in range(num_impressions)\n",
    "        ]\n",
    "\n",
    "\n",
    "simulator = RankingSimulator(num_actions=3, feature_dim=4, sparsity_factor=-2, seed=0)\n",
    "simulated_data = simulator.sample(num_impressions=10000)"
   ]
  },
  {
   "cell_type": "code",
   "execution_count": 6,
   "metadata": {},
   "outputs": [
    {
     "data": {
      "text/plain": [
       "{'impression_id': 7,\n",
       " 'item_features': array([[-0.75460579,  1.68910745, -0.28738771,  1.57440828],\n",
       "        [-0.43278585, -0.73548329,  0.24978537,  1.03145308],\n",
       "        [ 0.16100958, -0.58552882, -1.34121971, -1.40152021]]),\n",
       " 'num_actions': 3,\n",
       " 'rewards': array([0, 0, 1]),\n",
       " 'base_reward_probs': array([0.08811187, 0.15589613, 0.05174125]),\n",
       " 'position_biased_probs': array([0.08811187, 0.14106065, 0.04236215]),\n",
       " 'propensity_scores': array([0.33333333, 0.33333333, 0.33333333])}"
      ]
     },
     "execution_count": 6,
     "metadata": {},
     "output_type": "execute_result"
    }
   ],
   "source": [
    "simulated_data[7]"
   ]
  }
 ],
 "metadata": {
  "kernelspec": {
   "display_name": "project_env",
   "language": "python",
   "name": "python3"
  },
  "language_info": {
   "codemirror_mode": {
    "name": "ipython",
    "version": 3
   },
   "file_extension": ".py",
   "mimetype": "text/x-python",
   "name": "python",
   "nbconvert_exporter": "python",
   "pygments_lexer": "ipython3",
   "version": "3.10.11"
  }
 },
 "nbformat": 4,
 "nbformat_minor": 2
}
