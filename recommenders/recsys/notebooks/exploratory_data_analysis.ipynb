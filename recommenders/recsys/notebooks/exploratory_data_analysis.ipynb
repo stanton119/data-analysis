{
 "cells": [
  {
   "cell_type": "markdown",
   "metadata": {},
   "source": [
    "# Exploratory Data Analysis\n"
   ]
  },
  {
   "cell_type": "markdown",
   "metadata": {},
   "source": [
    "## Dataloader exploration"
   ]
  },
  {
   "cell_type": "code",
   "execution_count": 1,
   "metadata": {},
   "outputs": [],
   "source": [
    "import recsys.movie_lens"
   ]
  },
  {
   "cell_type": "code",
   "execution_count": 2,
   "metadata": {},
   "outputs": [
    {
     "data": {
      "text/plain": [
       "(PosixPath('/Users/rich/Developer/Github/VariousDataAnalysis/neural_networks/movie_lens/rating_prediction/refactor'),\n",
       " PosixPath('/Users/rich/Developer/Github/VariousDataAnalysis/neural_networks/movie_lens/rating_prediction/refactor/data/raw'))"
      ]
     },
     "execution_count": 2,
     "metadata": {},
     "output_type": "execute_result"
    }
   ],
   "source": [
    "recsys.movie_lens.PROJECT_ROOT, recsys.movie_lens.DEFAULT_DATA_DIR"
   ]
  },
  {
   "cell_type": "code",
   "execution_count": 3,
   "metadata": {},
   "outputs": [
    {
     "name": "stdout",
     "output_type": "stream",
     "text": [
      "Loaded 55375 positive interactions\n",
      "Users: 942, Items: 1447\n"
     ]
    }
   ],
   "source": [
    "positive_ratings, num_users, num_items, user_encoder, item_encoder = (\n",
    "    recsys.movie_lens.load_movielens()\n",
    ")"
   ]
  },
  {
   "cell_type": "code",
   "execution_count": 4,
   "metadata": {},
   "outputs": [
    {
     "name": "stdout",
     "output_type": "stream",
     "text": [
      "Loaded 55375 positive interactions\n",
      "Users: 942, Items: 1447\n",
      "Loaded user features with dims: {'continuous_dim': 2, 'categorical_dims': {'occupation': 21, 'zip_code': 795}}\n",
      "Loaded item features with dims: {'continuous_dim': 19, 'categorical_dims': {'year': 71}}\n"
     ]
    }
   ],
   "source": [
    "(\n",
    "    train_loader,\n",
    "    val_loader,\n",
    "    test_loader,\n",
    "    num_users,\n",
    "    num_items,\n",
    "    user_feature_dims,\n",
    "    item_feature_dims,\n",
    ") = recsys.movie_lens.get_dataloaders()"
   ]
  },
  {
   "cell_type": "markdown",
   "metadata": {},
   "source": [
    "Positive and negative samples are based on index"
   ]
  },
  {
   "cell_type": "code",
   "execution_count": 5,
   "metadata": {},
   "outputs": [
    {
     "data": {
      "text/plain": [
       "{'user_id': tensor(297),\n",
       " 'item_id': tensor(465),\n",
       " 'rating': tensor(1.),\n",
       " 'user_features': {'continuous': tensor([0.4400, 0.0000]),\n",
       "  'categorical': {'occupation': tensor(6), 'zip_code': tensor(6)}},\n",
       " 'item_features': {'continuous': tensor([0., 0., 0., 0., 0., 0., 0., 0., 0., 0., 0., 0., 0., 0., 0., 1., 0., 1.,\n",
       "          0.]),\n",
       "  'categorical': {'year': tensor(35)}}}"
      ]
     },
     "execution_count": 5,
     "metadata": {},
     "output_type": "execute_result"
    }
   ],
   "source": [
    "train_loader.dataset[0]"
   ]
  },
  {
   "cell_type": "code",
   "execution_count": 6,
   "metadata": {},
   "outputs": [
    {
     "data": {
      "text/plain": [
       "({'user_id': tensor(297),\n",
       "  'item_id': tensor(465),\n",
       "  'rating': tensor(1.),\n",
       "  'user_features': {'continuous': tensor([0.4400, 0.0000]),\n",
       "   'categorical': {'occupation': tensor(6), 'zip_code': tensor(6)}},\n",
       "  'item_features': {'continuous': tensor([0., 0., 0., 0., 0., 0., 0., 0., 0., 0., 0., 0., 0., 0., 0., 1., 0., 1.,\n",
       "           0.]),\n",
       "   'categorical': {'year': tensor(35)}}},\n",
       " {'user_id': tensor(297),\n",
       "  'item_id': tensor(1427),\n",
       "  'rating': tensor(0.),\n",
       "  'user_features': {'continuous': tensor([0.4400, 0.0000]),\n",
       "   'categorical': {'occupation': tensor(6), 'zip_code': tensor(6)}},\n",
       "  'item_features': {'continuous': tensor([0., 0., 0., 0., 0., 1., 0., 0., 0., 0., 0., 0., 0., 0., 0., 0., 0., 0.,\n",
       "           0.]),\n",
       "   'categorical': {'year': tensor(65)}}},\n",
       " {'user_id': tensor(297),\n",
       "  'item_id': tensor(803),\n",
       "  'rating': tensor(0.),\n",
       "  'user_features': {'continuous': tensor([0.4400, 0.0000]),\n",
       "   'categorical': {'occupation': tensor(6), 'zip_code': tensor(6)}},\n",
       "  'item_features': {'continuous': tensor([0., 0., 0., 0., 0., 1., 0., 0., 0., 0., 0., 0., 0., 0., 1., 0., 0., 0.,\n",
       "           0.]),\n",
       "   'categorical': {'year': tensor(68)}}},\n",
       " {'user_id': tensor(297),\n",
       "  'item_id': tensor(1310),\n",
       "  'rating': tensor(0.),\n",
       "  'user_features': {'continuous': tensor([0.4400, 0.0000]),\n",
       "   'categorical': {'occupation': tensor(6), 'zip_code': tensor(6)}},\n",
       "  'item_features': {'continuous': tensor([0., 1., 0., 0., 1., 0., 0., 0., 0., 0., 0., 0., 0., 0., 0., 0., 0., 0.,\n",
       "           0.]),\n",
       "   'categorical': {'year': tensor(66)}}})"
      ]
     },
     "execution_count": 6,
     "metadata": {},
     "output_type": "execute_result"
    }
   ],
   "source": [
    "train_loader.dataset[0], train_loader.dataset[1], train_loader.dataset[\n",
    "    2\n",
    "], train_loader.dataset[3]"
   ]
  },
  {
   "cell_type": "markdown",
   "metadata": {},
   "source": [
    "Number of user/items"
   ]
  },
  {
   "cell_type": "code",
   "execution_count": 7,
   "metadata": {},
   "outputs": [
    {
     "data": {
      "text/plain": [
       "(942, 1447)"
      ]
     },
     "execution_count": 7,
     "metadata": {},
     "output_type": "execute_result"
    }
   ],
   "source": [
    "train_loader.dataset.num_users, train_loader.dataset.num_items"
   ]
  },
  {
   "cell_type": "markdown",
   "metadata": {},
   "source": [
    "Dataloader outputs"
   ]
  },
  {
   "cell_type": "code",
   "execution_count": 6,
   "metadata": {},
   "outputs": [
    {
     "data": {
      "text/plain": [
       "{'user_id': tensor([605, 364, 653,  ..., 196,  13, 620]),\n",
       " 'item_id': tensor([295, 891, 976,  ..., 254, 605,  25]),\n",
       " 'rating': tensor([1., 0., 0.,  ..., 0., 0., 0.]),\n",
       " 'user_features': {'continuous': tensor([[0.2800, 0.0000],\n",
       "          [0.2900, 0.0000],\n",
       "          [0.2700, 1.0000],\n",
       "          ...,\n",
       "          [0.5500, 0.0000],\n",
       "          [0.4500, 0.0000],\n",
       "          [0.1700, 0.0000]]),\n",
       "  'categorical': {'occupation': tensor([14,  9, 18,  ..., 19, 17, 18]),\n",
       "   'zip_code': tensor([496, 172, 574,  ..., 537, 416, 470])}},\n",
       " 'item_features': {'continuous': tensor([[0., 1., 0.,  ..., 1., 0., 0.],\n",
       "          [0., 0., 0.,  ..., 0., 0., 0.],\n",
       "          [0., 0., 0.,  ..., 0., 0., 0.],\n",
       "          ...,\n",
       "          [0., 1., 1.,  ..., 0., 0., 0.],\n",
       "          [0., 0., 0.,  ..., 0., 0., 0.],\n",
       "          [0., 0., 0.,  ..., 0., 0., 0.]]),\n",
       "  'categorical': {'year': tensor([69, 70, 63,  ..., 69, 27, 67])}}}"
      ]
     },
     "execution_count": 6,
     "metadata": {},
     "output_type": "execute_result"
    }
   ],
   "source": [
    "batch = next(iter(train_loader))\n",
    "batch"
   ]
  },
  {
   "cell_type": "markdown",
   "metadata": {},
   "source": [
    "## Models"
   ]
  },
  {
   "cell_type": "code",
   "execution_count": 11,
   "metadata": {},
   "outputs": [
    {
     "data": {
      "text/plain": [
       "tensor([[ 0.4598],\n",
       "        [-0.0996],\n",
       "        [ 0.4548],\n",
       "        ...,\n",
       "        [ 0.3924],\n",
       "        [-0.2679],\n",
       "        [-0.0149]], grad_fn=<AddmmBackward0>)"
      ]
     },
     "execution_count": 11,
     "metadata": {},
     "output_type": "execute_result"
    }
   ],
   "source": [
    "from recsys.models import get_model\n",
    "import yaml\n",
    "\n",
    "model_config = \"\"\"\n",
    "# architecture: \"NeuralInnerProduct\"\n",
    "# embedding_dim: 10\n",
    "# include_bias: true\n",
    "\n",
    "# architecture: \"NeuralColabFilter\"\n",
    "# mf_dim: 8\n",
    "# mlp_dim: 32\n",
    "# layers: [64, 32, 16]\n",
    "# include_bias: true\n",
    "\n",
    "# architecture: \"WideAndDeep\"\n",
    "# embedding_dim: 64\n",
    "# deep_layers: [512, 256, 128]\n",
    "# dropout: 0.2\n",
    "# include_bias: true\n",
    "\n",
    "# architecture: \"DCN\"\n",
    "# embedding_dim: 2\n",
    "# cross_layers: 3\n",
    "# deep_layers: [512, 256, 128]\n",
    "# dropout: 0.2\n",
    "\n",
    "# architecture: \"DCNV2\"\n",
    "# embedding_dim: 64\n",
    "# cross_layers: 3\n",
    "# deep_layers: [512, 256, 128]\n",
    "# dropout: 0.2\n",
    "\n",
    "# architecture: \"FactorizationMachines\"\n",
    "# embedding_dim: 10\n",
    "# include_bias: true\n",
    "\n",
    "# architecture: \"AutoInt\"\n",
    "# embedding_dim: 64\n",
    "# num_heads: 8\n",
    "# num_layers: 3\n",
    "# dropout: 0.1\n",
    "# include_bias: true\n",
    "# categorical_features: null\n",
    "# num_user_continuous: 0\n",
    "# num_item_continuous: 0\n",
    "\n",
    "architecture: \"AutoInt\"\n",
    "embedding_dim: 64\n",
    "num_heads: 8\n",
    "num_layers: 3\n",
    "dropout: 0.1\n",
    "include_bias: true\n",
    "categorical_features:\n",
    "    occupation: 21\n",
    "    zip_code: 3439\n",
    "    year: 81\n",
    "num_user_continuous: 2\n",
    "num_item_continuous: 19\n",
    "\"\"\"\n",
    "\n",
    "model_config = yaml.safe_load(model_config)\n",
    "model_config[\"num_users\"] = train_loader.dataset.num_users\n",
    "model_config[\"num_items\"] = train_loader.dataset.num_items\n",
    "\n",
    "model = get_model(**model_config)\n",
    "\n",
    "y_est = model(batch)\n",
    "y_est"
   ]
  },
  {
   "cell_type": "code",
   "execution_count": 23,
   "metadata": {},
   "outputs": [
    {
     "data": {
      "text/plain": [
       "(torch.Size([1024, 1]),\n",
       " torch.Size([1024]),\n",
       " torch.Size([1024]),\n",
       " torch.Size([1024]))"
      ]
     },
     "execution_count": 23,
     "metadata": {},
     "output_type": "execute_result"
    }
   ],
   "source": [
    "y_est.shape, batch[\"user_id\"].shape, batch[\"item_id\"].shape, batch[\"rating\"].shape"
   ]
  },
  {
   "cell_type": "markdown",
   "metadata": {},
   "source": [
    "## Training"
   ]
  },
  {
   "cell_type": "code",
   "execution_count": null,
   "metadata": {},
   "outputs": [
    {
     "name": "stderr",
     "output_type": "stream",
     "text": [
      "INFO:recsys.train:Configuration: {'dataset': {'version': '100k', 'batch_size': 4096, 'test_split': 0.2, 'num_negatives': 4}, 'model': {'architecture': 'AutoInt', 'embedding_dim': 64, 'num_heads': 8, 'num_layers': 3, 'dropout': 0.1, 'include_bias': True, 'categorical_features': None, 'num_user_continuous': 0, 'num_item_continuous': 0}, 'training': {'epochs': 1, 'learning_rate': 0.001, 'loss_function': 'mse'}, 'logging': {'experiment_name': 'movielens_rating_prediction', 'run_name': 'nn_colab_filter_linear'}}\n",
      "INFO:recsys.train:Loading dataset: {'version': '100k', 'batch_size': 4096, 'test_split': 0.2, 'num_negatives': 4}\n",
      "INFO:recsys.train:Loading model: AutoInt\n",
      "GPU available: True (mps), used: True\n",
      "TPU available: False, using: 0 TPU cores\n",
      "HPU available: False, using: 0 HPUs\n"
     ]
    },
    {
     "name": "stdout",
     "output_type": "stream",
     "text": [
      "Loaded 55375 positive interactions\n",
      "Users: 942, Items: 1447\n",
      "Loaded user features with dims: {'continuous_dim': 2, 'categorical_dims': {'occupation': 21, 'zip_code': 795}}\n",
      "Loaded item features with dims: {'continuous_dim': 19, 'categorical_dims': {'year': 71}}\n"
     ]
    },
    {
     "name": "stderr",
     "output_type": "stream",
     "text": [
      "/Users/rich/Developer/Github/VariousDataAnalysis/neural_networks/movie_lens/rating_prediction/refactor/.venv/lib/python3.12/site-packages/pytorch_lightning/callbacks/model_checkpoint.py:654: Checkpoint directory /Users/rich/Developer/Github/VariousDataAnalysis/neural_networks/movie_lens/rating_prediction/refactor/notebooks/checkpoints exists and is not empty.\n",
      "\n",
      "  | Name         | Type                   | Params | Mode \n",
      "----------------------------------------------------------------\n",
      "0 | model        | Model                  | 203 K  | train\n",
      "1 | criterion    | MSELoss                | 0      | train\n",
      "2 | train_auc    | BinaryAUROC            | 0      | train\n",
      "3 | val_auc      | BinaryAUROC            | 0      | train\n",
      "4 | test_auc     | BinaryAUROC            | 0      | train\n",
      "5 | train_pr_auc | BinaryAveragePrecision | 0      | train\n",
      "6 | val_pr_auc   | BinaryAveragePrecision | 0      | train\n",
      "7 | test_pr_auc  | BinaryAveragePrecision | 0      | train\n",
      "----------------------------------------------------------------\n",
      "203 K     Trainable params\n",
      "0         Non-trainable params\n",
      "203 K     Total params\n",
      "0.813     Total estimated model params size (MB)\n",
      "33        Modules in train mode\n",
      "0         Modules in eval mode\n"
     ]
    },
    {
     "name": "stdout",
     "output_type": "stream",
     "text": [
      "Sanity Checking: |          | 0/? [00:00<?, ?it/s]"
     ]
    },
    {
     "name": "stderr",
     "output_type": "stream",
     "text": [
      "/Users/rich/Developer/Github/VariousDataAnalysis/neural_networks/movie_lens/rating_prediction/refactor/.venv/lib/python3.12/site-packages/pytorch_lightning/trainer/connectors/data_connector.py:425: The 'val_dataloader' does not have many workers which may be a bottleneck. Consider increasing the value of the `num_workers` argument` to `num_workers=7` in the `DataLoader` to improve performance.\n"
     ]
    },
    {
     "name": "stdout",
     "output_type": "stream",
     "text": [
      "                                                                           "
     ]
    },
    {
     "name": "stderr",
     "output_type": "stream",
     "text": [
      "/Users/rich/Developer/Github/VariousDataAnalysis/neural_networks/movie_lens/rating_prediction/refactor/.venv/lib/python3.12/site-packages/pytorch_lightning/trainer/connectors/data_connector.py:425: The 'train_dataloader' does not have many workers which may be a bottleneck. Consider increasing the value of the `num_workers` argument` to `num_workers=7` in the `DataLoader` to improve performance.\n"
     ]
    },
    {
     "name": "stdout",
     "output_type": "stream",
     "text": [
      "Epoch 0: 100%|██████████| 48/48 [00:23<00:00,  2.01it/s, v_num=64ec, train_loss_step=0.180, val_loss_step=0.160, val_loss_epoch=0.159, train_loss_epoch=0.243]"
     ]
    },
    {
     "name": "stderr",
     "output_type": "stream",
     "text": [
      "/Users/rich/Developer/Github/VariousDataAnalysis/neural_networks/movie_lens/rating_prediction/refactor/.venv/lib/python3.12/site-packages/torchmetrics/utilities/prints.py:43: UserWarning: No positive samples in targets, true positive value should be meaningless. Returning zero tensor in true positive score\n",
      "  warnings.warn(*args, **kwargs)  # noqa: B028\n",
      "`Trainer.fit` stopped: `max_epochs=1` reached.\n"
     ]
    },
    {
     "name": "stdout",
     "output_type": "stream",
     "text": [
      "Epoch 0: 100%|██████████| 48/48 [00:23<00:00,  2.01it/s, v_num=64ec, train_loss_step=0.180, val_loss_step=0.160, val_loss_epoch=0.159, train_loss_epoch=0.243]\n"
     ]
    }
   ],
   "source": [
    "import recsys.train\n",
    "import yaml\n",
    "\n",
    "config = \"\"\"\n",
    "dataset:\n",
    "  version: \"100k\"\n",
    "  batch_size: 4096\n",
    "  test_split: 0.2\n",
    "  num_negatives: 4\n",
    "\n",
    "model:\n",
    "  # architecture: \"NeuralColabFilter\"\n",
    "  # embedding_dim: 10\n",
    "  # num_users: 943\n",
    "  # num_items: 1682\n",
    "\n",
    "  # architecture: \"NeuralColabFilter\"\n",
    "  # mf_dim: 8\n",
    "  # mlp_dim: 32\n",
    "  # layers: [64, 32, 16]\n",
    "  # include_bias: true\n",
    "\n",
    "  architecture: \"AutoInt\"\n",
    "  embedding_dim: 64\n",
    "  num_heads: 8\n",
    "  num_layers: 3\n",
    "  dropout: 0.1\n",
    "  include_bias: true\n",
    "  categorical_features: null\n",
    "  num_user_continuous: 0\n",
    "  num_item_continuous: 0\n",
    "\n",
    "\n",
    "training:\n",
    "  epochs: 1\n",
    "  learning_rate: 0.001\n",
    "  loss_function: \"mse\"\n",
    "\n",
    "logging:\n",
    "  experiment_name: \"movielens_rating_prediction\"\n",
    "  run_name: \"debug\"\n",
    "\"\"\"\n",
    "config = yaml.safe_load(config)\n",
    "recsys.train.main(config)"
   ]
  }
 ],
 "metadata": {
  "kernelspec": {
   "display_name": "refactor (3.12.8)",
   "language": "python",
   "name": "python3"
  },
  "language_info": {
   "codemirror_mode": {
    "name": "ipython",
    "version": 3
   },
   "file_extension": ".py",
   "mimetype": "text/x-python",
   "name": "python",
   "nbconvert_exporter": "python",
   "pygments_lexer": "ipython3",
   "version": "3.12.8"
  }
 },
 "nbformat": 4,
 "nbformat_minor": 4
}
