{
 "cells": [
  {
   "attachments": {},
   "cell_type": "markdown",
   "metadata": {},
   "source": [
    "# Create a sample dataset from CIFAR\n",
    "\n",
    "Load from CIFAR two classes only."
   ]
  },
  {
   "cell_type": "code",
   "execution_count": 7,
   "metadata": {},
   "outputs": [
    {
     "data": {
      "text/plain": [
       "{'airplane': 0,\n",
       " 'automobile': 1,\n",
       " 'bird': 2,\n",
       " 'cat': 3,\n",
       " 'deer': 4,\n",
       " 'dog': 5,\n",
       " 'frog': 6,\n",
       " 'horse': 7,\n",
       " 'ship': 8,\n",
       " 'truck': 9}"
      ]
     },
     "execution_count": 7,
     "metadata": {},
     "output_type": "execute_result"
    }
   ],
   "source": [
    "trainset.class_to_idx"
   ]
  },
  {
   "cell_type": "code",
   "execution_count": 16,
   "metadata": {},
   "outputs": [
    {
     "name": "stdout",
     "output_type": "stream",
     "text": [
      "Files already downloaded and verified\n",
      "Files already downloaded and verified\n"
     ]
    }
   ],
   "source": [
    "import torch\n",
    "import torchvision\n",
    "import torchvision.transforms as transforms\n",
    "\n",
    "# Define the classes to select\n",
    "classes = ['airplane', 'automobile']\n",
    "\n",
    "# Define the transformations to apply to the images\n",
    "transform = transforms.Compose([\n",
    "    transforms.ToTensor(),\n",
    "    transforms.Normalize(mean=(0.5, 0.5, 0.5), std=(0.5, 0.5, 0.5))\n",
    "])\n",
    "\n",
    "# Download the CIFAR-10 dataset and apply the transformations\n",
    "trainset = torchvision.datasets.CIFAR10(root='./data', train=True, download=True, transform=transform)\n",
    "testset = torchvision.datasets.CIFAR10(root='./data', train=False, download=True, transform=transform)\n",
    "\n",
    "# Filter the datasets to select only the specified classes\n",
    "train_indices = [i for i, label in enumerate(trainset.targets) if trainset.classes[label] in classes]\n",
    "test_indices = [i for i, label in enumerate(testset.targets) if testset.classes[label] in classes]\n",
    "trainset = torch.utils.data.Subset(trainset, train_indices)\n",
    "testset = torch.utils.data.Subset(testset, test_indices)\n",
    "\n",
    "# Create data loaders to load the data in batches\n",
    "trainloader = torch.utils.data.DataLoader(trainset, batch_size=64, shuffle=True, num_workers=2)\n",
    "testloader = torch.utils.data.DataLoader(testset, batch_size=64, shuffle=False, num_workers=2)\n"
   ]
  },
  {
   "attachments": {},
   "cell_type": "markdown",
   "metadata": {},
   "source": [
    "Using Mac Photos as the library"
   ]
  },
  {
   "cell_type": "code",
   "execution_count": null,
   "metadata": {},
   "outputs": [],
   "source": [
    "import os\n",
    "import shutil\n",
    "\n",
    "# replace \"Photos Library.photoslibrary\" with the name of your photo library package\n",
    "photos_path = os.path.expanduser(\"~/Pictures/Photos Library.photoslibrary/Masters\")\n",
    "\n",
    "for root, dirs, files in os.walk(photos_path):\n",
    "    for name in files:\n",
    "        # do something with each photo file\n",
    "        file_path = os.path.join(root, name)\n",
    "        # for example, copy the photo to a new location\n",
    "        shutil.copy2(file_path, \"/path/to/new/location\")\n"
   ]
  },
  {
   "cell_type": "code",
   "execution_count": 17,
   "metadata": {},
   "outputs": [],
   "source": [
    "import os\n",
    "import shutil\n",
    "\n",
    "# replace \"Photos Library.photoslibrary\" with the name of your photo library package\n",
    "photos_path = os.path.expanduser(\"~/Pictures/Photos\\ Library.photoslibrary/originals\")\n",
    "\n",
    "for root, dirs, files in os.walk(photos_path):\n",
    "    for name in files[:10]:\n",
    "        # do something with each photo file\n",
    "        file_path = os.path.join(root, name)\n",
    "        # for example, copy the photo to a new location\n",
    "        print(file_path)\n",
    "        # shutil.copy2(file_path, \"/path/to/new/location\")\n"
   ]
  },
  {
   "cell_type": "code",
   "execution_count": 18,
   "metadata": {},
   "outputs": [
    {
     "data": {
      "text/plain": [
       "[]"
      ]
     },
     "execution_count": 18,
     "metadata": {},
     "output_type": "execute_result"
    }
   ],
   "source": [
    "# photos_path\n",
    "# root\n",
    "# dirs\n",
    "list(os.walk(os.path.expanduser(\"~/Pictures/Photos\\ Library.photoslibrary/originals\")))"
   ]
  },
  {
   "cell_type": "code",
   "execution_count": null,
   "metadata": {},
   "outputs": [],
   "source": [
    "# list photos"
   ]
  },
  {
   "attachments": {},
   "cell_type": "markdown",
   "metadata": {},
   "source": [
    "Display a sample"
   ]
  },
  {
   "cell_type": "code",
   "execution_count": 16,
   "metadata": {},
   "outputs": [
    {
     "ename": "PermissionError",
     "evalue": "[Errno 1] Operation not permitted: '/Users/rich/Pictures/Photos Library.photoslibrary/originals/0/0AA4B107-56CD-4F20-83C5-51C29FA80F79.heic'",
     "output_type": "error",
     "traceback": [
      "\u001b[0;31m---------------------------------------------------------------------------\u001b[0m",
      "\u001b[0;31mPermissionError\u001b[0m                           Traceback (most recent call last)",
      "Cell \u001b[0;32mIn[16], line 4\u001b[0m\n\u001b[1;32m      1\u001b[0m \u001b[39mfrom\u001b[39;00m \u001b[39mPIL\u001b[39;00m \u001b[39mimport\u001b[39;00m Image\n\u001b[1;32m      3\u001b[0m \u001b[39m# replace \"example.heic\" with the name of your HEIC file\u001b[39;00m\n\u001b[0;32m----> 4\u001b[0m img \u001b[39m=\u001b[39m Image\u001b[39m.\u001b[39;49mopen(os\u001b[39m.\u001b[39;49mpath\u001b[39m.\u001b[39;49mexpanduser(\u001b[39m\"\u001b[39;49m\u001b[39m~/Pictures/Photos Library.photoslibrary/originals/0/0AA4B107-56CD-4F20-83C5-51C29FA80F79.heic\u001b[39;49m\u001b[39m\"\u001b[39;49m))\n\u001b[1;32m      6\u001b[0m \u001b[39m# display the image\u001b[39;00m\n\u001b[1;32m      7\u001b[0m img\u001b[39m.\u001b[39mshow()\n",
      "File \u001b[0;32m~/Developer/miniconda3/envs/pytorch_env/lib/python3.10/site-packages/PIL/Image.py:3236\u001b[0m, in \u001b[0;36mopen\u001b[0;34m(fp, mode, formats)\u001b[0m\n\u001b[1;32m   3233\u001b[0m     filename \u001b[39m=\u001b[39m fp\n\u001b[1;32m   3235\u001b[0m \u001b[39mif\u001b[39;00m filename:\n\u001b[0;32m-> 3236\u001b[0m     fp \u001b[39m=\u001b[39m builtins\u001b[39m.\u001b[39;49mopen(filename, \u001b[39m\"\u001b[39;49m\u001b[39mrb\u001b[39;49m\u001b[39m\"\u001b[39;49m)\n\u001b[1;32m   3237\u001b[0m     exclusive_fp \u001b[39m=\u001b[39m \u001b[39mTrue\u001b[39;00m\n\u001b[1;32m   3239\u001b[0m \u001b[39mtry\u001b[39;00m:\n",
      "\u001b[0;31mPermissionError\u001b[0m: [Errno 1] Operation not permitted: '/Users/rich/Pictures/Photos Library.photoslibrary/originals/0/0AA4B107-56CD-4F20-83C5-51C29FA80F79.heic'"
     ]
    }
   ],
   "source": [
    "from PIL import Image\n",
    "\n",
    "# replace \"example.heic\" with the name of your HEIC file\n",
    "img = Image.open(os.path.expanduser(\"~/Pictures/Photos Library.photoslibrary/originals/0/0AA4B107-56CD-4F20-83C5-51C29FA80F79.heic\"))\n",
    "\n",
    "# display the image\n",
    "img.show()\n"
   ]
  }
 ],
 "metadata": {
  "kernelspec": {
   "display_name": "pytorch_env",
   "language": "python",
   "name": "python3"
  },
  "language_info": {
   "codemirror_mode": {
    "name": "ipython",
    "version": 3
   },
   "file_extension": ".py",
   "mimetype": "text/x-python",
   "name": "python",
   "nbconvert_exporter": "python",
   "pygments_lexer": "ipython3",
   "version": "3.10.10"
  },
  "orig_nbformat": 4
 },
 "nbformat": 4,
 "nbformat_minor": 2
}
