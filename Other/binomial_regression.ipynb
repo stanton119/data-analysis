{
 "cells": [
  {
   "cell_type": "markdown",
   "metadata": {},
   "source": [
    "# Bimonial regression alternatives to Logistic regression\n",
    "\n",
    "If we have a very large dataset it can be computationally expensive to train a logistic regression model.\n",
    "If we have categorical features or can convert features into categories we can summiarise the data and fit a binomial regression model instead, which are more data efficient.\n",
    "\n",
    "Here we we show their equivalence and how they scale.\n"
   ]
  },
  {
   "cell_type": "markdown",
   "metadata": {},
   "source": [
    "First lets create a data generating function"
   ]
  },
  {
   "cell_type": "code",
   "execution_count": 1,
   "metadata": {},
   "outputs": [
    {
     "name": "stdout",
     "output_type": "stream",
     "text": [
      "Data sample:\n"
     ]
    },
    {
     "data": {
      "text/html": [
       "<div><style>\n",
       ".dataframe > thead > tr > th,\n",
       ".dataframe > tbody > tr > td {\n",
       "  text-align: right;\n",
       "}\n",
       "</style>\n",
       "<small>shape: (5, 4)</small><table border=\"1\" class=\"dataframe\"><thead><tr><th>y</th><th>y_prob</th><th>x_0</th><th>x_1</th></tr><tr><td>i64</td><td>f64</td><td>i64</td><td>i64</td></tr></thead><tbody><tr><td>0</td><td>0.768634</td><td>1</td><td>1</td></tr><tr><td>0</td><td>0.539129</td><td>1</td><td>0</td></tr><tr><td>0</td><td>0.464949</td><td>0</td><td>0</td></tr><tr><td>1</td><td>0.433964</td><td>0</td><td>0</td></tr><tr><td>1</td><td>0.708297</td><td>0</td><td>1</td></tr></tbody></table></div>"
      ],
      "text/plain": [
       "shape: (5, 4)\n",
       "┌─────┬──────────┬─────┬─────┐\n",
       "│ y   ┆ y_prob   ┆ x_0 ┆ x_1 │\n",
       "│ --- ┆ ---      ┆ --- ┆ --- │\n",
       "│ i64 ┆ f64      ┆ i64 ┆ i64 │\n",
       "╞═════╪══════════╪═════╪═════╡\n",
       "│ 0   ┆ 0.768634 ┆ 1   ┆ 1   │\n",
       "│ 0   ┆ 0.539129 ┆ 1   ┆ 0   │\n",
       "│ 0   ┆ 0.464949 ┆ 0   ┆ 0   │\n",
       "│ 1   ┆ 0.433964 ┆ 0   ┆ 0   │\n",
       "│ 1   ┆ 0.708297 ┆ 0   ┆ 1   │\n",
       "└─────┴──────────┴─────┴─────┘"
      ]
     },
     "metadata": {},
     "output_type": "display_data"
    },
    {
     "name": "stdout",
     "output_type": "stream",
     "text": [
      "weights:\n",
      "[0.08365798 0.8965755 ]\n"
     ]
    }
   ],
   "source": [
    "from typing import Tuple\n",
    "import numpy as np\n",
    "import polars as pl\n",
    "\n",
    "\n",
    "def generate_data(\n",
    "    n_samples: int = 1000,\n",
    "    n_features: int = 4,\n",
    "    seed: int = None,\n",
    ") -> Tuple[pl.DataFrame, np.array]:\n",
    "    rand = np.random.default_rng(seed)\n",
    "\n",
    "    # binary covariates\n",
    "    covariates = rand.integers(0, 2, size=(n_samples, n_features))\n",
    "\n",
    "    weights = rand.normal(size=(n_features, 1))\n",
    "    outcome_logit = np.dot(covariates, weights) + rand.normal(\n",
    "        scale=0.1, size=(n_samples, 1)\n",
    "    )\n",
    "\n",
    "    def inv_logit(p):\n",
    "        return np.exp(p) / (1 + np.exp(p))\n",
    "\n",
    "    outcome_prob = inv_logit(outcome_logit)\n",
    "    outcome = rand.binomial(n=1, p=outcome_prob)\n",
    "\n",
    "    df = pl.concat(\n",
    "        [\n",
    "            pl.DataFrame(outcome, schema=[\"y\"]),\n",
    "            pl.DataFrame(outcome_prob, schema=[\"y_prob\"]),\n",
    "            pl.DataFrame(covariates, schema=[f\"x_{idx}\" for idx in range(n_features)]),\n",
    "        ],\n",
    "        how=\"horizontal\",\n",
    "    )\n",
    "\n",
    "    return df, weights\n",
    "\n",
    "\n",
    "df, weights = generate_data(n_samples=1000, n_features=2, seed=0)\n",
    "print(\"Data sample:\")\n",
    "display(df.head())\n",
    "\n",
    "print(\"weights:\")\n",
    "print(weights.flatten())\n"
   ]
  },
  {
   "cell_type": "markdown",
   "metadata": {},
   "source": [
    "Lets fit a logistic regression model first. We predict the outcome column `y` from the `x` columns and we retrieve estimated weights that are close to the true weights:"
   ]
  },
  {
   "cell_type": "code",
   "execution_count": 2,
   "metadata": {},
   "outputs": [
    {
     "name": "stdout",
     "output_type": "stream",
     "text": [
      "Optimization terminated successfully.\n",
      "         Current function value: 0.643229\n",
      "         Iterations 5\n"
     ]
    },
    {
     "data": {
      "text/html": [
       "<table class=\"simpletable\">\n",
       "<caption>Logit Regression Results</caption>\n",
       "<tr>\n",
       "  <th>Dep. Variable:</th>           <td>y</td>        <th>  No. Observations:  </th>  <td>  1000</td>  \n",
       "</tr>\n",
       "<tr>\n",
       "  <th>Model:</th>                 <td>Logit</td>      <th>  Df Residuals:      </th>  <td>   998</td>  \n",
       "</tr>\n",
       "<tr>\n",
       "  <th>Method:</th>                 <td>MLE</td>       <th>  Df Model:          </th>  <td>     1</td>  \n",
       "</tr>\n",
       "<tr>\n",
       "  <th>Date:</th>            <td>Thu, 10 Aug 2023</td> <th>  Pseudo R-squ.:     </th>  <td>0.03417</td> \n",
       "</tr>\n",
       "<tr>\n",
       "  <th>Time:</th>                <td>10:41:17</td>     <th>  Log-Likelihood:    </th> <td> -643.23</td> \n",
       "</tr>\n",
       "<tr>\n",
       "  <th>converged:</th>             <td>True</td>       <th>  LL-Null:           </th> <td> -665.99</td> \n",
       "</tr>\n",
       "<tr>\n",
       "  <th>Covariance Type:</th>     <td>nonrobust</td>    <th>  LLR p-value:       </th> <td>1.512e-11</td>\n",
       "</tr>\n",
       "</table>\n",
       "<table class=\"simpletable\">\n",
       "<tr>\n",
       "   <td></td>      <th>coef</th>     <th>std err</th>      <th>z</th>      <th>P>|z|</th>  <th>[0.025</th>    <th>0.975]</th>  \n",
       "</tr>\n",
       "<tr>\n",
       "  <th>x_0</th> <td>    0.0825</td> <td>    0.105</td> <td>    0.786</td> <td> 0.432</td> <td>   -0.123</td> <td>    0.288</td>\n",
       "</tr>\n",
       "<tr>\n",
       "  <th>x_1</th> <td>    0.8720</td> <td>    0.109</td> <td>    8.003</td> <td> 0.000</td> <td>    0.658</td> <td>    1.086</td>\n",
       "</tr>\n",
       "</table>"
      ],
      "text/latex": [
       "\\begin{center}\n",
       "\\begin{tabular}{lclc}\n",
       "\\toprule\n",
       "\\textbf{Dep. Variable:}   &        y         & \\textbf{  No. Observations:  } &     1000    \\\\\n",
       "\\textbf{Model:}           &      Logit       & \\textbf{  Df Residuals:      } &      998    \\\\\n",
       "\\textbf{Method:}          &       MLE        & \\textbf{  Df Model:          } &        1    \\\\\n",
       "\\textbf{Date:}            & Thu, 10 Aug 2023 & \\textbf{  Pseudo R-squ.:     } &  0.03417    \\\\\n",
       "\\textbf{Time:}            &     10:41:17     & \\textbf{  Log-Likelihood:    } &   -643.23   \\\\\n",
       "\\textbf{converged:}       &       True       & \\textbf{  LL-Null:           } &   -665.99   \\\\\n",
       "\\textbf{Covariance Type:} &    nonrobust     & \\textbf{  LLR p-value:       } & 1.512e-11   \\\\\n",
       "\\bottomrule\n",
       "\\end{tabular}\n",
       "\\begin{tabular}{lcccccc}\n",
       "              & \\textbf{coef} & \\textbf{std err} & \\textbf{z} & \\textbf{P$> |$z$|$} & \\textbf{[0.025} & \\textbf{0.975]}  \\\\\n",
       "\\midrule\n",
       "\\textbf{x\\_0} &       0.0825  &        0.105     &     0.786  &         0.432        &       -0.123    &        0.288     \\\\\n",
       "\\textbf{x\\_1} &       0.8720  &        0.109     &     8.003  &         0.000        &        0.658    &        1.086     \\\\\n",
       "\\bottomrule\n",
       "\\end{tabular}\n",
       "%\\caption{Logit Regression Results}\n",
       "\\end{center}"
      ],
      "text/plain": [
       "<class 'statsmodels.iolib.summary.Summary'>\n",
       "\"\"\"\n",
       "                           Logit Regression Results                           \n",
       "==============================================================================\n",
       "Dep. Variable:                      y   No. Observations:                 1000\n",
       "Model:                          Logit   Df Residuals:                      998\n",
       "Method:                           MLE   Df Model:                            1\n",
       "Date:                Thu, 10 Aug 2023   Pseudo R-squ.:                 0.03417\n",
       "Time:                        10:41:17   Log-Likelihood:                -643.23\n",
       "converged:                       True   LL-Null:                       -665.99\n",
       "Covariance Type:            nonrobust   LLR p-value:                 1.512e-11\n",
       "==============================================================================\n",
       "                 coef    std err          z      P>|z|      [0.025      0.975]\n",
       "------------------------------------------------------------------------------\n",
       "x_0            0.0825      0.105      0.786      0.432      -0.123       0.288\n",
       "x_1            0.8720      0.109      8.003      0.000       0.658       1.086\n",
       "==============================================================================\n",
       "\"\"\""
      ]
     },
     "execution_count": 2,
     "metadata": {},
     "output_type": "execute_result"
    }
   ],
   "source": [
    "import statsmodels.api as sm\n",
    "\n",
    "logit_model = sm.Logit(\n",
    "    df[\"y\"].to_pandas(), df.drop(columns=[\"y\", \"y_prob\"]).to_pandas()\n",
    ")\n",
    "logit_model_results = logit_model.fit()\n",
    "logit_model_results.summary()\n"
   ]
  },
  {
   "cell_type": "markdown",
   "metadata": {},
   "source": [
    "Lets fit with a Binomial model. First we need to group the data into counts of success and failure against each combination of the input categories:"
   ]
  },
  {
   "cell_type": "code",
   "execution_count": 3,
   "metadata": {},
   "outputs": [
    {
     "data": {
      "text/html": [
       "<div><style>\n",
       ".dataframe > thead > tr > th,\n",
       ".dataframe > tbody > tr > td {\n",
       "  text-align: right;\n",
       "}\n",
       "</style>\n",
       "<small>shape: (4, 4)</small><table border=\"1\" class=\"dataframe\"><thead><tr><th>x_0</th><th>x_1</th><th>success</th><th>failure</th></tr><tr><td>i64</td><td>i64</td><td>i64</td><td>i64</td></tr></thead><tbody><tr><td>0</td><td>0</td><td>102</td><td>115</td></tr><tr><td>1</td><td>0</td><td>138</td><td>118</td></tr><tr><td>0</td><td>1</td><td>193</td><td>74</td></tr><tr><td>1</td><td>1</td><td>183</td><td>77</td></tr></tbody></table></div>"
      ],
      "text/plain": [
       "shape: (4, 4)\n",
       "┌─────┬─────┬─────────┬─────────┐\n",
       "│ x_0 ┆ x_1 ┆ success ┆ failure │\n",
       "│ --- ┆ --- ┆ ---     ┆ ---     │\n",
       "│ i64 ┆ i64 ┆ i64     ┆ i64     │\n",
       "╞═════╪═════╪═════════╪═════════╡\n",
       "│ 0   ┆ 0   ┆ 102     ┆ 115     │\n",
       "│ 1   ┆ 0   ┆ 138     ┆ 118     │\n",
       "│ 0   ┆ 1   ┆ 193     ┆ 74      │\n",
       "│ 1   ┆ 1   ┆ 183     ┆ 77      │\n",
       "└─────┴─────┴─────────┴─────────┘"
      ]
     },
     "execution_count": 3,
     "metadata": {},
     "output_type": "execute_result"
    }
   ],
   "source": [
    "def group_data(df: pl.DataFrame):\n",
    "    x_cols = [col for col in df.columns if \"x_\" in col]\n",
    "    return df.groupby(x_cols).agg(\n",
    "        [\n",
    "            pl.col(\"y\").sum().alias(\"success\"),\n",
    "            (pl.count() - pl.col(\"y\").sum()).alias(\"failure\"),\n",
    "        ]\n",
    "    )\n",
    "\n",
    "\n",
    "df_group = group_data(df)\n",
    "df_group\n"
   ]
  },
  {
   "cell_type": "markdown",
   "metadata": {},
   "source": [
    "Now we can fit a Binomial regression model. We get identical results to the logistic regression model, including confidence intervals."
   ]
  },
  {
   "cell_type": "code",
   "execution_count": 4,
   "metadata": {},
   "outputs": [
    {
     "data": {
      "text/html": [
       "<table class=\"simpletable\">\n",
       "<caption>Generalized Linear Model Regression Results</caption>\n",
       "<tr>\n",
       "  <th>Dep. Variable:</th>   <td>['success', 'failure']</td> <th>  No. Observations:  </th>  <td>     4</td> \n",
       "</tr>\n",
       "<tr>\n",
       "  <th>Model:</th>                     <td>GLM</td>          <th>  Df Residuals:      </th>  <td>     2</td> \n",
       "</tr>\n",
       "<tr>\n",
       "  <th>Model Family:</th>           <td>Binomial</td>        <th>  Df Model:          </th>  <td>     1</td> \n",
       "</tr>\n",
       "<tr>\n",
       "  <th>Link Function:</th>            <td>Logit</td>         <th>  Scale:             </th> <td>  1.0000</td>\n",
       "</tr>\n",
       "<tr>\n",
       "  <th>Method:</th>                   <td>IRLS</td>          <th>  Log-Likelihood:    </th> <td> -12.717</td>\n",
       "</tr>\n",
       "<tr>\n",
       "  <th>Date:</th>               <td>Thu, 10 Aug 2023</td>    <th>  Deviance:          </th> <td>  1.9577</td>\n",
       "</tr>\n",
       "<tr>\n",
       "  <th>Time:</th>                   <td>10:41:17</td>        <th>  Pearson chi2:      </th>  <td>  1.96</td> \n",
       "</tr>\n",
       "<tr>\n",
       "  <th>No. Iterations:</th>             <td>4</td>           <th>  Pseudo R-squ. (CS):</th>  <td> 1.000</td> \n",
       "</tr>\n",
       "<tr>\n",
       "  <th>Covariance Type:</th>        <td>nonrobust</td>       <th>                     </th>     <td> </td>   \n",
       "</tr>\n",
       "</table>\n",
       "<table class=\"simpletable\">\n",
       "<tr>\n",
       "   <td></td>      <th>coef</th>     <th>std err</th>      <th>z</th>      <th>P>|z|</th>  <th>[0.025</th>    <th>0.975]</th>  \n",
       "</tr>\n",
       "<tr>\n",
       "  <th>x_0</th> <td>    0.0825</td> <td>    0.105</td> <td>    0.786</td> <td> 0.432</td> <td>   -0.123</td> <td>    0.288</td>\n",
       "</tr>\n",
       "<tr>\n",
       "  <th>x_1</th> <td>    0.8720</td> <td>    0.109</td> <td>    8.003</td> <td> 0.000</td> <td>    0.658</td> <td>    1.086</td>\n",
       "</tr>\n",
       "</table>"
      ],
      "text/latex": [
       "\\begin{center}\n",
       "\\begin{tabular}{lclc}\n",
       "\\toprule\n",
       "\\textbf{Dep. Variable:}   & ['success', 'failure'] & \\textbf{  No. Observations:  } &        4    \\\\\n",
       "\\textbf{Model:}           &          GLM           & \\textbf{  Df Residuals:      } &        2    \\\\\n",
       "\\textbf{Model Family:}    &        Binomial        & \\textbf{  Df Model:          } &        1    \\\\\n",
       "\\textbf{Link Function:}   &         Logit          & \\textbf{  Scale:             } &    1.0000   \\\\\n",
       "\\textbf{Method:}          &          IRLS          & \\textbf{  Log-Likelihood:    } &   -12.717   \\\\\n",
       "\\textbf{Date:}            &    Thu, 10 Aug 2023    & \\textbf{  Deviance:          } &    1.9577   \\\\\n",
       "\\textbf{Time:}            &        10:41:17        & \\textbf{  Pearson chi2:      } &     1.96    \\\\\n",
       "\\textbf{No. Iterations:}  &           4            & \\textbf{  Pseudo R-squ. (CS):} &    1.000    \\\\\n",
       "\\textbf{Covariance Type:} &       nonrobust        & \\textbf{                     } &             \\\\\n",
       "\\bottomrule\n",
       "\\end{tabular}\n",
       "\\begin{tabular}{lcccccc}\n",
       "              & \\textbf{coef} & \\textbf{std err} & \\textbf{z} & \\textbf{P$> |$z$|$} & \\textbf{[0.025} & \\textbf{0.975]}  \\\\\n",
       "\\midrule\n",
       "\\textbf{x\\_0} &       0.0825  &        0.105     &     0.786  &         0.432        &       -0.123    &        0.288     \\\\\n",
       "\\textbf{x\\_1} &       0.8720  &        0.109     &     8.003  &         0.000        &        0.658    &        1.086     \\\\\n",
       "\\bottomrule\n",
       "\\end{tabular}\n",
       "%\\caption{Generalized Linear Model Regression Results}\n",
       "\\end{center}"
      ],
      "text/plain": [
       "<class 'statsmodels.iolib.summary.Summary'>\n",
       "\"\"\"\n",
       "                   Generalized Linear Model Regression Results                    \n",
       "==================================================================================\n",
       "Dep. Variable:     ['success', 'failure']   No. Observations:                    4\n",
       "Model:                                GLM   Df Residuals:                        2\n",
       "Model Family:                    Binomial   Df Model:                            1\n",
       "Link Function:                      Logit   Scale:                          1.0000\n",
       "Method:                              IRLS   Log-Likelihood:                -12.717\n",
       "Date:                    Thu, 10 Aug 2023   Deviance:                       1.9577\n",
       "Time:                            10:41:17   Pearson chi2:                     1.96\n",
       "No. Iterations:                         4   Pseudo R-squ. (CS):              1.000\n",
       "Covariance Type:                nonrobust                                         \n",
       "==============================================================================\n",
       "                 coef    std err          z      P>|z|      [0.025      0.975]\n",
       "------------------------------------------------------------------------------\n",
       "x_0            0.0825      0.105      0.786      0.432      -0.123       0.288\n",
       "x_1            0.8720      0.109      8.003      0.000       0.658       1.086\n",
       "==============================================================================\n",
       "\"\"\""
      ]
     },
     "execution_count": 4,
     "metadata": {},
     "output_type": "execute_result"
    }
   ],
   "source": [
    "binom_model = sm.GLM(\n",
    "    df_group[[\"success\", \"failure\"]].to_pandas(),\n",
    "    df_group.drop(columns=[\"success\", \"failure\"]).to_pandas(),\n",
    "    family=sm.families.Binomial(),\n",
    ")\n",
    "binom_model_results = binom_model.fit()\n",
    "binom_model_results.summary()\n"
   ]
  },
  {
   "cell_type": "markdown",
   "metadata": {},
   "source": [
    "## Fitting time/data scaling\n",
    "\n",
    "Now that we've shown their equivalence how does each model scale with data size?\n",
    "\n",
    "We can test the fitting time on different number of samples to find out. We will not include the time for grouping the data as this can commonly be done via external tools such as data warehouses."
   ]
  },
  {
   "cell_type": "code",
   "execution_count": 5,
   "metadata": {},
   "outputs": [
    {
     "name": "stderr",
     "output_type": "stream",
     "text": [
      "  0%|          | 0/11 [00:00<?, ?it/s]"
     ]
    },
    {
     "name": "stderr",
     "output_type": "stream",
     "text": [
      "/Users/stantoon/miniconda3/envs/project_env/lib/python3.10/site-packages/statsmodels/base/model.py:607: ConvergenceWarning: Maximum Likelihood optimization failed to converge. Check mle_retvals\n",
      "  warnings.warn(\"Maximum Likelihood optimization failed to \"\n",
      "100%|██████████| 11/11 [00:33<00:00,  3.08s/it]\n"
     ]
    }
   ],
   "source": [
    "import timeit\n",
    "import tqdm\n",
    "\n",
    "\n",
    "times = []\n",
    "n_features = 10\n",
    "n_trials = 10\n",
    "for n_samples in tqdm.tqdm([1e2, 5e2, 1e3, 5e3, 1e4, 5e4, 1e5, 5e5, 1e6, 5e6, 1e7]):\n",
    "    for _trial in range(n_trials):\n",
    "        _n_samples = int(n_samples)\n",
    "        df, weights = generate_data(n_samples=_n_samples, n_features=10, seed=_n_samples+_trial)\n",
    "\n",
    "        if _n_samples < 1e6:\n",
    "            t1 = timeit.default_timer()\n",
    "            logit_model = sm.Logit(\n",
    "                df[\"y\"].to_pandas(), df.drop(columns=[\"y\", \"y_prob\"]).to_pandas()\n",
    "            )\n",
    "            logit_model_results = logit_model.fit(disp=0)\n",
    "            times.append([\"logit\", _n_samples, timeit.default_timer() - t1])\n",
    "\n",
    "        df_group = group_data(df=df)\n",
    "        t1 = timeit.default_timer()\n",
    "        binom_model = sm.GLM(\n",
    "            df_group[[\"success\", \"failure\"]].to_pandas(),\n",
    "            df_group.drop(columns=[\"success\", \"failure\"]).to_pandas(),\n",
    "            family=sm.families.Binomial(),\n",
    "        )\n",
    "        binom_model_results = binom_model.fit()\n",
    "        times.append([\"binomial\", _n_samples, timeit.default_timer() - t1])\n",
    "\n",
    "times = pl.DataFrame(times, schema=[\"model_type\", \"n_samples\", \"fit_time\"])\n"
   ]
  },
  {
   "cell_type": "markdown",
   "metadata": {},
   "source": [
    "Plotting the results show that the Logistic regression model scales exponentially whilst the Binomial is approximately flat.\n",
    "The shaded region represents the confidence interval of the mean fit time."
   ]
  },
  {
   "cell_type": "code",
   "execution_count": 6,
   "metadata": {},
   "outputs": [
    {
     "name": "stderr",
     "output_type": "stream",
     "text": [
      "/var/folders/_v/nlh4h1yx2n1gd6f3szjlgxt40000gr/T/ipykernel_90987/2954676713.py:4: MatplotlibDeprecationWarning: The seaborn styles shipped by Matplotlib are deprecated since 3.6, as they no longer correspond to the styles shipped by seaborn. However, they will remain available as 'seaborn-v0_8-<style>'. Alternatively, directly use the seaborn API instead.\n",
      "  plt.style.use(\"seaborn-whitegrid\")\n",
      "/var/folders/_v/nlh4h1yx2n1gd6f3szjlgxt40000gr/T/ipykernel_90987/2954676713.py:11: UserWarning: Matplotlib is currently using module://matplotlib_inline.backend_inline, which is a non-GUI backend, so cannot show the figure.\n",
      "  fig.show()\n"
     ]
    },
    {
     "data": {
      "image/png": "[encoded data removed]",
      "text/plain": [
       "<Figure size 1000x600 with 1 Axes>"
      ]
     },
     "metadata": {},
     "output_type": "display_data"
    }
   ],
   "source": [
    "import seaborn as sns\n",
    "import matplotlib.pyplot as plt\n",
    "\n",
    "plt.style.use(\"seaborn-whitegrid\")\n",
    "\n",
    "fig, ax = plt.subplots(figsize=(10, 6))\n",
    "sns.lineplot(\n",
    "    data=times, x=\"n_samples\", y=\"fit_time\", hue=\"model_type\", ax=ax, marker=\"x\"\n",
    ")\n",
    "ax.set(xscale=\"log\", ylabel=\"Fit time (s)\", title=\"Fit time against data length\")\n",
    "fig.show()\n"
   ]
  },
  {
   "cell_type": "markdown",
   "metadata": {},
   "source": [
    "The data size passed to the Binomial model always has the same upper group which is the number of possible groups in the data. If we have $n$ features we have $2^n$ possible groups. The counts for each group simply increase when our data size is larger, so we don't expect any change in fitting time. Therefore the Binomial model can scale very well to large problems if we have categorical features. If we don't have categorical features this won't apply, but we can always approximate continuous features with binary categories, such as through various sklearn transformers ([link](https://scikit-learn.org/stable/modules/generated/sklearn.preprocessing.Binarizer.html), [link2](https://scikit-learn.org/stable/modules/generated/sklearn.preprocessing.KBinsDiscretizer.html)). What's convenient here is that it allows us to do the heavy lifting and aggregation on a data warehouse and output a small dataset for modelling. Therefore we are not limited by the memory of our device used for building models.\n",
    "\n",
    "Note: there are alternative approaches for logistic regression to handle large data, such as fitting on a sample, though this will bias the confidence intervals to be larger than reality."
   ]
  }
 ],
 "metadata": {
  "interpreter": {
   "hash": "18930eda6acc848209c3cd539771b2737e4eebc429a33e016df1f6acd3b23678"
  },
  "kernelspec": {
   "display_name": "Python 3.8.12 ('project_env': conda)",
   "language": "python",
   "name": "python3"
  },
  "language_info": {
   "codemirror_mode": {
    "name": "ipython",
    "version": 3
   },
   "file_extension": ".py",
   "mimetype": "text/x-python",
   "name": "python",
   "nbconvert_exporter": "python",
   "pygments_lexer": "ipython3",
   "version": "3.10.11"
  },
  "orig_nbformat": 4
 },
 "nbformat": 4,
 "nbformat_minor": 2
}
