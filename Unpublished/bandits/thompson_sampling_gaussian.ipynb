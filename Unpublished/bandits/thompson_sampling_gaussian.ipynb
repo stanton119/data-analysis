{
 "cells": [
  {
   "attachments": {},
   "cell_type": "markdown",
   "metadata": {},
   "source": [
    "# Thompson Sampling - Gaussian distributions\n",
    "\n",
    "How do we formulate the update step?\n",
    "\n",
    "We have a prior distribution which is a Gaussian. We observe some reward and we need to update to get the posterior.\n",
    "\n",
    "We need to update the mean and standard deviation of the prior with the data.\n",
    "\n",
    "We can use Bayes rule for this.\n",
    "\n",
    "\n",
    "\n",
    "https://en.wikipedia.org/wiki/Conjugate_prior\n",
    "\n",
    "\n",
    "Prior distribution is given as $\\mathcal{N}(\\mu_0, \\sigma_0)$\n",
    "Data is given as $x$.\n",
    "\n",
    "\n",
    "If we start from an uninformed prior we can use the expressions for the moving average and moving standard deviation:\n",
    "\n",
    "Moving average:\n",
    "$E{x_n} = \\sum_i^n x_i / n$\n",
    "\n",
    "$E{x} = \\sum_i^n x_i / n$"
   ]
  },
  {
   "cell_type": "code",
   "execution_count": 1,
   "metadata": {},
   "outputs": [],
   "source": [
    "import numpy as np\n"
   ]
  },
  {
   "cell_type": "markdown",
   "metadata": {},
   "source": [
    "Rolling mean"
   ]
  },
  {
   "cell_type": "code",
   "execution_count": 18,
   "metadata": {},
   "outputs": [
    {
     "name": "stdout",
     "output_type": "stream",
     "text": [
      "rolling_mean\n",
      "[0.0, 0.5, 1.0, 1.5, 2.0, 2.5, 3.0, 3.5, 4.0, 4.5]\n",
      "rolling_mean_iter\n",
      "[0.0, 0.5, 1.0, 1.5, 2.0, 2.5, 3.0, 3.5, 4.0, 4.5]\n"
     ]
    }
   ],
   "source": [
    "n = 10\n",
    "x = np.arange(n)\n",
    "x\n",
    "\n",
    "rolling_mean = [x[:_idx+1].mean() for _idx in range(n)]\n",
    "print(\"rolling_mean\")\n",
    "print(rolling_mean)\n",
    "\n",
    "rolling_mean_iter = []\n",
    "prev_mean = 0\n",
    "prev_count = 0\n",
    "for _idx in range(n):\n",
    "    new_val = x[_idx]\n",
    "    new_mean = (prev_mean*prev_count + new_val) / (prev_count+1)\n",
    "    prev_count += 1\n",
    "    prev_mean = new_mean\n",
    "    rolling_mean_iter.append(new_mean)\n",
    "\n",
    "print(\"rolling_mean_iter\")\n",
    "print(rolling_mean_iter)"
   ]
  },
  {
   "cell_type": "code",
   "execution_count": null,
   "metadata": {},
   "outputs": [],
   "source": []
  }
 ],
 "metadata": {
  "kernelspec": {
   "display_name": "project_env",
   "language": "python",
   "name": "python3"
  },
  "language_info": {
   "codemirror_mode": {
    "name": "ipython",
    "version": 3
   },
   "file_extension": ".py",
   "mimetype": "text/x-python",
   "name": "python",
   "nbconvert_exporter": "python",
   "pygments_lexer": "ipython3",
   "version": "3.10.11"
  },
  "orig_nbformat": 4
 },
 "nbformat": 4,
 "nbformat_minor": 2
}
