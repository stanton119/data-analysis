{
 "cells": [
  {
   "attachments": {},
   "cell_type": "markdown",
   "metadata": {},
   "source": [
    "# Fine tuning an image classifier\n",
    "\n",
    "Given a photo library and a set of photos, can we find similar ones?\n",
    "For example if we want to find some pictures of artwork, can we find them all given a sample of a few images?\n",
    "\n",
    "Method:\n",
    "\n",
    "* Create a sample dataset\n",
    "* Use a pretrained image classifier from Torchvision\n",
    "* Fine tune the model on part of the sample dataset\n",
    "* Predict all the images from the dataset and find matching images\n",
    "\n",
    "\n",
    "Models to test:\n",
    "\n",
    "* PCA + logistic regression\n",
    "* CNN\n",
    "* EfficientNet\n",
    "* EfficientNet + Transfer learning\n",
    "* Data augmentation (?)\n",
    "\n",
    "\n",
    "Reference:\n",
    "\n",
    "* https://pytorch.org/tutorials/beginner/transfer_learning_tutorial.html"
   ]
  },
  {
   "attachments": {},
   "cell_type": "markdown",
   "metadata": {},
   "source": [
    "## Load images"
   ]
  },
  {
   "attachments": {},
   "cell_type": "markdown",
   "metadata": {},
   "source": [
    "Filter to only two classes from CIFAR.\n",
    "We will also limit the dataset size to make learning here hard.\n",
    "\n",
    "The CIFAR dataset is loaded as PIL objects. We transform the PIL images from CIFAR10 to Tensors (`ToTensor()`), which changes their range from 0-255 to 0-1. We normalise images to a similar distribution as ImageNet images. This will help with transfer learning ImageNet based model. The model was trained on ImageNet images and if we send in images with a different distribution we would expect lower performance.\n",
    "\n",
    "The normalisation function is a shift `image = (image - mean) / std`. As such we changes our distribution with mean: `[0.4970, 0.4942, 0.4907]` -> `[0.0526, 0.1706, 0.3764]`\n",
    "and std: `[0.2633, 0.2602, 0.2790]` -> `[1.1497, 1.1616, 1.2400]`"
   ]
  },
  {
   "cell_type": "code",
   "execution_count": 1,
   "metadata": {},
   "outputs": [
    {
     "name": "stdout",
     "output_type": "stream",
     "text": [
      "Files already downloaded and verified\n",
      "Files already downloaded and verified\n"
     ]
    }
   ],
   "source": [
    "import torch\n",
    "import torchvision\n",
    "import torchvision.transforms as transforms\n",
    "\n",
    "torch.manual_seed(0)\n",
    "\n",
    "image_net_normalize = transforms.Normalize(\n",
    "    mean=[0.485, 0.456, 0.406], std=[0.229, 0.224, 0.225]\n",
    ")\n",
    "\n",
    "\n",
    "def load_cifar_sample(classes, n_images):\n",
    "    # Define the transformations to apply to the images\n",
    "    transform = transforms.Compose(\n",
    "        [\n",
    "            transforms.ToTensor(),\n",
    "            image_net_normalize,\n",
    "        ]\n",
    "    )\n",
    "\n",
    "    trainset = torchvision.datasets.CIFAR10(\n",
    "        root=\"./data/cifar-10/\", train=True, download=True, transform=transform\n",
    "    )\n",
    "    testset = torchvision.datasets.CIFAR10(\n",
    "        root=\"./data/cifar-10/\", train=False, download=True, transform=transform\n",
    "    )\n",
    "\n",
    "    # Filter the datasets to select only the specified classes\n",
    "    train_indices = [\n",
    "        i\n",
    "        for i, label in enumerate(trainset.targets)\n",
    "        if trainset.classes[label] in classes\n",
    "    ]\n",
    "    test_indices = [\n",
    "        i\n",
    "        for i, label in enumerate(testset.targets)\n",
    "        if testset.classes[label] in classes\n",
    "    ]\n",
    "    train_dataset = torch.utils.data.Subset(trainset, train_indices[:n_images])\n",
    "    test_dataset = torch.utils.data.Subset(testset, test_indices[:n_images])\n",
    "\n",
    "    # Create data loaders to load the data in full batches\n",
    "    train_loader = torch.utils.data.DataLoader(\n",
    "        train_dataset, batch_size=n_images, shuffle=False\n",
    "    )\n",
    "    test_loader = torch.utils.data.DataLoader(\n",
    "        test_dataset, batch_size=n_images, shuffle=False\n",
    "    )\n",
    "\n",
    "    return train_loader, test_loader\n",
    "\n",
    "\n",
    "# Define the classes to select\n",
    "classes = [\"airplane\", \"automobile\"]\n",
    "n_images = 100\n",
    "train_loader, test_loader = load_cifar_sample(classes, n_images)\n",
    "class_lookup = {\n",
    "    val: key for key, val in train_loader.dataset.dataset.class_to_idx.items()\n",
    "}\n"
   ]
  },
  {
   "attachments": {},
   "cell_type": "markdown",
   "metadata": {},
   "source": [
    "Load the dataset into memory to speed up subsequent training. This is do-able as our dataset is small."
   ]
  },
  {
   "attachments": {},
   "cell_type": "markdown",
   "metadata": {},
   "source": [
    "Preview a few items\n",
    "\n",
    "The images look distorted as we've transformed them towards 0 mean. Matplotlib is expecting images on the scale 0-255."
   ]
  },
  {
   "cell_type": "code",
   "execution_count": 3,
   "metadata": {},
   "outputs": [
    {
     "name": "stderr",
     "output_type": "stream",
     "text": [
      "/var/folders/ky/4qby95090jbbq38_mh94x72r0000gn/T/ipykernel_3799/1082104108.py:4: MatplotlibDeprecationWarning: The seaborn styles shipped by Matplotlib are deprecated since 3.6, as they no longer correspond to the styles shipped by seaborn. However, they will remain available as 'seaborn-v0_8-<style>'. Alternatively, directly use the seaborn API instead.\n",
      "  plt.style.use(\"seaborn-whitegrid\")\n",
      "Clipping input data to the valid range for imshow with RGB data ([0..1] for floats or [0..255] for integers).\n",
      "Clipping input data to the valid range for imshow with RGB data ([0..1] for floats or [0..255] for integers).\n",
      "Clipping input data to the valid range for imshow with RGB data ([0..1] for floats or [0..255] for integers).\n",
      "/var/folders/ky/4qby95090jbbq38_mh94x72r0000gn/T/ipykernel_3799/1082104108.py:22: UserWarning: Matplotlib is currently using module://matplotlib_inline.backend_inline, which is a non-GUI backend, so cannot show the figure.\n",
      "  fig.show()\n"
     ]
    },
    {
     "data": {
      "image/png": "[encoded data removed]",
      "text/plain": [
       "<Figure size 1000x600 with 3 Axes>"
      ]
     },
     "metadata": {},
     "output_type": "display_data"
    }
   ],
   "source": [
    "import numpy as np\n",
    "import matplotlib.pyplot as plt\n",
    "\n",
    "plt.style.use(\"seaborn-whitegrid\")\n",
    "\n",
    "\n",
    "def get_np_image_from_batch(img_batch, idx):\n",
    "    img = img_batch.cpu().numpy()[idx]\n",
    "    # convert image back to Height,Width,Channels\n",
    "    img = np.transpose(img, (1, 2, 0))\n",
    "    return img\n",
    "\n",
    "\n",
    "# get first batch\n",
    "img_batch, labels_batch = next(iter(train_loader))\n",
    "\n",
    "n_images_plot = 3\n",
    "fig, ax = plt.subplots(figsize=(10, 6), ncols=n_images_plot)\n",
    "for _idx in range(n_images_plot):\n",
    "    ax[_idx].imshow(get_np_image_from_batch(img_batch, _idx))\n",
    "    ax[_idx].set_title(class_lookup[int(labels_batch[_idx])])\n",
    "fig.show()\n"
   ]
  },
  {
   "cell_type": "code",
   "execution_count": 4,
   "metadata": {},
   "outputs": [
    {
     "name": "stdout",
     "output_type": "stream",
     "text": [
      "tensor transformed summary values\n",
      "Min value:  tensor(-2.1179)\n",
      "Max value:  tensor(2.6400)\n",
      "Channel means:  tensor([0.0526, 0.1706, 0.3764])\n"
     ]
    }
   ],
   "source": [
    "# print(\"raw dataset values\")\n",
    "# trainset = train_loader.dataset.dataset.data\n",
    "# print(\"Min value: \", np.min(trainset))\n",
    "# print(\"Max value: \", np.max(trainset))\n",
    "# print(\"Channel means: \", trainset.transpose([3, 0, 1, 2]).reshape(3, -1).mean(axis=1))\n",
    "# print(\"\")\n",
    "\n",
    "print(\"tensor transformed summary values\")\n",
    "print(\"Min value: \", img_batch.min())\n",
    "print(\"Max value: \", img_batch.max())\n",
    "print(\"Channel means: \", img_batch.mean(dim=[0, 2, 3]))\n"
   ]
  },
  {
   "attachments": {},
   "cell_type": "markdown",
   "metadata": {},
   "source": [
    "## Build models"
   ]
  },
  {
   "cell_type": "code",
   "execution_count": 5,
   "metadata": {},
   "outputs": [],
   "source": [
    "import timeit\n",
    "\n",
    "model_outputs = {}\n",
    "model_times = {}\n",
    "\n",
    "\n",
    "def timer_decorator(func):\n",
    "    def wrapper(*args, **kwargs):\n",
    "        start_time = timeit.default_timer()\n",
    "        result = func(*args, **kwargs)\n",
    "        end_time = timeit.default_timer()\n",
    "        execution_time = end_time - start_time\n",
    "        print(f\"Execution time of {func.__name__}: {execution_time} seconds\")\n",
    "        return result\n",
    "\n",
    "    return wrapper\n"
   ]
  },
  {
   "attachments": {},
   "cell_type": "markdown",
   "metadata": {},
   "source": [
    "### Sci-kit Learn Logistic regression baseline"
   ]
  },
  {
   "attachments": {},
   "cell_type": "markdown",
   "metadata": {},
   "source": [
    "Load all batches and concat to single matrix.\n",
    "We concat the three colour dimensions to a single vector of `32*32*3=3072` features.\n",
    "We will use PCA as a means to control for overfitting."
   ]
  },
  {
   "cell_type": "code",
   "execution_count": 6,
   "metadata": {},
   "outputs": [],
   "source": [
    "# Torch tensors to numpy\n",
    "all_images_train, all_targets_train = next(iter(train_loader))\n",
    "all_images_test, all_targets_test = next(iter(test_loader))\n",
    "\n",
    "X_train = all_images_train.numpy().reshape(n_images, -1)\n",
    "y_train = all_targets_train.numpy()\n",
    "X_test = all_images_test.numpy().reshape(n_images, -1)\n",
    "y_test = all_targets_test.numpy()\n"
   ]
  },
  {
   "attachments": {},
   "cell_type": "markdown",
   "metadata": {},
   "source": [
    "Train our model and predict targets"
   ]
  },
  {
   "cell_type": "code",
   "execution_count": 7,
   "metadata": {},
   "outputs": [],
   "source": [
    "import sklearn.pipeline\n",
    "import sklearn.decomposition\n",
    "import sklearn.linear_model\n",
    "\n",
    "linear_model = sklearn.pipeline.make_pipeline(\n",
    "    sklearn.decomposition.PCA(n_components=20),\n",
    "    sklearn.linear_model.LogisticRegression(),\n",
    ")\n",
    "start_time = timeit.default_timer()\n",
    "linear_model.fit(X_train, y_train)\n",
    "model_times[\"sk_logistic_reg\"] = timeit.default_timer() - start_time\n",
    "\n",
    "y_train_est = linear_model.predict_proba(X_train)\n",
    "y_test_est = linear_model.predict_proba(X_test)\n",
    "\n",
    "model_outputs[\"sk_logistic_reg\"] = [y_train_est, y_test_est]\n"
   ]
  },
  {
   "attachments": {},
   "cell_type": "markdown",
   "metadata": {},
   "source": [
    "Metrics\n",
    "\n",
    "We have a class split of 50/50, so accuracy above this means we are learning."
   ]
  },
  {
   "cell_type": "code",
   "execution_count": 8,
   "metadata": {},
   "outputs": [
    {
     "data": {
      "text/html": [
       "<div>\n",
       "<style scoped>\n",
       "    .dataframe tbody tr th:only-of-type {\n",
       "        vertical-align: middle;\n",
       "    }\n",
       "\n",
       "    .dataframe tbody tr th {\n",
       "        vertical-align: top;\n",
       "    }\n",
       "\n",
       "    .dataframe thead th {\n",
       "        text-align: right;\n",
       "    }\n",
       "</style>\n",
       "<table border=\"1\" class=\"dataframe\">\n",
       "  <thead>\n",
       "    <tr style=\"text-align: right;\">\n",
       "      <th></th>\n",
       "      <th>log_loss_train</th>\n",
       "      <th>log_loss_test</th>\n",
       "      <th>accuracy_score_train</th>\n",
       "      <th>accuracy_score_test</th>\n",
       "      <th>name</th>\n",
       "    </tr>\n",
       "  </thead>\n",
       "  <tbody>\n",
       "    <tr>\n",
       "      <th>0</th>\n",
       "      <td>0.349555</td>\n",
       "      <td>0.557117</td>\n",
       "      <td>0.83</td>\n",
       "      <td>0.75</td>\n",
       "      <td>sk_logistic_reg</td>\n",
       "    </tr>\n",
       "  </tbody>\n",
       "</table>\n",
       "</div>"
      ],
      "text/plain": [
       "   log_loss_train  log_loss_test  accuracy_score_train  accuracy_score_test   \n",
       "0        0.349555       0.557117                  0.83                 0.75  \\\n",
       "\n",
       "              name  \n",
       "0  sk_logistic_reg  "
      ]
     },
     "execution_count": 8,
     "metadata": {},
     "output_type": "execute_result"
    }
   ],
   "source": [
    "import sklearn.metrics\n",
    "import pandas as pd\n",
    "\n",
    "\n",
    "def evaluate_predictions(y_train, y_train_est, y_test, y_test_est) -> dict:\n",
    "    return {\n",
    "        \"log_loss_train\": sklearn.metrics.log_loss(y_train, y_train_est),\n",
    "        \"log_loss_test\": sklearn.metrics.log_loss(y_test, y_test_est),\n",
    "        \"accuracy_score_train\": sklearn.metrics.accuracy_score(\n",
    "            y_train, y_train_est[:, 1] > y_train_est[:, 0]\n",
    "        ),\n",
    "        \"accuracy_score_test\": sklearn.metrics.accuracy_score(\n",
    "            y_test, y_test_est[:, 1] > y_test_est[:, 0]\n",
    "        ),\n",
    "    }\n",
    "\n",
    "\n",
    "def evaluate_all_models(model_outputs: dict) -> pd.DataFrame:\n",
    "    results = []\n",
    "    for name, model_output in model_outputs.items():\n",
    "        _results = evaluate_predictions(\n",
    "            y_train, model_output[0], y_test, model_output[1]\n",
    "        )\n",
    "        _results[\"name\"] = name\n",
    "        results.append(_results)\n",
    "    return pd.DataFrame(results)\n",
    "\n",
    "\n",
    "evaluate_all_models(model_outputs)\n"
   ]
  },
  {
   "attachments": {},
   "cell_type": "markdown",
   "metadata": {},
   "source": [
    "### PyTorch Lightning Logistic regression baseline"
   ]
  },
  {
   "cell_type": "code",
   "execution_count": 9,
   "metadata": {},
   "outputs": [
    {
     "name": "stderr",
     "output_type": "stream",
     "text": [
      "/Users/rich/Developer/miniconda3/envs/pytorch_env/lib/python3.10/site-packages/tqdm/auto.py:21: TqdmWarning: IProgress not found. Please update jupyter and ipywidgets. See https://ipywidgets.readthedocs.io/en/stable/user_install.html\n",
      "  from .autonotebook import tqdm as notebook_tqdm\n"
     ]
    }
   ],
   "source": [
    "import torch\n",
    "import torch.nn as nn\n",
    "import pytorch_lightning as pl\n",
    "\n",
    "\n",
    "class BaseBinaryLightningModel(pl.LightningModule):\n",
    "    def __init__(self):\n",
    "        super().__init__()\n",
    "\n",
    "        self.criterion = nn.BCEWithLogitsLoss()\n",
    "\n",
    "        # training logs\n",
    "        self.log_train = []\n",
    "        self.log_val = []\n",
    "\n",
    "    def forward(self, x):\n",
    "        return None\n",
    "\n",
    "    def training_step(self, batch, batch_idx):\n",
    "        x, y = batch\n",
    "        y_hat = self(x)\n",
    "        loss = self.criterion(y_hat, y.type(torch.float))\n",
    "        self.log(\"train_loss\", loss, prog_bar=True, on_step=True)\n",
    "        self.log_train.append(loss.detach().cpu().numpy())\n",
    "        return loss\n",
    "\n",
    "    def validation_step(self, batch, batch_idx):\n",
    "        x, y = batch\n",
    "        y_hat = self(x)\n",
    "        loss = self.criterion(y_hat, y.type(torch.float))\n",
    "        self.log(\"val_loss\", loss, prog_bar=True, on_step=True)\n",
    "        self.log_val.append(loss.cpu().numpy())\n",
    "\n",
    "        # Calculate validation accuracy\n",
    "        preds = y_hat > 0.5\n",
    "        acc = torch.sum(preds == y) / len(y)\n",
    "        self.log(\"val_acc\", acc, prog_bar=True, on_step=True)\n",
    "\n",
    "    def configure_optimizers(self):\n",
    "        return self.optimizer\n",
    "\n",
    "\n",
    "class LogisticRegressionLM(BaseBinaryLightningModel):\n",
    "    def __init__(\n",
    "        self, num_classes=1, input_features=3072, learning_rate=0.01, output_bias=None\n",
    "    ):\n",
    "        super().__init__()\n",
    "\n",
    "        self.classifier = nn.Linear(input_features, num_classes)\n",
    "\n",
    "        if output_bias is not None:\n",
    "            self.classifier.bias.data.fill_(output_bias)\n",
    "\n",
    "        # Define optimizer\n",
    "        self.learning_rate = learning_rate\n",
    "        self.optimizer = torch.optim.Adam(self.parameters(), lr=learning_rate)\n",
    "\n",
    "    def forward(self, x):\n",
    "        x = x.view(x.size(0), -1)\n",
    "        x = self.classifier(x)\n",
    "        return x.flatten()\n"
   ]
  },
  {
   "attachments": {},
   "cell_type": "markdown",
   "metadata": {},
   "source": [
    "Pre bias the output layer to the target mean."
   ]
  },
  {
   "cell_type": "code",
   "execution_count": 10,
   "metadata": {},
   "outputs": [
    {
     "data": {
      "text/plain": [
       "tensor([-1.3755,  1.3088,  0.4996, -0.3092], grad_fn=<ReshapeAliasBackward0>)"
      ]
     },
     "execution_count": 10,
     "metadata": {},
     "output_type": "execute_result"
    }
   ],
   "source": [
    "output_bias = torch.special.logit(labels_batch.type(torch.float).mean())\n",
    "model_lightning = LogisticRegressionLM(learning_rate=1e-4, output_bias=output_bias)\n",
    "outputs = model_lightning(img_batch[:4])\n",
    "outputs\n"
   ]
  },
  {
   "attachments": {},
   "cell_type": "markdown",
   "metadata": {},
   "source": [
    "Train model\n",
    "\n",
    "Split training loader to get a validation set."
   ]
  },
  {
   "cell_type": "code",
   "execution_count": 11,
   "metadata": {},
   "outputs": [
    {
     "name": "stderr",
     "output_type": "stream",
     "text": [
      "GPU available: True (mps), used: False\n",
      "TPU available: False, using: 0 TPU cores\n",
      "IPU available: False, using: 0 IPUs\n",
      "HPU available: False, using: 0 HPUs\n",
      "/Users/rich/Developer/miniconda3/envs/pytorch_env/lib/python3.10/site-packages/pytorch_lightning/trainer/setup.py:201: UserWarning: MPS available but not used. Set `accelerator` and `devices` using `Trainer(accelerator='mps', devices=1)`.\n",
      "  rank_zero_warn(\n",
      "\n",
      "  | Name       | Type              | Params\n",
      "-------------------------------------------------\n",
      "0 | criterion  | BCEWithLogitsLoss | 0     \n",
      "1 | classifier | Linear            | 3.1 K \n",
      "-------------------------------------------------\n",
      "3.1 K     Trainable params\n",
      "0         Non-trainable params\n",
      "3.1 K     Total params\n",
      "0.012     Total estimated model params size (MB)\n"
     ]
    },
    {
     "name": "stdout",
     "output_type": "stream",
     "text": [
      "                                                                            "
     ]
    },
    {
     "name": "stderr",
     "output_type": "stream",
     "text": [
      "/Users/rich/Developer/miniconda3/envs/pytorch_env/lib/python3.10/site-packages/pytorch_lightning/trainer/connectors/data_connector.py:430: PossibleUserWarning: The dataloader, val_dataloader, does not have many workers which may be a bottleneck. Consider increasing the value of the `num_workers` argument` (try 8 which is the number of cpus on this machine) in the `DataLoader` init to improve performance.\n",
      "  rank_zero_warn(\n",
      "/Users/rich/Developer/miniconda3/envs/pytorch_env/lib/python3.10/site-packages/pytorch_lightning/trainer/connectors/data_connector.py:430: PossibleUserWarning: The dataloader, train_dataloader, does not have many workers which may be a bottleneck. Consider increasing the value of the `num_workers` argument` (try 8 which is the number of cpus on this machine) in the `DataLoader` init to improve performance.\n",
      "  rank_zero_warn(\n",
      "/Users/rich/Developer/miniconda3/envs/pytorch_env/lib/python3.10/site-packages/pytorch_lightning/loops/fit_loop.py:280: PossibleUserWarning: The number of training batches (1) is smaller than the logging interval Trainer(log_every_n_steps=50). Set a lower value for log_every_n_steps if you want to see logs for the training epoch.\n",
      "  rank_zero_warn(\n"
     ]
    },
    {
     "name": "stdout",
     "output_type": "stream",
     "text": [
      "Epoch 99: 100%|██████████| 1/1 [00:00<00:00, 40.30it/s, v_num=229, train_loss=0.247, val_loss_step=0.436, val_acc_step=0.750, val_loss_epoch=0.436, val_acc_epoch=0.750] "
     ]
    },
    {
     "name": "stderr",
     "output_type": "stream",
     "text": [
      "`Trainer.fit` stopped: `max_epochs=100` reached.\n"
     ]
    },
    {
     "name": "stdout",
     "output_type": "stream",
     "text": [
      "Epoch 99: 100%|██████████| 1/1 [00:00<00:00, 36.72it/s, v_num=229, train_loss=0.247, val_loss_step=0.436, val_acc_step=0.750, val_loss_epoch=0.436, val_acc_epoch=0.750]\n"
     ]
    }
   ],
   "source": [
    "def train_torch_model(\n",
    "    model,\n",
    "    epochs: int = 100,\n",
    "    train_loader=train_loader,\n",
    "    test_loader=test_loader,\n",
    "    accelerator=\"gpu\",\n",
    "):\n",
    "    trainer = pl.Trainer(\n",
    "        max_epochs=epochs, enable_progress_bar=True, accelerator=accelerator\n",
    "    )\n",
    "    trainer.fit(model, train_loader, test_loader)\n",
    "    return trainer\n",
    "\n",
    "\n",
    "start_time = timeit.default_timer()\n",
    "train_torch_model(model_lightning, accelerator=\"cpu\")\n",
    "model_times[\"logistic_reg\"] = timeit.default_timer() - start_time\n"
   ]
  },
  {
   "attachments": {},
   "cell_type": "markdown",
   "metadata": {},
   "source": [
    "Check our training logs"
   ]
  },
  {
   "cell_type": "code",
   "execution_count": 12,
   "metadata": {},
   "outputs": [
    {
     "name": "stderr",
     "output_type": "stream",
     "text": [
      "/var/folders/ky/4qby95090jbbq38_mh94x72r0000gn/T/ipykernel_3799/1595659695.py:7: UserWarning: Matplotlib is currently using module://matplotlib_inline.backend_inline, which is a non-GUI backend, so cannot show the figure.\n",
      "  fig.show()\n"
     ]
    },
    {
     "data": {
      "image/png": "[encoded data removed]",
      "text/plain": [
       "<Figure size 800x600 with 1 Axes>"
      ]
     },
     "metadata": {},
     "output_type": "display_data"
    }
   ],
   "source": [
    "def plot_training_logs(model):\n",
    "    fig, ax = plt.subplots(figsize=(8, 6))\n",
    "    ax.plot(np.array(model.log_train), label=\"train_LL\")\n",
    "    ax.plot(np.array(model.log_val), label=\"test_LL\")\n",
    "    ax.set(xlabel=\"Step\", ylabel=\"Logloss\")\n",
    "    ax.legend()\n",
    "    fig.show()\n",
    "\n",
    "\n",
    "plot_training_logs(model_lightning)\n"
   ]
  },
  {
   "attachments": {},
   "cell_type": "markdown",
   "metadata": {},
   "source": [
    "Evaluate train and test data loaders"
   ]
  },
  {
   "cell_type": "code",
   "execution_count": 13,
   "metadata": {},
   "outputs": [],
   "source": [
    "def predict_data_loader(model, data_loader):\n",
    "    model.eval()\n",
    "\n",
    "    y_est = []\n",
    "    y_true = []\n",
    "    with torch.no_grad():\n",
    "        for img_batch, label_batch in data_loader:\n",
    "            output = model(img_batch)\n",
    "            probs = torch.nn.functional.sigmoid(output)\n",
    "\n",
    "            y_est.append(probs)\n",
    "            y_true.append(label_batch)\n",
    "\n",
    "    y_est = torch.cat(y_est)\n",
    "    y_true = torch.cat(y_true)\n",
    "\n",
    "    return y_est, y_true\n",
    "\n",
    "\n",
    "def tensor_to_sklearn_pred(pred):\n",
    "    return np.stack([1 - pred, pred]).transpose()\n",
    "\n",
    "\n",
    "y_train_est, y_true_train = predict_data_loader(model_lightning, train_loader)\n",
    "y_test_est, y_true_test = predict_data_loader(model_lightning, test_loader)\n",
    "model_outputs[\"logistic_reg\"] = [\n",
    "    tensor_to_sklearn_pred(y_train_est),\n",
    "    tensor_to_sklearn_pred(y_test_est),\n",
    "]\n"
   ]
  },
  {
   "attachments": {},
   "cell_type": "markdown",
   "metadata": {},
   "source": [
    "### Multi-layer perceptron"
   ]
  },
  {
   "cell_type": "code",
   "execution_count": 14,
   "metadata": {},
   "outputs": [
    {
     "name": "stderr",
     "output_type": "stream",
     "text": [
      "GPU available: True (mps), used: True\n",
      "TPU available: False, using: 0 TPU cores\n",
      "IPU available: False, using: 0 IPUs\n",
      "HPU available: False, using: 0 HPUs\n",
      "\n",
      "  | Name       | Type              | Params\n",
      "-------------------------------------------------\n",
      "0 | criterion  | BCEWithLogitsLoss | 0     \n",
      "1 | features   | Sequential        | 819 K \n",
      "2 | classifier | Linear            | 129   \n",
      "-------------------------------------------------\n",
      "819 K     Trainable params\n",
      "0         Non-trainable params\n",
      "819 K     Total params\n",
      "3.279     Total estimated model params size (MB)\n"
     ]
    },
    {
     "name": "stdout",
     "output_type": "stream",
     "text": [
      "Epoch 99: 100%|██████████| 1/1 [00:00<00:00, 26.67it/s, v_num=230, train_loss=0.00692, val_loss_step=0.513, val_acc_step=0.790, val_loss_epoch=0.513, val_acc_epoch=0.790]"
     ]
    },
    {
     "name": "stderr",
     "output_type": "stream",
     "text": [
      "`Trainer.fit` stopped: `max_epochs=100` reached.\n"
     ]
    },
    {
     "name": "stdout",
     "output_type": "stream",
     "text": [
      "Epoch 99: 100%|██████████| 1/1 [00:00<00:00, 19.67it/s, v_num=230, train_loss=0.00692, val_loss_step=0.513, val_acc_step=0.790, val_loss_epoch=0.513, val_acc_epoch=0.790]\n"
     ]
    },
    {
     "name": "stderr",
     "output_type": "stream",
     "text": [
      "/var/folders/ky/4qby95090jbbq38_mh94x72r0000gn/T/ipykernel_3799/1595659695.py:7: UserWarning: Matplotlib is currently using module://matplotlib_inline.backend_inline, which is a non-GUI backend, so cannot show the figure.\n",
      "  fig.show()\n"
     ]
    },
    {
     "data": {
      "text/html": [
       "<div>\n",
       "<style scoped>\n",
       "    .dataframe tbody tr th:only-of-type {\n",
       "        vertical-align: middle;\n",
       "    }\n",
       "\n",
       "    .dataframe tbody tr th {\n",
       "        vertical-align: top;\n",
       "    }\n",
       "\n",
       "    .dataframe thead th {\n",
       "        text-align: right;\n",
       "    }\n",
       "</style>\n",
       "<table border=\"1\" class=\"dataframe\">\n",
       "  <thead>\n",
       "    <tr style=\"text-align: right;\">\n",
       "      <th></th>\n",
       "      <th>log_loss_train</th>\n",
       "      <th>log_loss_test</th>\n",
       "      <th>accuracy_score_train</th>\n",
       "      <th>accuracy_score_test</th>\n",
       "      <th>name</th>\n",
       "    </tr>\n",
       "  </thead>\n",
       "  <tbody>\n",
       "    <tr>\n",
       "      <th>0</th>\n",
       "      <td>0.349555</td>\n",
       "      <td>0.557117</td>\n",
       "      <td>0.83</td>\n",
       "      <td>0.75</td>\n",
       "      <td>sk_logistic_reg</td>\n",
       "    </tr>\n",
       "    <tr>\n",
       "      <th>1</th>\n",
       "      <td>0.245786</td>\n",
       "      <td>0.435934</td>\n",
       "      <td>0.95</td>\n",
       "      <td>0.79</td>\n",
       "      <td>logistic_reg</td>\n",
       "    </tr>\n",
       "    <tr>\n",
       "      <th>2</th>\n",
       "      <td>0.006728</td>\n",
       "      <td>0.512689</td>\n",
       "      <td>1.00</td>\n",
       "      <td>0.79</td>\n",
       "      <td>mlp</td>\n",
       "    </tr>\n",
       "  </tbody>\n",
       "</table>\n",
       "</div>"
      ],
      "text/plain": [
       "   log_loss_train  log_loss_test  accuracy_score_train  accuracy_score_test   \n",
       "0        0.349555       0.557117                  0.83                 0.75  \\\n",
       "1        0.245786       0.435934                  0.95                 0.79   \n",
       "2        0.006728       0.512689                  1.00                 0.79   \n",
       "\n",
       "              name  \n",
       "0  sk_logistic_reg  \n",
       "1     logistic_reg  \n",
       "2              mlp  "
      ]
     },
     "execution_count": 14,
     "metadata": {},
     "output_type": "execute_result"
    },
    {
     "data": {
      "image/png": "[encoded data removed]",
      "text/plain": [
       "<Figure size 800x600 with 1 Axes>"
      ]
     },
     "metadata": {},
     "output_type": "display_data"
    }
   ],
   "source": [
    "class MultiLayerPerceptron(BaseBinaryLightningModel):\n",
    "    def __init__(\n",
    "        self, num_classes=1, input_features=3072, learning_rate=0.01, output_bias=None\n",
    "    ):\n",
    "        super().__init__()\n",
    "\n",
    "        self.features = nn.Sequential(\n",
    "            nn.Linear(input_features, 256), nn.ReLU(), nn.Linear(256, 128), nn.ReLU()\n",
    "        )\n",
    "        self.classifier = nn.Linear(128, num_classes)\n",
    "\n",
    "        if output_bias is not None:\n",
    "            self.classifier.bias.data = output_bias\n",
    "\n",
    "        # Define optimizer\n",
    "        self.learning_rate = learning_rate\n",
    "        self.optimizer = torch.optim.Adam(self.parameters(), lr=learning_rate)\n",
    "\n",
    "    def forward(self, x):\n",
    "        x = x.view(x.size(0), -1)\n",
    "        x = self.features(x)\n",
    "        x = self.classifier(x)\n",
    "        return x.flatten()\n",
    "\n",
    "\n",
    "output_bias = torch.special.logit(labels_batch.type(torch.float).mean())\n",
    "model_lightning = MultiLayerPerceptron(learning_rate=1e-4, output_bias=output_bias)\n",
    "start_time = timeit.default_timer()\n",
    "train_torch_model(model_lightning)\n",
    "model_times[\"mlp\"] = timeit.default_timer() - start_time\n",
    "\n",
    "plot_training_logs(model_lightning)\n",
    "\n",
    "y_train_est, y_true_train = predict_data_loader(model_lightning, train_loader)\n",
    "y_test_est, y_true_test = predict_data_loader(model_lightning, test_loader)\n",
    "model_outputs[\"mlp\"] = [\n",
    "    tensor_to_sklearn_pred(y_train_est),\n",
    "    tensor_to_sklearn_pred(y_test_est),\n",
    "]\n",
    "evaluate_all_models(model_outputs)\n"
   ]
  },
  {
   "attachments": {},
   "cell_type": "markdown",
   "metadata": {},
   "source": [
    "### Convolution model"
   ]
  },
  {
   "cell_type": "code",
   "execution_count": 15,
   "metadata": {},
   "outputs": [
    {
     "name": "stderr",
     "output_type": "stream",
     "text": [
      "GPU available: True (mps), used: True\n",
      "TPU available: False, using: 0 TPU cores\n",
      "IPU available: False, using: 0 IPUs\n",
      "HPU available: False, using: 0 HPUs\n",
      "\n",
      "  | Name       | Type              | Params\n",
      "-------------------------------------------------\n",
      "0 | criterion  | BCEWithLogitsLoss | 0     \n",
      "1 | features   | Sequential        | 15.8 K\n",
      "2 | classifier | Linear            | 17    \n",
      "-------------------------------------------------\n",
      "15.8 K    Trainable params\n",
      "0         Non-trainable params\n",
      "15.8 K    Total params\n",
      "0.063     Total estimated model params size (MB)\n"
     ]
    },
    {
     "name": "stdout",
     "output_type": "stream",
     "text": [
      "Sanity Checking DataLoader 0:   0%|          | 0/1 [00:00<?, ?it/s]"
     ]
    },
    {
     "name": "stderr",
     "output_type": "stream",
     "text": [
      "/Users/rich/Developer/miniconda3/envs/pytorch_env/lib/python3.10/site-packages/pytorch_lightning/trainer/connectors/data_connector.py:430: PossibleUserWarning: The dataloader, val_dataloader, does not have many workers which may be a bottleneck. Consider increasing the value of the `num_workers` argument` (try 8 which is the number of cpus on this machine) in the `DataLoader` init to improve performance.\n",
      "  rank_zero_warn(\n"
     ]
    },
    {
     "name": "stdout",
     "output_type": "stream",
     "text": [
      "                                                                           "
     ]
    },
    {
     "name": "stderr",
     "output_type": "stream",
     "text": [
      "/Users/rich/Developer/miniconda3/envs/pytorch_env/lib/python3.10/site-packages/pytorch_lightning/trainer/connectors/data_connector.py:430: PossibleUserWarning: The dataloader, train_dataloader, does not have many workers which may be a bottleneck. Consider increasing the value of the `num_workers` argument` (try 8 which is the number of cpus on this machine) in the `DataLoader` init to improve performance.\n",
      "  rank_zero_warn(\n",
      "/Users/rich/Developer/miniconda3/envs/pytorch_env/lib/python3.10/site-packages/pytorch_lightning/loops/fit_loop.py:280: PossibleUserWarning: The number of training batches (1) is smaller than the logging interval Trainer(log_every_n_steps=50). Set a lower value for log_every_n_steps if you want to see logs for the training epoch.\n",
      "  rank_zero_warn(\n"
     ]
    },
    {
     "name": "stdout",
     "output_type": "stream",
     "text": [
      "Epoch 99: 100%|██████████| 1/1 [00:00<00:00, 27.70it/s, v_num=231, train_loss=0.0015, val_loss_step=0.890, val_acc_step=0.790, val_loss_epoch=0.890, val_acc_epoch=0.790] "
     ]
    },
    {
     "name": "stderr",
     "output_type": "stream",
     "text": [
      "`Trainer.fit` stopped: `max_epochs=100` reached.\n"
     ]
    },
    {
     "name": "stdout",
     "output_type": "stream",
     "text": [
      "Epoch 99: 100%|██████████| 1/1 [00:00<00:00, 23.27it/s, v_num=231, train_loss=0.0015, val_loss_step=0.890, val_acc_step=0.790, val_loss_epoch=0.890, val_acc_epoch=0.790]\n"
     ]
    },
    {
     "name": "stderr",
     "output_type": "stream",
     "text": [
      "/var/folders/ky/4qby95090jbbq38_mh94x72r0000gn/T/ipykernel_3799/1595659695.py:7: UserWarning: Matplotlib is currently using module://matplotlib_inline.backend_inline, which is a non-GUI backend, so cannot show the figure.\n",
      "  fig.show()\n"
     ]
    },
    {
     "data": {
      "text/html": [
       "<div>\n",
       "<style scoped>\n",
       "    .dataframe tbody tr th:only-of-type {\n",
       "        vertical-align: middle;\n",
       "    }\n",
       "\n",
       "    .dataframe tbody tr th {\n",
       "        vertical-align: top;\n",
       "    }\n",
       "\n",
       "    .dataframe thead th {\n",
       "        text-align: right;\n",
       "    }\n",
       "</style>\n",
       "<table border=\"1\" class=\"dataframe\">\n",
       "  <thead>\n",
       "    <tr style=\"text-align: right;\">\n",
       "      <th></th>\n",
       "      <th>log_loss_train</th>\n",
       "      <th>log_loss_test</th>\n",
       "      <th>accuracy_score_train</th>\n",
       "      <th>accuracy_score_test</th>\n",
       "      <th>name</th>\n",
       "    </tr>\n",
       "  </thead>\n",
       "  <tbody>\n",
       "    <tr>\n",
       "      <th>0</th>\n",
       "      <td>0.349555</td>\n",
       "      <td>0.557117</td>\n",
       "      <td>0.83</td>\n",
       "      <td>0.75</td>\n",
       "      <td>sk_logistic_reg</td>\n",
       "    </tr>\n",
       "    <tr>\n",
       "      <th>1</th>\n",
       "      <td>0.245786</td>\n",
       "      <td>0.435934</td>\n",
       "      <td>0.95</td>\n",
       "      <td>0.79</td>\n",
       "      <td>logistic_reg</td>\n",
       "    </tr>\n",
       "    <tr>\n",
       "      <th>2</th>\n",
       "      <td>0.006728</td>\n",
       "      <td>0.512689</td>\n",
       "      <td>1.00</td>\n",
       "      <td>0.79</td>\n",
       "      <td>mlp</td>\n",
       "    </tr>\n",
       "    <tr>\n",
       "      <th>3</th>\n",
       "      <td>0.001456</td>\n",
       "      <td>0.889774</td>\n",
       "      <td>1.00</td>\n",
       "      <td>0.79</td>\n",
       "      <td>cnn</td>\n",
       "    </tr>\n",
       "  </tbody>\n",
       "</table>\n",
       "</div>"
      ],
      "text/plain": [
       "   log_loss_train  log_loss_test  accuracy_score_train  accuracy_score_test   \n",
       "0        0.349555       0.557117                  0.83                 0.75  \\\n",
       "1        0.245786       0.435934                  0.95                 0.79   \n",
       "2        0.006728       0.512689                  1.00                 0.79   \n",
       "3        0.001456       0.889774                  1.00                 0.79   \n",
       "\n",
       "              name  \n",
       "0  sk_logistic_reg  \n",
       "1     logistic_reg  \n",
       "2              mlp  \n",
       "3              cnn  "
      ]
     },
     "execution_count": 15,
     "metadata": {},
     "output_type": "execute_result"
    },
    {
     "data": {
      "image/png": "[encoded data removed]",
      "text/plain": [
       "<Figure size 800x600 with 1 Axes>"
      ]
     },
     "metadata": {},
     "output_type": "display_data"
    }
   ],
   "source": [
    "class SimpleCNN(BaseBinaryLightningModel):\n",
    "    def __init__(self, num_classes=1, learning_rate=0.01):\n",
    "        super().__init__()\n",
    "\n",
    "        self.features = nn.Sequential(\n",
    "            nn.Conv2d(\n",
    "                in_channels=3, out_channels=8, kernel_size=5, padding=2, stride=2\n",
    "            ),  # batch, 8, 16, 16\n",
    "            nn.ReLU(),\n",
    "            nn.Conv2d(\n",
    "                in_channels=8, out_channels=32, kernel_size=3, padding=2, stride=4\n",
    "            ),  # batch, 32, 5, 5\n",
    "            nn.ReLU(),\n",
    "            nn.Flatten(),  # batch, 800\n",
    "            nn.Linear(32 * 5 * 5, 16),\n",
    "        )\n",
    "        self.classifier = nn.Linear(16, num_classes)\n",
    "\n",
    "        # Define optimizer\n",
    "        self.learning_rate = learning_rate\n",
    "        self.optimizer = torch.optim.Adam(self.parameters(), lr=learning_rate)\n",
    "\n",
    "    def forward(self, x):\n",
    "        x = self.features(x)\n",
    "        x = self.classifier(x)\n",
    "        return x.flatten()\n",
    "\n",
    "\n",
    "model_lightning = SimpleCNN(learning_rate=1e-3)\n",
    "start_time = timeit.default_timer()\n",
    "train_torch_model(model_lightning, accelerator=\"gpu\")\n",
    "model_times[\"cnn\"] = timeit.default_timer() - start_time\n",
    "\n",
    "plot_training_logs(model_lightning)\n",
    "\n",
    "y_train_est, y_true_train = predict_data_loader(model_lightning, train_loader)\n",
    "y_test_est, y_true_test = predict_data_loader(model_lightning, test_loader)\n",
    "model_outputs[\"cnn\"] = [\n",
    "    tensor_to_sklearn_pred(y_train_est),\n",
    "    tensor_to_sklearn_pred(y_test_est),\n",
    "]\n",
    "\n",
    "evaluate_all_models(model_outputs)\n"
   ]
  },
  {
   "attachments": {},
   "cell_type": "markdown",
   "metadata": {},
   "source": [
    "## Build imagenet classifiers\n",
    "Imagenet is a commonly used dataset of about 1 million images and labels of about 1000 classes.\n",
    "\n",
    "\n",
    "We're using an EfficientNet-B0 as it has similar performance to other models such as ResNet-50 and InceptionV3 but about 20% of the parameters.\n",
    "\n",
    "We need to change the final layer from the original 1000 classes to a binary classification task.\n",
    "The final layer takes in 1280 features and outputs log probs for 1000 classes.\n",
    "\n",
    "We only want to retrain the final few layers so we freeze the early layers."
   ]
  },
  {
   "cell_type": "code",
   "execution_count": 16,
   "metadata": {},
   "outputs": [
    {
     "name": "stderr",
     "output_type": "stream",
     "text": [
      "GPU available: True (mps), used: True\n",
      "TPU available: False, using: 0 TPU cores\n",
      "IPU available: False, using: 0 IPUs\n",
      "HPU available: False, using: 0 HPUs\n",
      "\n",
      "  | Name       | Type              | Params\n",
      "-------------------------------------------------\n",
      "0 | criterion  | BCEWithLogitsLoss | 0     \n",
      "1 | features   | Sequential        | 4.0 M \n",
      "2 | classifier | Linear            | 1.3 K \n",
      "-------------------------------------------------\n",
      "1.3 K     Trainable params\n",
      "4.0 M     Non-trainable params\n",
      "4.0 M     Total params\n",
      "16.035    Total estimated model params size (MB)\n"
     ]
    },
    {
     "name": "stdout",
     "output_type": "stream",
     "text": [
      "Sanity Checking DataLoader 0:   0%|          | 0/1 [00:00<?, ?it/s]"
     ]
    },
    {
     "name": "stderr",
     "output_type": "stream",
     "text": [
      "/Users/rich/Developer/miniconda3/envs/pytorch_env/lib/python3.10/site-packages/pytorch_lightning/trainer/connectors/data_connector.py:430: PossibleUserWarning: The dataloader, val_dataloader, does not have many workers which may be a bottleneck. Consider increasing the value of the `num_workers` argument` (try 8 which is the number of cpus on this machine) in the `DataLoader` init to improve performance.\n",
      "  rank_zero_warn(\n"
     ]
    },
    {
     "name": "stdout",
     "output_type": "stream",
     "text": [
      "                                                                           "
     ]
    },
    {
     "name": "stderr",
     "output_type": "stream",
     "text": [
      "/Users/rich/Developer/miniconda3/envs/pytorch_env/lib/python3.10/site-packages/pytorch_lightning/trainer/connectors/data_connector.py:430: PossibleUserWarning: The dataloader, train_dataloader, does not have many workers which may be a bottleneck. Consider increasing the value of the `num_workers` argument` (try 8 which is the number of cpus on this machine) in the `DataLoader` init to improve performance.\n",
      "  rank_zero_warn(\n",
      "/Users/rich/Developer/miniconda3/envs/pytorch_env/lib/python3.10/site-packages/pytorch_lightning/loops/fit_loop.py:280: PossibleUserWarning: The number of training batches (1) is smaller than the logging interval Trainer(log_every_n_steps=50). Set a lower value for log_every_n_steps if you want to see logs for the training epoch.\n",
      "  rank_zero_warn(\n"
     ]
    },
    {
     "name": "stdout",
     "output_type": "stream",
     "text": [
      "Epoch 49: 100%|██████████| 1/1 [00:00<00:00,  9.98it/s, v_num=232, train_loss=0.202, val_loss_step=0.641, val_acc_step=0.680, val_loss_epoch=0.641, val_acc_epoch=0.680]"
     ]
    },
    {
     "name": "stderr",
     "output_type": "stream",
     "text": [
      "`Trainer.fit` stopped: `max_epochs=50` reached.\n"
     ]
    },
    {
     "name": "stdout",
     "output_type": "stream",
     "text": [
      "Epoch 49: 100%|██████████| 1/1 [00:00<00:00,  5.36it/s, v_num=232, train_loss=0.202, val_loss_step=0.641, val_acc_step=0.680, val_loss_epoch=0.641, val_acc_epoch=0.680]\n"
     ]
    },
    {
     "name": "stderr",
     "output_type": "stream",
     "text": [
      "/var/folders/ky/4qby95090jbbq38_mh94x72r0000gn/T/ipykernel_3799/1595659695.py:7: UserWarning: Matplotlib is currently using module://matplotlib_inline.backend_inline, which is a non-GUI backend, so cannot show the figure.\n",
      "  fig.show()\n"
     ]
    },
    {
     "data": {
      "text/html": [
       "<div>\n",
       "<style scoped>\n",
       "    .dataframe tbody tr th:only-of-type {\n",
       "        vertical-align: middle;\n",
       "    }\n",
       "\n",
       "    .dataframe tbody tr th {\n",
       "        vertical-align: top;\n",
       "    }\n",
       "\n",
       "    .dataframe thead th {\n",
       "        text-align: right;\n",
       "    }\n",
       "</style>\n",
       "<table border=\"1\" class=\"dataframe\">\n",
       "  <thead>\n",
       "    <tr style=\"text-align: right;\">\n",
       "      <th></th>\n",
       "      <th>log_loss_train</th>\n",
       "      <th>log_loss_test</th>\n",
       "      <th>accuracy_score_train</th>\n",
       "      <th>accuracy_score_test</th>\n",
       "      <th>name</th>\n",
       "    </tr>\n",
       "  </thead>\n",
       "  <tbody>\n",
       "    <tr>\n",
       "      <th>0</th>\n",
       "      <td>0.349555</td>\n",
       "      <td>0.557117</td>\n",
       "      <td>0.83</td>\n",
       "      <td>0.75</td>\n",
       "      <td>sk_logistic_reg</td>\n",
       "    </tr>\n",
       "    <tr>\n",
       "      <th>1</th>\n",
       "      <td>0.245786</td>\n",
       "      <td>0.435934</td>\n",
       "      <td>0.95</td>\n",
       "      <td>0.79</td>\n",
       "      <td>logistic_reg</td>\n",
       "    </tr>\n",
       "    <tr>\n",
       "      <th>2</th>\n",
       "      <td>0.006728</td>\n",
       "      <td>0.512689</td>\n",
       "      <td>1.00</td>\n",
       "      <td>0.79</td>\n",
       "      <td>mlp</td>\n",
       "    </tr>\n",
       "    <tr>\n",
       "      <th>3</th>\n",
       "      <td>0.001456</td>\n",
       "      <td>0.889774</td>\n",
       "      <td>1.00</td>\n",
       "      <td>0.79</td>\n",
       "      <td>cnn</td>\n",
       "    </tr>\n",
       "    <tr>\n",
       "      <th>4</th>\n",
       "      <td>0.149582</td>\n",
       "      <td>0.641115</td>\n",
       "      <td>0.99</td>\n",
       "      <td>0.68</td>\n",
       "      <td>efficient_net_classifier</td>\n",
       "    </tr>\n",
       "  </tbody>\n",
       "</table>\n",
       "</div>"
      ],
      "text/plain": [
       "   log_loss_train  log_loss_test  accuracy_score_train  accuracy_score_test   \n",
       "0        0.349555       0.557117                  0.83                 0.75  \\\n",
       "1        0.245786       0.435934                  0.95                 0.79   \n",
       "2        0.006728       0.512689                  1.00                 0.79   \n",
       "3        0.001456       0.889774                  1.00                 0.79   \n",
       "4        0.149582       0.641115                  0.99                 0.68   \n",
       "\n",
       "                       name  \n",
       "0           sk_logistic_reg  \n",
       "1              logistic_reg  \n",
       "2                       mlp  \n",
       "3                       cnn  \n",
       "4  efficient_net_classifier  "
      ]
     },
     "execution_count": 16,
     "metadata": {},
     "output_type": "execute_result"
    },
    {
     "data": {
      "image/png": "[encoded data removed]",
      "text/plain": [
       "<Figure size 800x600 with 1 Axes>"
      ]
     },
     "metadata": {},
     "output_type": "display_data"
    }
   ],
   "source": [
    "import torchvision.models as models\n",
    "\n",
    "\n",
    "class EfficientNet(BaseBinaryLightningModel):\n",
    "    def __init__(\n",
    "        self,\n",
    "        num_classes=1,\n",
    "        learning_rate=0.01,\n",
    "        freeze_all_layers=True,\n",
    "        unfreeze_layers: int = None,\n",
    "    ):\n",
    "        super().__init__()\n",
    "\n",
    "        # Load pre-trained EfficientNet model\n",
    "        backbone = models.efficientnet_b0(\n",
    "            weights=models.EfficientNet_B0_Weights.IMAGENET1K_V1\n",
    "        )\n",
    "\n",
    "        # recreate as pytorch module\n",
    "        self.features = nn.Sequential(*list(backbone.children())[:-1])\n",
    "\n",
    "        # Replace last fully-connected layer\n",
    "        # get number of input features for new layer\n",
    "        in_features = list(backbone.children())[-1][1].in_features\n",
    "        # replace last fully-connected layer\n",
    "        self.classifier = nn.Linear(in_features, num_classes)\n",
    "\n",
    "        if freeze_all_layers:\n",
    "            # Freeze all layers\n",
    "            for param in self.features.parameters():\n",
    "                param.requires_grad = False\n",
    "\n",
    "            # Unfreeze last few layers\n",
    "            if unfreeze_layers is not None:\n",
    "                for param in self.features[0][-unfreeze_layers:].parameters():\n",
    "                    param.requires_grad = True\n",
    "\n",
    "        # Define optimizer\n",
    "        self.learning_rate = learning_rate\n",
    "        self.optimizer = torch.optim.Adam(self.parameters(), lr=learning_rate)\n",
    "\n",
    "    def forward(self, x):\n",
    "        x = self.features(x)\n",
    "        x = x.view(x.size(0), -1)\n",
    "        x = self.classifier(x)\n",
    "        return x.flatten()\n",
    "\n",
    "\n",
    "model_lightning = EfficientNet(\n",
    "    learning_rate=1e-3, freeze_all_layers=True, unfreeze_layers=None\n",
    ")\n",
    "\n",
    "start_time = timeit.default_timer()\n",
    "train_torch_model(model_lightning, epochs=50)\n",
    "model_times[\"efficient_net_classifier\"] = timeit.default_timer() - start_time\n"
   ]
  },
  {
   "cell_type": "code",
   "execution_count": null,
   "metadata": {},
   "outputs": [],
   "source": [
    "\n",
    "plot_training_logs(model_lightning)\n",
    "\n",
    "y_train_est, y_true_train = predict_data_loader(model_lightning, train_loader)\n",
    "y_test_est, y_true_test = predict_data_loader(model_lightning, test_loader)\n",
    "model_outputs[\"efficient_net_classifier\"] = [\n",
    "    tensor_to_sklearn_pred(y_train_est),\n",
    "    tensor_to_sklearn_pred(y_test_est),\n",
    "]\n",
    "\n",
    "evaluate_all_models(model_outputs)\n"
   ]
  },
  {
   "attachments": {},
   "cell_type": "markdown",
   "metadata": {},
   "source": [
    "### Train last features layer only\n"
   ]
  },
  {
   "cell_type": "code",
   "execution_count": 17,
   "metadata": {},
   "outputs": [
    {
     "name": "stderr",
     "output_type": "stream",
     "text": [
      "GPU available: True (mps), used: True\n",
      "TPU available: False, using: 0 TPU cores\n",
      "IPU available: False, using: 0 IPUs\n",
      "HPU available: False, using: 0 HPUs\n",
      "\n",
      "  | Name       | Type              | Params\n",
      "-------------------------------------------------\n",
      "0 | criterion  | BCEWithLogitsLoss | 0     \n",
      "1 | features   | Sequential        | 4.0 M \n",
      "2 | classifier | Linear            | 1.3 K \n",
      "-------------------------------------------------\n",
      "413 K     Trainable params\n",
      "3.6 M     Non-trainable params\n",
      "4.0 M     Total params\n",
      "16.035    Total estimated model params size (MB)\n"
     ]
    },
    {
     "name": "stdout",
     "output_type": "stream",
     "text": [
      "                                                                           "
     ]
    },
    {
     "name": "stderr",
     "output_type": "stream",
     "text": [
      "/Users/rich/Developer/miniconda3/envs/pytorch_env/lib/python3.10/site-packages/pytorch_lightning/trainer/connectors/data_connector.py:430: PossibleUserWarning: The dataloader, val_dataloader, does not have many workers which may be a bottleneck. Consider increasing the value of the `num_workers` argument` (try 8 which is the number of cpus on this machine) in the `DataLoader` init to improve performance.\n",
      "  rank_zero_warn(\n",
      "/Users/rich/Developer/miniconda3/envs/pytorch_env/lib/python3.10/site-packages/pytorch_lightning/trainer/connectors/data_connector.py:430: PossibleUserWarning: The dataloader, train_dataloader, does not have many workers which may be a bottleneck. Consider increasing the value of the `num_workers` argument` (try 8 which is the number of cpus on this machine) in the `DataLoader` init to improve performance.\n",
      "  rank_zero_warn(\n",
      "/Users/rich/Developer/miniconda3/envs/pytorch_env/lib/python3.10/site-packages/pytorch_lightning/loops/fit_loop.py:280: PossibleUserWarning: The number of training batches (1) is smaller than the logging interval Trainer(log_every_n_steps=50). Set a lower value for log_every_n_steps if you want to see logs for the training epoch.\n",
      "  rank_zero_warn(\n"
     ]
    },
    {
     "name": "stdout",
     "output_type": "stream",
     "text": [
      "Epoch 29: 100%|██████████| 1/1 [00:00<00:00,  9.96it/s, v_num=233, train_loss=0.0279, val_loss_step=0.546, val_acc_step=0.770, val_loss_epoch=0.546, val_acc_epoch=0.770]"
     ]
    },
    {
     "name": "stderr",
     "output_type": "stream",
     "text": [
      "`Trainer.fit` stopped: `max_epochs=30` reached.\n"
     ]
    },
    {
     "name": "stdout",
     "output_type": "stream",
     "text": [
      "Epoch 29: 100%|██████████| 1/1 [00:00<00:00,  5.31it/s, v_num=233, train_loss=0.0279, val_loss_step=0.546, val_acc_step=0.770, val_loss_epoch=0.546, val_acc_epoch=0.770]\n"
     ]
    },
    {
     "name": "stderr",
     "output_type": "stream",
     "text": [
      "/var/folders/ky/4qby95090jbbq38_mh94x72r0000gn/T/ipykernel_3799/1595659695.py:7: UserWarning: Matplotlib is currently using module://matplotlib_inline.backend_inline, which is a non-GUI backend, so cannot show the figure.\n",
      "  fig.show()\n"
     ]
    },
    {
     "data": {
      "text/html": [
       "<div>\n",
       "<style scoped>\n",
       "    .dataframe tbody tr th:only-of-type {\n",
       "        vertical-align: middle;\n",
       "    }\n",
       "\n",
       "    .dataframe tbody tr th {\n",
       "        vertical-align: top;\n",
       "    }\n",
       "\n",
       "    .dataframe thead th {\n",
       "        text-align: right;\n",
       "    }\n",
       "</style>\n",
       "<table border=\"1\" class=\"dataframe\">\n",
       "  <thead>\n",
       "    <tr style=\"text-align: right;\">\n",
       "      <th></th>\n",
       "      <th>log_loss_train</th>\n",
       "      <th>log_loss_test</th>\n",
       "      <th>accuracy_score_train</th>\n",
       "      <th>accuracy_score_test</th>\n",
       "      <th>name</th>\n",
       "    </tr>\n",
       "  </thead>\n",
       "  <tbody>\n",
       "    <tr>\n",
       "      <th>0</th>\n",
       "      <td>0.349555</td>\n",
       "      <td>0.557117</td>\n",
       "      <td>0.83</td>\n",
       "      <td>0.75</td>\n",
       "      <td>sk_logistic_reg</td>\n",
       "    </tr>\n",
       "    <tr>\n",
       "      <th>1</th>\n",
       "      <td>0.245786</td>\n",
       "      <td>0.435934</td>\n",
       "      <td>0.95</td>\n",
       "      <td>0.79</td>\n",
       "      <td>logistic_reg</td>\n",
       "    </tr>\n",
       "    <tr>\n",
       "      <th>2</th>\n",
       "      <td>0.006728</td>\n",
       "      <td>0.512689</td>\n",
       "      <td>1.00</td>\n",
       "      <td>0.79</td>\n",
       "      <td>mlp</td>\n",
       "    </tr>\n",
       "    <tr>\n",
       "      <th>3</th>\n",
       "      <td>0.001456</td>\n",
       "      <td>0.889774</td>\n",
       "      <td>1.00</td>\n",
       "      <td>0.79</td>\n",
       "      <td>cnn</td>\n",
       "    </tr>\n",
       "    <tr>\n",
       "      <th>4</th>\n",
       "      <td>0.149582</td>\n",
       "      <td>0.641115</td>\n",
       "      <td>0.99</td>\n",
       "      <td>0.68</td>\n",
       "      <td>efficient_net_classifier</td>\n",
       "    </tr>\n",
       "    <tr>\n",
       "      <th>5</th>\n",
       "      <td>0.024420</td>\n",
       "      <td>0.545856</td>\n",
       "      <td>1.00</td>\n",
       "      <td>0.74</td>\n",
       "      <td>efficient_net_1_layer</td>\n",
       "    </tr>\n",
       "  </tbody>\n",
       "</table>\n",
       "</div>"
      ],
      "text/plain": [
       "   log_loss_train  log_loss_test  accuracy_score_train  accuracy_score_test   \n",
       "0        0.349555       0.557117                  0.83                 0.75  \\\n",
       "1        0.245786       0.435934                  0.95                 0.79   \n",
       "2        0.006728       0.512689                  1.00                 0.79   \n",
       "3        0.001456       0.889774                  1.00                 0.79   \n",
       "4        0.149582       0.641115                  0.99                 0.68   \n",
       "5        0.024420       0.545856                  1.00                 0.74   \n",
       "\n",
       "                       name  \n",
       "0           sk_logistic_reg  \n",
       "1              logistic_reg  \n",
       "2                       mlp  \n",
       "3                       cnn  \n",
       "4  efficient_net_classifier  \n",
       "5     efficient_net_1_layer  "
      ]
     },
     "execution_count": 17,
     "metadata": {},
     "output_type": "execute_result"
    },
    {
     "data": {
      "image/png": "[encoded data removed]",
      "text/plain": [
       "<Figure size 800x600 with 1 Axes>"
      ]
     },
     "metadata": {},
     "output_type": "display_data"
    }
   ],
   "source": [
    "model_lightning = EfficientNet(\n",
    "    learning_rate=1e-3, freeze_all_layers=True, unfreeze_layers=1\n",
    ")\n",
    "\n",
    "start_time = timeit.default_timer()\n",
    "train_torch_model(model_lightning, epochs=30)\n",
    "model_times[\"efficient_net_1_layer\"] = timeit.default_timer() - start_time\n",
    "\n",
    "plot_training_logs(model_lightning)\n",
    "\n",
    "y_train_est, y_true_train = predict_data_loader(model_lightning, train_loader)\n",
    "y_test_est, y_true_test = predict_data_loader(model_lightning, test_loader)\n",
    "model_outputs[\"efficient_net_1_layer\"] = [\n",
    "    tensor_to_sklearn_pred(y_train_est),\n",
    "    tensor_to_sklearn_pred(y_test_est),\n",
    "]\n",
    "\n",
    "evaluate_all_models(model_outputs)\n"
   ]
  },
  {
   "attachments": {},
   "cell_type": "markdown",
   "metadata": {},
   "source": [
    "### Train last couple features layers\n"
   ]
  },
  {
   "cell_type": "code",
   "execution_count": 18,
   "metadata": {},
   "outputs": [
    {
     "name": "stderr",
     "output_type": "stream",
     "text": [
      "GPU available: True (mps), used: True\n",
      "TPU available: False, using: 0 TPU cores\n",
      "IPU available: False, using: 0 IPUs\n",
      "HPU available: False, using: 0 HPUs\n",
      "\n",
      "  | Name       | Type              | Params\n",
      "-------------------------------------------------\n",
      "0 | criterion  | BCEWithLogitsLoss | 0     \n",
      "1 | features   | Sequential        | 4.0 M \n",
      "2 | classifier | Linear            | 1.3 K \n",
      "-------------------------------------------------\n",
      "1.1 M     Trainable params\n",
      "2.9 M     Non-trainable params\n",
      "4.0 M     Total params\n",
      "16.035    Total estimated model params size (MB)\n"
     ]
    },
    {
     "name": "stdout",
     "output_type": "stream",
     "text": [
      "                                                                           "
     ]
    },
    {
     "name": "stderr",
     "output_type": "stream",
     "text": [
      "/Users/rich/Developer/miniconda3/envs/pytorch_env/lib/python3.10/site-packages/pytorch_lightning/trainer/connectors/data_connector.py:430: PossibleUserWarning: The dataloader, val_dataloader, does not have many workers which may be a bottleneck. Consider increasing the value of the `num_workers` argument` (try 8 which is the number of cpus on this machine) in the `DataLoader` init to improve performance.\n",
      "  rank_zero_warn(\n",
      "/Users/rich/Developer/miniconda3/envs/pytorch_env/lib/python3.10/site-packages/pytorch_lightning/trainer/connectors/data_connector.py:430: PossibleUserWarning: The dataloader, train_dataloader, does not have many workers which may be a bottleneck. Consider increasing the value of the `num_workers` argument` (try 8 which is the number of cpus on this machine) in the `DataLoader` init to improve performance.\n",
      "  rank_zero_warn(\n",
      "/Users/rich/Developer/miniconda3/envs/pytorch_env/lib/python3.10/site-packages/pytorch_lightning/loops/fit_loop.py:280: PossibleUserWarning: The number of training batches (1) is smaller than the logging interval Trainer(log_every_n_steps=50). Set a lower value for log_every_n_steps if you want to see logs for the training epoch.\n",
      "  rank_zero_warn(\n"
     ]
    },
    {
     "name": "stdout",
     "output_type": "stream",
     "text": [
      "Epoch 29: 100%|██████████| 1/1 [00:00<00:00,  9.41it/s, v_num=234, train_loss=0.015, val_loss_step=0.659, val_acc_step=0.800, val_loss_epoch=0.659, val_acc_epoch=0.800]  "
     ]
    },
    {
     "name": "stderr",
     "output_type": "stream",
     "text": [
      "`Trainer.fit` stopped: `max_epochs=30` reached.\n"
     ]
    },
    {
     "name": "stdout",
     "output_type": "stream",
     "text": [
      "Epoch 29: 100%|██████████| 1/1 [00:00<00:00,  4.93it/s, v_num=234, train_loss=0.015, val_loss_step=0.659, val_acc_step=0.800, val_loss_epoch=0.659, val_acc_epoch=0.800]\n"
     ]
    },
    {
     "name": "stderr",
     "output_type": "stream",
     "text": [
      "/var/folders/ky/4qby95090jbbq38_mh94x72r0000gn/T/ipykernel_3799/1595659695.py:7: UserWarning: Matplotlib is currently using module://matplotlib_inline.backend_inline, which is a non-GUI backend, so cannot show the figure.\n",
      "  fig.show()\n"
     ]
    },
    {
     "data": {
      "text/html": [
       "<div>\n",
       "<style scoped>\n",
       "    .dataframe tbody tr th:only-of-type {\n",
       "        vertical-align: middle;\n",
       "    }\n",
       "\n",
       "    .dataframe tbody tr th {\n",
       "        vertical-align: top;\n",
       "    }\n",
       "\n",
       "    .dataframe thead th {\n",
       "        text-align: right;\n",
       "    }\n",
       "</style>\n",
       "<table border=\"1\" class=\"dataframe\">\n",
       "  <thead>\n",
       "    <tr style=\"text-align: right;\">\n",
       "      <th></th>\n",
       "      <th>log_loss_train</th>\n",
       "      <th>log_loss_test</th>\n",
       "      <th>accuracy_score_train</th>\n",
       "      <th>accuracy_score_test</th>\n",
       "      <th>name</th>\n",
       "    </tr>\n",
       "  </thead>\n",
       "  <tbody>\n",
       "    <tr>\n",
       "      <th>0</th>\n",
       "      <td>0.349555</td>\n",
       "      <td>0.557117</td>\n",
       "      <td>0.83</td>\n",
       "      <td>0.75</td>\n",
       "      <td>sk_logistic_reg</td>\n",
       "    </tr>\n",
       "    <tr>\n",
       "      <th>1</th>\n",
       "      <td>0.245786</td>\n",
       "      <td>0.435934</td>\n",
       "      <td>0.95</td>\n",
       "      <td>0.79</td>\n",
       "      <td>logistic_reg</td>\n",
       "    </tr>\n",
       "    <tr>\n",
       "      <th>2</th>\n",
       "      <td>0.006728</td>\n",
       "      <td>0.512689</td>\n",
       "      <td>1.00</td>\n",
       "      <td>0.79</td>\n",
       "      <td>mlp</td>\n",
       "    </tr>\n",
       "    <tr>\n",
       "      <th>3</th>\n",
       "      <td>0.001456</td>\n",
       "      <td>0.889774</td>\n",
       "      <td>1.00</td>\n",
       "      <td>0.79</td>\n",
       "      <td>cnn</td>\n",
       "    </tr>\n",
       "    <tr>\n",
       "      <th>4</th>\n",
       "      <td>0.149582</td>\n",
       "      <td>0.641115</td>\n",
       "      <td>0.99</td>\n",
       "      <td>0.68</td>\n",
       "      <td>efficient_net_classifier</td>\n",
       "    </tr>\n",
       "    <tr>\n",
       "      <th>5</th>\n",
       "      <td>0.024420</td>\n",
       "      <td>0.545856</td>\n",
       "      <td>1.00</td>\n",
       "      <td>0.74</td>\n",
       "      <td>efficient_net_1_layer</td>\n",
       "    </tr>\n",
       "    <tr>\n",
       "      <th>6</th>\n",
       "      <td>0.002450</td>\n",
       "      <td>0.658949</td>\n",
       "      <td>1.00</td>\n",
       "      <td>0.79</td>\n",
       "      <td>efficient_net_2_layer</td>\n",
       "    </tr>\n",
       "  </tbody>\n",
       "</table>\n",
       "</div>"
      ],
      "text/plain": [
       "   log_loss_train  log_loss_test  accuracy_score_train  accuracy_score_test   \n",
       "0        0.349555       0.557117                  0.83                 0.75  \\\n",
       "1        0.245786       0.435934                  0.95                 0.79   \n",
       "2        0.006728       0.512689                  1.00                 0.79   \n",
       "3        0.001456       0.889774                  1.00                 0.79   \n",
       "4        0.149582       0.641115                  0.99                 0.68   \n",
       "5        0.024420       0.545856                  1.00                 0.74   \n",
       "6        0.002450       0.658949                  1.00                 0.79   \n",
       "\n",
       "                       name  \n",
       "0           sk_logistic_reg  \n",
       "1              logistic_reg  \n",
       "2                       mlp  \n",
       "3                       cnn  \n",
       "4  efficient_net_classifier  \n",
       "5     efficient_net_1_layer  \n",
       "6     efficient_net_2_layer  "
      ]
     },
     "execution_count": 18,
     "metadata": {},
     "output_type": "execute_result"
    },
    {
     "data": {
      "image/png": "[encoded data removed]",
      "text/plain": [
       "<Figure size 800x600 with 1 Axes>"
      ]
     },
     "metadata": {},
     "output_type": "display_data"
    }
   ],
   "source": [
    "model_lightning = EfficientNet(\n",
    "    learning_rate=1e-3, freeze_all_layers=True, unfreeze_layers=2\n",
    ")\n",
    "\n",
    "start_time = timeit.default_timer()\n",
    "train_torch_model(model_lightning, epochs=30)\n",
    "model_times[\"efficient_net_2_layer\"] = timeit.default_timer() - start_time\n",
    "\n",
    "plot_training_logs(model_lightning)\n",
    "\n",
    "y_train_est, y_true_train = predict_data_loader(model_lightning, train_loader)\n",
    "y_test_est, y_true_test = predict_data_loader(model_lightning, test_loader)\n",
    "model_outputs[\"efficient_net_2_layer\"] = [\n",
    "    tensor_to_sklearn_pred(y_train_est),\n",
    "    tensor_to_sklearn_pred(y_test_est),\n",
    "]\n",
    "\n",
    "evaluate_all_models(model_outputs)\n"
   ]
  },
  {
   "attachments": {},
   "cell_type": "markdown",
   "metadata": {},
   "source": [
    "### Train all feature layers\n",
    "We would expect this to perform the best, but take the longest to train"
   ]
  },
  {
   "cell_type": "code",
   "execution_count": 19,
   "metadata": {},
   "outputs": [
    {
     "name": "stderr",
     "output_type": "stream",
     "text": [
      "GPU available: True (mps), used: True\n",
      "TPU available: False, using: 0 TPU cores\n",
      "IPU available: False, using: 0 IPUs\n",
      "HPU available: False, using: 0 HPUs\n",
      "\n",
      "  | Name       | Type              | Params\n",
      "-------------------------------------------------\n",
      "0 | criterion  | BCEWithLogitsLoss | 0     \n",
      "1 | features   | Sequential        | 4.0 M \n",
      "2 | classifier | Linear            | 1.3 K \n",
      "-------------------------------------------------\n",
      "4.0 M     Trainable params\n",
      "0         Non-trainable params\n",
      "4.0 M     Total params\n",
      "16.035    Total estimated model params size (MB)\n"
     ]
    },
    {
     "name": "stdout",
     "output_type": "stream",
     "text": [
      "                                                                           "
     ]
    },
    {
     "name": "stderr",
     "output_type": "stream",
     "text": [
      "/Users/rich/Developer/miniconda3/envs/pytorch_env/lib/python3.10/site-packages/pytorch_lightning/trainer/connectors/data_connector.py:430: PossibleUserWarning: The dataloader, val_dataloader, does not have many workers which may be a bottleneck. Consider increasing the value of the `num_workers` argument` (try 8 which is the number of cpus on this machine) in the `DataLoader` init to improve performance.\n",
      "  rank_zero_warn(\n",
      "/Users/rich/Developer/miniconda3/envs/pytorch_env/lib/python3.10/site-packages/pytorch_lightning/trainer/connectors/data_connector.py:430: PossibleUserWarning: The dataloader, train_dataloader, does not have many workers which may be a bottleneck. Consider increasing the value of the `num_workers` argument` (try 8 which is the number of cpus on this machine) in the `DataLoader` init to improve performance.\n",
      "  rank_zero_warn(\n",
      "/Users/rich/Developer/miniconda3/envs/pytorch_env/lib/python3.10/site-packages/pytorch_lightning/loops/fit_loop.py:280: PossibleUserWarning: The number of training batches (1) is smaller than the logging interval Trainer(log_every_n_steps=50). Set a lower value for log_every_n_steps if you want to see logs for the training epoch.\n",
      "  rank_zero_warn(\n"
     ]
    },
    {
     "name": "stdout",
     "output_type": "stream",
     "text": [
      "Epoch 49: 100%|██████████| 1/1 [00:00<00:00,  4.82it/s, v_num=235, train_loss=0.000333, val_loss_step=0.481, val_acc_step=0.800, val_loss_epoch=0.481, val_acc_epoch=0.800]"
     ]
    },
    {
     "name": "stderr",
     "output_type": "stream",
     "text": [
      "`Trainer.fit` stopped: `max_epochs=50` reached.\n"
     ]
    },
    {
     "name": "stdout",
     "output_type": "stream",
     "text": [
      "Epoch 49: 100%|██████████| 1/1 [00:00<00:00,  2.54it/s, v_num=235, train_loss=0.000333, val_loss_step=0.481, val_acc_step=0.800, val_loss_epoch=0.481, val_acc_epoch=0.800]\n"
     ]
    },
    {
     "name": "stderr",
     "output_type": "stream",
     "text": [
      "/var/folders/ky/4qby95090jbbq38_mh94x72r0000gn/T/ipykernel_3799/1595659695.py:7: UserWarning: Matplotlib is currently using module://matplotlib_inline.backend_inline, which is a non-GUI backend, so cannot show the figure.\n",
      "  fig.show()\n"
     ]
    },
    {
     "data": {
      "text/html": [
       "<div>\n",
       "<style scoped>\n",
       "    .dataframe tbody tr th:only-of-type {\n",
       "        vertical-align: middle;\n",
       "    }\n",
       "\n",
       "    .dataframe tbody tr th {\n",
       "        vertical-align: top;\n",
       "    }\n",
       "\n",
       "    .dataframe thead th {\n",
       "        text-align: right;\n",
       "    }\n",
       "</style>\n",
       "<table border=\"1\" class=\"dataframe\">\n",
       "  <thead>\n",
       "    <tr style=\"text-align: right;\">\n",
       "      <th></th>\n",
       "      <th>log_loss_train</th>\n",
       "      <th>log_loss_test</th>\n",
       "      <th>accuracy_score_train</th>\n",
       "      <th>accuracy_score_test</th>\n",
       "      <th>name</th>\n",
       "    </tr>\n",
       "  </thead>\n",
       "  <tbody>\n",
       "    <tr>\n",
       "      <th>0</th>\n",
       "      <td>0.349555</td>\n",
       "      <td>0.557117</td>\n",
       "      <td>0.83</td>\n",
       "      <td>0.75</td>\n",
       "      <td>sk_logistic_reg</td>\n",
       "    </tr>\n",
       "    <tr>\n",
       "      <th>1</th>\n",
       "      <td>0.245786</td>\n",
       "      <td>0.435934</td>\n",
       "      <td>0.95</td>\n",
       "      <td>0.79</td>\n",
       "      <td>logistic_reg</td>\n",
       "    </tr>\n",
       "    <tr>\n",
       "      <th>2</th>\n",
       "      <td>0.006728</td>\n",
       "      <td>0.512689</td>\n",
       "      <td>1.00</td>\n",
       "      <td>0.79</td>\n",
       "      <td>mlp</td>\n",
       "    </tr>\n",
       "    <tr>\n",
       "      <th>3</th>\n",
       "      <td>0.001456</td>\n",
       "      <td>0.889774</td>\n",
       "      <td>1.00</td>\n",
       "      <td>0.79</td>\n",
       "      <td>cnn</td>\n",
       "    </tr>\n",
       "    <tr>\n",
       "      <th>4</th>\n",
       "      <td>0.149582</td>\n",
       "      <td>0.641115</td>\n",
       "      <td>0.99</td>\n",
       "      <td>0.68</td>\n",
       "      <td>efficient_net_classifier</td>\n",
       "    </tr>\n",
       "    <tr>\n",
       "      <th>5</th>\n",
       "      <td>0.024420</td>\n",
       "      <td>0.545856</td>\n",
       "      <td>1.00</td>\n",
       "      <td>0.74</td>\n",
       "      <td>efficient_net_1_layer</td>\n",
       "    </tr>\n",
       "    <tr>\n",
       "      <th>6</th>\n",
       "      <td>0.002450</td>\n",
       "      <td>0.658949</td>\n",
       "      <td>1.00</td>\n",
       "      <td>0.79</td>\n",
       "      <td>efficient_net_2_layer</td>\n",
       "    </tr>\n",
       "    <tr>\n",
       "      <th>7</th>\n",
       "      <td>0.000203</td>\n",
       "      <td>0.480937</td>\n",
       "      <td>1.00</td>\n",
       "      <td>0.79</td>\n",
       "      <td>efficient_net_all_layer</td>\n",
       "    </tr>\n",
       "  </tbody>\n",
       "</table>\n",
       "</div>"
      ],
      "text/plain": [
       "   log_loss_train  log_loss_test  accuracy_score_train  accuracy_score_test   \n",
       "0        0.349555       0.557117                  0.83                 0.75  \\\n",
       "1        0.245786       0.435934                  0.95                 0.79   \n",
       "2        0.006728       0.512689                  1.00                 0.79   \n",
       "3        0.001456       0.889774                  1.00                 0.79   \n",
       "4        0.149582       0.641115                  0.99                 0.68   \n",
       "5        0.024420       0.545856                  1.00                 0.74   \n",
       "6        0.002450       0.658949                  1.00                 0.79   \n",
       "7        0.000203       0.480937                  1.00                 0.79   \n",
       "\n",
       "                       name  \n",
       "0           sk_logistic_reg  \n",
       "1              logistic_reg  \n",
       "2                       mlp  \n",
       "3                       cnn  \n",
       "4  efficient_net_classifier  \n",
       "5     efficient_net_1_layer  \n",
       "6     efficient_net_2_layer  \n",
       "7   efficient_net_all_layer  "
      ]
     },
     "execution_count": 19,
     "metadata": {},
     "output_type": "execute_result"
    },
    {
     "data": {
      "image/png": "[encoded data removed]",
      "text/plain": [
       "<Figure size 800x600 with 1 Axes>"
      ]
     },
     "metadata": {},
     "output_type": "display_data"
    }
   ],
   "source": [
    "model_lightning = EfficientNet(learning_rate=1e-3, freeze_all_layers=False)\n",
    "\n",
    "start_time = timeit.default_timer()\n",
    "train_torch_model(model_lightning, epochs=50)\n",
    "model_times[\"efficient_net_all_layer\"] = timeit.default_timer() - start_time\n",
    "\n",
    "plot_training_logs(model_lightning)\n",
    "\n",
    "y_train_est, y_true_train = predict_data_loader(model_lightning, train_loader)\n",
    "y_test_est, y_true_test = predict_data_loader(model_lightning, test_loader)\n",
    "model_outputs[\"efficient_net_all_layer\"] = [\n",
    "    tensor_to_sklearn_pred(y_train_est),\n",
    "    tensor_to_sklearn_pred(y_test_est),\n",
    "]\n",
    "\n",
    "evaluate_all_models(model_outputs)\n"
   ]
  },
  {
   "cell_type": "code",
   "execution_count": 24,
   "metadata": {},
   "outputs": [
    {
     "name": "stderr",
     "output_type": "stream",
     "text": [
      "GPU available: True (mps), used: True\n",
      "TPU available: False, using: 0 TPU cores\n",
      "IPU available: False, using: 0 IPUs\n",
      "HPU available: False, using: 0 HPUs\n",
      "\n",
      "  | Name       | Type              | Params\n",
      "-------------------------------------------------\n",
      "0 | criterion  | BCEWithLogitsLoss | 0     \n",
      "1 | features   | Sequential        | 4.0 M \n",
      "2 | classifier | Linear            | 1.3 K \n",
      "-------------------------------------------------\n",
      "4.0 M     Trainable params\n",
      "0         Non-trainable params\n",
      "4.0 M     Total params\n",
      "16.035    Total estimated model params size (MB)\n"
     ]
    },
    {
     "name": "stdout",
     "output_type": "stream",
     "text": [
      "Sanity Checking: 0it [00:00, ?it/s]"
     ]
    },
    {
     "name": "stderr",
     "output_type": "stream",
     "text": [
      "/Users/rich/Developer/miniconda3/envs/pytorch_env/lib/python3.10/site-packages/pytorch_lightning/trainer/connectors/data_connector.py:430: PossibleUserWarning: The dataloader, val_dataloader, does not have many workers which may be a bottleneck. Consider increasing the value of the `num_workers` argument` (try 8 which is the number of cpus on this machine) in the `DataLoader` init to improve performance.\n",
      "  rank_zero_warn(\n"
     ]
    },
    {
     "name": "stdout",
     "output_type": "stream",
     "text": [
      "                                                                           "
     ]
    },
    {
     "name": "stderr",
     "output_type": "stream",
     "text": [
      "/Users/rich/Developer/miniconda3/envs/pytorch_env/lib/python3.10/site-packages/pytorch_lightning/trainer/connectors/data_connector.py:430: PossibleUserWarning: The dataloader, train_dataloader, does not have many workers which may be a bottleneck. Consider increasing the value of the `num_workers` argument` (try 8 which is the number of cpus on this machine) in the `DataLoader` init to improve performance.\n",
      "  rank_zero_warn(\n",
      "/Users/rich/Developer/miniconda3/envs/pytorch_env/lib/python3.10/site-packages/pytorch_lightning/loops/fit_loop.py:280: PossibleUserWarning: The number of training batches (1) is smaller than the logging interval Trainer(log_every_n_steps=50). Set a lower value for log_every_n_steps if you want to see logs for the training epoch.\n",
      "  rank_zero_warn(\n"
     ]
    },
    {
     "name": "stdout",
     "output_type": "stream",
     "text": [
      "Epoch 99: 100%|██████████| 1/1 [00:00<00:00,  4.79it/s, v_num=236, train_loss=0.000189, val_loss_step=0.597, val_acc_step=0.840, val_loss_epoch=0.597, val_acc_epoch=0.840]"
     ]
    },
    {
     "name": "stderr",
     "output_type": "stream",
     "text": [
      "`Trainer.fit` stopped: `max_epochs=100` reached.\n"
     ]
    },
    {
     "name": "stdout",
     "output_type": "stream",
     "text": [
      "Epoch 99: 100%|██████████| 1/1 [00:00<00:00,  2.49it/s, v_num=236, train_loss=0.000189, val_loss_step=0.597, val_acc_step=0.840, val_loss_epoch=0.597, val_acc_epoch=0.840]\n"
     ]
    },
    {
     "name": "stderr",
     "output_type": "stream",
     "text": [
      "/var/folders/ky/4qby95090jbbq38_mh94x72r0000gn/T/ipykernel_3799/1595659695.py:7: UserWarning: Matplotlib is currently using module://matplotlib_inline.backend_inline, which is a non-GUI backend, so cannot show the figure.\n",
      "  fig.show()\n"
     ]
    },
    {
     "data": {
      "text/html": [
       "<div>\n",
       "<style scoped>\n",
       "    .dataframe tbody tr th:only-of-type {\n",
       "        vertical-align: middle;\n",
       "    }\n",
       "\n",
       "    .dataframe tbody tr th {\n",
       "        vertical-align: top;\n",
       "    }\n",
       "\n",
       "    .dataframe thead th {\n",
       "        text-align: right;\n",
       "    }\n",
       "</style>\n",
       "<table border=\"1\" class=\"dataframe\">\n",
       "  <thead>\n",
       "    <tr style=\"text-align: right;\">\n",
       "      <th></th>\n",
       "      <th>log_loss_train</th>\n",
       "      <th>log_loss_test</th>\n",
       "      <th>accuracy_score_train</th>\n",
       "      <th>accuracy_score_test</th>\n",
       "      <th>name</th>\n",
       "    </tr>\n",
       "  </thead>\n",
       "  <tbody>\n",
       "    <tr>\n",
       "      <th>0</th>\n",
       "      <td>0.349555</td>\n",
       "      <td>0.557117</td>\n",
       "      <td>0.83</td>\n",
       "      <td>0.75</td>\n",
       "      <td>sk_logistic_reg</td>\n",
       "    </tr>\n",
       "    <tr>\n",
       "      <th>1</th>\n",
       "      <td>0.245786</td>\n",
       "      <td>0.435934</td>\n",
       "      <td>0.95</td>\n",
       "      <td>0.79</td>\n",
       "      <td>logistic_reg</td>\n",
       "    </tr>\n",
       "    <tr>\n",
       "      <th>2</th>\n",
       "      <td>0.006728</td>\n",
       "      <td>0.512689</td>\n",
       "      <td>1.00</td>\n",
       "      <td>0.79</td>\n",
       "      <td>mlp</td>\n",
       "    </tr>\n",
       "    <tr>\n",
       "      <th>3</th>\n",
       "      <td>0.001456</td>\n",
       "      <td>0.889774</td>\n",
       "      <td>1.00</td>\n",
       "      <td>0.79</td>\n",
       "      <td>cnn</td>\n",
       "    </tr>\n",
       "    <tr>\n",
       "      <th>4</th>\n",
       "      <td>0.149582</td>\n",
       "      <td>0.641115</td>\n",
       "      <td>0.99</td>\n",
       "      <td>0.68</td>\n",
       "      <td>efficient_net_classifier</td>\n",
       "    </tr>\n",
       "    <tr>\n",
       "      <th>5</th>\n",
       "      <td>0.024420</td>\n",
       "      <td>0.545856</td>\n",
       "      <td>1.00</td>\n",
       "      <td>0.74</td>\n",
       "      <td>efficient_net_1_layer</td>\n",
       "    </tr>\n",
       "    <tr>\n",
       "      <th>6</th>\n",
       "      <td>0.002450</td>\n",
       "      <td>0.658949</td>\n",
       "      <td>1.00</td>\n",
       "      <td>0.79</td>\n",
       "      <td>efficient_net_2_layer</td>\n",
       "    </tr>\n",
       "    <tr>\n",
       "      <th>7</th>\n",
       "      <td>0.000203</td>\n",
       "      <td>0.480937</td>\n",
       "      <td>1.00</td>\n",
       "      <td>0.79</td>\n",
       "      <td>efficient_net_all_layer</td>\n",
       "    </tr>\n",
       "    <tr>\n",
       "      <th>8</th>\n",
       "      <td>0.000117</td>\n",
       "      <td>0.596945</td>\n",
       "      <td>1.00</td>\n",
       "      <td>0.82</td>\n",
       "      <td>efficient_net_all_layer2</td>\n",
       "    </tr>\n",
       "  </tbody>\n",
       "</table>\n",
       "</div>"
      ],
      "text/plain": [
       "   log_loss_train  log_loss_test  accuracy_score_train  accuracy_score_test   \n",
       "0        0.349555       0.557117                  0.83                 0.75  \\\n",
       "1        0.245786       0.435934                  0.95                 0.79   \n",
       "2        0.006728       0.512689                  1.00                 0.79   \n",
       "3        0.001456       0.889774                  1.00                 0.79   \n",
       "4        0.149582       0.641115                  0.99                 0.68   \n",
       "5        0.024420       0.545856                  1.00                 0.74   \n",
       "6        0.002450       0.658949                  1.00                 0.79   \n",
       "7        0.000203       0.480937                  1.00                 0.79   \n",
       "8        0.000117       0.596945                  1.00                 0.82   \n",
       "\n",
       "                       name  \n",
       "0           sk_logistic_reg  \n",
       "1              logistic_reg  \n",
       "2                       mlp  \n",
       "3                       cnn  \n",
       "4  efficient_net_classifier  \n",
       "5     efficient_net_1_layer  \n",
       "6     efficient_net_2_layer  \n",
       "7   efficient_net_all_layer  \n",
       "8  efficient_net_all_layer2  "
      ]
     },
     "execution_count": 24,
     "metadata": {},
     "output_type": "execute_result"
    },
    {
     "data": {
      "image/png": "[encoded data removed]",
      "text/plain": [
       "<Figure size 800x600 with 1 Axes>"
      ]
     },
     "metadata": {},
     "output_type": "display_data"
    }
   ],
   "source": [
    "model_lightning = EfficientNet(learning_rate=1e-3, freeze_all_layers=False)\n",
    "\n",
    "start_time = timeit.default_timer()\n",
    "train_torch_model(model_lightning, epochs=100)\n",
    "model_times[\"efficient_net_all_layer2\"] = timeit.default_timer() - start_time\n",
    "\n",
    "plot_training_logs(model_lightning)\n",
    "\n",
    "y_train_est, y_true_train = predict_data_loader(model_lightning, train_loader)\n",
    "y_test_est, y_true_test = predict_data_loader(model_lightning, test_loader)\n",
    "model_outputs[\"efficient_net_all_layer2\"] = [\n",
    "    tensor_to_sklearn_pred(y_train_est),\n",
    "    tensor_to_sklearn_pred(y_test_est),\n",
    "]\n",
    "\n",
    "evaluate_all_models(model_outputs)\n"
   ]
  },
  {
   "attachments": {},
   "cell_type": "markdown",
   "metadata": {},
   "source": [
    "# Todo\n",
    "\n",
    "Case for early stopping"
   ]
  },
  {
   "cell_type": "code",
   "execution_count": 20,
   "metadata": {},
   "outputs": [
    {
     "data": {
      "text/plain": [
       "{'sk_logistic_reg': 0.02015737514011562,\n",
       " 'logistic_reg': 3.229210624936968,\n",
       " 'mlp': 7.850016083102673,\n",
       " 'cnn': 5.355671500088647,\n",
       " 'efficient_net_classifier': 13.706477167084813,\n",
       " 'efficient_net_1_layer': 6.60996308317408,\n",
       " 'efficient_net_2_layer': 7.885567917022854,\n",
       " 'efficient_net_all_layer': 27.3399489170406}"
      ]
     },
     "metadata": {},
     "output_type": "display_data"
    },
    {
     "data": {
      "text/html": [
       "<div>\n",
       "<style scoped>\n",
       "    .dataframe tbody tr th:only-of-type {\n",
       "        vertical-align: middle;\n",
       "    }\n",
       "\n",
       "    .dataframe tbody tr th {\n",
       "        vertical-align: top;\n",
       "    }\n",
       "\n",
       "    .dataframe thead th {\n",
       "        text-align: right;\n",
       "    }\n",
       "</style>\n",
       "<table border=\"1\" class=\"dataframe\">\n",
       "  <thead>\n",
       "    <tr style=\"text-align: right;\">\n",
       "      <th></th>\n",
       "      <th>log_loss_train</th>\n",
       "      <th>log_loss_test</th>\n",
       "      <th>accuracy_score_train</th>\n",
       "      <th>accuracy_score_test</th>\n",
       "      <th>name</th>\n",
       "    </tr>\n",
       "  </thead>\n",
       "  <tbody>\n",
       "    <tr>\n",
       "      <th>0</th>\n",
       "      <td>0.349555</td>\n",
       "      <td>0.557117</td>\n",
       "      <td>0.83</td>\n",
       "      <td>0.75</td>\n",
       "      <td>sk_logistic_reg</td>\n",
       "    </tr>\n",
       "    <tr>\n",
       "      <th>1</th>\n",
       "      <td>0.245786</td>\n",
       "      <td>0.435934</td>\n",
       "      <td>0.95</td>\n",
       "      <td>0.79</td>\n",
       "      <td>logistic_reg</td>\n",
       "    </tr>\n",
       "    <tr>\n",
       "      <th>2</th>\n",
       "      <td>0.006728</td>\n",
       "      <td>0.512689</td>\n",
       "      <td>1.00</td>\n",
       "      <td>0.79</td>\n",
       "      <td>mlp</td>\n",
       "    </tr>\n",
       "    <tr>\n",
       "      <th>3</th>\n",
       "      <td>0.001456</td>\n",
       "      <td>0.889774</td>\n",
       "      <td>1.00</td>\n",
       "      <td>0.79</td>\n",
       "      <td>cnn</td>\n",
       "    </tr>\n",
       "    <tr>\n",
       "      <th>4</th>\n",
       "      <td>0.149582</td>\n",
       "      <td>0.641115</td>\n",
       "      <td>0.99</td>\n",
       "      <td>0.68</td>\n",
       "      <td>efficient_net_classifier</td>\n",
       "    </tr>\n",
       "    <tr>\n",
       "      <th>5</th>\n",
       "      <td>0.024420</td>\n",
       "      <td>0.545856</td>\n",
       "      <td>1.00</td>\n",
       "      <td>0.74</td>\n",
       "      <td>efficient_net_1_layer</td>\n",
       "    </tr>\n",
       "    <tr>\n",
       "      <th>6</th>\n",
       "      <td>0.002450</td>\n",
       "      <td>0.658949</td>\n",
       "      <td>1.00</td>\n",
       "      <td>0.79</td>\n",
       "      <td>efficient_net_2_layer</td>\n",
       "    </tr>\n",
       "    <tr>\n",
       "      <th>7</th>\n",
       "      <td>0.000203</td>\n",
       "      <td>0.480937</td>\n",
       "      <td>1.00</td>\n",
       "      <td>0.79</td>\n",
       "      <td>efficient_net_all_layer</td>\n",
       "    </tr>\n",
       "  </tbody>\n",
       "</table>\n",
       "</div>"
      ],
      "text/plain": [
       "   log_loss_train  log_loss_test  accuracy_score_train  accuracy_score_test   \n",
       "0        0.349555       0.557117                  0.83                 0.75  \\\n",
       "1        0.245786       0.435934                  0.95                 0.79   \n",
       "2        0.006728       0.512689                  1.00                 0.79   \n",
       "3        0.001456       0.889774                  1.00                 0.79   \n",
       "4        0.149582       0.641115                  0.99                 0.68   \n",
       "5        0.024420       0.545856                  1.00                 0.74   \n",
       "6        0.002450       0.658949                  1.00                 0.79   \n",
       "7        0.000203       0.480937                  1.00                 0.79   \n",
       "\n",
       "                       name  \n",
       "0           sk_logistic_reg  \n",
       "1              logistic_reg  \n",
       "2                       mlp  \n",
       "3                       cnn  \n",
       "4  efficient_net_classifier  \n",
       "5     efficient_net_1_layer  \n",
       "6     efficient_net_2_layer  \n",
       "7   efficient_net_all_layer  "
      ]
     },
     "execution_count": 20,
     "metadata": {},
     "output_type": "execute_result"
    }
   ],
   "source": [
    "display(model_times)\n",
    "\n",
    "evaluate_all_models(model_outputs)\n"
   ]
  },
  {
   "cell_type": "code",
   "execution_count": null,
   "metadata": {},
   "outputs": [],
   "source": []
  },
  {
   "attachments": {},
   "cell_type": "markdown",
   "metadata": {},
   "source": [
    "What did it get wrong?"
   ]
  },
  {
   "cell_type": "code",
   "execution_count": 21,
   "metadata": {},
   "outputs": [
    {
     "ename": "NameError",
     "evalue": "name 'y_est_train' is not defined",
     "output_type": "error",
     "traceback": [
      "\u001b[0;31m---------------------------------------------------------------------------\u001b[0m",
      "\u001b[0;31mNameError\u001b[0m                                 Traceback (most recent call last)",
      "Cell \u001b[0;32mIn[21], line 1\u001b[0m\n\u001b[0;32m----> 1\u001b[0m y_true_train \u001b[39m!=\u001b[39m (y_est_train[:, \u001b[39m1\u001b[39m] \u001b[39m>\u001b[39m y_est_train[:, \u001b[39m0\u001b[39m])\n",
      "\u001b[0;31mNameError\u001b[0m: name 'y_est_train' is not defined"
     ]
    }
   ],
   "source": [
    "y_true_train != (y_est_train[:, 1] > y_est_train[:, 0])\n"
   ]
  },
  {
   "cell_type": "code",
   "execution_count": null,
   "metadata": {},
   "outputs": [
    {
     "data": {
      "text/plain": [
       "<torch.utils.data.dataset.Subset at 0x14076ba90>"
      ]
     },
     "execution_count": 42,
     "metadata": {},
     "output_type": "execute_result"
    }
   ],
   "source": [
    "train_loader.dataset\n"
   ]
  },
  {
   "attachments": {},
   "cell_type": "markdown",
   "metadata": {},
   "source": [
    "Specific images"
   ]
  },
  {
   "cell_type": "code",
   "execution_count": null,
   "metadata": {},
   "outputs": [
    {
     "name": "stdout",
     "output_type": "stream",
     "text": [
      "tensor([[0.1394, 0.8606]], grad_fn=<SoftmaxBackward0>)\n",
      "tensor([[0.4723, 0.5277]], grad_fn=<SoftmaxBackward0>)\n"
     ]
    }
   ],
   "source": [
    "from PIL import Image\n",
    "\n",
    "image_paths = [\n",
    "    \"images/other/68364009651__BF66A2EF-0DC5-4AE7-B389-2694C17BED69.jpeg\",\n",
    "    \"images/art/IMG_2759.JPG\",\n",
    "]\n",
    "for image_path in image_paths:\n",
    "    img = Image.open(image_path)\n",
    "    img = transform(img)\n",
    "\n",
    "    # Add a batch dimension to the image\n",
    "    img = img.unsqueeze(0)\n",
    "\n",
    "    # Pass the image through the model\n",
    "    output = model_lightning(img)\n",
    "\n",
    "    # Convert the output to probabilities\n",
    "    probs = torch.nn.functional.softmax(output, dim=1)\n",
    "\n",
    "    # Print the top 5 predicted classes and their probabilities\n",
    "    print(probs)\n"
   ]
  },
  {
   "attachments": {},
   "cell_type": "markdown",
   "metadata": {},
   "source": [
    "SHAP on images to find key elements?\n",
    "Is the background key?"
   ]
  },
  {
   "cell_type": "code",
   "execution_count": null,
   "metadata": {},
   "outputs": [],
   "source": [
    "mean = [0.485, 0.456, 0.406]\n",
    "std = [0.229, 0.224, 0.225]\n",
    "\n",
    "\n",
    "def normalize(image):\n",
    "    if image.max() > 1:\n",
    "        image /= 255\n",
    "    image = (image - mean) / std\n",
    "    # in addition, roll the axis so that they suit pytorch\n",
    "    return torch.tensor(image.swapaxes(-1, 1).swapaxes(2, 3)).float()\n"
   ]
  },
  {
   "cell_type": "code",
   "execution_count": null,
   "metadata": {},
   "outputs": [],
   "source": []
  }
 ],
 "metadata": {
  "kernelspec": {
   "display_name": "pytorch_env",
   "language": "python",
   "name": "python3"
  },
  "language_info": {
   "codemirror_mode": {
    "name": "ipython",
    "version": 3
   },
   "file_extension": ".py",
   "mimetype": "text/x-python",
   "name": "python",
   "nbconvert_exporter": "python",
   "pygments_lexer": "ipython3",
   "version": "3.10.10"
  },
  "orig_nbformat": 4,
  "vscode": {
   "interpreter": {
    "hash": "155ead7e3e7cc87f1c8ac5b93741665d5692c3c80ccfbc75b55ba980f115c04c"
   }
  }
 },
 "nbformat": 4,
 "nbformat_minor": 2
}
